{
  "nbformat": 4,
  "nbformat_minor": 0,
  "metadata": {
    "colab": {
      "name": "Swapan_Gupta_Data_602_Week10.ipynb",
      "provenance": []
    },
    "kernelspec": {
      "name": "python3",
      "display_name": "Python 3"
    },
    "language_info": {
      "name": "python"
    }
  },
  "cells": [
    {
      "cell_type": "markdown",
      "metadata": {
        "id": "TXR-TGD96sIJ"
      },
      "source": [
        "# Problem 1 -- Generate the model\n",
        "\n",
        "Develop a function \n",
        "\n",
        "    build_network(nslayers, n_neurons_per_layer, activation_fn)\n",
        "\n",
        "The function should return a compiled model with the following structure:\n",
        "* An Input node accepting an image of dimensions $28\\times28$\n",
        "* A Flatten node\n",
        "* $n$ hidden layer nodes, each containing `n_neurons_per_layer` neurons and using the activation function `activation_fn`.\n",
        "* An output layer (Dense layer) of 10 neurons that uses the softmax activation function.\n",
        "\n",
        "\n",
        "The model should be compiled as such:\n",
        "* Optimizer: sgd\n",
        "* metrics: `[\"accuracy\"]`\n",
        "* loss: `sparse_categorical_crossentropy` (since the target variable is represented as a single value, as opposed to being one-hot encoded)\n",
        "\n"
      ]
    },
    {
      "cell_type": "code",
      "metadata": {
        "id": "Lr7SAR056qTL"
      },
      "source": [
        "import numpy as np\n",
        "import tensorflow\n",
        "from tensorflow import keras\n",
        "from tensorflow.keras.layers import Input, Dense\n",
        "from tensorflow.keras import layers\n",
        "from keras.wrappers.scikit_learn import KerasClassifier\n",
        "from sklearn.model_selection import GridSearchCV\n",
        "from tensorflow.keras import Model\n",
        "from tensorflow.keras import Model, Sequential\n",
        "from keras.layers import Dense, Activation, Flatten,Input\n",
        "from scikeras.wrappers import BaseWrapper, KerasClassifier, KerasRegressor"
      ],
      "execution_count": 1,
      "outputs": []
    },
    {
      "cell_type": "code",
      "source": [
        "def build_network(nslayers, n_neurons_per_layer, activation_fn):\n",
        "  model = keras.Sequential([\n",
        "            Input(shape=(28,28))],\n",
        "            Flatten())\n",
        "  for i in range(nslayers):\n",
        "    model.add(Dense(n_neurons_per_layer, activation=activation_fn))\n",
        "  model.add(Dense(10,\"softmax\"))\n",
        "  model.compile(optimizer='sgd',loss='sparse_categorical_crossentropy',metrics=['accuracy'])\n",
        "  return model"
      ],
      "metadata": {
        "id": "3mSPY0Mf56hy"
      },
      "execution_count": 77,
      "outputs": []
    },
    {
      "cell_type": "code",
      "source": [
        "model.summary()"
      ],
      "metadata": {
        "colab": {
          "base_uri": "https://localhost:8080/"
        },
        "id": "949mQixT7ttZ",
        "outputId": "1d4bb757-58e8-498b-e713-19e5807b5407"
      },
      "execution_count": 9,
      "outputs": [
        {
          "output_type": "stream",
          "name": "stdout",
          "text": [
            "Model: \"sequential\"\n",
            "_________________________________________________________________\n",
            " Layer (type)                Output Shape              Param #   \n",
            "=================================================================\n",
            " flatten (Flatten)           (None, 784)               0         \n",
            "                                                                 \n",
            " dense (Dense)               (None, 125)               98125     \n",
            "                                                                 \n",
            " dense_1 (Dense)             (None, 125)               15750     \n",
            "                                                                 \n",
            " dense_2 (Dense)             (None, 125)               15750     \n",
            "                                                                 \n",
            " dense_3 (Dense)             (None, 125)               15750     \n",
            "                                                                 \n",
            " dense_4 (Dense)             (None, 125)               15750     \n",
            "                                                                 \n",
            " dense_5 (Dense)             (None, 125)               15750     \n",
            "                                                                 \n",
            " dense_6 (Dense)             (None, 125)               15750     \n",
            "                                                                 \n",
            " dense_7 (Dense)             (None, 10)                1260      \n",
            "                                                                 \n",
            "=================================================================\n",
            "Total params: 193,885\n",
            "Trainable params: 193,885\n",
            "Non-trainable params: 0\n",
            "_________________________________________________________________\n"
          ]
        }
      ]
    },
    {
      "cell_type": "markdown",
      "metadata": {
        "id": "tVq6hsLB7YN6"
      },
      "source": [
        "## Problem 2 -- Load the keras MNIST dataset. \n",
        "\n",
        "Call `keras.datasets.mnist.load_data(\"mnist.npz\")`, which returns \n",
        "`(X_train, y_train), (X_test, y_test)`.  Split the training dataset into a training and validation set."
      ]
    },
    {
      "cell_type": "code",
      "metadata": {
        "id": "e8aDuydW70AA"
      },
      "source": [
        "from tensorflow.keras.datasets import mnist\n",
        "from sklearn.model_selection import train_test_split"
      ],
      "execution_count": 3,
      "outputs": []
    },
    {
      "cell_type": "code",
      "source": [
        "(X_train, y_train), (X_test, y_test) = mnist.load_data(\"mnist.npz\")"
      ],
      "metadata": {
        "id": "WLqsc1tVtV3z"
      },
      "execution_count": 4,
      "outputs": []
    },
    {
      "cell_type": "code",
      "source": [
        "X_training, X_validation, y_training, y_validation = train_test_split(X_train, y_train, train_size=0.8)"
      ],
      "metadata": {
        "id": "V01eiZZMvIyB"
      },
      "execution_count": 5,
      "outputs": []
    },
    {
      "cell_type": "code",
      "source": [
        "def preprocessing(value):\n",
        "  return value.astype('float32')/255\n",
        "X_training = preprocessing(X_training)\n",
        "X_test = preprocessing(X_test)\n",
        "X_validation =preprocessing(X_validation)"
      ],
      "metadata": {
        "id": "NXsNDbXXtb2g"
      },
      "execution_count": 6,
      "outputs": []
    },
    {
      "cell_type": "markdown",
      "metadata": {
        "id": "ianjKMjq70OS"
      },
      "source": [
        "#Problem 3 -- Train the model.\n",
        "\n",
        "Call `build_network` with parameters of your choice (4-8 layers, 50-150 neurons per layer, and ReLU activation (`relu`) is a reasonable starting point.)  Train the model against the training dataset.  To reduce training time, an early stopping callback is advised.  Evaluate the model using the validation dataset.  What is the prediction accuracy of the neural net?"
      ]
    },
    {
      "cell_type": "code",
      "metadata": {
        "id": "Tyz82J3q8Bxk"
      },
      "source": [
        "from tensorflow.keras.callbacks import EarlyStopping\n",
        "model = build_network(7, 125, \"relu\")\n",
        "early_stop = EarlyStopping(baseline=0.1,mode='max')"
      ],
      "execution_count": 7,
      "outputs": []
    },
    {
      "cell_type": "code",
      "source": [
        "pred = model.fit(X_training,y_training, epochs=30, callbacks=[early_stop],validation_split=0.2)"
      ],
      "metadata": {
        "colab": {
          "base_uri": "https://localhost:8080/"
        },
        "id": "8mImms-ZzWOF",
        "outputId": "82d58978-b177-4b0a-af0f-e9180661e25f"
      },
      "execution_count": 14,
      "outputs": [
        {
          "output_type": "stream",
          "name": "stdout",
          "text": [
            "Epoch 1/30\n",
            "1200/1200 [==============================] - 4s 3ms/step - loss: 1.0161 - accuracy: 0.8159 - val_loss: 0.2247 - val_accuracy: 0.9365\n",
            "Epoch 2/30\n",
            "1200/1200 [==============================] - 4s 3ms/step - loss: 0.1701 - accuracy: 0.9507 - val_loss: 0.1619 - val_accuracy: 0.9535\n"
          ]
        }
      ]
    },
    {
      "cell_type": "code",
      "source": [
        "model.fit(X_validation,y_validation, epochs=30, callbacks=[early_stop],validation_split=0.2)"
      ],
      "metadata": {
        "colab": {
          "base_uri": "https://localhost:8080/"
        },
        "id": "FbZDUc9N03zG",
        "outputId": "ca9e8596-16e2-452c-eaab-7f938b04c0e2"
      },
      "execution_count": 15,
      "outputs": [
        {
          "output_type": "stream",
          "name": "stdout",
          "text": [
            "Epoch 1/30\n",
            "300/300 [==============================] - 1s 3ms/step - loss: 0.1506 - accuracy: 0.9569 - val_loss: 0.1323 - val_accuracy: 0.9604\n",
            "Epoch 2/30\n",
            "300/300 [==============================] - 1s 3ms/step - loss: 0.1325 - accuracy: 0.9619 - val_loss: 0.1299 - val_accuracy: 0.9638\n"
          ]
        },
        {
          "output_type": "execute_result",
          "data": {
            "text/plain": [
              "<keras.callbacks.History at 0x7fec4f379610>"
            ]
          },
          "metadata": {},
          "execution_count": 15
        }
      ]
    },
    {
      "cell_type": "code",
      "source": [
        "test_accuracy=model.evaluate(X_test,y_test)\n",
        "print(\"Test accuracy:\",test_accuracy[1])"
      ],
      "metadata": {
        "colab": {
          "base_uri": "https://localhost:8080/"
        },
        "id": "yql3F7Ma4EUy",
        "outputId": "09f69aee-696f-4999-d6ff-fd58aa5b6fa6"
      },
      "execution_count": 16,
      "outputs": [
        {
          "output_type": "stream",
          "name": "stdout",
          "text": [
            "313/313 [==============================] - 1s 2ms/step - loss: 0.1380 - accuracy: 0.9579\n",
            "Test accuracy: 0.9578999876976013\n"
          ]
        }
      ]
    },
    {
      "cell_type": "markdown",
      "metadata": {
        "id": "jKwnTckh8CAz"
      },
      "source": [
        "#Problem 4 -- Optimize the model.\n",
        "\n",
        "Use one of the hyperparameter optimization frameworks discussed in class, such as scikit-optimize, to find an optimal values of the number of layers, activation function, and neurons per layer for this neural network.  Use a budget of about 20 runs.  Use the below tables as rough guidelines for the parameter space.\n",
        "\n",
        "|Parameter|Space ($\\Lambda_n$)|\n",
        "|---------|----|\n",
        "|Activation function|`relu`, `sigmoid`|\n",
        "|Number of layers|~2-20 (integer, uniform)|\n",
        "|Number of neurons per layers|10-300 (integer, log distributed)|\n",
        "\n",
        "What combination of parameters ($\\lambda$) produces the highest accuracy, and what is that accuracy?\n",
        "\n",
        "\n",
        "\n"
      ]
    },
    {
      "cell_type": "code",
      "source": [
        "from hyperopt import Trials\n",
        "from hyperopt import (fmin, hp, tpe, STATUS_OK, STATUS_FAIL)"
      ],
      "metadata": {
        "id": "9pZQI2sKJI9Z"
      },
      "execution_count": 64,
      "outputs": []
    },
    {
      "cell_type": "code",
      "metadata": {
        "id": "YzCWNqlY9zv0"
      },
      "source": [
        "def generate_model(values):\n",
        "    activation, nslayer, n_neurons = [values[k] for k in ['activation_fn', 'n_layers', 'neurons_per_layer']]\n",
        "    nslayer, n_neurons = [int(k) for k in [nslayer, n_neurons]]\n",
        "    model = build_network(nslayer, n_neurons, activation)\n",
        "    early_stop = EarlyStopping(baseline=0.1,mode='max')\n",
        "    return { 'model' : model,'status': STATUS_OK, 'accuracy' : accuracy, 'loss': loss}"
      ],
      "execution_count": 73,
      "outputs": []
    },
    {
      "cell_type": "code",
      "source": [
        "trials = Trials()\n",
        "best = fmin(fn = generate_model, space = {\n",
        "    'activation_fn' : hp.choice('activation_fn',[\"relu\", \"sigmoid\"]),\n",
        "    'n_layers': hp.quniform(\"n_layers\", 2, 19, 1),\n",
        "    'neurons_per_layer': hp.quniform(\"neurons_per_layer\", 10, 300, 1)\n",
        "}, algo = tpe.suggest,max_evals = 10, trials = trials, show_progressbar=True)"
      ],
      "metadata": {
        "colab": {
          "base_uri": "https://localhost:8080/"
        },
        "id": "Nt8GJUWaJTSv",
        "outputId": "7116c7f9-40ad-465c-c581-fa45dd03d8f1"
      },
      "execution_count": 74,
      "outputs": [
        {
          "output_type": "stream",
          "name": "stdout",
          "text": [
            "100%|██████████| 10/10 [00:01<00:00,  9.77it/s, best loss: 0.2950393557548523]\n"
          ]
        }
      ]
    },
    {
      "cell_type": "code",
      "source": [
        "pred = model.fit(X_training,y_training, epochs=2, callbacks=[early_stop],validation_split=0.2)\n",
        "loss , accuracy = model.evaluate(X_test, y_test)"
      ],
      "metadata": {
        "colab": {
          "base_uri": "https://localhost:8080/"
        },
        "id": "jLuxUhYWyvWO",
        "outputId": "c1a4f6a8-e4bf-4465-eb88-bc8ec8536b5e"
      },
      "execution_count": 75,
      "outputs": [
        {
          "output_type": "stream",
          "name": "stdout",
          "text": [
            "Epoch 1/2\n",
            "1200/1200 [==============================] - 4s 3ms/step - loss: 0.0479 - accuracy: 0.9851 - val_loss: 0.1285 - val_accuracy: 0.9674\n",
            "Epoch 2/2\n",
            "1200/1200 [==============================] - 4s 3ms/step - loss: 0.0447 - accuracy: 0.9861 - val_loss: 0.1126 - val_accuracy: 0.9716\n",
            "313/313 [==============================] - 1s 2ms/step - loss: 0.1067 - accuracy: 0.9672\n"
          ]
        }
      ]
    },
    {
      "cell_type": "code",
      "source": [
        "best_model = trials.best_trial['result']['model']\n",
        "loss, accuracy = best_model.evaluate(X_test, y_test)\n",
        "print(\"validation accuracy:\",accuracy)"
      ],
      "metadata": {
        "colab": {
          "base_uri": "https://localhost:8080/"
        },
        "id": "hd_4C7cRKQAl",
        "outputId": "bba5370e-1afa-427a-ccbc-a257cd1983d6"
      },
      "execution_count": 76,
      "outputs": [
        {
          "output_type": "stream",
          "name": "stdout",
          "text": [
            "313/313 [==============================] - 1s 2ms/step - loss: 2.3026 - accuracy: 0.0980\n",
            "validation accuracy: 0.09799999743700027\n"
          ]
        }
      ]
    }
  ]
}