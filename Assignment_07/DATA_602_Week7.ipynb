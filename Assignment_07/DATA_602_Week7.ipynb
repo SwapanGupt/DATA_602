{
  "nbformat": 4,
  "nbformat_minor": 0,
  "metadata": {
    "colab": {
      "name": "Swapan_Gupta_Chollati_Assignment_07.ipynb",
      "provenance": []
    },
    "kernelspec": {
      "name": "python3",
      "display_name": "Python 3"
    },
    "language_info": {
      "name": "python"
    }
  },
  "cells": [
    {
      "cell_type": "markdown",
      "source": [
        "##**Housekeeping note:**\n",
        "This problem set is due after return from spring break, on March 31.  Please remember final project proposals are also due 3/31.  Please send your project proposals via email to me at dfenster@umbc.edu.  Refer to the project guidelines [here](https://drive.google.com/file/d/183eg4ccE9QgIer8irM-Mjco-vsw27nKZ/view?usp=sharing)."
      ],
      "metadata": {
        "id": "g3MsQ0QH35FV"
      }
    },
    {
      "cell_type": "markdown",
      "source": [
        "# Preamble\n",
        "This problem set is an extension of Problem Set 6.  You will need the following artifacts from last week:\n",
        "\n",
        "* The MNIST 784 dataset from OpenML, with dimensionality reduced to about 75\\%.\n",
        "* The Support Vector Machine classifier.\n",
        "* Recoded target variables, such that the target variable is 1 if the digit is less than 5, and 0 otherwise.\n",
        "\n",
        "(You may copy these artifacts from the posted solutions if needed.)  As with last week, please use the first 60,000 observations as training data, and the remaining 10,000 images as test data."
      ],
      "metadata": {
        "id": "Dd-BTPFD4MBH"
      }
    },
    {
      "cell_type": "code",
      "source": [
        "from sklearn.datasets import fetch_openml\n",
        "from sklearn.preprocessing import StandardScaler\n",
        "import numpy as np\n",
        "from sklearn.svm import SVC"
      ],
      "metadata": {
        "id": "IJwiByZP_8aN"
      },
      "execution_count": 1,
      "outputs": []
    },
    {
      "cell_type": "code",
      "source": [
        "#fetch OpenML data\n",
        "X, y = fetch_openml('mnist_784', version=1, return_X_y=True, as_frame=False)\n",
        "\n",
        "#split into test/training sets\n",
        "N=60000\n",
        "X_train, y_train = X[:N, :], y[:N]\n",
        "X_test, y_test = X[N:, :], y[N:]\n",
        "\n",
        "#scale data\n",
        "scaler = StandardScaler()\n",
        "X_train = scaler.fit_transform(X_train)\n",
        "X_test = scaler.transform(X_test)"
      ],
      "metadata": {
        "id": "N4AHq-eCwpQf"
      },
      "execution_count": 2,
      "outputs": []
    },
    {
      "cell_type": "code",
      "source": [
        "from sklearn.decomposition import PCA\n",
        "pca_75= PCA(n_components=0.75,random_state=2020)\n",
        "X_train= pca_75.fit_transform(X_train)\n",
        "X_test = pca_75.transform(X_test)"
      ],
      "metadata": {
        "id": "Pbv1cIjDxF1u"
      },
      "execution_count": 3,
      "outputs": []
    },
    {
      "cell_type": "code",
      "source": [
        "clf_svc = SVC(coef0=0.3864834922270453, degree=4, kernel='poly')"
      ],
      "metadata": {
        "id": "XFupD6M0xeKF"
      },
      "execution_count": 4,
      "outputs": []
    },
    {
      "cell_type": "code",
      "source": [
        "recode_fn = lambda y: np.choose(np.isin(y, list(\"01234\")), [-1,1])\n",
        "y_test_rcd, y_train_rcd = (recode_fn(y) for y in [y_test, y_train])"
      ],
      "metadata": {
        "id": "fb7b7ReY7Zdr"
      },
      "execution_count": 5,
      "outputs": []
    },
    {
      "cell_type": "code",
      "source": [
        "clf_svc.fit(X_train, y_train_rcd)"
      ],
      "metadata": {
        "id": "Y0Zi5Wg-kuHl",
        "colab": {
          "base_uri": "https://localhost:8080/"
        },
        "outputId": "23b67e12-4ff3-4590-9dc2-2d6f6d387800"
      },
      "execution_count": 6,
      "outputs": [
        {
          "output_type": "execute_result",
          "data": {
            "text/plain": [
              "SVC(coef0=0.3864834922270453, degree=4, kernel='poly')"
            ]
          },
          "metadata": {},
          "execution_count": 6
        }
      ]
    },
    {
      "cell_type": "markdown",
      "source": [
        "# Problem 1 -- Classifiers\n",
        "\n",
        "Construct 3 classifiers using different algorithms, not including the SVM model built last week, that classify the MNIST dataset with an $F_1$ score of at least 0.9.  At least one classifier must use gradient boosting (AdaBoost, Gradient Boost, or xgboost).  Show the $F_1$ score and classification report for each model."
      ],
      "metadata": {
        "id": "5tPtoB1Y3v77"
      }
    },
    {
      "cell_type": "markdown",
      "source": [
        "## Using Gradient Boosting Classifier"
      ],
      "metadata": {
        "id": "_AL7zV9hyl6W"
      }
    },
    {
      "cell_type": "code",
      "source": [
        "from sklearn.model_selection import train_test_split\n",
        "from sklearn.datasets import make_hastie_10_2\n",
        "from sklearn.ensemble import GradientBoostingClassifier\n",
        "gb_clf = GradientBoostingClassifier(random_state=0)\n",
        "params = {\n",
        "    \"max_features\": [\"sqrt\", None]\n",
        "}\n",
        "gscv=GridSearchCV(gb_clf,params,verbose=3,cv=2,scoring='f1')"
      ],
      "metadata": {
        "id": "sh4mz_5qnyEY"
      },
      "execution_count": 60,
      "outputs": []
    },
    {
      "cell_type": "code",
      "source": [
        "gscv.fit(X_train[:10000, :], y_train_rcd[:10000])"
      ],
      "metadata": {
        "colab": {
          "base_uri": "https://localhost:8080/"
        },
        "id": "lJfOIZsJxPU6",
        "outputId": "82059440-7936-4bbc-de33-04d07f87cd03"
      },
      "execution_count": 62,
      "outputs": [
        {
          "output_type": "stream",
          "name": "stdout",
          "text": [
            "Fitting 2 folds for each of 2 candidates, totalling 4 fits\n",
            "[CV 1/2] END .................max_features=sqrt;, score=0.893 total time=   3.2s\n",
            "[CV 2/2] END .................max_features=sqrt;, score=0.893 total time=   2.1s\n",
            "[CV 1/2] END .................max_features=None;, score=0.907 total time=  21.5s\n",
            "[CV 2/2] END .................max_features=None;, score=0.910 total time=  23.0s\n"
          ]
        },
        {
          "output_type": "execute_result",
          "data": {
            "text/plain": [
              "GridSearchCV(cv=2, estimator=GradientBoostingClassifier(random_state=0),\n",
              "             param_grid={'max_features': ['sqrt', None]}, scoring='f1',\n",
              "             verbose=3)"
            ]
          },
          "metadata": {},
          "execution_count": 62
        }
      ]
    },
    {
      "cell_type": "code",
      "source": [
        "print(\"Best Score using Gradient Boosting Classifier\",gscv.best_score_)"
      ],
      "metadata": {
        "colab": {
          "base_uri": "https://localhost:8080/"
        },
        "id": "JZY369X3yEKp",
        "outputId": "16928fae-24cc-4e62-8ea1-75c10a4fdd3e"
      },
      "execution_count": 64,
      "outputs": [
        {
          "output_type": "stream",
          "name": "stdout",
          "text": [
            "Best Score using Gradient Boosting Classifier 0.9084856530206052\n"
          ]
        }
      ]
    },
    {
      "cell_type": "markdown",
      "source": [
        "## Using Logistic Regression"
      ],
      "metadata": {
        "id": "e0ENCbegzSYD"
      }
    },
    {
      "cell_type": "code",
      "source": [
        "from sklearn.model_selection import GridSearchCV\n",
        "\n",
        "cvalues = np.logspace(-4, 4, 5)\n",
        "cvalues\n",
        "parameters = {'C':cvalues\n",
        "              \n",
        "              }"
      ],
      "metadata": {
        "id": "3rAlqRCqtk_L"
      },
      "execution_count": 18,
      "outputs": []
    },
    {
      "cell_type": "code",
      "source": [
        "from sklearn.linear_model import LogisticRegression\n",
        "model= LogisticRegression(max_iter=10000)\n",
        "gscv1=GridSearchCV(model,parameters,verbose=3,cv=2,scoring='f1')"
      ],
      "metadata": {
        "id": "8tNCUl5vcfbG"
      },
      "execution_count": 66,
      "outputs": []
    },
    {
      "cell_type": "code",
      "source": [
        "gscv1.fit(X_train[:20000, :], y_train_rcd[:20000])"
      ],
      "metadata": {
        "colab": {
          "base_uri": "https://localhost:8080/"
        },
        "id": "bQoPNp_cpFPw",
        "outputId": "9b4c6b14-cb7a-4a83-bced-5dca94c6da86"
      },
      "execution_count": 69,
      "outputs": [
        {
          "output_type": "stream",
          "name": "stdout",
          "text": [
            "Fitting 2 folds for each of 5 candidates, totalling 10 fits\n",
            "[CV 1/2] END ..........................C=0.0001;, score=0.834 total time=   0.2s\n",
            "[CV 2/2] END ..........................C=0.0001;, score=0.828 total time=   0.2s\n",
            "[CV 1/2] END ............................C=0.01;, score=0.867 total time=   0.5s\n",
            "[CV 2/2] END ............................C=0.01;, score=0.850 total time=   0.5s\n",
            "[CV 1/2] END .............................C=1.0;, score=0.869 total time=   2.2s\n",
            "[CV 2/2] END .............................C=1.0;, score=0.851 total time=   1.5s\n",
            "[CV 1/2] END ...........................C=100.0;, score=0.869 total time=   2.2s\n",
            "[CV 2/2] END ...........................C=100.0;, score=0.852 total time=   2.4s\n",
            "[CV 1/2] END .........................C=10000.0;, score=0.869 total time=   2.1s\n",
            "[CV 2/2] END .........................C=10000.0;, score=0.852 total time=   3.0s\n"
          ]
        },
        {
          "output_type": "execute_result",
          "data": {
            "text/plain": [
              "GridSearchCV(cv=2, estimator=LogisticRegression(max_iter=10000),\n",
              "             param_grid={'C': array([1.e-04, 1.e-02, 1.e+00, 1.e+02, 1.e+04])},\n",
              "             scoring='f1', verbose=3)"
            ]
          },
          "metadata": {},
          "execution_count": 69
        }
      ]
    },
    {
      "cell_type": "code",
      "source": [
        "print(\"Best Score using Logistic Regression:\",gscv1.best_score_)"
      ],
      "metadata": {
        "colab": {
          "base_uri": "https://localhost:8080/"
        },
        "id": "mio4z_7XAq2k",
        "outputId": "2034c36a-aa45-4442-b79f-972668553900"
      },
      "execution_count": 70,
      "outputs": [
        {
          "output_type": "stream",
          "name": "stdout",
          "text": [
            "Best Score using Logistic Regression: 0.8607403447643879\n"
          ]
        }
      ]
    },
    {
      "cell_type": "code",
      "source": [
        "pred_lr= cross_val_predict(gscv1,X_train[:10000, :], y_train_rcd[:10000], verbose=3, cv=5)"
      ],
      "metadata": {
        "id": "qW8MmmRE9cq2"
      },
      "execution_count": null,
      "outputs": []
    },
    {
      "cell_type": "markdown",
      "source": [
        "## Using RandomForest Classifier"
      ],
      "metadata": {
        "id": "9pl53oBYzcCa"
      }
    },
    {
      "cell_type": "code",
      "source": [
        "from sklearn.ensemble import RandomForestClassifier\n",
        "from sklearn.model_selection import ParameterGrid, RandomizedSearchCV"
      ],
      "metadata": {
        "id": "MJfWabhK9-RJ"
      },
      "execution_count": 21,
      "outputs": []
    },
    {
      "cell_type": "code",
      "source": [
        "params = {\n",
        "    \n",
        "    \"max_features\": ['auto', 'sqrt', 'log2']\n",
        "}\n",
        "\n"
      ],
      "metadata": {
        "id": "40q5FAHHGt11"
      },
      "execution_count": 54,
      "outputs": []
    },
    {
      "cell_type": "code",
      "source": [
        "model1= RandomForestClassifier()"
      ],
      "metadata": {
        "id": "40QXAacbvT4r"
      },
      "execution_count": 55,
      "outputs": []
    },
    {
      "cell_type": "code",
      "source": [
        "x=RandomizedSearchCV(model1,params,verbose=3,cv=2,scoring='f1')"
      ],
      "metadata": {
        "id": "s73PmMCJG8Ab"
      },
      "execution_count": 56,
      "outputs": []
    },
    {
      "cell_type": "code",
      "source": [
        "x.fit(X_train[:10000, :], y_train_rcd[:10000])"
      ],
      "metadata": {
        "colab": {
          "base_uri": "https://localhost:8080/"
        },
        "id": "WTGiAcNGHrMi",
        "outputId": "3814ca1e-1b33-43b5-cb61-0758070ab3ef"
      },
      "execution_count": 57,
      "outputs": [
        {
          "output_type": "stream",
          "name": "stderr",
          "text": [
            "/usr/local/lib/python3.7/dist-packages/sklearn/model_selection/_search.py:296: UserWarning: The total space of parameters 3 is smaller than n_iter=10. Running 3 iterations. For exhaustive searches, use GridSearchCV.\n",
            "  UserWarning,\n"
          ]
        },
        {
          "output_type": "stream",
          "name": "stdout",
          "text": [
            "Fitting 2 folds for each of 3 candidates, totalling 6 fits\n",
            "[CV 1/2] END .................max_features=auto;, score=0.920 total time=   4.7s\n",
            "[CV 2/2] END .................max_features=auto;, score=0.930 total time=   4.7s\n",
            "[CV 1/2] END .................max_features=sqrt;, score=0.925 total time=   4.7s\n",
            "[CV 2/2] END .................max_features=sqrt;, score=0.922 total time=   4.7s\n",
            "[CV 1/2] END .................max_features=log2;, score=0.919 total time=   3.1s\n",
            "[CV 2/2] END .................max_features=log2;, score=0.929 total time=   3.6s\n"
          ]
        },
        {
          "output_type": "execute_result",
          "data": {
            "text/plain": [
              "RandomizedSearchCV(cv=2, estimator=RandomForestClassifier(),\n",
              "                   param_distributions={'max_features': ['auto', 'sqrt',\n",
              "                                                         'log2']},\n",
              "                   scoring='f1', verbose=3)"
            ]
          },
          "metadata": {},
          "execution_count": 57
        }
      ]
    },
    {
      "cell_type": "code",
      "source": [
        "print(\"Best Score using Random Forest Classifier:\",x.best_score_)"
      ],
      "metadata": {
        "colab": {
          "base_uri": "https://localhost:8080/"
        },
        "id": "rOVRNFJbKiXu",
        "outputId": "5bb8f2a8-24df-48ad-c82d-6a5b9ad34a47"
      },
      "execution_count": 71,
      "outputs": [
        {
          "output_type": "stream",
          "name": "stdout",
          "text": [
            "Best Score using Random Forest Classifier: 0.9248543592513794\n"
          ]
        }
      ]
    },
    {
      "cell_type": "markdown",
      "source": [
        "# Problem 2 -- Voting ensemble model\n",
        "\n",
        "Build a voting ensemble model that combines the three classifiers from the previous problem, in addition to the SVM model developed last week.  What is the $F_1$ score of the ensemble model?"
      ],
      "metadata": {
        "id": "LG5qDkzu4uRS"
      }
    },
    {
      "cell_type": "code",
      "source": [
        "from sklearn.ensemble import VotingClassifier\n",
        "\n",
        "models = [\n",
        "    (\"svm\", clf_svc),\n",
        "    (\"gb\",gscv),\n",
        "    (\"lr\",gscv1),\n",
        "    (\"rf\",x)\n",
        "]"
      ],
      "metadata": {
        "id": "QIReirN0418z"
      },
      "execution_count": 96,
      "outputs": []
    },
    {
      "cell_type": "code",
      "source": [
        "from sklearn.model_selection import cross_val_predict\n",
        "clf_v = VotingClassifier(\n",
        "    estimators=models)"
      ],
      "metadata": {
        "id": "bRuUJqX22jhw"
      },
      "execution_count": 97,
      "outputs": []
    },
    {
      "cell_type": "code",
      "source": [
        "X_train_sample,y_train_rcd_sample=X_train[:1000, :], y_train_rcd[:1000]"
      ],
      "metadata": {
        "id": "UHqcJf674R_m"
      },
      "execution_count": 98,
      "outputs": []
    },
    {
      "cell_type": "code",
      "source": [
        "y_pred = cross_val_predict(clf_v,X_train_sample,y_train_rcd_sample, verbose=3, cv=5)"
      ],
      "metadata": {
        "colab": {
          "base_uri": "https://localhost:8080/"
        },
        "id": "xtgq5PIA4BM8",
        "outputId": "448a582b-9580-40c1-aaaa-eb473e16de93"
      },
      "execution_count": 99,
      "outputs": [
        {
          "output_type": "stream",
          "name": "stderr",
          "text": [
            "[Parallel(n_jobs=1)]: Using backend SequentialBackend with 1 concurrent workers.\n"
          ]
        },
        {
          "output_type": "stream",
          "name": "stdout",
          "text": [
            "Fitting 2 folds for each of 2 candidates, totalling 4 fits\n",
            "[CV 1/2] END .................max_features=sqrt;, score=0.818 total time=   0.2s\n",
            "[CV 2/2] END .................max_features=sqrt;, score=0.830 total time=   0.2s\n",
            "[CV 1/2] END .................max_features=None;, score=0.797 total time=   1.3s\n",
            "[CV 2/2] END .................max_features=None;, score=0.860 total time=   1.3s\n",
            "Fitting 2 folds for each of 5 candidates, totalling 10 fits\n",
            "[CV 1/2] END ..........................C=0.0001;, score=0.765 total time=   0.0s\n",
            "[CV 2/2] END ..........................C=0.0001;, score=0.756 total time=   0.0s\n",
            "[CV 1/2] END ............................C=0.01;, score=0.830 total time=   0.0s\n",
            "[CV 2/2] END ............................C=0.01;, score=0.837 total time=   0.0s\n",
            "[CV 1/2] END .............................C=1.0;, score=0.800 total time=   0.1s\n",
            "[CV 2/2] END .............................C=1.0;, score=0.815 total time=   0.0s\n",
            "[CV 1/2] END ...........................C=100.0;, score=0.767 total time=   0.3s\n",
            "[CV 2/2] END ...........................C=100.0;, score=0.772 total time=   0.2s\n",
            "[CV 1/2] END .........................C=10000.0;, score=0.768 total time=   1.3s\n",
            "[CV 2/2] END .........................C=10000.0;, score=0.776 total time=   0.3s\n",
            "Fitting 2 folds for each of 3 candidates, totalling 6 fits\n"
          ]
        },
        {
          "output_type": "stream",
          "name": "stderr",
          "text": [
            "/usr/local/lib/python3.7/dist-packages/sklearn/model_selection/_search.py:296: UserWarning: The total space of parameters 3 is smaller than n_iter=10. Running 3 iterations. For exhaustive searches, use GridSearchCV.\n",
            "  UserWarning,\n"
          ]
        },
        {
          "output_type": "stream",
          "name": "stdout",
          "text": [
            "[CV 1/2] END .................max_features=auto;, score=0.837 total time=   0.4s\n",
            "[CV 2/2] END .................max_features=auto;, score=0.849 total time=   0.4s\n",
            "[CV 1/2] END .................max_features=sqrt;, score=0.859 total time=   0.4s\n",
            "[CV 2/2] END .................max_features=sqrt;, score=0.841 total time=   0.4s\n",
            "[CV 1/2] END .................max_features=log2;, score=0.834 total time=   0.3s\n",
            "[CV 2/2] END .................max_features=log2;, score=0.824 total time=   0.3s\n"
          ]
        },
        {
          "output_type": "stream",
          "name": "stderr",
          "text": [
            "[Parallel(n_jobs=1)]: Done   1 out of   1 | elapsed:   11.1s remaining:    0.0s\n"
          ]
        },
        {
          "output_type": "stream",
          "name": "stdout",
          "text": [
            "Fitting 2 folds for each of 2 candidates, totalling 4 fits\n",
            "[CV 1/2] END .................max_features=sqrt;, score=0.835 total time=   0.2s\n",
            "[CV 2/2] END .................max_features=sqrt;, score=0.814 total time=   0.2s\n",
            "[CV 1/2] END .................max_features=None;, score=0.827 total time=   1.3s\n",
            "[CV 2/2] END .................max_features=None;, score=0.828 total time=   1.3s\n",
            "Fitting 2 folds for each of 5 candidates, totalling 10 fits\n",
            "[CV 1/2] END ..........................C=0.0001;, score=0.743 total time=   0.0s\n",
            "[CV 2/2] END ..........................C=0.0001;, score=0.739 total time=   0.0s\n",
            "[CV 1/2] END ............................C=0.01;, score=0.804 total time=   0.0s\n",
            "[CV 2/2] END ............................C=0.01;, score=0.816 total time=   0.0s\n",
            "[CV 1/2] END .............................C=1.0;, score=0.807 total time=   0.1s\n",
            "[CV 2/2] END .............................C=1.0;, score=0.806 total time=   0.1s\n",
            "[CV 1/2] END ...........................C=100.0;, score=0.762 total time=   0.4s\n",
            "[CV 2/2] END ...........................C=100.0;, score=0.801 total time=   0.2s\n",
            "[CV 1/2] END .........................C=10000.0;, score=0.769 total time=   1.3s\n",
            "[CV 2/2] END .........................C=10000.0;, score=0.794 total time=   0.2s\n",
            "Fitting 2 folds for each of 3 candidates, totalling 6 fits\n"
          ]
        },
        {
          "output_type": "stream",
          "name": "stderr",
          "text": [
            "/usr/local/lib/python3.7/dist-packages/sklearn/model_selection/_search.py:296: UserWarning: The total space of parameters 3 is smaller than n_iter=10. Running 3 iterations. For exhaustive searches, use GridSearchCV.\n",
            "  UserWarning,\n"
          ]
        },
        {
          "output_type": "stream",
          "name": "stdout",
          "text": [
            "[CV 1/2] END .................max_features=auto;, score=0.805 total time=   0.4s\n",
            "[CV 2/2] END .................max_features=auto;, score=0.844 total time=   0.3s\n",
            "[CV 1/2] END .................max_features=sqrt;, score=0.839 total time=   0.4s\n",
            "[CV 2/2] END .................max_features=sqrt;, score=0.842 total time=   0.4s\n",
            "[CV 1/2] END .................max_features=log2;, score=0.821 total time=   0.3s\n",
            "[CV 2/2] END .................max_features=log2;, score=0.836 total time=   0.3s\n"
          ]
        },
        {
          "output_type": "stream",
          "name": "stderr",
          "text": [
            "[Parallel(n_jobs=1)]: Done   2 out of   2 | elapsed:   22.1s remaining:    0.0s\n"
          ]
        },
        {
          "output_type": "stream",
          "name": "stdout",
          "text": [
            "Fitting 2 folds for each of 2 candidates, totalling 4 fits\n",
            "[CV 1/2] END .................max_features=sqrt;, score=0.839 total time=   0.2s\n",
            "[CV 2/2] END .................max_features=sqrt;, score=0.822 total time=   0.2s\n",
            "[CV 1/2] END .................max_features=None;, score=0.820 total time=   1.3s\n",
            "[CV 2/2] END .................max_features=None;, score=0.811 total time=   1.3s\n",
            "Fitting 2 folds for each of 5 candidates, totalling 10 fits\n",
            "[CV 1/2] END ..........................C=0.0001;, score=0.756 total time=   0.0s\n",
            "[CV 2/2] END ..........................C=0.0001;, score=0.734 total time=   0.0s\n",
            "[CV 1/2] END ............................C=0.01;, score=0.816 total time=   0.0s\n",
            "[CV 2/2] END ............................C=0.01;, score=0.812 total time=   0.0s\n",
            "[CV 1/2] END .............................C=1.0;, score=0.782 total time=   0.1s\n",
            "[CV 2/2] END .............................C=1.0;, score=0.833 total time=   0.0s\n",
            "[CV 1/2] END ...........................C=100.0;, score=0.758 total time=   0.3s\n",
            "[CV 2/2] END ...........................C=100.0;, score=0.794 total time=   0.2s\n",
            "[CV 1/2] END .........................C=10000.0;, score=0.741 total time=   1.3s\n",
            "[CV 2/2] END .........................C=10000.0;, score=0.800 total time=   0.2s\n"
          ]
        },
        {
          "output_type": "stream",
          "name": "stderr",
          "text": [
            "/usr/local/lib/python3.7/dist-packages/sklearn/model_selection/_search.py:296: UserWarning: The total space of parameters 3 is smaller than n_iter=10. Running 3 iterations. For exhaustive searches, use GridSearchCV.\n",
            "  UserWarning,\n"
          ]
        },
        {
          "output_type": "stream",
          "name": "stdout",
          "text": [
            "Fitting 2 folds for each of 3 candidates, totalling 6 fits\n",
            "[CV 1/2] END .................max_features=auto;, score=0.852 total time=   0.4s\n",
            "[CV 2/2] END .................max_features=auto;, score=0.804 total time=   0.4s\n",
            "[CV 1/2] END .................max_features=sqrt;, score=0.850 total time=   0.3s\n",
            "[CV 2/2] END .................max_features=sqrt;, score=0.828 total time=   0.4s\n",
            "[CV 1/2] END .................max_features=log2;, score=0.834 total time=   0.3s\n",
            "[CV 2/2] END .................max_features=log2;, score=0.836 total time=   0.3s\n",
            "Fitting 2 folds for each of 2 candidates, totalling 4 fits\n",
            "[CV 1/2] END .................max_features=sqrt;, score=0.891 total time=   0.2s\n",
            "[CV 2/2] END .................max_features=sqrt;, score=0.851 total time=   0.2s\n",
            "[CV 1/2] END .................max_features=None;, score=0.899 total time=   1.3s\n",
            "[CV 2/2] END .................max_features=None;, score=0.831 total time=   1.3s\n",
            "Fitting 2 folds for each of 5 candidates, totalling 10 fits\n",
            "[CV 1/2] END ..........................C=0.0001;, score=0.770 total time=   0.0s\n",
            "[CV 2/2] END ..........................C=0.0001;, score=0.758 total time=   0.0s\n",
            "[CV 1/2] END ............................C=0.01;, score=0.835 total time=   0.0s\n",
            "[CV 2/2] END ............................C=0.01;, score=0.827 total time=   0.0s\n",
            "[CV 1/2] END .............................C=1.0;, score=0.815 total time=   0.1s\n",
            "[CV 2/2] END .............................C=1.0;, score=0.836 total time=   0.1s\n",
            "[CV 1/2] END ...........................C=100.0;, score=0.809 total time=   0.3s\n",
            "[CV 2/2] END ...........................C=100.0;, score=0.810 total time=   0.2s\n",
            "[CV 1/2] END .........................C=10000.0;, score=0.806 total time=   0.6s\n",
            "[CV 2/2] END .........................C=10000.0;, score=0.806 total time=   0.2s\n",
            "Fitting 2 folds for each of 3 candidates, totalling 6 fits\n"
          ]
        },
        {
          "output_type": "stream",
          "name": "stderr",
          "text": [
            "/usr/local/lib/python3.7/dist-packages/sklearn/model_selection/_search.py:296: UserWarning: The total space of parameters 3 is smaller than n_iter=10. Running 3 iterations. For exhaustive searches, use GridSearchCV.\n",
            "  UserWarning,\n"
          ]
        },
        {
          "output_type": "stream",
          "name": "stdout",
          "text": [
            "[CV 1/2] END .................max_features=auto;, score=0.870 total time=   0.4s\n",
            "[CV 2/2] END .................max_features=auto;, score=0.820 total time=   0.4s\n",
            "[CV 1/2] END .................max_features=sqrt;, score=0.873 total time=   0.3s\n",
            "[CV 2/2] END .................max_features=sqrt;, score=0.850 total time=   0.4s\n",
            "[CV 1/2] END .................max_features=log2;, score=0.883 total time=   0.3s\n",
            "[CV 2/2] END .................max_features=log2;, score=0.827 total time=   0.3s\n",
            "Fitting 2 folds for each of 2 candidates, totalling 4 fits\n",
            "[CV 1/2] END .................max_features=sqrt;, score=0.873 total time=   0.2s\n",
            "[CV 2/2] END .................max_features=sqrt;, score=0.814 total time=   0.2s\n",
            "[CV 1/2] END .................max_features=None;, score=0.896 total time=   1.3s\n",
            "[CV 2/2] END .................max_features=None;, score=0.804 total time=   1.3s\n",
            "Fitting 2 folds for each of 5 candidates, totalling 10 fits\n",
            "[CV 1/2] END ..........................C=0.0001;, score=0.752 total time=   0.0s\n",
            "[CV 2/2] END ..........................C=0.0001;, score=0.726 total time=   0.0s\n",
            "[CV 1/2] END ............................C=0.01;, score=0.821 total time=   0.0s\n",
            "[CV 2/2] END ............................C=0.01;, score=0.818 total time=   0.0s\n",
            "[CV 1/2] END .............................C=1.0;, score=0.822 total time=   0.1s\n",
            "[CV 2/2] END .............................C=1.0;, score=0.822 total time=   0.1s\n",
            "[CV 1/2] END ...........................C=100.0;, score=0.773 total time=   0.5s\n",
            "[CV 2/2] END ...........................C=100.0;, score=0.794 total time=   0.8s\n",
            "[CV 1/2] END .........................C=10000.0;, score=0.702 total time=   5.6s\n",
            "[CV 2/2] END .........................C=10000.0;, score=0.785 total time=   0.7s\n"
          ]
        },
        {
          "output_type": "stream",
          "name": "stderr",
          "text": [
            "/usr/local/lib/python3.7/dist-packages/sklearn/model_selection/_search.py:296: UserWarning: The total space of parameters 3 is smaller than n_iter=10. Running 3 iterations. For exhaustive searches, use GridSearchCV.\n",
            "  UserWarning,\n"
          ]
        },
        {
          "output_type": "stream",
          "name": "stdout",
          "text": [
            "Fitting 2 folds for each of 3 candidates, totalling 6 fits\n",
            "[CV 1/2] END .................max_features=auto;, score=0.826 total time=   0.7s\n",
            "[CV 2/2] END .................max_features=auto;, score=0.810 total time=   0.7s\n",
            "[CV 1/2] END .................max_features=sqrt;, score=0.861 total time=   0.6s\n",
            "[CV 2/2] END .................max_features=sqrt;, score=0.820 total time=   0.5s\n",
            "[CV 1/2] END .................max_features=log2;, score=0.824 total time=   0.3s\n",
            "[CV 2/2] END .................max_features=log2;, score=0.791 total time=   0.3s\n"
          ]
        },
        {
          "output_type": "stream",
          "name": "stderr",
          "text": [
            "[Parallel(n_jobs=1)]: Done   5 out of   5 | elapsed:   56.8s finished\n"
          ]
        }
      ]
    },
    {
      "cell_type": "code",
      "source": [
        "from sklearn.metrics import f1_score\n",
        "Score=f1_score(y_train_rcd_sample, y_pred)\n",
        "print(\"F1 Score using Voting Ensemble is\",Score)"
      ],
      "metadata": {
        "colab": {
          "base_uri": "https://localhost:8080/"
        },
        "id": "wBZxEyEO6Kev",
        "outputId": "0ef785da-d6d7-483a-a4a7-d05f32aa8d57"
      },
      "execution_count": 118,
      "outputs": [
        {
          "output_type": "stream",
          "name": "stdout",
          "text": [
            "F1 Score using Voting Ensemble is 0.9067201604814442\n"
          ]
        }
      ]
    },
    {
      "cell_type": "markdown",
      "source": [
        "## Problem 3 -- Stacking ensemble model\n",
        "Stacking uses a final classifier (often a logistic regression) that outputs an aggregate of the predictors. Repeat the previous problem using a `StackingClassifier` rather than voting to compute the final prediction.  What is the $F_1$ score of the stacking classifier?\n"
      ],
      "metadata": {
        "id": "B2Pnq0i042SD"
      }
    },
    {
      "cell_type": "code",
      "source": [
        "from sklearn.ensemble import StackingClassifier\n",
        "\n",
        "models = [\n",
        "    (\"svm\", clf_svc),\n",
        "    (\"gb\",gscv),\n",
        "    (\"lr\",gscv1),\n",
        "    (\"rf\",x)\n",
        "]"
      ],
      "metadata": {
        "id": "cQQ6Y1zG6K3m"
      },
      "execution_count": 106,
      "outputs": []
    },
    {
      "cell_type": "code",
      "source": [
        "from sklearn.model_selection import cross_val_predict\n",
        "clf_s = StackingClassifier(\n",
        "    estimators=models,\n",
        "    final_estimator=LogisticRegression())"
      ],
      "metadata": {
        "id": "xT2GH3F8632F"
      },
      "execution_count": 111,
      "outputs": []
    },
    {
      "cell_type": "code",
      "source": [
        "y_pred_2 = cross_val_predict(clf_s,X_train_sample,y_train_rcd_sample, verbose=3, cv=5)"
      ],
      "metadata": {
        "colab": {
          "base_uri": "https://localhost:8080/"
        },
        "id": "iQGx-81h7I-X",
        "outputId": "fbcbccc6-d9fe-4d02-fae3-6942c280cba6"
      },
      "execution_count": 112,
      "outputs": [
        {
          "output_type": "stream",
          "name": "stderr",
          "text": [
            "[Parallel(n_jobs=1)]: Using backend SequentialBackend with 1 concurrent workers.\n"
          ]
        },
        {
          "output_type": "stream",
          "name": "stdout",
          "text": [
            "Fitting 2 folds for each of 2 candidates, totalling 4 fits\n",
            "[CV 1/2] END .................max_features=sqrt;, score=0.818 total time=   0.2s\n",
            "[CV 2/2] END .................max_features=sqrt;, score=0.830 total time=   0.2s\n",
            "[CV 1/2] END .................max_features=None;, score=0.797 total time=   1.3s\n",
            "[CV 2/2] END .................max_features=None;, score=0.860 total time=   1.3s\n",
            "Fitting 2 folds for each of 5 candidates, totalling 10 fits\n",
            "[CV 1/2] END ..........................C=0.0001;, score=0.765 total time=   0.0s\n",
            "[CV 2/2] END ..........................C=0.0001;, score=0.756 total time=   0.0s\n",
            "[CV 1/2] END ............................C=0.01;, score=0.830 total time=   0.0s\n",
            "[CV 2/2] END ............................C=0.01;, score=0.837 total time=   0.0s\n",
            "[CV 1/2] END .............................C=1.0;, score=0.800 total time=   0.1s\n",
            "[CV 2/2] END .............................C=1.0;, score=0.815 total time=   0.0s\n",
            "[CV 1/2] END ...........................C=100.0;, score=0.767 total time=   0.3s\n",
            "[CV 2/2] END ...........................C=100.0;, score=0.772 total time=   0.2s\n",
            "[CV 1/2] END .........................C=10000.0;, score=0.768 total time=   1.4s\n",
            "[CV 2/2] END .........................C=10000.0;, score=0.776 total time=   0.3s\n",
            "Fitting 2 folds for each of 3 candidates, totalling 6 fits\n"
          ]
        },
        {
          "output_type": "stream",
          "name": "stderr",
          "text": [
            "/usr/local/lib/python3.7/dist-packages/sklearn/model_selection/_search.py:296: UserWarning: The total space of parameters 3 is smaller than n_iter=10. Running 3 iterations. For exhaustive searches, use GridSearchCV.\n",
            "  UserWarning,\n"
          ]
        },
        {
          "output_type": "stream",
          "name": "stdout",
          "text": [
            "[CV 1/2] END .................max_features=auto;, score=0.838 total time=   0.4s\n",
            "[CV 2/2] END .................max_features=auto;, score=0.845 total time=   0.4s\n",
            "[CV 1/2] END .................max_features=sqrt;, score=0.829 total time=   0.4s\n",
            "[CV 2/2] END .................max_features=sqrt;, score=0.813 total time=   0.4s\n",
            "[CV 1/2] END .................max_features=log2;, score=0.845 total time=   0.3s\n",
            "[CV 2/2] END .................max_features=log2;, score=0.821 total time=   0.3s\n",
            "Fitting 2 folds for each of 2 candidates, totalling 4 fits\n",
            "[CV 1/2] END .................max_features=sqrt;, score=0.848 total time=   0.2s\n",
            "[CV 2/2] END .................max_features=sqrt;, score=0.801 total time=   0.2s\n",
            "[CV 1/2] END .................max_features=None;, score=0.798 total time=   1.1s\n",
            "[CV 2/2] END .................max_features=None;, score=0.854 total time=   1.1s\n",
            "Fitting 2 folds for each of 2 candidates, totalling 4 fits\n",
            "[CV 1/2] END .................max_features=sqrt;, score=0.842 total time=   0.2s\n",
            "[CV 2/2] END .................max_features=sqrt;, score=0.826 total time=   0.2s\n",
            "[CV 1/2] END .................max_features=None;, score=0.791 total time=   1.0s\n",
            "[CV 2/2] END .................max_features=None;, score=0.816 total time=   1.1s\n",
            "Fitting 2 folds for each of 2 candidates, totalling 4 fits\n",
            "[CV 1/2] END .................max_features=sqrt;, score=0.847 total time=   0.2s\n",
            "[CV 2/2] END .................max_features=sqrt;, score=0.843 total time=   0.2s\n",
            "[CV 1/2] END .................max_features=None;, score=0.823 total time=   1.0s\n",
            "[CV 2/2] END .................max_features=None;, score=0.838 total time=   1.0s\n",
            "Fitting 2 folds for each of 2 candidates, totalling 4 fits\n",
            "[CV 1/2] END .................max_features=sqrt;, score=0.796 total time=   0.2s\n",
            "[CV 2/2] END .................max_features=sqrt;, score=0.803 total time=   0.2s\n",
            "[CV 1/2] END .................max_features=None;, score=0.771 total time=   1.0s\n",
            "[CV 2/2] END .................max_features=None;, score=0.806 total time=   1.0s\n",
            "Fitting 2 folds for each of 2 candidates, totalling 4 fits\n",
            "[CV 1/2] END .................max_features=sqrt;, score=0.766 total time=   0.2s\n",
            "[CV 2/2] END .................max_features=sqrt;, score=0.831 total time=   0.2s\n",
            "[CV 1/2] END .................max_features=None;, score=0.785 total time=   1.0s\n",
            "[CV 2/2] END .................max_features=None;, score=0.824 total time=   1.0s\n",
            "Fitting 2 folds for each of 5 candidates, totalling 10 fits\n",
            "[CV 1/2] END ..........................C=0.0001;, score=0.743 total time=   0.0s\n",
            "[CV 2/2] END ..........................C=0.0001;, score=0.779 total time=   0.0s\n",
            "[CV 1/2] END ............................C=0.01;, score=0.841 total time=   0.0s\n",
            "[CV 2/2] END ............................C=0.01;, score=0.847 total time=   0.0s\n",
            "[CV 1/2] END .............................C=1.0;, score=0.809 total time=   0.0s\n",
            "[CV 2/2] END .............................C=1.0;, score=0.825 total time=   0.1s\n",
            "[CV 1/2] END ...........................C=100.0;, score=0.794 total time=   0.3s\n",
            "[CV 2/2] END ...........................C=100.0;, score=0.808 total time=   0.1s\n",
            "[CV 1/2] END .........................C=10000.0;, score=0.778 total time=   0.5s\n",
            "[CV 2/2] END .........................C=10000.0;, score=0.812 total time=   0.1s\n",
            "Fitting 2 folds for each of 5 candidates, totalling 10 fits\n",
            "[CV 1/2] END ..........................C=0.0001;, score=0.763 total time=   0.0s\n",
            "[CV 2/2] END ..........................C=0.0001;, score=0.764 total time=   0.0s\n",
            "[CV 1/2] END ............................C=0.01;, score=0.840 total time=   0.0s\n",
            "[CV 2/2] END ............................C=0.01;, score=0.812 total time=   0.0s\n",
            "[CV 1/2] END .............................C=1.0;, score=0.802 total time=   0.0s\n",
            "[CV 2/2] END .............................C=1.0;, score=0.801 total time=   0.1s\n",
            "[CV 1/2] END ...........................C=100.0;, score=0.774 total time=   0.3s\n",
            "[CV 2/2] END ...........................C=100.0;, score=0.783 total time=   0.2s\n",
            "[CV 1/2] END .........................C=10000.0;, score=0.768 total time=   0.5s\n",
            "[CV 2/2] END .........................C=10000.0;, score=0.778 total time=   0.2s\n",
            "Fitting 2 folds for each of 5 candidates, totalling 10 fits\n",
            "[CV 1/2] END ..........................C=0.0001;, score=0.779 total time=   0.0s\n",
            "[CV 2/2] END ..........................C=0.0001;, score=0.774 total time=   0.0s\n",
            "[CV 1/2] END ............................C=0.01;, score=0.842 total time=   0.0s\n",
            "[CV 2/2] END ............................C=0.01;, score=0.858 total time=   0.0s\n",
            "[CV 1/2] END .............................C=1.0;, score=0.799 total time=   0.1s\n",
            "[CV 2/2] END .............................C=1.0;, score=0.786 total time=   0.1s\n",
            "[CV 1/2] END ...........................C=100.0;, score=0.774 total time=   0.3s\n",
            "[CV 2/2] END ...........................C=100.0;, score=0.770 total time=   0.1s\n",
            "[CV 1/2] END .........................C=10000.0;, score=0.760 total time=   0.5s\n",
            "[CV 2/2] END .........................C=10000.0;, score=0.773 total time=   0.2s\n",
            "Fitting 2 folds for each of 5 candidates, totalling 10 fits\n",
            "[CV 1/2] END ..........................C=0.0001;, score=0.750 total time=   0.0s\n",
            "[CV 2/2] END ..........................C=0.0001;, score=0.716 total time=   0.0s\n",
            "[CV 1/2] END ............................C=0.01;, score=0.851 total time=   0.0s\n",
            "[CV 2/2] END ............................C=0.01;, score=0.813 total time=   0.0s\n",
            "[CV 1/2] END .............................C=1.0;, score=0.795 total time=   0.1s\n",
            "[CV 2/2] END .............................C=1.0;, score=0.780 total time=   0.0s\n",
            "[CV 1/2] END ...........................C=100.0;, score=0.783 total time=   0.3s\n",
            "[CV 2/2] END ...........................C=100.0;, score=0.725 total time=   0.1s\n",
            "[CV 1/2] END .........................C=10000.0;, score=0.779 total time=   0.4s\n",
            "[CV 2/2] END .........................C=10000.0;, score=0.724 total time=   0.2s\n",
            "Fitting 2 folds for each of 5 candidates, totalling 10 fits\n",
            "[CV 1/2] END ..........................C=0.0001;, score=0.760 total time=   0.0s\n",
            "[CV 2/2] END ..........................C=0.0001;, score=0.743 total time=   0.0s\n",
            "[CV 1/2] END ............................C=0.01;, score=0.836 total time=   0.0s\n",
            "[CV 2/2] END ............................C=0.01;, score=0.819 total time=   0.0s\n",
            "[CV 1/2] END .............................C=1.0;, score=0.752 total time=   0.0s\n",
            "[CV 2/2] END .............................C=1.0;, score=0.772 total time=   0.0s\n",
            "[CV 1/2] END ...........................C=100.0;, score=0.698 total time=   0.2s\n",
            "[CV 2/2] END ...........................C=100.0;, score=0.729 total time=   0.1s\n",
            "[CV 1/2] END .........................C=10000.0;, score=0.692 total time=   0.3s\n",
            "[CV 2/2] END .........................C=10000.0;, score=0.724 total time=   0.1s\n",
            "Fitting 2 folds for each of 3 candidates, totalling 6 fits\n"
          ]
        },
        {
          "output_type": "stream",
          "name": "stderr",
          "text": [
            "/usr/local/lib/python3.7/dist-packages/sklearn/model_selection/_search.py:296: UserWarning: The total space of parameters 3 is smaller than n_iter=10. Running 3 iterations. For exhaustive searches, use GridSearchCV.\n",
            "  UserWarning,\n"
          ]
        },
        {
          "output_type": "stream",
          "name": "stdout",
          "text": [
            "[CV 1/2] END .................max_features=auto;, score=0.823 total time=   0.3s\n",
            "[CV 2/2] END .................max_features=auto;, score=0.791 total time=   0.3s\n",
            "[CV 1/2] END .................max_features=sqrt;, score=0.818 total time=   0.3s\n",
            "[CV 2/2] END .................max_features=sqrt;, score=0.837 total time=   0.3s\n",
            "[CV 1/2] END .................max_features=log2;, score=0.804 total time=   0.3s\n",
            "[CV 2/2] END .................max_features=log2;, score=0.839 total time=   0.3s\n"
          ]
        },
        {
          "output_type": "stream",
          "name": "stderr",
          "text": [
            "/usr/local/lib/python3.7/dist-packages/sklearn/model_selection/_search.py:296: UserWarning: The total space of parameters 3 is smaller than n_iter=10. Running 3 iterations. For exhaustive searches, use GridSearchCV.\n",
            "  UserWarning,\n"
          ]
        },
        {
          "output_type": "stream",
          "name": "stdout",
          "text": [
            "Fitting 2 folds for each of 3 candidates, totalling 6 fits\n",
            "[CV 1/2] END .................max_features=auto;, score=0.846 total time=   0.3s\n",
            "[CV 2/2] END .................max_features=auto;, score=0.832 total time=   0.3s\n",
            "[CV 1/2] END .................max_features=sqrt;, score=0.827 total time=   0.3s\n",
            "[CV 2/2] END .................max_features=sqrt;, score=0.871 total time=   0.3s\n",
            "[CV 1/2] END .................max_features=log2;, score=0.849 total time=   0.2s\n",
            "[CV 2/2] END .................max_features=log2;, score=0.825 total time=   0.3s\n"
          ]
        },
        {
          "output_type": "stream",
          "name": "stderr",
          "text": [
            "/usr/local/lib/python3.7/dist-packages/sklearn/model_selection/_search.py:296: UserWarning: The total space of parameters 3 is smaller than n_iter=10. Running 3 iterations. For exhaustive searches, use GridSearchCV.\n",
            "  UserWarning,\n"
          ]
        },
        {
          "output_type": "stream",
          "name": "stdout",
          "text": [
            "Fitting 2 folds for each of 3 candidates, totalling 6 fits\n",
            "[CV 1/2] END .................max_features=auto;, score=0.838 total time=   0.3s\n",
            "[CV 2/2] END .................max_features=auto;, score=0.801 total time=   0.3s\n",
            "[CV 1/2] END .................max_features=sqrt;, score=0.808 total time=   0.3s\n",
            "[CV 2/2] END .................max_features=sqrt;, score=0.805 total time=   0.3s\n",
            "[CV 1/2] END .................max_features=log2;, score=0.859 total time=   0.3s\n",
            "[CV 2/2] END .................max_features=log2;, score=0.824 total time=   0.3s\n"
          ]
        },
        {
          "output_type": "stream",
          "name": "stderr",
          "text": [
            "/usr/local/lib/python3.7/dist-packages/sklearn/model_selection/_search.py:296: UserWarning: The total space of parameters 3 is smaller than n_iter=10. Running 3 iterations. For exhaustive searches, use GridSearchCV.\n",
            "  UserWarning,\n"
          ]
        },
        {
          "output_type": "stream",
          "name": "stdout",
          "text": [
            "Fitting 2 folds for each of 3 candidates, totalling 6 fits\n",
            "[CV 1/2] END .................max_features=auto;, score=0.791 total time=   0.3s\n",
            "[CV 2/2] END .................max_features=auto;, score=0.778 total time=   0.3s\n",
            "[CV 1/2] END .................max_features=sqrt;, score=0.764 total time=   0.3s\n",
            "[CV 2/2] END .................max_features=sqrt;, score=0.759 total time=   0.3s\n",
            "[CV 1/2] END .................max_features=log2;, score=0.787 total time=   0.3s\n",
            "[CV 2/2] END .................max_features=log2;, score=0.752 total time=   0.2s\n"
          ]
        },
        {
          "output_type": "stream",
          "name": "stderr",
          "text": [
            "/usr/local/lib/python3.7/dist-packages/sklearn/model_selection/_search.py:296: UserWarning: The total space of parameters 3 is smaller than n_iter=10. Running 3 iterations. For exhaustive searches, use GridSearchCV.\n",
            "  UserWarning,\n"
          ]
        },
        {
          "output_type": "stream",
          "name": "stdout",
          "text": [
            "Fitting 2 folds for each of 3 candidates, totalling 6 fits\n",
            "[CV 1/2] END .................max_features=auto;, score=0.773 total time=   0.3s\n",
            "[CV 2/2] END .................max_features=auto;, score=0.805 total time=   0.3s\n",
            "[CV 1/2] END .................max_features=sqrt;, score=0.777 total time=   0.3s\n",
            "[CV 2/2] END .................max_features=sqrt;, score=0.803 total time=   0.3s\n",
            "[CV 1/2] END .................max_features=log2;, score=0.771 total time=   0.2s\n",
            "[CV 2/2] END .................max_features=log2;, score=0.777 total time=   0.2s\n"
          ]
        },
        {
          "output_type": "stream",
          "name": "stderr",
          "text": [
            "[Parallel(n_jobs=1)]: Done   1 out of   1 | elapsed:   46.2s remaining:    0.0s\n"
          ]
        },
        {
          "output_type": "stream",
          "name": "stdout",
          "text": [
            "Fitting 2 folds for each of 2 candidates, totalling 4 fits\n",
            "[CV 1/2] END .................max_features=sqrt;, score=0.835 total time=   0.2s\n",
            "[CV 2/2] END .................max_features=sqrt;, score=0.814 total time=   0.2s\n",
            "[CV 1/2] END .................max_features=None;, score=0.827 total time=   1.3s\n",
            "[CV 2/2] END .................max_features=None;, score=0.828 total time=   1.3s\n",
            "Fitting 2 folds for each of 5 candidates, totalling 10 fits\n",
            "[CV 1/2] END ..........................C=0.0001;, score=0.743 total time=   0.0s\n",
            "[CV 2/2] END ..........................C=0.0001;, score=0.739 total time=   0.0s\n",
            "[CV 1/2] END ............................C=0.01;, score=0.804 total time=   0.0s\n",
            "[CV 2/2] END ............................C=0.01;, score=0.816 total time=   0.0s\n",
            "[CV 1/2] END .............................C=1.0;, score=0.807 total time=   0.1s\n",
            "[CV 2/2] END .............................C=1.0;, score=0.806 total time=   0.0s\n",
            "[CV 1/2] END ...........................C=100.0;, score=0.762 total time=   0.3s\n",
            "[CV 2/2] END ...........................C=100.0;, score=0.801 total time=   0.2s\n",
            "[CV 1/2] END .........................C=10000.0;, score=0.769 total time=   1.3s\n",
            "[CV 2/2] END .........................C=10000.0;, score=0.794 total time=   0.2s\n",
            "Fitting 2 folds for each of 3 candidates, totalling 6 fits\n"
          ]
        },
        {
          "output_type": "stream",
          "name": "stderr",
          "text": [
            "/usr/local/lib/python3.7/dist-packages/sklearn/model_selection/_search.py:296: UserWarning: The total space of parameters 3 is smaller than n_iter=10. Running 3 iterations. For exhaustive searches, use GridSearchCV.\n",
            "  UserWarning,\n"
          ]
        },
        {
          "output_type": "stream",
          "name": "stdout",
          "text": [
            "[CV 1/2] END .................max_features=auto;, score=0.859 total time=   0.4s\n",
            "[CV 2/2] END .................max_features=auto;, score=0.823 total time=   0.3s\n",
            "[CV 1/2] END .................max_features=sqrt;, score=0.840 total time=   0.3s\n",
            "[CV 2/2] END .................max_features=sqrt;, score=0.831 total time=   0.3s\n",
            "[CV 1/2] END .................max_features=log2;, score=0.851 total time=   0.3s\n",
            "[CV 2/2] END .................max_features=log2;, score=0.810 total time=   0.3s\n",
            "Fitting 2 folds for each of 2 candidates, totalling 4 fits\n",
            "[CV 1/2] END .................max_features=sqrt;, score=0.828 total time=   0.2s\n",
            "[CV 2/2] END .................max_features=sqrt;, score=0.814 total time=   0.2s\n",
            "[CV 1/2] END .................max_features=None;, score=0.779 total time=   1.0s\n",
            "[CV 2/2] END .................max_features=None;, score=0.850 total time=   1.0s\n",
            "Fitting 2 folds for each of 2 candidates, totalling 4 fits\n",
            "[CV 1/2] END .................max_features=sqrt;, score=0.837 total time=   0.2s\n",
            "[CV 2/2] END .................max_features=sqrt;, score=0.810 total time=   0.2s\n",
            "[CV 1/2] END .................max_features=None;, score=0.816 total time=   1.1s\n",
            "[CV 2/2] END .................max_features=None;, score=0.820 total time=   1.1s\n",
            "Fitting 2 folds for each of 2 candidates, totalling 4 fits\n",
            "[CV 1/2] END .................max_features=sqrt;, score=0.840 total time=   0.2s\n",
            "[CV 2/2] END .................max_features=sqrt;, score=0.828 total time=   0.2s\n",
            "[CV 1/2] END .................max_features=None;, score=0.829 total time=   1.1s\n",
            "[CV 2/2] END .................max_features=None;, score=0.819 total time=   1.0s\n",
            "Fitting 2 folds for each of 2 candidates, totalling 4 fits\n",
            "[CV 1/2] END .................max_features=sqrt;, score=0.805 total time=   0.2s\n",
            "[CV 2/2] END .................max_features=sqrt;, score=0.814 total time=   0.2s\n",
            "[CV 1/2] END .................max_features=None;, score=0.810 total time=   1.0s\n",
            "[CV 2/2] END .................max_features=None;, score=0.780 total time=   1.0s\n",
            "Fitting 2 folds for each of 2 candidates, totalling 4 fits\n",
            "[CV 1/2] END .................max_features=sqrt;, score=0.810 total time=   0.2s\n",
            "[CV 2/2] END .................max_features=sqrt;, score=0.799 total time=   0.2s\n",
            "[CV 1/2] END .................max_features=None;, score=0.787 total time=   1.0s\n",
            "[CV 2/2] END .................max_features=None;, score=0.779 total time=   1.0s\n",
            "Fitting 2 folds for each of 5 candidates, totalling 10 fits\n",
            "[CV 1/2] END ..........................C=0.0001;, score=0.735 total time=   0.0s\n",
            "[CV 2/2] END ..........................C=0.0001;, score=0.760 total time=   0.0s\n",
            "[CV 1/2] END ............................C=0.01;, score=0.830 total time=   0.0s\n",
            "[CV 2/2] END ............................C=0.01;, score=0.834 total time=   0.0s\n",
            "[CV 1/2] END .............................C=1.0;, score=0.801 total time=   0.0s\n",
            "[CV 2/2] END .............................C=1.0;, score=0.803 total time=   0.1s\n",
            "[CV 1/2] END ...........................C=100.0;, score=0.788 total time=   0.3s\n",
            "[CV 2/2] END ...........................C=100.0;, score=0.777 total time=   0.2s\n",
            "[CV 1/2] END .........................C=10000.0;, score=0.777 total time=   0.6s\n",
            "[CV 2/2] END .........................C=10000.0;, score=0.774 total time=   0.2s\n",
            "Fitting 2 folds for each of 5 candidates, totalling 10 fits\n",
            "[CV 1/2] END ..........................C=0.0001;, score=0.764 total time=   0.0s\n",
            "[CV 2/2] END ..........................C=0.0001;, score=0.759 total time=   0.0s\n",
            "[CV 1/2] END ............................C=0.01;, score=0.819 total time=   0.0s\n",
            "[CV 2/2] END ............................C=0.01;, score=0.829 total time=   0.0s\n",
            "[CV 1/2] END .............................C=1.0;, score=0.810 total time=   0.0s\n",
            "[CV 2/2] END .............................C=1.0;, score=0.801 total time=   0.1s\n",
            "[CV 1/2] END ...........................C=100.0;, score=0.758 total time=   0.3s\n",
            "[CV 2/2] END ...........................C=100.0;, score=0.788 total time=   0.2s\n",
            "[CV 1/2] END .........................C=10000.0;, score=0.750 total time=   0.6s\n",
            "[CV 2/2] END .........................C=10000.0;, score=0.794 total time=   0.2s\n",
            "Fitting 2 folds for each of 5 candidates, totalling 10 fits\n",
            "[CV 1/2] END ..........................C=0.0001;, score=0.734 total time=   0.0s\n",
            "[CV 2/2] END ..........................C=0.0001;, score=0.757 total time=   0.0s\n",
            "[CV 1/2] END ............................C=0.01;, score=0.819 total time=   0.0s\n",
            "[CV 2/2] END ............................C=0.01;, score=0.825 total time=   0.0s\n",
            "[CV 1/2] END .............................C=1.0;, score=0.801 total time=   0.1s\n",
            "[CV 2/2] END .............................C=1.0;, score=0.826 total time=   0.0s\n",
            "[CV 1/2] END ...........................C=100.0;, score=0.770 total time=   0.3s\n",
            "[CV 2/2] END ...........................C=100.0;, score=0.811 total time=   0.1s\n",
            "[CV 1/2] END .........................C=10000.0;, score=0.759 total time=   0.5s\n",
            "[CV 2/2] END .........................C=10000.0;, score=0.814 total time=   0.2s\n",
            "Fitting 2 folds for each of 5 candidates, totalling 10 fits\n",
            "[CV 1/2] END ..........................C=0.0001;, score=0.706 total time=   0.0s\n",
            "[CV 2/2] END ..........................C=0.0001;, score=0.746 total time=   0.0s\n",
            "[CV 1/2] END ............................C=0.01;, score=0.791 total time=   0.0s\n",
            "[CV 2/2] END ............................C=0.01;, score=0.804 total time=   0.0s\n",
            "[CV 1/2] END .............................C=1.0;, score=0.763 total time=   0.1s\n",
            "[CV 2/2] END .............................C=1.0;, score=0.827 total time=   0.0s\n",
            "[CV 1/2] END ...........................C=100.0;, score=0.780 total time=   0.3s\n",
            "[CV 2/2] END ...........................C=100.0;, score=0.800 total time=   0.2s\n",
            "[CV 1/2] END .........................C=10000.0;, score=0.765 total time=   0.4s\n",
            "[CV 2/2] END .........................C=10000.0;, score=0.801 total time=   0.2s\n",
            "Fitting 2 folds for each of 5 candidates, totalling 10 fits\n",
            "[CV 1/2] END ..........................C=0.0001;, score=0.745 total time=   0.0s\n",
            "[CV 2/2] END ..........................C=0.0001;, score=0.745 total time=   0.0s\n",
            "[CV 1/2] END ............................C=0.01;, score=0.794 total time=   0.0s\n",
            "[CV 2/2] END ............................C=0.01;, score=0.811 total time=   0.0s\n",
            "[CV 1/2] END .............................C=1.0;, score=0.704 total time=   0.1s\n",
            "[CV 2/2] END .............................C=1.0;, score=0.793 total time=   0.0s\n",
            "[CV 1/2] END ...........................C=100.0;, score=0.652 total time=   0.2s\n",
            "[CV 2/2] END ...........................C=100.0;, score=0.783 total time=   0.1s\n",
            "[CV 1/2] END .........................C=10000.0;, score=0.650 total time=   0.3s\n",
            "[CV 2/2] END .........................C=10000.0;, score=0.786 total time=   0.2s\n",
            "Fitting 2 folds for each of 3 candidates, totalling 6 fits\n"
          ]
        },
        {
          "output_type": "stream",
          "name": "stderr",
          "text": [
            "/usr/local/lib/python3.7/dist-packages/sklearn/model_selection/_search.py:296: UserWarning: The total space of parameters 3 is smaller than n_iter=10. Running 3 iterations. For exhaustive searches, use GridSearchCV.\n",
            "  UserWarning,\n"
          ]
        },
        {
          "output_type": "stream",
          "name": "stdout",
          "text": [
            "[CV 1/2] END .................max_features=auto;, score=0.838 total time=   0.4s\n",
            "[CV 2/2] END .................max_features=auto;, score=0.854 total time=   0.3s\n",
            "[CV 1/2] END .................max_features=sqrt;, score=0.799 total time=   0.3s\n",
            "[CV 2/2] END .................max_features=sqrt;, score=0.841 total time=   0.3s\n",
            "[CV 1/2] END .................max_features=log2;, score=0.808 total time=   0.3s\n",
            "[CV 2/2] END .................max_features=log2;, score=0.824 total time=   0.3s\n"
          ]
        },
        {
          "output_type": "stream",
          "name": "stderr",
          "text": [
            "/usr/local/lib/python3.7/dist-packages/sklearn/model_selection/_search.py:296: UserWarning: The total space of parameters 3 is smaller than n_iter=10. Running 3 iterations. For exhaustive searches, use GridSearchCV.\n",
            "  UserWarning,\n"
          ]
        },
        {
          "output_type": "stream",
          "name": "stdout",
          "text": [
            "Fitting 2 folds for each of 3 candidates, totalling 6 fits\n",
            "[CV 1/2] END .................max_features=auto;, score=0.788 total time=   0.3s\n",
            "[CV 2/2] END .................max_features=auto;, score=0.819 total time=   0.3s\n",
            "[CV 1/2] END .................max_features=sqrt;, score=0.838 total time=   0.3s\n",
            "[CV 2/2] END .................max_features=sqrt;, score=0.836 total time=   0.3s\n",
            "[CV 1/2] END .................max_features=log2;, score=0.825 total time=   0.3s\n",
            "[CV 2/2] END .................max_features=log2;, score=0.845 total time=   0.3s\n"
          ]
        },
        {
          "output_type": "stream",
          "name": "stderr",
          "text": [
            "/usr/local/lib/python3.7/dist-packages/sklearn/model_selection/_search.py:296: UserWarning: The total space of parameters 3 is smaller than n_iter=10. Running 3 iterations. For exhaustive searches, use GridSearchCV.\n",
            "  UserWarning,\n"
          ]
        },
        {
          "output_type": "stream",
          "name": "stdout",
          "text": [
            "Fitting 2 folds for each of 3 candidates, totalling 6 fits\n",
            "[CV 1/2] END .................max_features=auto;, score=0.826 total time=   0.3s\n",
            "[CV 2/2] END .................max_features=auto;, score=0.830 total time=   0.3s\n",
            "[CV 1/2] END .................max_features=sqrt;, score=0.836 total time=   0.3s\n",
            "[CV 2/2] END .................max_features=sqrt;, score=0.813 total time=   0.3s\n",
            "[CV 1/2] END .................max_features=log2;, score=0.809 total time=   0.3s\n",
            "[CV 2/2] END .................max_features=log2;, score=0.812 total time=   0.3s\n"
          ]
        },
        {
          "output_type": "stream",
          "name": "stderr",
          "text": [
            "/usr/local/lib/python3.7/dist-packages/sklearn/model_selection/_search.py:296: UserWarning: The total space of parameters 3 is smaller than n_iter=10. Running 3 iterations. For exhaustive searches, use GridSearchCV.\n",
            "  UserWarning,\n"
          ]
        },
        {
          "output_type": "stream",
          "name": "stdout",
          "text": [
            "Fitting 2 folds for each of 3 candidates, totalling 6 fits\n",
            "[CV 1/2] END .................max_features=auto;, score=0.810 total time=   0.3s\n",
            "[CV 2/2] END .................max_features=auto;, score=0.772 total time=   0.3s\n",
            "[CV 1/2] END .................max_features=sqrt;, score=0.804 total time=   0.3s\n",
            "[CV 2/2] END .................max_features=sqrt;, score=0.783 total time=   0.3s\n",
            "[CV 1/2] END .................max_features=log2;, score=0.826 total time=   0.3s\n",
            "[CV 2/2] END .................max_features=log2;, score=0.778 total time=   0.3s\n"
          ]
        },
        {
          "output_type": "stream",
          "name": "stderr",
          "text": [
            "/usr/local/lib/python3.7/dist-packages/sklearn/model_selection/_search.py:296: UserWarning: The total space of parameters 3 is smaller than n_iter=10. Running 3 iterations. For exhaustive searches, use GridSearchCV.\n",
            "  UserWarning,\n"
          ]
        },
        {
          "output_type": "stream",
          "name": "stdout",
          "text": [
            "Fitting 2 folds for each of 3 candidates, totalling 6 fits\n",
            "[CV 1/2] END .................max_features=auto;, score=0.824 total time=   0.3s\n",
            "[CV 2/2] END .................max_features=auto;, score=0.771 total time=   0.3s\n",
            "[CV 1/2] END .................max_features=sqrt;, score=0.811 total time=   0.3s\n",
            "[CV 2/2] END .................max_features=sqrt;, score=0.779 total time=   0.3s\n",
            "[CV 1/2] END .................max_features=log2;, score=0.757 total time=   0.3s\n",
            "[CV 2/2] END .................max_features=log2;, score=0.801 total time=   0.3s\n"
          ]
        },
        {
          "output_type": "stream",
          "name": "stderr",
          "text": [
            "[Parallel(n_jobs=1)]: Done   2 out of   2 | elapsed:  1.5min remaining:    0.0s\n"
          ]
        },
        {
          "output_type": "stream",
          "name": "stdout",
          "text": [
            "Fitting 2 folds for each of 2 candidates, totalling 4 fits\n",
            "[CV 1/2] END .................max_features=sqrt;, score=0.839 total time=   0.2s\n",
            "[CV 2/2] END .................max_features=sqrt;, score=0.822 total time=   0.2s\n",
            "[CV 1/2] END .................max_features=None;, score=0.820 total time=   1.4s\n",
            "[CV 2/2] END .................max_features=None;, score=0.811 total time=   1.3s\n",
            "Fitting 2 folds for each of 5 candidates, totalling 10 fits\n",
            "[CV 1/2] END ..........................C=0.0001;, score=0.756 total time=   0.0s\n",
            "[CV 2/2] END ..........................C=0.0001;, score=0.734 total time=   0.0s\n",
            "[CV 1/2] END ............................C=0.01;, score=0.816 total time=   0.0s\n",
            "[CV 2/2] END ............................C=0.01;, score=0.812 total time=   0.0s\n",
            "[CV 1/2] END .............................C=1.0;, score=0.782 total time=   0.1s\n",
            "[CV 2/2] END .............................C=1.0;, score=0.833 total time=   0.1s\n",
            "[CV 1/2] END ...........................C=100.0;, score=0.758 total time=   0.3s\n",
            "[CV 2/2] END ...........................C=100.0;, score=0.794 total time=   0.2s\n",
            "[CV 1/2] END .........................C=10000.0;, score=0.741 total time=   1.3s\n",
            "[CV 2/2] END .........................C=10000.0;, score=0.800 total time=   0.2s\n",
            "Fitting 2 folds for each of 3 candidates, totalling 6 fits\n"
          ]
        },
        {
          "output_type": "stream",
          "name": "stderr",
          "text": [
            "/usr/local/lib/python3.7/dist-packages/sklearn/model_selection/_search.py:296: UserWarning: The total space of parameters 3 is smaller than n_iter=10. Running 3 iterations. For exhaustive searches, use GridSearchCV.\n",
            "  UserWarning,\n"
          ]
        },
        {
          "output_type": "stream",
          "name": "stdout",
          "text": [
            "[CV 1/2] END .................max_features=auto;, score=0.880 total time=   0.4s\n",
            "[CV 2/2] END .................max_features=auto;, score=0.843 total time=   0.4s\n",
            "[CV 1/2] END .................max_features=sqrt;, score=0.848 total time=   0.4s\n",
            "[CV 2/2] END .................max_features=sqrt;, score=0.822 total time=   0.4s\n",
            "[CV 1/2] END .................max_features=log2;, score=0.827 total time=   0.3s\n",
            "[CV 2/2] END .................max_features=log2;, score=0.809 total time=   0.3s\n",
            "Fitting 2 folds for each of 2 candidates, totalling 4 fits\n",
            "[CV 1/2] END .................max_features=sqrt;, score=0.824 total time=   0.2s\n",
            "[CV 2/2] END .................max_features=sqrt;, score=0.836 total time=   0.2s\n",
            "[CV 1/2] END .................max_features=None;, score=0.821 total time=   1.0s\n",
            "[CV 2/2] END .................max_features=None;, score=0.844 total time=   1.0s\n",
            "Fitting 2 folds for each of 2 candidates, totalling 4 fits\n",
            "[CV 1/2] END .................max_features=sqrt;, score=0.856 total time=   0.1s\n",
            "[CV 2/2] END .................max_features=sqrt;, score=0.821 total time=   0.2s\n",
            "[CV 1/2] END .................max_features=None;, score=0.828 total time=   1.0s\n",
            "[CV 2/2] END .................max_features=None;, score=0.873 total time=   1.0s\n",
            "Fitting 2 folds for each of 2 candidates, totalling 4 fits\n",
            "[CV 1/2] END .................max_features=sqrt;, score=0.841 total time=   0.2s\n",
            "[CV 2/2] END .................max_features=sqrt;, score=0.853 total time=   0.2s\n",
            "[CV 1/2] END .................max_features=None;, score=0.837 total time=   1.0s\n",
            "[CV 2/2] END .................max_features=None;, score=0.837 total time=   1.0s\n",
            "Fitting 2 folds for each of 2 candidates, totalling 4 fits\n",
            "[CV 1/2] END .................max_features=sqrt;, score=0.840 total time=   0.2s\n",
            "[CV 2/2] END .................max_features=sqrt;, score=0.826 total time=   0.2s\n",
            "[CV 1/2] END .................max_features=None;, score=0.805 total time=   1.0s\n",
            "[CV 2/2] END .................max_features=None;, score=0.817 total time=   1.0s\n",
            "Fitting 2 folds for each of 2 candidates, totalling 4 fits\n",
            "[CV 1/2] END .................max_features=sqrt;, score=0.825 total time=   0.2s\n",
            "[CV 2/2] END .................max_features=sqrt;, score=0.835 total time=   0.2s\n",
            "[CV 1/2] END .................max_features=None;, score=0.818 total time=   1.0s\n",
            "[CV 2/2] END .................max_features=None;, score=0.828 total time=   1.0s\n",
            "Fitting 2 folds for each of 5 candidates, totalling 10 fits\n",
            "[CV 1/2] END ..........................C=0.0001;, score=0.756 total time=   0.0s\n",
            "[CV 2/2] END ..........................C=0.0001;, score=0.763 total time=   0.0s\n",
            "[CV 1/2] END ............................C=0.01;, score=0.846 total time=   0.0s\n",
            "[CV 2/2] END ............................C=0.01;, score=0.813 total time=   0.0s\n",
            "[CV 1/2] END .............................C=1.0;, score=0.807 total time=   0.0s\n",
            "[CV 2/2] END .............................C=1.0;, score=0.799 total time=   0.0s\n",
            "[CV 1/2] END ...........................C=100.0;, score=0.763 total time=   0.3s\n",
            "[CV 2/2] END ...........................C=100.0;, score=0.740 total time=   0.1s\n",
            "[CV 1/2] END .........................C=10000.0;, score=0.759 total time=   0.5s\n",
            "[CV 2/2] END .........................C=10000.0;, score=0.747 total time=   0.2s\n",
            "Fitting 2 folds for each of 5 candidates, totalling 10 fits\n",
            "[CV 1/2] END ..........................C=0.0001;, score=0.771 total time=   0.0s\n",
            "[CV 2/2] END ..........................C=0.0001;, score=0.769 total time=   0.0s\n",
            "[CV 1/2] END ............................C=0.01;, score=0.839 total time=   0.0s\n",
            "[CV 2/2] END ............................C=0.01;, score=0.832 total time=   0.0s\n",
            "[CV 1/2] END .............................C=1.0;, score=0.822 total time=   0.0s\n",
            "[CV 2/2] END .............................C=1.0;, score=0.810 total time=   0.0s\n",
            "[CV 1/2] END ...........................C=100.0;, score=0.746 total time=   0.3s\n",
            "[CV 2/2] END ...........................C=100.0;, score=0.784 total time=   0.2s\n",
            "[CV 1/2] END .........................C=10000.0;, score=0.743 total time=   0.5s\n",
            "[CV 2/2] END .........................C=10000.0;, score=0.775 total time=   0.2s\n",
            "Fitting 2 folds for each of 5 candidates, totalling 10 fits\n",
            "[CV 1/2] END ..........................C=0.0001;, score=0.752 total time=   0.0s\n",
            "[CV 2/2] END ..........................C=0.0001;, score=0.756 total time=   0.0s\n",
            "[CV 1/2] END ............................C=0.01;, score=0.804 total time=   0.0s\n",
            "[CV 2/2] END ............................C=0.01;, score=0.834 total time=   0.0s\n",
            "[CV 1/2] END .............................C=1.0;, score=0.781 total time=   0.0s\n",
            "[CV 2/2] END .............................C=1.0;, score=0.843 total time=   0.0s\n",
            "[CV 1/2] END ...........................C=100.0;, score=0.741 total time=   0.3s\n",
            "[CV 2/2] END ...........................C=100.0;, score=0.818 total time=   0.2s\n",
            "[CV 1/2] END .........................C=10000.0;, score=0.746 total time=   0.6s\n",
            "[CV 2/2] END .........................C=10000.0;, score=0.816 total time=   0.1s\n",
            "Fitting 2 folds for each of 5 candidates, totalling 10 fits\n",
            "[CV 1/2] END ..........................C=0.0001;, score=0.700 total time=   0.0s\n",
            "[CV 2/2] END ..........................C=0.0001;, score=0.741 total time=   0.0s\n",
            "[CV 1/2] END ............................C=0.01;, score=0.797 total time=   0.0s\n",
            "[CV 2/2] END ............................C=0.01;, score=0.832 total time=   0.0s\n",
            "[CV 1/2] END .............................C=1.0;, score=0.758 total time=   0.1s\n",
            "[CV 2/2] END .............................C=1.0;, score=0.831 total time=   0.0s\n",
            "[CV 1/2] END ...........................C=100.0;, score=0.775 total time=   0.3s\n",
            "[CV 2/2] END ...........................C=100.0;, score=0.823 total time=   0.1s\n",
            "[CV 1/2] END .........................C=10000.0;, score=0.766 total time=   0.3s\n",
            "[CV 2/2] END .........................C=10000.0;, score=0.815 total time=   0.1s\n",
            "Fitting 2 folds for each of 5 candidates, totalling 10 fits\n",
            "[CV 1/2] END ..........................C=0.0001;, score=0.766 total time=   0.0s\n",
            "[CV 2/2] END ..........................C=0.0001;, score=0.729 total time=   0.0s\n",
            "[CV 1/2] END ............................C=0.01;, score=0.794 total time=   0.0s\n",
            "[CV 2/2] END ............................C=0.01;, score=0.841 total time=   0.0s\n",
            "[CV 1/2] END .............................C=1.0;, score=0.756 total time=   0.0s\n",
            "[CV 2/2] END .............................C=1.0;, score=0.849 total time=   0.1s\n",
            "[CV 1/2] END ...........................C=100.0;, score=0.715 total time=   0.2s\n",
            "[CV 2/2] END ...........................C=100.0;, score=0.834 total time=   0.1s\n",
            "[CV 1/2] END .........................C=10000.0;, score=0.715 total time=   0.2s\n",
            "[CV 2/2] END .........................C=10000.0;, score=0.833 total time=   0.1s\n",
            "Fitting 2 folds for each of 3 candidates, totalling 6 fits\n"
          ]
        },
        {
          "output_type": "stream",
          "name": "stderr",
          "text": [
            "/usr/local/lib/python3.7/dist-packages/sklearn/model_selection/_search.py:296: UserWarning: The total space of parameters 3 is smaller than n_iter=10. Running 3 iterations. For exhaustive searches, use GridSearchCV.\n",
            "  UserWarning,\n"
          ]
        },
        {
          "output_type": "stream",
          "name": "stdout",
          "text": [
            "[CV 1/2] END .................max_features=auto;, score=0.863 total time=   0.4s\n",
            "[CV 2/2] END .................max_features=auto;, score=0.842 total time=   0.3s\n",
            "[CV 1/2] END .................max_features=sqrt;, score=0.840 total time=   0.3s\n",
            "[CV 2/2] END .................max_features=sqrt;, score=0.851 total time=   0.3s\n",
            "[CV 1/2] END .................max_features=log2;, score=0.819 total time=   0.3s\n",
            "[CV 2/2] END .................max_features=log2;, score=0.848 total time=   0.3s\n"
          ]
        },
        {
          "output_type": "stream",
          "name": "stderr",
          "text": [
            "/usr/local/lib/python3.7/dist-packages/sklearn/model_selection/_search.py:296: UserWarning: The total space of parameters 3 is smaller than n_iter=10. Running 3 iterations. For exhaustive searches, use GridSearchCV.\n",
            "  UserWarning,\n"
          ]
        },
        {
          "output_type": "stream",
          "name": "stdout",
          "text": [
            "Fitting 2 folds for each of 3 candidates, totalling 6 fits\n",
            "[CV 1/2] END .................max_features=auto;, score=0.842 total time=   0.3s\n",
            "[CV 2/2] END .................max_features=auto;, score=0.826 total time=   0.3s\n",
            "[CV 1/2] END .................max_features=sqrt;, score=0.851 total time=   0.3s\n",
            "[CV 2/2] END .................max_features=sqrt;, score=0.854 total time=   0.3s\n",
            "[CV 1/2] END .................max_features=log2;, score=0.834 total time=   0.3s\n",
            "[CV 2/2] END .................max_features=log2;, score=0.869 total time=   0.2s\n"
          ]
        },
        {
          "output_type": "stream",
          "name": "stderr",
          "text": [
            "/usr/local/lib/python3.7/dist-packages/sklearn/model_selection/_search.py:296: UserWarning: The total space of parameters 3 is smaller than n_iter=10. Running 3 iterations. For exhaustive searches, use GridSearchCV.\n",
            "  UserWarning,\n"
          ]
        },
        {
          "output_type": "stream",
          "name": "stdout",
          "text": [
            "Fitting 2 folds for each of 3 candidates, totalling 6 fits\n",
            "[CV 1/2] END .................max_features=auto;, score=0.817 total time=   0.3s\n",
            "[CV 2/2] END .................max_features=auto;, score=0.852 total time=   0.3s\n",
            "[CV 1/2] END .................max_features=sqrt;, score=0.816 total time=   0.3s\n",
            "[CV 2/2] END .................max_features=sqrt;, score=0.856 total time=   0.3s\n",
            "[CV 1/2] END .................max_features=log2;, score=0.819 total time=   0.2s\n",
            "[CV 2/2] END .................max_features=log2;, score=0.820 total time=   0.3s\n"
          ]
        },
        {
          "output_type": "stream",
          "name": "stderr",
          "text": [
            "/usr/local/lib/python3.7/dist-packages/sklearn/model_selection/_search.py:296: UserWarning: The total space of parameters 3 is smaller than n_iter=10. Running 3 iterations. For exhaustive searches, use GridSearchCV.\n",
            "  UserWarning,\n"
          ]
        },
        {
          "output_type": "stream",
          "name": "stdout",
          "text": [
            "Fitting 2 folds for each of 3 candidates, totalling 6 fits\n",
            "[CV 1/2] END .................max_features=auto;, score=0.830 total time=   0.3s\n",
            "[CV 2/2] END .................max_features=auto;, score=0.814 total time=   0.3s\n",
            "[CV 1/2] END .................max_features=sqrt;, score=0.813 total time=   0.3s\n",
            "[CV 2/2] END .................max_features=sqrt;, score=0.799 total time=   0.3s\n",
            "[CV 1/2] END .................max_features=log2;, score=0.799 total time=   0.3s\n",
            "[CV 2/2] END .................max_features=log2;, score=0.807 total time=   0.3s\n"
          ]
        },
        {
          "output_type": "stream",
          "name": "stderr",
          "text": [
            "/usr/local/lib/python3.7/dist-packages/sklearn/model_selection/_search.py:296: UserWarning: The total space of parameters 3 is smaller than n_iter=10. Running 3 iterations. For exhaustive searches, use GridSearchCV.\n",
            "  UserWarning,\n"
          ]
        },
        {
          "output_type": "stream",
          "name": "stdout",
          "text": [
            "Fitting 2 folds for each of 3 candidates, totalling 6 fits\n",
            "[CV 1/2] END .................max_features=auto;, score=0.863 total time=   0.3s\n",
            "[CV 2/2] END .................max_features=auto;, score=0.823 total time=   0.3s\n",
            "[CV 1/2] END .................max_features=sqrt;, score=0.828 total time=   0.3s\n",
            "[CV 2/2] END .................max_features=sqrt;, score=0.820 total time=   0.3s\n",
            "[CV 1/2] END .................max_features=log2;, score=0.866 total time=   0.3s\n",
            "[CV 2/2] END .................max_features=log2;, score=0.799 total time=   0.3s\n",
            "Fitting 2 folds for each of 2 candidates, totalling 4 fits\n",
            "[CV 1/2] END .................max_features=sqrt;, score=0.891 total time=   0.2s\n",
            "[CV 2/2] END .................max_features=sqrt;, score=0.851 total time=   0.2s\n",
            "[CV 1/2] END .................max_features=None;, score=0.899 total time=   1.3s\n",
            "[CV 2/2] END .................max_features=None;, score=0.831 total time=   1.3s\n",
            "Fitting 2 folds for each of 5 candidates, totalling 10 fits\n",
            "[CV 1/2] END ..........................C=0.0001;, score=0.770 total time=   0.0s\n",
            "[CV 2/2] END ..........................C=0.0001;, score=0.758 total time=   0.0s\n",
            "[CV 1/2] END ............................C=0.01;, score=0.835 total time=   0.0s\n",
            "[CV 2/2] END ............................C=0.01;, score=0.827 total time=   0.0s\n",
            "[CV 1/2] END .............................C=1.0;, score=0.815 total time=   0.1s\n",
            "[CV 2/2] END .............................C=1.0;, score=0.836 total time=   0.0s\n",
            "[CV 1/2] END ...........................C=100.0;, score=0.809 total time=   0.3s\n",
            "[CV 2/2] END ...........................C=100.0;, score=0.810 total time=   0.3s\n",
            "[CV 1/2] END .........................C=10000.0;, score=0.806 total time=   0.6s\n",
            "[CV 2/2] END .........................C=10000.0;, score=0.806 total time=   0.2s\n",
            "Fitting 2 folds for each of 3 candidates, totalling 6 fits\n"
          ]
        },
        {
          "output_type": "stream",
          "name": "stderr",
          "text": [
            "/usr/local/lib/python3.7/dist-packages/sklearn/model_selection/_search.py:296: UserWarning: The total space of parameters 3 is smaller than n_iter=10. Running 3 iterations. For exhaustive searches, use GridSearchCV.\n",
            "  UserWarning,\n"
          ]
        },
        {
          "output_type": "stream",
          "name": "stdout",
          "text": [
            "[CV 1/2] END .................max_features=auto;, score=0.884 total time=   0.4s\n",
            "[CV 2/2] END .................max_features=auto;, score=0.830 total time=   0.4s\n",
            "[CV 1/2] END .................max_features=sqrt;, score=0.874 total time=   0.4s\n",
            "[CV 2/2] END .................max_features=sqrt;, score=0.841 total time=   0.3s\n",
            "[CV 1/2] END .................max_features=log2;, score=0.870 total time=   0.3s\n",
            "[CV 2/2] END .................max_features=log2;, score=0.835 total time=   0.3s\n",
            "Fitting 2 folds for each of 2 candidates, totalling 4 fits\n",
            "[CV 1/2] END .................max_features=sqrt;, score=0.865 total time=   0.2s\n",
            "[CV 2/2] END .................max_features=sqrt;, score=0.794 total time=   0.2s\n",
            "[CV 1/2] END .................max_features=None;, score=0.859 total time=   1.0s\n",
            "[CV 2/2] END .................max_features=None;, score=0.809 total time=   1.0s\n",
            "Fitting 2 folds for each of 2 candidates, totalling 4 fits\n",
            "[CV 1/2] END .................max_features=sqrt;, score=0.878 total time=   0.2s\n",
            "[CV 2/2] END .................max_features=sqrt;, score=0.825 total time=   0.2s\n",
            "[CV 1/2] END .................max_features=None;, score=0.874 total time=   1.0s\n",
            "[CV 2/2] END .................max_features=None;, score=0.847 total time=   1.1s\n",
            "Fitting 2 folds for each of 2 candidates, totalling 4 fits\n",
            "[CV 1/2] END .................max_features=sqrt;, score=0.856 total time=   0.2s\n",
            "[CV 2/2] END .................max_features=sqrt;, score=0.840 total time=   0.2s\n",
            "[CV 1/2] END .................max_features=None;, score=0.875 total time=   1.0s\n",
            "[CV 2/2] END .................max_features=None;, score=0.824 total time=   1.0s\n",
            "Fitting 2 folds for each of 2 candidates, totalling 4 fits\n",
            "[CV 1/2] END .................max_features=sqrt;, score=0.833 total time=   0.2s\n",
            "[CV 2/2] END .................max_features=sqrt;, score=0.864 total time=   0.2s\n",
            "[CV 1/2] END .................max_features=None;, score=0.851 total time=   1.0s\n",
            "[CV 2/2] END .................max_features=None;, score=0.850 total time=   1.0s\n",
            "Fitting 2 folds for each of 2 candidates, totalling 4 fits\n",
            "[CV 1/2] END .................max_features=sqrt;, score=0.888 total time=   0.2s\n",
            "[CV 2/2] END .................max_features=sqrt;, score=0.844 total time=   0.2s\n",
            "[CV 1/2] END .................max_features=None;, score=0.897 total time=   1.0s\n",
            "[CV 2/2] END .................max_features=None;, score=0.856 total time=   1.1s\n",
            "Fitting 2 folds for each of 5 candidates, totalling 10 fits\n",
            "[CV 1/2] END ..........................C=0.0001;, score=0.745 total time=   0.0s\n",
            "[CV 2/2] END ..........................C=0.0001;, score=0.753 total time=   0.0s\n",
            "[CV 1/2] END ............................C=0.01;, score=0.855 total time=   0.0s\n",
            "[CV 2/2] END ............................C=0.01;, score=0.838 total time=   0.0s\n",
            "[CV 1/2] END .............................C=1.0;, score=0.838 total time=   0.0s\n",
            "[CV 2/2] END .............................C=1.0;, score=0.826 total time=   0.1s\n",
            "[CV 1/2] END ...........................C=100.0;, score=0.824 total time=   0.2s\n",
            "[CV 2/2] END ...........................C=100.0;, score=0.789 total time=   0.1s\n",
            "[CV 1/2] END .........................C=10000.0;, score=0.813 total time=   0.2s\n",
            "[CV 2/2] END .........................C=10000.0;, score=0.796 total time=   0.1s\n",
            "Fitting 2 folds for each of 5 candidates, totalling 10 fits\n",
            "[CV 1/2] END ..........................C=0.0001;, score=0.773 total time=   0.0s\n",
            "[CV 2/2] END ..........................C=0.0001;, score=0.775 total time=   0.0s\n",
            "[CV 1/2] END ............................C=0.01;, score=0.847 total time=   0.0s\n",
            "[CV 2/2] END ............................C=0.01;, score=0.807 total time=   0.0s\n",
            "[CV 1/2] END .............................C=1.0;, score=0.843 total time=   0.1s\n",
            "[CV 2/2] END .............................C=1.0;, score=0.809 total time=   0.0s\n",
            "[CV 1/2] END ...........................C=100.0;, score=0.824 total time=   0.2s\n",
            "[CV 2/2] END ...........................C=100.0;, score=0.789 total time=   0.1s\n",
            "[CV 1/2] END .........................C=10000.0;, score=0.811 total time=   0.2s\n",
            "[CV 2/2] END .........................C=10000.0;, score=0.801 total time=   0.1s\n",
            "Fitting 2 folds for each of 5 candidates, totalling 10 fits\n",
            "[CV 1/2] END ..........................C=0.0001;, score=0.732 total time=   0.0s\n",
            "[CV 2/2] END ..........................C=0.0001;, score=0.779 total time=   0.0s\n",
            "[CV 1/2] END ............................C=0.01;, score=0.826 total time=   0.0s\n",
            "[CV 2/2] END ............................C=0.01;, score=0.830 total time=   0.0s\n",
            "[CV 1/2] END .............................C=1.0;, score=0.821 total time=   0.1s\n",
            "[CV 2/2] END .............................C=1.0;, score=0.835 total time=   0.1s\n",
            "[CV 1/2] END ...........................C=100.0;, score=0.826 total time=   0.2s\n",
            "[CV 2/2] END ...........................C=100.0;, score=0.811 total time=   0.1s\n",
            "[CV 1/2] END .........................C=10000.0;, score=0.818 total time=   0.3s\n",
            "[CV 2/2] END .........................C=10000.0;, score=0.804 total time=   0.1s\n",
            "Fitting 2 folds for each of 5 candidates, totalling 10 fits\n",
            "[CV 1/2] END ..........................C=0.0001;, score=0.735 total time=   0.0s\n",
            "[CV 2/2] END ..........................C=0.0001;, score=0.744 total time=   0.0s\n",
            "[CV 1/2] END ............................C=0.01;, score=0.825 total time=   0.0s\n",
            "[CV 2/2] END ............................C=0.01;, score=0.846 total time=   0.0s\n",
            "[CV 1/2] END .............................C=1.0;, score=0.785 total time=   0.1s\n",
            "[CV 2/2] END .............................C=1.0;, score=0.839 total time=   0.0s\n",
            "[CV 1/2] END ...........................C=100.0;, score=0.777 total time=   0.2s\n",
            "[CV 2/2] END ...........................C=100.0;, score=0.829 total time=   0.2s\n",
            "[CV 1/2] END .........................C=10000.0;, score=0.777 total time=   0.2s\n",
            "[CV 2/2] END .........................C=10000.0;, score=0.820 total time=   0.1s\n",
            "Fitting 2 folds for each of 5 candidates, totalling 10 fits\n",
            "[CV 1/2] END ..........................C=0.0001;, score=0.745 total time=   0.0s\n",
            "[CV 2/2] END ..........................C=0.0001;, score=0.753 total time=   0.0s\n",
            "[CV 1/2] END ............................C=0.01;, score=0.801 total time=   0.0s\n",
            "[CV 2/2] END ............................C=0.01;, score=0.850 total time=   0.0s\n",
            "[CV 1/2] END .............................C=1.0;, score=0.850 total time=   0.0s\n",
            "[CV 2/2] END .............................C=1.0;, score=0.852 total time=   0.0s\n",
            "[CV 1/2] END ...........................C=100.0;, score=0.810 total time=   0.1s\n",
            "[CV 2/2] END ...........................C=100.0;, score=0.830 total time=   0.1s\n",
            "[CV 1/2] END .........................C=10000.0;, score=0.794 total time=   0.1s\n",
            "[CV 2/2] END .........................C=10000.0;, score=0.827 total time=   0.2s\n"
          ]
        },
        {
          "output_type": "stream",
          "name": "stderr",
          "text": [
            "/usr/local/lib/python3.7/dist-packages/sklearn/model_selection/_search.py:296: UserWarning: The total space of parameters 3 is smaller than n_iter=10. Running 3 iterations. For exhaustive searches, use GridSearchCV.\n",
            "  UserWarning,\n"
          ]
        },
        {
          "output_type": "stream",
          "name": "stdout",
          "text": [
            "Fitting 2 folds for each of 3 candidates, totalling 6 fits\n",
            "[CV 1/2] END .................max_features=auto;, score=0.845 total time=   0.4s\n",
            "[CV 2/2] END .................max_features=auto;, score=0.806 total time=   0.3s\n",
            "[CV 1/2] END .................max_features=sqrt;, score=0.831 total time=   0.3s\n",
            "[CV 2/2] END .................max_features=sqrt;, score=0.792 total time=   0.3s\n",
            "[CV 1/2] END .................max_features=log2;, score=0.850 total time=   0.3s\n",
            "[CV 2/2] END .................max_features=log2;, score=0.786 total time=   0.3s\n"
          ]
        },
        {
          "output_type": "stream",
          "name": "stderr",
          "text": [
            "/usr/local/lib/python3.7/dist-packages/sklearn/model_selection/_search.py:296: UserWarning: The total space of parameters 3 is smaller than n_iter=10. Running 3 iterations. For exhaustive searches, use GridSearchCV.\n",
            "  UserWarning,\n"
          ]
        },
        {
          "output_type": "stream",
          "name": "stdout",
          "text": [
            "Fitting 2 folds for each of 3 candidates, totalling 6 fits\n",
            "[CV 1/2] END .................max_features=auto;, score=0.854 total time=   0.3s\n",
            "[CV 2/2] END .................max_features=auto;, score=0.829 total time=   0.3s\n",
            "[CV 1/2] END .................max_features=sqrt;, score=0.863 total time=   0.3s\n",
            "[CV 2/2] END .................max_features=sqrt;, score=0.825 total time=   0.3s\n",
            "[CV 1/2] END .................max_features=log2;, score=0.893 total time=   0.3s\n",
            "[CV 2/2] END .................max_features=log2;, score=0.818 total time=   0.2s\n"
          ]
        },
        {
          "output_type": "stream",
          "name": "stderr",
          "text": [
            "/usr/local/lib/python3.7/dist-packages/sklearn/model_selection/_search.py:296: UserWarning: The total space of parameters 3 is smaller than n_iter=10. Running 3 iterations. For exhaustive searches, use GridSearchCV.\n",
            "  UserWarning,\n"
          ]
        },
        {
          "output_type": "stream",
          "name": "stdout",
          "text": [
            "Fitting 2 folds for each of 3 candidates, totalling 6 fits\n",
            "[CV 1/2] END .................max_features=auto;, score=0.876 total time=   0.3s\n",
            "[CV 2/2] END .................max_features=auto;, score=0.837 total time=   0.3s\n",
            "[CV 1/2] END .................max_features=sqrt;, score=0.852 total time=   0.3s\n",
            "[CV 2/2] END .................max_features=sqrt;, score=0.820 total time=   0.3s\n",
            "[CV 1/2] END .................max_features=log2;, score=0.834 total time=   0.3s\n",
            "[CV 2/2] END .................max_features=log2;, score=0.834 total time=   0.3s\n"
          ]
        },
        {
          "output_type": "stream",
          "name": "stderr",
          "text": [
            "/usr/local/lib/python3.7/dist-packages/sklearn/model_selection/_search.py:296: UserWarning: The total space of parameters 3 is smaller than n_iter=10. Running 3 iterations. For exhaustive searches, use GridSearchCV.\n",
            "  UserWarning,\n"
          ]
        },
        {
          "output_type": "stream",
          "name": "stdout",
          "text": [
            "Fitting 2 folds for each of 3 candidates, totalling 6 fits\n",
            "[CV 1/2] END .................max_features=auto;, score=0.843 total time=   0.3s\n",
            "[CV 2/2] END .................max_features=auto;, score=0.870 total time=   0.3s\n",
            "[CV 1/2] END .................max_features=sqrt;, score=0.844 total time=   0.3s\n",
            "[CV 2/2] END .................max_features=sqrt;, score=0.863 total time=   0.3s\n",
            "[CV 1/2] END .................max_features=log2;, score=0.842 total time=   0.2s\n",
            "[CV 2/2] END .................max_features=log2;, score=0.861 total time=   0.2s\n"
          ]
        },
        {
          "output_type": "stream",
          "name": "stderr",
          "text": [
            "/usr/local/lib/python3.7/dist-packages/sklearn/model_selection/_search.py:296: UserWarning: The total space of parameters 3 is smaller than n_iter=10. Running 3 iterations. For exhaustive searches, use GridSearchCV.\n",
            "  UserWarning,\n"
          ]
        },
        {
          "output_type": "stream",
          "name": "stdout",
          "text": [
            "Fitting 2 folds for each of 3 candidates, totalling 6 fits\n",
            "[CV 1/2] END .................max_features=auto;, score=0.857 total time=   0.3s\n",
            "[CV 2/2] END .................max_features=auto;, score=0.846 total time=   0.3s\n",
            "[CV 1/2] END .................max_features=sqrt;, score=0.846 total time=   0.3s\n",
            "[CV 2/2] END .................max_features=sqrt;, score=0.827 total time=   0.3s\n",
            "[CV 1/2] END .................max_features=log2;, score=0.869 total time=   0.3s\n",
            "[CV 2/2] END .................max_features=log2;, score=0.841 total time=   0.3s\n",
            "Fitting 2 folds for each of 2 candidates, totalling 4 fits\n",
            "[CV 1/2] END .................max_features=sqrt;, score=0.873 total time=   0.2s\n",
            "[CV 2/2] END .................max_features=sqrt;, score=0.814 total time=   0.2s\n",
            "[CV 1/2] END .................max_features=None;, score=0.896 total time=   1.3s\n",
            "[CV 2/2] END .................max_features=None;, score=0.804 total time=   1.3s\n",
            "Fitting 2 folds for each of 5 candidates, totalling 10 fits\n",
            "[CV 1/2] END ..........................C=0.0001;, score=0.752 total time=   0.0s\n",
            "[CV 2/2] END ..........................C=0.0001;, score=0.726 total time=   0.0s\n",
            "[CV 1/2] END ............................C=0.01;, score=0.821 total time=   0.0s\n",
            "[CV 2/2] END ............................C=0.01;, score=0.818 total time=   0.0s\n",
            "[CV 1/2] END .............................C=1.0;, score=0.822 total time=   0.1s\n",
            "[CV 2/2] END .............................C=1.0;, score=0.822 total time=   0.1s\n",
            "[CV 1/2] END ...........................C=100.0;, score=0.773 total time=   0.4s\n",
            "[CV 2/2] END ...........................C=100.0;, score=0.794 total time=   0.2s\n",
            "[CV 1/2] END .........................C=10000.0;, score=0.702 total time=   1.8s\n",
            "[CV 2/2] END .........................C=10000.0;, score=0.785 total time=   0.2s\n",
            "Fitting 2 folds for each of 3 candidates, totalling 6 fits\n"
          ]
        },
        {
          "output_type": "stream",
          "name": "stderr",
          "text": [
            "/usr/local/lib/python3.7/dist-packages/sklearn/model_selection/_search.py:296: UserWarning: The total space of parameters 3 is smaller than n_iter=10. Running 3 iterations. For exhaustive searches, use GridSearchCV.\n",
            "  UserWarning,\n"
          ]
        },
        {
          "output_type": "stream",
          "name": "stdout",
          "text": [
            "[CV 1/2] END .................max_features=auto;, score=0.830 total time=   0.4s\n",
            "[CV 2/2] END .................max_features=auto;, score=0.799 total time=   0.3s\n",
            "[CV 1/2] END .................max_features=sqrt;, score=0.858 total time=   0.3s\n",
            "[CV 2/2] END .................max_features=sqrt;, score=0.788 total time=   0.3s\n",
            "[CV 1/2] END .................max_features=log2;, score=0.846 total time=   0.3s\n",
            "[CV 2/2] END .................max_features=log2;, score=0.816 total time=   0.3s\n",
            "Fitting 2 folds for each of 2 candidates, totalling 4 fits\n",
            "[CV 1/2] END .................max_features=sqrt;, score=0.809 total time=   0.2s\n",
            "[CV 2/2] END .................max_features=sqrt;, score=0.792 total time=   0.2s\n",
            "[CV 1/2] END .................max_features=None;, score=0.784 total time=   1.0s\n",
            "[CV 2/2] END .................max_features=None;, score=0.784 total time=   1.0s\n",
            "Fitting 2 folds for each of 2 candidates, totalling 4 fits\n",
            "[CV 1/2] END .................max_features=sqrt;, score=0.828 total time=   0.2s\n",
            "[CV 2/2] END .................max_features=sqrt;, score=0.782 total time=   0.2s\n",
            "[CV 1/2] END .................max_features=None;, score=0.819 total time=   1.0s\n",
            "[CV 2/2] END .................max_features=None;, score=0.796 total time=   1.0s\n",
            "Fitting 2 folds for each of 2 candidates, totalling 4 fits\n",
            "[CV 1/2] END .................max_features=sqrt;, score=0.840 total time=   0.2s\n",
            "[CV 2/2] END .................max_features=sqrt;, score=0.789 total time=   0.2s\n",
            "[CV 1/2] END .................max_features=None;, score=0.846 total time=   1.0s\n",
            "[CV 2/2] END .................max_features=None;, score=0.800 total time=   1.0s\n",
            "Fitting 2 folds for each of 2 candidates, totalling 4 fits\n",
            "[CV 1/2] END .................max_features=sqrt;, score=0.831 total time=   0.2s\n",
            "[CV 2/2] END .................max_features=sqrt;, score=0.837 total time=   0.2s\n",
            "[CV 1/2] END .................max_features=None;, score=0.838 total time=   1.0s\n",
            "[CV 2/2] END .................max_features=None;, score=0.829 total time=   1.1s\n",
            "Fitting 2 folds for each of 2 candidates, totalling 4 fits\n",
            "[CV 1/2] END .................max_features=sqrt;, score=0.857 total time=   0.2s\n",
            "[CV 2/2] END .................max_features=sqrt;, score=0.827 total time=   0.2s\n",
            "[CV 1/2] END .................max_features=None;, score=0.885 total time=   1.0s\n",
            "[CV 2/2] END .................max_features=None;, score=0.843 total time=   1.0s\n",
            "Fitting 2 folds for each of 5 candidates, totalling 10 fits\n",
            "[CV 1/2] END ..........................C=0.0001;, score=0.746 total time=   0.0s\n",
            "[CV 2/2] END ..........................C=0.0001;, score=0.749 total time=   0.0s\n",
            "[CV 1/2] END ............................C=0.01;, score=0.830 total time=   0.0s\n",
            "[CV 2/2] END ............................C=0.01;, score=0.810 total time=   0.0s\n",
            "[CV 1/2] END .............................C=1.0;, score=0.767 total time=   0.0s\n",
            "[CV 2/2] END .............................C=1.0;, score=0.806 total time=   0.0s\n",
            "[CV 1/2] END ...........................C=100.0;, score=0.734 total time=   0.2s\n",
            "[CV 2/2] END ...........................C=100.0;, score=0.761 total time=   0.1s\n",
            "[CV 1/2] END .........................C=10000.0;, score=0.732 total time=   0.4s\n",
            "[CV 2/2] END .........................C=10000.0;, score=0.761 total time=   0.1s\n",
            "Fitting 2 folds for each of 5 candidates, totalling 10 fits\n",
            "[CV 1/2] END ..........................C=0.0001;, score=0.772 total time=   0.0s\n",
            "[CV 2/2] END ..........................C=0.0001;, score=0.736 total time=   0.0s\n",
            "[CV 1/2] END ............................C=0.01;, score=0.824 total time=   0.0s\n",
            "[CV 2/2] END ............................C=0.01;, score=0.783 total time=   0.0s\n",
            "[CV 1/2] END .............................C=1.0;, score=0.768 total time=   0.0s\n",
            "[CV 2/2] END .............................C=1.0;, score=0.749 total time=   0.0s\n",
            "[CV 1/2] END ...........................C=100.0;, score=0.734 total time=   0.3s\n",
            "[CV 2/2] END ...........................C=100.0;, score=0.746 total time=   0.1s\n",
            "[CV 1/2] END .........................C=10000.0;, score=0.713 total time=   0.4s\n",
            "[CV 2/2] END .........................C=10000.0;, score=0.755 total time=   0.1s\n",
            "Fitting 2 folds for each of 5 candidates, totalling 10 fits\n",
            "[CV 1/2] END ..........................C=0.0001;, score=0.745 total time=   0.0s\n",
            "[CV 2/2] END ..........................C=0.0001;, score=0.740 total time=   0.0s\n",
            "[CV 1/2] END ............................C=0.01;, score=0.796 total time=   0.0s\n",
            "[CV 2/2] END ............................C=0.01;, score=0.810 total time=   0.0s\n",
            "[CV 1/2] END .............................C=1.0;, score=0.759 total time=   0.0s\n",
            "[CV 2/2] END .............................C=1.0;, score=0.833 total time=   0.0s\n",
            "[CV 1/2] END ...........................C=100.0;, score=0.730 total time=   0.3s\n",
            "[CV 2/2] END ...........................C=100.0;, score=0.805 total time=   0.1s\n",
            "[CV 1/2] END .........................C=10000.0;, score=0.724 total time=   0.5s\n",
            "[CV 2/2] END .........................C=10000.0;, score=0.802 total time=   0.1s\n",
            "Fitting 2 folds for each of 5 candidates, totalling 10 fits\n",
            "[CV 1/2] END ..........................C=0.0001;, score=0.765 total time=   0.0s\n",
            "[CV 2/2] END ..........................C=0.0001;, score=0.712 total time=   0.0s\n",
            "[CV 1/2] END ............................C=0.01;, score=0.804 total time=   0.0s\n",
            "[CV 2/2] END ............................C=0.01;, score=0.840 total time=   0.0s\n",
            "[CV 1/2] END .............................C=1.0;, score=0.800 total time=   0.1s\n",
            "[CV 2/2] END .............................C=1.0;, score=0.848 total time=   0.1s\n",
            "[CV 1/2] END ...........................C=100.0;, score=0.757 total time=   0.2s\n",
            "[CV 2/2] END ...........................C=100.0;, score=0.831 total time=   0.1s\n",
            "[CV 1/2] END .........................C=10000.0;, score=0.763 total time=   0.3s\n",
            "[CV 2/2] END .........................C=10000.0;, score=0.830 total time=   0.1s\n",
            "Fitting 2 folds for each of 5 candidates, totalling 10 fits\n",
            "[CV 1/2] END ..........................C=0.0001;, score=0.752 total time=   0.0s\n",
            "[CV 2/2] END ..........................C=0.0001;, score=0.746 total time=   0.0s\n",
            "[CV 1/2] END ............................C=0.01;, score=0.800 total time=   0.0s\n",
            "[CV 2/2] END ............................C=0.01;, score=0.835 total time=   0.0s\n",
            "[CV 1/2] END .............................C=1.0;, score=0.825 total time=   0.0s\n",
            "[CV 2/2] END .............................C=1.0;, score=0.841 total time=   0.0s\n",
            "[CV 1/2] END ...........................C=100.0;, score=0.791 total time=   0.2s\n",
            "[CV 2/2] END ...........................C=100.0;, score=0.820 total time=   0.1s\n",
            "[CV 1/2] END .........................C=10000.0;, score=0.791 total time=   0.2s\n",
            "[CV 2/2] END .........................C=10000.0;, score=0.817 total time=   0.2s\n"
          ]
        },
        {
          "output_type": "stream",
          "name": "stderr",
          "text": [
            "/usr/local/lib/python3.7/dist-packages/sklearn/model_selection/_search.py:296: UserWarning: The total space of parameters 3 is smaller than n_iter=10. Running 3 iterations. For exhaustive searches, use GridSearchCV.\n",
            "  UserWarning,\n"
          ]
        },
        {
          "output_type": "stream",
          "name": "stdout",
          "text": [
            "Fitting 2 folds for each of 3 candidates, totalling 6 fits\n",
            "[CV 1/2] END .................max_features=auto;, score=0.796 total time=   0.4s\n",
            "[CV 2/2] END .................max_features=auto;, score=0.787 total time=   0.3s\n",
            "[CV 1/2] END .................max_features=sqrt;, score=0.780 total time=   0.3s\n",
            "[CV 2/2] END .................max_features=sqrt;, score=0.791 total time=   0.3s\n",
            "[CV 1/2] END .................max_features=log2;, score=0.766 total time=   0.3s\n",
            "[CV 2/2] END .................max_features=log2;, score=0.748 total time=   0.3s\n"
          ]
        },
        {
          "output_type": "stream",
          "name": "stderr",
          "text": [
            "/usr/local/lib/python3.7/dist-packages/sklearn/model_selection/_search.py:296: UserWarning: The total space of parameters 3 is smaller than n_iter=10. Running 3 iterations. For exhaustive searches, use GridSearchCV.\n",
            "  UserWarning,\n"
          ]
        },
        {
          "output_type": "stream",
          "name": "stdout",
          "text": [
            "Fitting 2 folds for each of 3 candidates, totalling 6 fits\n",
            "[CV 1/2] END .................max_features=auto;, score=0.831 total time=   0.3s\n",
            "[CV 2/2] END .................max_features=auto;, score=0.776 total time=   0.3s\n",
            "[CV 1/2] END .................max_features=sqrt;, score=0.791 total time=   0.3s\n",
            "[CV 2/2] END .................max_features=sqrt;, score=0.773 total time=   0.3s\n",
            "[CV 1/2] END .................max_features=log2;, score=0.764 total time=   0.2s\n",
            "[CV 2/2] END .................max_features=log2;, score=0.774 total time=   0.3s\n"
          ]
        },
        {
          "output_type": "stream",
          "name": "stderr",
          "text": [
            "/usr/local/lib/python3.7/dist-packages/sklearn/model_selection/_search.py:296: UserWarning: The total space of parameters 3 is smaller than n_iter=10. Running 3 iterations. For exhaustive searches, use GridSearchCV.\n",
            "  UserWarning,\n"
          ]
        },
        {
          "output_type": "stream",
          "name": "stdout",
          "text": [
            "Fitting 2 folds for each of 3 candidates, totalling 6 fits\n",
            "[CV 1/2] END .................max_features=auto;, score=0.842 total time=   0.3s\n",
            "[CV 2/2] END .................max_features=auto;, score=0.772 total time=   0.3s\n",
            "[CV 1/2] END .................max_features=sqrt;, score=0.833 total time=   0.3s\n",
            "[CV 2/2] END .................max_features=sqrt;, score=0.795 total time=   0.3s\n",
            "[CV 1/2] END .................max_features=log2;, score=0.818 total time=   0.3s\n",
            "[CV 2/2] END .................max_features=log2;, score=0.788 total time=   0.3s\n"
          ]
        },
        {
          "output_type": "stream",
          "name": "stderr",
          "text": [
            "/usr/local/lib/python3.7/dist-packages/sklearn/model_selection/_search.py:296: UserWarning: The total space of parameters 3 is smaller than n_iter=10. Running 3 iterations. For exhaustive searches, use GridSearchCV.\n",
            "  UserWarning,\n"
          ]
        },
        {
          "output_type": "stream",
          "name": "stdout",
          "text": [
            "Fitting 2 folds for each of 3 candidates, totalling 6 fits\n",
            "[CV 1/2] END .................max_features=auto;, score=0.816 total time=   0.3s\n",
            "[CV 2/2] END .................max_features=auto;, score=0.822 total time=   0.3s\n",
            "[CV 1/2] END .................max_features=sqrt;, score=0.832 total time=   0.3s\n",
            "[CV 2/2] END .................max_features=sqrt;, score=0.841 total time=   0.3s\n",
            "[CV 1/2] END .................max_features=log2;, score=0.849 total time=   0.3s\n",
            "[CV 2/2] END .................max_features=log2;, score=0.822 total time=   0.2s\n"
          ]
        },
        {
          "output_type": "stream",
          "name": "stderr",
          "text": [
            "/usr/local/lib/python3.7/dist-packages/sklearn/model_selection/_search.py:296: UserWarning: The total space of parameters 3 is smaller than n_iter=10. Running 3 iterations. For exhaustive searches, use GridSearchCV.\n",
            "  UserWarning,\n"
          ]
        },
        {
          "output_type": "stream",
          "name": "stdout",
          "text": [
            "Fitting 2 folds for each of 3 candidates, totalling 6 fits\n",
            "[CV 1/2] END .................max_features=auto;, score=0.839 total time=   0.3s\n",
            "[CV 2/2] END .................max_features=auto;, score=0.821 total time=   0.3s\n",
            "[CV 1/2] END .................max_features=sqrt;, score=0.871 total time=   0.3s\n",
            "[CV 2/2] END .................max_features=sqrt;, score=0.805 total time=   0.3s\n",
            "[CV 1/2] END .................max_features=log2;, score=0.838 total time=   0.3s\n",
            "[CV 2/2] END .................max_features=log2;, score=0.802 total time=   0.2s\n"
          ]
        },
        {
          "output_type": "stream",
          "name": "stderr",
          "text": [
            "[Parallel(n_jobs=1)]: Done   5 out of   5 | elapsed:  3.8min finished\n"
          ]
        }
      ]
    },
    {
      "cell_type": "code",
      "source": [
        "from sklearn.metrics import f1_score\n",
        "Score1=f1_score(y_train_rcd_sample, y_pred_2)\n",
        "print(\"F1 Score using Stacking Ensemble Model is:\",Score1)"
      ],
      "metadata": {
        "colab": {
          "base_uri": "https://localhost:8080/"
        },
        "id": "u3vvWQFy-D06",
        "outputId": "e30f149f-99e3-4fb3-f88f-06ec9f83fc31"
      },
      "execution_count": 119,
      "outputs": [
        {
          "output_type": "stream",
          "name": "stdout",
          "text": [
            "F1 Score using Stacking Ensemble Model is: 0.9214145383104125\n"
          ]
        }
      ]
    },
    {
      "cell_type": "markdown",
      "source": [
        "### F1 Score using Gradient Boosting Classifier is: 0.9084856530206052\n",
        "### F1 Score using Logistic Regression Classifer is: 0.8607403447643879\n",
        "### F1 Score using Random Forest Classifier is: 0.9248543592513794\n",
        "### F1 Score using Voting Ensemble Model is : 0.9067201604814442\n",
        "### F1 Score using Stacking Ensemble Model is: 0.9214145383104125"
      ],
      "metadata": {
        "id": "C5-v9ZlS-_HE"
      }
    },
    {
      "cell_type": "markdown",
      "source": [
        "## Problem 4 -- Evaluation\n",
        "\n",
        "At this point in the assignment, you have six classifiers:\n",
        "\n",
        "* the support vector classifier from last week,\n",
        "* the three classifiers from problem 1,\n",
        "* the voting classifier from problem 2, and\n",
        "* the stacking classifier from problem 3\n",
        "\n",
        "Identify the model with the highest $F_1$ score, and train this model with the full training dataset.  Finally, score the test data against this model.  Does the model demonstrate predictive validity (i.e., are the $F_1$ scores for the test data comparable to the training data)?"
      ],
      "metadata": {
        "id": "GRQ5OOdw5ABg"
      }
    },
    {
      "cell_type": "code",
      "source": [
        "final = RandomForestClassifier()\n",
        "final.fit(X_train, y_train_rcd)"
      ],
      "metadata": {
        "id": "q4mAMvwN5KkM",
        "colab": {
          "base_uri": "https://localhost:8080/"
        },
        "outputId": "ccefd029-8ca3-4d62-ba1f-1af29429c02d"
      },
      "execution_count": 121,
      "outputs": [
        {
          "output_type": "execute_result",
          "data": {
            "text/plain": [
              "RandomForestClassifier()"
            ]
          },
          "metadata": {},
          "execution_count": 121
        }
      ]
    },
    {
      "cell_type": "code",
      "source": [
        "from sklearn.metrics import classification_report\n",
        "pred_final = final.predict(X_test)\n",
        "print(classification_report(y_test_rcd, pred_final))"
      ],
      "metadata": {
        "colab": {
          "base_uri": "https://localhost:8080/"
        },
        "id": "Vl1hDvGBAlpR",
        "outputId": "340e4245-caeb-4ef8-f6af-4fdb2835b46b"
      },
      "execution_count": 123,
      "outputs": [
        {
          "output_type": "stream",
          "name": "stdout",
          "text": [
            "              precision    recall  f1-score   support\n",
            "\n",
            "          -1       0.95      0.96      0.96      4861\n",
            "           1       0.96      0.96      0.96      5139\n",
            "\n",
            "    accuracy                           0.96     10000\n",
            "   macro avg       0.96      0.96      0.96     10000\n",
            "weighted avg       0.96      0.96      0.96     10000\n",
            "\n"
          ]
        }
      ]
    },
    {
      "cell_type": "code",
      "source": [
        "finalf1_score = f1_score(y_test_rcd, pred_final)\n",
        "print(\"F1-score: \",finalf1_score)"
      ],
      "metadata": {
        "colab": {
          "base_uri": "https://localhost:8080/"
        },
        "id": "GcWS6WHFAuD8",
        "outputId": "152c84b2-c73f-412c-8fd0-591863f5518a"
      },
      "execution_count": 126,
      "outputs": [
        {
          "output_type": "stream",
          "name": "stdout",
          "text": [
            "F1-score:  0.9581060015588465\n"
          ]
        }
      ]
    }
  ]
}