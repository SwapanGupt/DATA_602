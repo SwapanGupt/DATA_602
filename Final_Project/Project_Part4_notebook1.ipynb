{
  "cells": [
    {
      "cell_type": "code",
      "source": [
        "from google.colab import drive\n",
        "drive.mount(\"/content/drive\")"
      ],
      "metadata": {
        "id": "sSsyp2v94G3G",
        "outputId": "313aefc3-e768-4e2b-9884-34b6272cd148",
        "colab": {
          "base_uri": "https://localhost:8080/"
        }
      },
      "id": "sSsyp2v94G3G",
      "execution_count": null,
      "outputs": [
        {
          "output_type": "stream",
          "name": "stdout",
          "text": [
            "Mounted at /content/drive\n"
          ]
        }
      ]
    },
    {
      "cell_type": "code",
      "execution_count": null,
      "id": "fe5bb1a5",
      "metadata": {
        "_cell_guid": "b1076dfc-b9ad-4769-8c92-a6c4dae69d19",
        "_uuid": "8f2839f25d086af736a60e9eeb907d3b93b6e0e5",
        "execution": {
          "iopub.execute_input": "2022-04-30T22:28:44.958951Z",
          "iopub.status.busy": "2022-04-30T22:28:44.958605Z",
          "iopub.status.idle": "2022-04-30T22:28:47.038098Z",
          "shell.execute_reply": "2022-04-30T22:28:47.037258Z"
        },
        "papermill": {
          "duration": 2.11027,
          "end_time": "2022-04-30T22:28:47.041130",
          "exception": false,
          "start_time": "2022-04-30T22:28:44.930860",
          "status": "completed"
        },
        "tags": [],
        "colab": {
          "base_uri": "https://localhost:8080/"
        },
        "id": "fe5bb1a5",
        "outputId": "a77528b1-6a61-4052-a0ef-7b210967cde9"
      },
      "outputs": [
        {
          "output_type": "execute_result",
          "data": {
            "text/plain": [
              "['dataset.zip',\n",
              " 'imdb_movies_raw.csv.gz',\n",
              " 'imdb_reviews_raw.csv.gz',\n",
              " 'word2vec.gensim',\n",
              " 'lda.gensim.state',\n",
              " 'lda.gensim',\n",
              " 'lda.gensim.expElogbeta.npy',\n",
              " 'lda.gensim.id2word',\n",
              " 'imdb_movies_train.csv.gz',\n",
              " 'imdb_reviews_train.csv.gz',\n",
              " 'imdb_movies_val.csv.gz',\n",
              " 'imdb_movies_test.csv.gz',\n",
              " 'imdb_reviews_val.csv.gz',\n",
              " 'imdb_reviews_test.csv.gz']"
            ]
          },
          "metadata": {},
          "execution_count": 2
        }
      ],
      "source": [
        "import warnings\n",
        "warnings.filterwarnings('ignore')\n",
        "import matplotlib.pyplot as plt\n",
        "from collections import Counter\n",
        "from tqdm.notebook import tqdm\n",
        "import seaborn as sns\n",
        "import numpy as np\n",
        "import pandas as pd\n",
        "import nltk, re\n",
        "import string\n",
        "import os, gc\n",
        "import random\n",
        "\n",
        "tqdm.pandas()\n",
        "\n",
        "base_dir = \"/content/drive/Shareddrives/602Project/Assigns\"\n",
        "os.listdir(base_dir)"
      ]
    },
    {
      "cell_type": "code",
      "execution_count": null,
      "id": "6fb64641",
      "metadata": {
        "execution": {
          "iopub.execute_input": "2022-04-30T22:28:47.088715Z",
          "iopub.status.busy": "2022-04-30T22:28:47.088407Z",
          "iopub.status.idle": "2022-04-30T22:29:30.039267Z",
          "shell.execute_reply": "2022-04-30T22:29:30.037809Z"
        },
        "papermill": {
          "duration": 43.001401,
          "end_time": "2022-04-30T22:29:30.065830",
          "exception": false,
          "start_time": "2022-04-30T22:28:47.064429",
          "status": "completed"
        },
        "tags": [],
        "colab": {
          "base_uri": "https://localhost:8080/"
        },
        "id": "6fb64641",
        "outputId": "61c4b4b1-864a-4795-b67d-5fa5e936686c"
      },
      "outputs": [
        {
          "output_type": "stream",
          "name": "stdout",
          "text": [
            "Reviews data:\n",
            "(507092, 11) Index(['username', 'rating', 'helpful', 'total', 'date', 'title', 'review',\n",
            "       'year', 'name', 'emojis', 'review_words'],\n",
            "      dtype='object')\n",
            "(142432, 11)\n",
            "(142018, 11)\n"
          ]
        }
      ],
      "source": [
        "rev_train = pd.read_csv(f\"{base_dir}/imdb_reviews_train.csv.gz\", compression=\"gzip\")\n",
        "rev_val = pd.read_csv(f\"{base_dir}/imdb_reviews_val.csv.gz\", compression=\"gzip\")\n",
        "rev_test = pd.read_csv(f\"{base_dir}/imdb_reviews_test.csv.gz\", compression=\"gzip\")\n",
        "print(\"Reviews data:\")\n",
        "print(rev_train.shape, rev_train.columns)\n",
        "print(rev_val.shape)\n",
        "print(rev_test.shape)"
      ]
    },
    {
      "cell_type": "markdown",
      "id": "f98f3610",
      "metadata": {
        "papermill": {
          "duration": 0.02331,
          "end_time": "2022-04-30T22:29:30.170062",
          "exception": false,
          "start_time": "2022-04-30T22:29:30.146752",
          "status": "completed"
        },
        "tags": [],
        "id": "f98f3610"
      },
      "source": [
        "1. Naive Bayes\n",
        "2. Logistic Regression\n",
        "3. SVM Linear\n",
        "4. Random Forest Classifier\n",
        "5. Boosting Classifier"
      ]
    },
    {
      "cell_type": "markdown",
      "source": [
        "Reference: Supervised learning. scikit. (n.d.). Retrieved May 11, 2022, from https://scikit-learn.org/stable/supervised_learning.html "
      ],
      "metadata": {
        "id": "0CMpHNGJZf6X"
      },
      "id": "0CMpHNGJZf6X"
    },
    {
      "cell_type": "code",
      "execution_count": null,
      "id": "136ecfba",
      "metadata": {
        "execution": {
          "iopub.execute_input": "2022-04-30T22:29:30.221279Z",
          "iopub.status.busy": "2022-04-30T22:29:30.220948Z",
          "iopub.status.idle": "2022-04-30T22:30:07.904146Z",
          "shell.execute_reply": "2022-04-30T22:30:07.901180Z"
        },
        "papermill": {
          "duration": 37.806557,
          "end_time": "2022-04-30T22:30:08.002696",
          "exception": false,
          "start_time": "2022-04-30T22:29:30.196139",
          "status": "completed"
        },
        "tags": [],
        "colab": {
          "base_uri": "https://localhost:8080/"
        },
        "id": "136ecfba",
        "outputId": "c2c5cec7-fd03-443b-e2b6-728fd6823bd1"
      },
      "outputs": [
        {
          "output_type": "execute_result",
          "data": {
            "text/plain": [
              "((507092, 12), (142432, 12), (142018, 12))"
            ]
          },
          "metadata": {},
          "execution_count": 4
        }
      ],
      "source": [
        "def get_target_var(x):\n",
        "    \n",
        "    if x < 5:\n",
        "        return \"Negative\"\n",
        "    \n",
        "    elif x>=5 and x <= 7:\n",
        "        return \"Neutral\"\n",
        "    \n",
        "    elif x >= 8:\n",
        "        return \"Positive\"\n",
        "    \n",
        "    return x\n",
        "\n",
        "\n",
        "def reformat_data(rev_df):\n",
        "    \n",
        "    rev_df = rev_df.dropna(subset=['review_words']).reset_index(drop=1)\n",
        "    rev_df['review_words'] = rev_df['review_words'].str.split(r\"\\|\")\n",
        "    rev_df['review_words'] = rev_df['review_words'].str.join(\" \")\n",
        "    rev_df['sentiment'] = rev_df['rating'].apply(get_target_var)\n",
        "    return rev_df\n",
        "\n",
        "\n",
        "rev_train = reformat_data(rev_train)\n",
        "rev_val = reformat_data(rev_val)\n",
        "rev_test = reformat_data(rev_test)\n",
        "\n",
        "rev_train.shape, rev_val.shape, rev_test.shape"
      ]
    },
    {
      "cell_type": "code",
      "execution_count": null,
      "id": "661573ec",
      "metadata": {
        "execution": {
          "iopub.execute_input": "2022-04-30T22:30:08.207624Z",
          "iopub.status.busy": "2022-04-30T22:30:08.206468Z",
          "iopub.status.idle": "2022-04-30T22:30:09.102323Z",
          "shell.execute_reply": "2022-04-30T22:30:09.100796Z"
        },
        "papermill": {
          "duration": 1.001075,
          "end_time": "2022-04-30T22:30:09.105980",
          "exception": false,
          "start_time": "2022-04-30T22:30:08.104905",
          "status": "completed"
        },
        "tags": [],
        "id": "661573ec",
        "outputId": "f9da92e0-1af2-419d-f0ba-84d33f29e7c1",
        "colab": {
          "base_uri": "https://localhost:8080/"
        }
      },
      "outputs": [
        {
          "output_type": "execute_result",
          "data": {
            "text/plain": [
              "(202837, 12)"
            ]
          },
          "metadata": {},
          "execution_count": 5
        }
      ],
      "source": [
        "X_train_full = rev_train['review_words'].values\n",
        "y_train_full = rev_train['sentiment'].values\n",
        "rev_train = rev_train.sample(frac=0.4)\n",
        "rev_train.shape"
      ]
    },
    {
      "cell_type": "code",
      "execution_count": null,
      "id": "f2b01d7c",
      "metadata": {
        "execution": {
          "iopub.execute_input": "2022-04-30T22:30:09.171026Z",
          "iopub.status.busy": "2022-04-30T22:30:09.170661Z",
          "iopub.status.idle": "2022-04-30T22:33:03.873296Z",
          "shell.execute_reply": "2022-04-30T22:33:03.872243Z"
        },
        "papermill": {
          "duration": 174.762842,
          "end_time": "2022-04-30T22:33:03.900360",
          "exception": false,
          "start_time": "2022-04-30T22:30:09.137518",
          "status": "completed"
        },
        "tags": [],
        "id": "f2b01d7c",
        "outputId": "fb35ffbb-e2a8-45ca-e2f2-9fba3d82b033",
        "colab": {
          "base_uri": "https://localhost:8080/"
        }
      },
      "outputs": [
        {
          "output_type": "execute_result",
          "data": {
            "text/plain": [
              "((202837, 3418), (142432, 3418), (142018, 3418))"
            ]
          },
          "metadata": {},
          "execution_count": 6
        }
      ],
      "source": [
        "from sklearn.feature_extraction.text import TfidfVectorizer\n",
        "tfidf = TfidfVectorizer(min_df=0.005, max_df=0.97, ngram_range=(1,2))\n",
        "\n",
        "X_train_tfidf = tfidf.fit_transform(rev_train['review_words'])\n",
        "X_val_tfidf = tfidf.transform(rev_val['review_words'])\n",
        "X_test_tfidf = tfidf.transform(rev_test['review_words'])\n",
        "X_train_tfidf.shape, X_val_tfidf.shape, X_test_tfidf.shape"
      ]
    },
    {
      "cell_type": "code",
      "execution_count": null,
      "id": "3ca1c11f",
      "metadata": {
        "execution": {
          "iopub.execute_input": "2022-04-30T22:33:03.954772Z",
          "iopub.status.busy": "2022-04-30T22:33:03.954437Z",
          "iopub.status.idle": "2022-04-30T22:33:03.989615Z",
          "shell.execute_reply": "2022-04-30T22:33:03.988710Z"
        },
        "papermill": {
          "duration": 0.065158,
          "end_time": "2022-04-30T22:33:03.991940",
          "exception": false,
          "start_time": "2022-04-30T22:33:03.926782",
          "status": "completed"
        },
        "tags": [],
        "id": "3ca1c11f",
        "outputId": "7ac264f6-3e95-462e-9eb3-e7b15e2bd74b",
        "colab": {
          "base_uri": "https://localhost:8080/"
        }
      },
      "outputs": [
        {
          "output_type": "execute_result",
          "data": {
            "text/plain": [
              "Positive    117035\n",
              "Neutral      46936\n",
              "Negative     38866\n",
              "Name: sentiment, dtype: int64"
            ]
          },
          "metadata": {},
          "execution_count": 7
        }
      ],
      "source": [
        "y_train = rev_train['sentiment'].values\n",
        "y_val = rev_val['sentiment'].values\n",
        "y_test = rev_test['sentiment'].values\n",
        "rev_train['sentiment'].value_counts()"
      ]
    },
    {
      "cell_type": "code",
      "execution_count": null,
      "id": "01bfc76d",
      "metadata": {
        "execution": {
          "iopub.execute_input": "2022-04-30T22:33:04.042984Z",
          "iopub.status.busy": "2022-04-30T22:33:04.042646Z",
          "iopub.status.idle": "2022-04-30T22:33:06.418670Z",
          "shell.execute_reply": "2022-04-30T22:33:06.417907Z"
        },
        "papermill": {
          "duration": 2.404296,
          "end_time": "2022-04-30T22:33:06.421014",
          "exception": false,
          "start_time": "2022-04-30T22:33:04.016718",
          "status": "completed"
        },
        "tags": [],
        "id": "01bfc76d"
      },
      "outputs": [],
      "source": [
        "from sklearn.naive_bayes import MultinomialNB\n",
        "from sklearn.linear_model import LogisticRegression\n",
        "from sklearn.svm import LinearSVC\n",
        "from sklearn.ensemble import RandomForestClassifier\n",
        "from lightgbm import LGBMClassifier\n",
        "\n",
        "all_classifiers = { 'naive_bayes': MultinomialNB(),\n",
        "                   'logistic': LogisticRegression(solver=\"saga\", n_jobs = -1), \n",
        "                   'svm_linear': LinearSVC(max_iter=10**4),\n",
        "                   'random_forest': RandomForestClassifier(n_jobs = -1),\n",
        "                   # 'gradient_boosting':GradientBoostingClassifier(),\n",
        "                   'lightgbm': LGBMClassifier(verbose=-1, n_jobs = -1)\n",
        "                  }"
      ]
    },
    {
      "cell_type": "code",
      "execution_count": null,
      "id": "3d54dd14",
      "metadata": {
        "execution": {
          "iopub.execute_input": "2022-04-30T22:33:06.475470Z",
          "iopub.status.busy": "2022-04-30T22:33:06.474917Z",
          "iopub.status.idle": "2022-04-30T22:55:35.856583Z",
          "shell.execute_reply": "2022-04-30T22:55:35.855262Z"
        },
        "papermill": {
          "duration": 1349.412632,
          "end_time": "2022-04-30T22:55:35.859524",
          "exception": false,
          "start_time": "2022-04-30T22:33:06.446892",
          "status": "completed"
        },
        "tags": [],
        "id": "3d54dd14",
        "outputId": "7e472eb1-994b-4c36-898e-5e9a0f8396a0",
        "colab": {
          "base_uri": "https://localhost:8080/"
        }
      },
      "outputs": [
        {
          "output_type": "stream",
          "name": "stdout",
          "text": [
            "--------------------------------------------------\n",
            "Training naive_bayes Model:\n",
            "Validation --> Accuracy=0.69  F1-score=0.638\n",
            "Test Data --> Accuracy=0.685  F1-score=0.63\n",
            "Done.\n",
            "--------------------------------------------------\n",
            "Training logistic Model:\n",
            "Validation --> Accuracy=0.755  F1-score=0.746\n",
            "Test Data --> Accuracy=0.753  F1-score=0.742\n",
            "Done.\n",
            "--------------------------------------------------\n",
            "Training svm_linear Model:\n",
            "Validation --> Accuracy=0.754  F1-score=0.739\n",
            "Test Data --> Accuracy=0.751  F1-score=0.735\n",
            "Done.\n",
            "--------------------------------------------------\n",
            "Training random_forest Model:\n",
            "Validation --> Accuracy=0.692  F1-score=0.642\n",
            "Test Data --> Accuracy=0.689  F1-score=0.637\n",
            "Done.\n",
            "--------------------------------------------------\n",
            "Training lightgbm Model:\n",
            "Validation --> Accuracy=0.725  F1-score=0.705\n",
            "Test Data --> Accuracy=0.724  F1-score=0.703\n",
            "Done.\n"
          ]
        }
      ],
      "source": [
        "from sklearn import metrics\n",
        "\n",
        "val_acc = {}\n",
        "test_acc = {}\n",
        "# iterate over classifiers\n",
        "for key in all_classifiers:\n",
        "    print('-'*50)\n",
        "    print('Training {} Model:'.format(key))\n",
        "    clf = all_classifiers[key]\n",
        "    clf.fit(X_train_tfidf, y_train)\n",
        "    all_classifiers[key] = clf\n",
        "    \n",
        "    # get predictions & metrics on validation data\n",
        "    y_val_pred = clf.predict(X_val_tfidf)\n",
        "    acc = metrics.accuracy_score(y_val, y_val_pred)\n",
        "    f1 = metrics.f1_score(y_val, y_val_pred, average='weighted')\n",
        "    print(f'Validation --> Accuracy={round(acc,3)}  F1-score={round(f1,3)}', )\n",
        "    val_acc[key] = acc\n",
        "\n",
        "    # get predictions & metrics on test data\n",
        "    y_test_pred = clf.predict(X_test_tfidf)\n",
        "    acc = metrics.accuracy_score(y_test, y_test_pred)\n",
        "    f1 = metrics.f1_score(y_test, y_test_pred, average='weighted')\n",
        "    print(f'Test Data --> Accuracy={round(acc,3)}  F1-score={round(f1,3)}', )\n",
        "    test_acc[key] = acc\n",
        "    print(\"Done.\")"
      ]
    },
    {
      "cell_type": "code",
      "execution_count": null,
      "id": "80802d81",
      "metadata": {
        "execution": {
          "iopub.execute_input": "2022-04-30T22:55:35.925175Z",
          "iopub.status.busy": "2022-04-30T22:55:35.924150Z",
          "iopub.status.idle": "2022-04-30T22:55:35.931351Z",
          "shell.execute_reply": "2022-04-30T22:55:35.930236Z"
        },
        "papermill": {
          "duration": 0.042859,
          "end_time": "2022-04-30T22:55:35.933464",
          "exception": false,
          "start_time": "2022-04-30T22:55:35.890605",
          "status": "completed"
        },
        "tags": [],
        "id": "80802d81",
        "outputId": "0defb522-b23f-4624-9840-14e818c8c114",
        "colab": {
          "base_uri": "https://localhost:8080/"
        }
      },
      "outputs": [
        {
          "output_type": "stream",
          "name": "stdout",
          "text": [
            "Model with Best Accuracy Score: logistic\n"
          ]
        }
      ],
      "source": [
        "best_acc_key = max(val_acc, key=lambda x: val_acc[x])\n",
        "best_model = all_classifiers[best_acc_key]\n",
        "print(f\"Model with Best Accuracy Score: {best_acc_key}\")"
      ]
    },
    {
      "cell_type": "markdown",
      "source": [
        "Reference: Sklearn.linear_model.logisticregression. scikit. (n.d.). Retrieved May 11, 2022, from https://scikit-learn.org/stable/modules/generated/sklearn.linear_model.LogisticRegression.html "
      ],
      "metadata": {
        "id": "pNo2CFidWHfO"
      },
      "id": "pNo2CFidWHfO"
    },
    {
      "cell_type": "code",
      "execution_count": null,
      "id": "ad3952a2",
      "metadata": {
        "execution": {
          "iopub.execute_input": "2022-04-30T22:55:35.995479Z",
          "iopub.status.busy": "2022-04-30T22:55:35.994696Z",
          "iopub.status.idle": "2022-04-30T22:55:36.001733Z",
          "shell.execute_reply": "2022-04-30T22:55:36.000852Z"
        },
        "papermill": {
          "duration": 0.04002,
          "end_time": "2022-04-30T22:55:36.004006",
          "exception": false,
          "start_time": "2022-04-30T22:55:35.963986",
          "status": "completed"
        },
        "tags": [],
        "id": "ad3952a2"
      },
      "outputs": [],
      "source": [
        "clf_params = {}\n",
        "\n",
        "clf_params['logistic'] = param = {'C': [0.0001, 0.001, 0.01, 0.1, 1, 10, 100, 1000],\n",
        "                                  'class_weight': ['balanced', None],\n",
        "                                  'penalty': ['l1', 'l2', 'elasticnet']}\n",
        "\n",
        "clf_params['lightgbm'] =  {'n_estimators': range(100, 301, 50),\n",
        "                          'max_depth': range(3, 26, 2), \n",
        "                          'learning_rate': [0.001, 0.005, 0.01, 0.05, 0.1],\n",
        "                          'min_samples_split': range(3, 16, 2),}"
      ]
    },
    {
      "cell_type": "code",
      "execution_count": null,
      "id": "208fd19b",
      "metadata": {
        "execution": {
          "iopub.execute_input": "2022-04-30T22:55:36.075446Z",
          "iopub.status.busy": "2022-04-30T22:55:36.074406Z",
          "iopub.status.idle": "2022-04-30T22:55:36.120967Z",
          "shell.execute_reply": "2022-04-30T22:55:36.119898Z"
        },
        "papermill": {
          "duration": 0.082797,
          "end_time": "2022-04-30T22:55:36.123456",
          "exception": false,
          "start_time": "2022-04-30T22:55:36.040659",
          "status": "completed"
        },
        "tags": [],
        "id": "208fd19b",
        "outputId": "00357cac-2552-4916-f2f0-89e038ee1b48",
        "colab": {
          "base_uri": "https://localhost:8080/"
        }
      },
      "outputs": [
        {
          "output_type": "execute_result",
          "data": {
            "text/plain": [
              "((345269,), (345269,))"
            ]
          },
          "metadata": {},
          "execution_count": 12
        }
      ],
      "source": [
        "X_train_cv = rev_train['review_words'].append(rev_val['review_words'])\n",
        "y_train_cv = rev_train['sentiment'].append(rev_val['sentiment'])\n",
        "X_train_cv.shape, y_train_cv.shape"
      ]
    },
    {
      "cell_type": "code",
      "execution_count": null,
      "id": "32e4043b",
      "metadata": {
        "execution": {
          "iopub.execute_input": "2022-04-30T22:55:36.186212Z",
          "iopub.status.busy": "2022-04-30T22:55:36.185936Z",
          "iopub.status.idle": "2022-04-30T22:55:37.771861Z",
          "shell.execute_reply": "2022-04-30T22:55:37.770983Z"
        },
        "papermill": {
          "duration": 1.620632,
          "end_time": "2022-04-30T22:55:37.774005",
          "exception": false,
          "start_time": "2022-04-30T22:55:36.153373",
          "status": "completed"
        },
        "tags": [],
        "id": "32e4043b",
        "outputId": "79e1b78c-5d55-4108-b5c0-fd8ac083f552",
        "colab": {
          "base_uri": "https://localhost:8080/"
        }
      },
      "outputs": [
        {
          "output_type": "execute_result",
          "data": {
            "text/plain": [
              "136"
            ]
          },
          "metadata": {},
          "execution_count": 13
        }
      ],
      "source": [
        "del rev_train, X_train_tfidf, X_val_tfidf, X_test_tfidf\n",
        "gc.collect()"
      ]
    },
    {
      "cell_type": "markdown",
      "source": [
        "Reference: Sklearn.model_selection.RANDOMIZEDSEARCHCV. scikit. (n.d.). Retrieved May 11, 2022, from https://scikit-learn.org/stable/modules/generated/sklearn.model_selection.RandomizedSearchCV.html "
      ],
      "metadata": {
        "id": "xG_g9E5GcqMG"
      },
      "id": "xG_g9E5GcqMG"
    },
    {
      "cell_type": "code",
      "execution_count": null,
      "id": "0f8f8322",
      "metadata": {
        "execution": {
          "iopub.execute_input": "2022-04-30T22:55:37.837991Z",
          "iopub.status.busy": "2022-04-30T22:55:37.837664Z",
          "iopub.status.idle": "2022-04-30T22:55:37.849540Z",
          "shell.execute_reply": "2022-04-30T22:55:37.848479Z"
        },
        "papermill": {
          "duration": 0.045542,
          "end_time": "2022-04-30T22:55:37.851616",
          "exception": false,
          "start_time": "2022-04-30T22:55:37.806074",
          "status": "completed"
        },
        "tags": [],
        "id": "0f8f8322",
        "outputId": "91028a51-de38-4d6a-c18b-0d0bd144a6ad",
        "colab": {
          "base_uri": "https://localhost:8080/"
        }
      },
      "outputs": [
        {
          "output_type": "stream",
          "name": "stdout",
          "text": [
            "Search Param: {'model__C': [0.0001, 0.001, 0.01, 0.1, 1, 10, 100, 1000], 'model__class_weight': ['balanced', None], 'model__penalty': ['l1', 'l2', 'elasticnet']}\n"
          ]
        }
      ],
      "source": [
        "from sklearn.pipeline import Pipeline, make_pipeline\n",
        "from sklearn.model_selection import RandomizedSearchCV, StratifiedShuffleSplit\n",
        "\n",
        "clf_pipe = Pipeline(steps = [('tfidf_pipe', tfidf), ('model', best_model)])\n",
        "\n",
        "search_param  = {}\n",
        "for k in clf_params[best_acc_key].keys():\n",
        "    search_param[\"model__\" + k] = clf_params[best_acc_key][k]\n",
        "print(\"Search Param:\", search_param)\n",
        "\n",
        "rs_grid = RandomizedSearchCV(clf_pipe, search_param, cv=3, scoring='accuracy', \n",
        "                             n_iter=20,random_state=659, n_jobs=1)"
      ]
    },
    {
      "cell_type": "code",
      "execution_count": null,
      "id": "962a278d",
      "metadata": {
        "execution": {
          "iopub.execute_input": "2022-04-30T22:55:37.914394Z",
          "iopub.status.busy": "2022-04-30T22:55:37.914039Z",
          "iopub.status.idle": "2022-05-01T01:42:47.433581Z",
          "shell.execute_reply": "2022-05-01T01:42:47.431888Z"
        },
        "papermill": {
          "duration": 10029.58715,
          "end_time": "2022-05-01T01:42:47.469263",
          "exception": false,
          "start_time": "2022-04-30T22:55:37.882113",
          "status": "completed"
        },
        "tags": [],
        "id": "962a278d",
        "outputId": "64300964-527a-4181-e6c1-6d6a3e1f2c86",
        "colab": {
          "base_uri": "https://localhost:8080/"
        }
      },
      "outputs": [
        {
          "output_type": "stream",
          "name": "stdout",
          "text": [
            "Best Params: {'model__penalty': 'l1', 'model__class_weight': None, 'model__C': 1}\n",
            "Cross Validation Accuracy score =  0.756592679122337\n"
          ]
        }
      ],
      "source": [
        "rs_grid.fit(X_train_cv, y_train_cv)\n",
        "best_model = rs_grid.best_estimator_\n",
        "print(\"Best Params:\", rs_grid.best_params_)\n",
        "best_score = rs_grid.best_score_\n",
        "print(\"Cross Validation Accuracy score = \", best_score)"
      ]
    },
    {
      "cell_type": "code",
      "execution_count": null,
      "id": "96c289fa",
      "metadata": {
        "execution": {
          "iopub.execute_input": "2022-05-01T01:42:47.547280Z",
          "iopub.status.busy": "2022-05-01T01:42:47.546663Z",
          "iopub.status.idle": "2022-05-01T01:53:22.108409Z",
          "shell.execute_reply": "2022-05-01T01:53:22.107554Z"
        },
        "papermill": {
          "duration": 634.634564,
          "end_time": "2022-05-01T01:53:22.143334",
          "exception": false,
          "start_time": "2022-05-01T01:42:47.508770",
          "status": "completed"
        },
        "tags": [],
        "id": "96c289fa",
        "outputId": "ad7fd50a-650c-4397-c119-2ab933788280",
        "colab": {
          "base_uri": "https://localhost:8080/"
        }
      },
      "outputs": [
        {
          "output_type": "stream",
          "name": "stdout",
          "text": [
            "Training logistic Classifier on Full Training data...\n"
          ]
        },
        {
          "output_type": "execute_result",
          "data": {
            "text/plain": [
              "Pipeline(steps=[('tfidf_pipe',\n",
              "                 TfidfVectorizer(max_df=0.97, min_df=0.005,\n",
              "                                 ngram_range=(1, 2))),\n",
              "                ('model',\n",
              "                 LogisticRegression(C=1, n_jobs=-1, penalty='l1',\n",
              "                                    solver='saga'))])"
            ]
          },
          "metadata": {},
          "execution_count": 17
        }
      ],
      "source": [
        "print(f\"Training {best_acc_key} Classifier on Full Training data...\")\n",
        "best_model.fit(X_train_full, y_train_full)"
      ]
    },
    {
      "cell_type": "code",
      "execution_count": null,
      "id": "9192e422",
      "metadata": {
        "execution": {
          "iopub.execute_input": "2022-05-01T01:53:22.213584Z",
          "iopub.status.busy": "2022-05-01T01:53:22.212982Z",
          "iopub.status.idle": "2022-05-01T01:54:32.281454Z",
          "shell.execute_reply": "2022-05-01T01:54:32.280441Z"
        },
        "papermill": {
          "duration": 70.106094,
          "end_time": "2022-05-01T01:54:32.283863",
          "exception": false,
          "start_time": "2022-05-01T01:53:22.177769",
          "status": "completed"
        },
        "tags": [],
        "id": "9192e422",
        "outputId": "cc553210-21f9-4f9b-f3f7-7415b21514dc",
        "colab": {
          "base_uri": "https://localhost:8080/",
          "height": 487
        }
      },
      "outputs": [
        {
          "output_type": "stream",
          "name": "stdout",
          "text": [
            "Accuracy on Val dataset =  0.7385489215906538\n",
            "Validation Report:\n",
            "              precision    recall  f1-score   support\n",
            "\n",
            "    Negative       0.76      0.63      0.69     28452\n",
            "     Neutral       0.50      0.58      0.54     32908\n",
            "    Positive       0.85      0.84      0.84     81072\n",
            "\n",
            "    accuracy                           0.74    142432\n",
            "   macro avg       0.70      0.68      0.69    142432\n",
            "weighted avg       0.75      0.74      0.74    142432\n",
            "\n"
          ]
        },
        {
          "output_type": "display_data",
          "data": {
            "text/plain": [
              "<Figure size 432x288 with 2 Axes>"
            ],
            "image/png": "[encoded data removed]"
          },
          "metadata": {
            "needs_background": "light"
          }
        }
      ],
      "source": [
        "y_val_pred = best_model.predict(rev_val['review'])\n",
        "print(\"Accuracy on Val dataset = \", metrics.accuracy_score(y_val, y_val_pred))\n",
        "\n",
        "print(\"Validation Report:\")\n",
        "print(metrics.classification_report(y_val, y_val_pred))\n",
        "\n",
        "cm = metrics.confusion_matrix(y_val, y_val_pred, labels=clf.classes_)\n",
        "disp = metrics.ConfusionMatrixDisplay(confusion_matrix=cm)\n",
        "disp.plot()\n",
        "plt.show()"
      ]
    },
    {
      "cell_type": "code",
      "execution_count": null,
      "id": "a1d5e7fe",
      "metadata": {
        "execution": {
          "iopub.execute_input": "2022-05-01T01:54:32.355389Z",
          "iopub.status.busy": "2022-05-01T01:54:32.354595Z",
          "iopub.status.idle": "2022-05-01T01:56:10.680133Z",
          "shell.execute_reply": "2022-05-01T01:56:10.679028Z"
        },
        "papermill": {
          "duration": 98.364993,
          "end_time": "2022-05-01T01:56:10.683530",
          "exception": false,
          "start_time": "2022-05-01T01:54:32.318537",
          "status": "completed"
        },
        "tags": [],
        "id": "a1d5e7fe",
        "outputId": "3a2ee26a-ac1e-429c-d327-8e9bb6eea477",
        "colab": {
          "base_uri": "https://localhost:8080/",
          "height": 487
        }
      },
      "outputs": [
        {
          "output_type": "stream",
          "name": "stdout",
          "text": [
            "Accuracy on Test dataset =  0.7365967694235942\n",
            "Test Data Classification Report:\n",
            "              precision    recall  f1-score   support\n",
            "\n",
            "    Negative       0.77      0.65      0.70     28284\n",
            "     Neutral       0.50      0.57      0.54     33475\n",
            "    Positive       0.84      0.84      0.84     80259\n",
            "\n",
            "    accuracy                           0.74    142018\n",
            "   macro avg       0.70      0.69      0.69    142018\n",
            "weighted avg       0.75      0.74      0.74    142018\n",
            "\n"
          ]
        },
        {
          "output_type": "display_data",
          "data": {
            "text/plain": [
              "<Figure size 432x288 with 2 Axes>"
            ],
            "image/png": "[encoded data removed]"
          },
          "metadata": {
            "needs_background": "light"
          }
        }
      ],
      "source": [
        "y_test_pred = best_model.predict(rev_test['review'])\n",
        "print(\"Accuracy on Test dataset = \", metrics.accuracy_score(y_test, y_test_pred))\n",
        "\n",
        "print(\"Test Data Classification Report:\")\n",
        "print(metrics.classification_report(y_test, y_test_pred))\n",
        "\n",
        "cm = metrics.confusion_matrix(y_test, y_test_pred, labels=clf.classes_)\n",
        "disp = metrics.ConfusionMatrixDisplay(confusion_matrix=cm)\n",
        "disp.plot()\n",
        "plt.show()"
      ]
    }
  ],
  "metadata": {
    "kernelspec": {
      "display_name": "Python 3",
      "language": "python",
      "name": "python3"
    },
    "language_info": {
      "codemirror_mode": {
        "name": "ipython",
        "version": 3
      },
      "file_extension": ".py",
      "mimetype": "text/x-python",
      "name": "python",
      "nbconvert_exporter": "python",
      "pygments_lexer": "ipython3",
      "version": "3.7.12"
    },
    "papermill": {
      "default_parameters": {},
      "duration": 12460.127318,
      "end_time": "2022-05-01T01:56:14.221146",
      "environment_variables": {},
      "exception": null,
      "input_path": "__notebook__.ipynb",
      "output_path": "__notebook__.ipynb",
      "parameters": {},
      "start_time": "2022-04-30T22:28:34.093828",
      "version": "2.3.4"
    },
    "colab": {
      "name": "Project_Part4(1).ipynb",
      "provenance": [],
      "collapsed_sections": []
    },
    "accelerator": "GPU"
  },
  "nbformat": 4,
  "nbformat_minor": 5
}