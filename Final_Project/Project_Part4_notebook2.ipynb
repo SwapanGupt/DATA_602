{
  "cells": [
    {
      "cell_type": "code",
      "source": [
        "from google.colab import drive\n",
        "drive.mount(\"/content/drive\")"
      ],
      "metadata": {
        "colab": {
          "base_uri": "https://localhost:8080/"
        },
        "id": "yziyvS4oFjhk",
        "outputId": "c493424a-f856-457f-d5f9-523cbc77da67"
      },
      "id": "yziyvS4oFjhk",
      "execution_count": null,
      "outputs": [
        {
          "output_type": "stream",
          "name": "stdout",
          "text": [
            "Mounted at /content/drive\n"
          ]
        }
      ]
    },
    {
      "cell_type": "code",
      "execution_count": null,
      "id": "15f6c6fa",
      "metadata": {
        "_cell_guid": "b1076dfc-b9ad-4769-8c92-a6c4dae69d19",
        "_uuid": "8f2839f25d086af736a60e9eeb907d3b93b6e0e5",
        "execution": {
          "iopub.execute_input": "2022-04-30T22:20:46.918784Z",
          "iopub.status.busy": "2022-04-30T22:20:46.918176Z",
          "iopub.status.idle": "2022-04-30T22:20:52.541242Z",
          "shell.execute_reply": "2022-04-30T22:20:52.540349Z"
        },
        "papermill": {
          "duration": 5.645015,
          "end_time": "2022-04-30T22:20:52.543839",
          "exception": false,
          "start_time": "2022-04-30T22:20:46.898824",
          "status": "completed"
        },
        "tags": [],
        "colab": {
          "base_uri": "https://localhost:8080/"
        },
        "id": "15f6c6fa",
        "outputId": "630c6ae5-8da3-46a7-8954-2c42d418a881"
      },
      "outputs": [
        {
          "output_type": "execute_result",
          "data": {
            "text/plain": [
              "['dataset.zip',\n",
              " 'imdb_movies_raw.csv.gz',\n",
              " 'imdb_reviews_raw.csv.gz',\n",
              " 'word2vec.gensim',\n",
              " 'lda.gensim.state',\n",
              " 'lda.gensim',\n",
              " 'lda.gensim.expElogbeta.npy',\n",
              " 'lda.gensim.id2word',\n",
              " 'imdb_movies_train.csv.gz',\n",
              " 'imdb_reviews_train.csv.gz',\n",
              " 'imdb_movies_val.csv.gz',\n",
              " 'imdb_movies_test.csv.gz',\n",
              " 'imdb_reviews_val.csv.gz',\n",
              " 'imdb_reviews_test.csv.gz']"
            ]
          },
          "metadata": {},
          "execution_count": 2
        }
      ],
      "source": [
        "import numpy as np\n",
        "import pandas as pd\n",
        "import matplotlib.pyplot as plt\n",
        "from collections import Counter\n",
        "from tqdm.notebook import tqdm\n",
        "import nltk, re\n",
        "import seaborn as sns\n",
        "import string\n",
        "import os, gc\n",
        "import random\n",
        "import keras\n",
        "\n",
        "tqdm.pandas()\n",
        "base_dir = \"/content/drive/Shareddrives/602Project/Assigns\"\n",
        "os.listdir(base_dir)"
      ]
    },
    {
      "cell_type": "code",
      "execution_count": null,
      "id": "b9fce8b4",
      "metadata": {
        "execution": {
          "iopub.execute_input": "2022-04-30T22:20:52.583283Z",
          "iopub.status.busy": "2022-04-30T22:20:52.583079Z",
          "iopub.status.idle": "2022-04-30T22:21:28.860891Z",
          "shell.execute_reply": "2022-04-30T22:21:28.860134Z"
        },
        "papermill": {
          "duration": 36.316912,
          "end_time": "2022-04-30T22:21:28.880206",
          "exception": false,
          "start_time": "2022-04-30T22:20:52.563294",
          "status": "completed"
        },
        "tags": [],
        "colab": {
          "base_uri": "https://localhost:8080/"
        },
        "id": "b9fce8b4",
        "outputId": "9026db09-9577-4d40-fb2f-6f4de7985ac9"
      },
      "outputs": [
        {
          "output_type": "stream",
          "name": "stdout",
          "text": [
            "Reviews data:\n",
            "(507092, 11) Index(['username', 'rating', 'helpful', 'total', 'date', 'title', 'review',\n",
            "       'year', 'name', 'emojis', 'review_words'],\n",
            "      dtype='object')\n",
            "(142432, 11) (142018, 11)\n"
          ]
        }
      ],
      "source": [
        "rev_train = pd.read_csv(f\"{base_dir}/imdb_reviews_train.csv.gz\", compression=\"gzip\")\n",
        "rev_val = pd.read_csv(f\"{base_dir}/imdb_reviews_val.csv.gz\", compression=\"gzip\")\n",
        "rev_test = pd.read_csv(f\"{base_dir}/imdb_reviews_test.csv.gz\", compression=\"gzip\")\n",
        "print(\"Reviews data:\")\n",
        "print(rev_train.shape, rev_train.columns)\n",
        "print(rev_val.shape, rev_test.shape)"
      ]
    },
    {
      "cell_type": "markdown",
      "id": "3c2ea7f3",
      "metadata": {
        "papermill": {
          "duration": 0.017424,
          "end_time": "2022-04-30T22:21:28.916257",
          "exception": false,
          "start_time": "2022-04-30T22:21:28.898833",
          "status": "completed"
        },
        "tags": [],
        "id": "3c2ea7f3"
      },
      "source": [
        "This notebook explores Neural Networks (using w2v) & Deep Learning Models."
      ]
    },
    {
      "cell_type": "code",
      "execution_count": null,
      "id": "c03f2f4d",
      "metadata": {
        "execution": {
          "iopub.execute_input": "2022-04-30T22:21:28.953679Z",
          "iopub.status.busy": "2022-04-30T22:21:28.953033Z",
          "iopub.status.idle": "2022-04-30T22:21:50.924028Z",
          "shell.execute_reply": "2022-04-30T22:21:50.923391Z"
        },
        "papermill": {
          "duration": 21.991752,
          "end_time": "2022-04-30T22:21:50.925759",
          "exception": false,
          "start_time": "2022-04-30T22:21:28.934007",
          "status": "completed"
        },
        "tags": [],
        "colab": {
          "base_uri": "https://localhost:8080/"
        },
        "id": "c03f2f4d",
        "outputId": "1a7071d7-f5cf-491a-fad2-d8fb45b7c281"
      },
      "outputs": [
        {
          "output_type": "execute_result",
          "data": {
            "text/plain": [
              "((507092, 12), (142432, 12), (142018, 12))"
            ]
          },
          "metadata": {},
          "execution_count": 4
        }
      ],
      "source": [
        "def get_target_var(x):\n",
        "    \n",
        "    if x < 5:\n",
        "        return \"Negative\"\n",
        "    \n",
        "    elif x>=5 and x <= 7:\n",
        "        return \"Neutral\"\n",
        "    \n",
        "    elif x >= 8:\n",
        "        return \"Positive\"\n",
        "    \n",
        "    return x\n",
        "\n",
        "\n",
        "def reformat_data(rev_df):\n",
        "    \n",
        "    rev_df = rev_df.dropna(subset=['review_words']).reset_index(drop=1)\n",
        "    rev_df['review_words'] = rev_df['review_words'].str.split(r\"\\|\")\n",
        "    rev_df['review_words'] = rev_df['review_words'].str.join(\" \")\n",
        "    rev_df['sentiment'] = rev_df['rating'].apply(get_target_var)\n",
        "    return rev_df\n",
        "\n",
        "\n",
        "rev_train = reformat_data(rev_train)\n",
        "rev_val = reformat_data(rev_val)\n",
        "rev_test = reformat_data(rev_test)\n",
        "\n",
        "rev_train.shape, rev_val.shape, rev_test.shape"
      ]
    },
    {
      "cell_type": "code",
      "execution_count": null,
      "id": "f6cbc554",
      "metadata": {
        "execution": {
          "iopub.execute_input": "2022-04-30T22:21:50.963922Z",
          "iopub.status.busy": "2022-04-30T22:21:50.963705Z",
          "iopub.status.idle": "2022-04-30T22:21:51.402312Z",
          "shell.execute_reply": "2022-04-30T22:21:51.401603Z"
        },
        "papermill": {
          "duration": 0.459861,
          "end_time": "2022-04-30T22:21:51.404357",
          "exception": false,
          "start_time": "2022-04-30T22:21:50.944496",
          "status": "completed"
        },
        "tags": [],
        "id": "f6cbc554"
      },
      "outputs": [],
      "source": [
        "label_map = {'Negative': 0,\n",
        "  'Neutral': 1,\n",
        "  'Positive': 2} \n",
        "\n",
        "y_train = rev_train['sentiment'].replace(label_map).values\n",
        "y_val = rev_val['sentiment'].replace(label_map).values\n",
        "y_test = rev_test['sentiment'].replace(label_map).values"
      ]
    },
    {
      "cell_type": "markdown",
      "source": [
        "Reference: Tf.keras.preprocessing.text.tokenizer &nbsp;: &nbsp; Tensorflow core v2.8.0. TensorFlow. (n.d.). Retrieved May 11, 2022, from https://www.tensorflow.org/api_docs/python/tf/keras/preprocessing/text/Tokenizer "
      ],
      "metadata": {
        "id": "gWbf6UNfgtQZ"
      },
      "id": "gWbf6UNfgtQZ"
    },
    {
      "cell_type": "code",
      "execution_count": null,
      "id": "05abf8ee",
      "metadata": {
        "execution": {
          "iopub.execute_input": "2022-04-30T22:21:51.444159Z",
          "iopub.status.busy": "2022-04-30T22:21:51.443945Z",
          "iopub.status.idle": "2022-04-30T22:23:19.655474Z",
          "shell.execute_reply": "2022-04-30T22:23:19.654655Z"
        },
        "papermill": {
          "duration": 88.255517,
          "end_time": "2022-04-30T22:23:19.678663",
          "exception": false,
          "start_time": "2022-04-30T22:21:51.423146",
          "status": "completed"
        },
        "tags": [],
        "id": "05abf8ee",
        "outputId": "bbfedc06-0633-47a3-aa1c-6be2af5b79fc",
        "colab": {
          "base_uri": "https://localhost:8080/"
        }
      },
      "outputs": [
        {
          "output_type": "stream",
          "name": "stdout",
          "text": [
            "Number of Unique Words (vocab): 161052\n"
          ]
        }
      ],
      "source": [
        "from keras.preprocessing.text import Tokenizer\n",
        "MAX_WORDS = 11**5\n",
        "tok = Tokenizer(num_words=MAX_WORDS)\n",
        "tok.fit_on_texts(rev_train['review'])\n",
        "vocab_size = tok.num_words + 1  \n",
        "print(\"Number of Unique Words (vocab):\", vocab_size)"
      ]
    },
    {
      "cell_type": "code",
      "execution_count": null,
      "id": "f7423261",
      "metadata": {
        "execution": {
          "iopub.execute_input": "2022-04-30T22:23:19.719393Z",
          "iopub.status.busy": "2022-04-30T22:23:19.718731Z",
          "iopub.status.idle": "2022-04-30T22:25:29.573967Z",
          "shell.execute_reply": "2022-04-30T22:25:29.573299Z"
        },
        "papermill": {
          "duration": 129.894183,
          "end_time": "2022-04-30T22:25:29.593196",
          "exception": false,
          "start_time": "2022-04-30T22:23:19.699013",
          "status": "completed"
        },
        "tags": [],
        "id": "f7423261",
        "outputId": "55ffc26d-eac6-4572-8e21-ffae8da9b11b",
        "colab": {
          "base_uri": "https://localhost:8080/"
        }
      },
      "outputs": [
        {
          "output_type": "execute_result",
          "data": {
            "text/plain": [
              "((507092, 512), (142432, 512), (142018, 512))"
            ]
          },
          "metadata": {},
          "execution_count": 7
        }
      ],
      "source": [
        "from keras.preprocessing.sequence import pad_sequences\n",
        "\n",
        "def preprocess_text(t, max_len=512):\n",
        "    seq = tok.texts_to_sequences(t)\n",
        "    return pad_sequences(seq, padding='pre', maxlen=max_len)\n",
        "\n",
        "MAXLEN = 512\n",
        "X_train = preprocess_text(rev_train['review'], MAXLEN)\n",
        "X_val = preprocess_text(rev_val['review'], MAXLEN)\n",
        "X_test = preprocess_text(rev_test['review'], MAXLEN)\n",
        "\n",
        "X_train.shape, X_val.shape, X_test.shape"
      ]
    },
    {
      "cell_type": "markdown",
      "source": [
        "Reference: Pennington, J. (n.d.). Glove: Global vectors for word representation. Retrieved May 11, 2022, from https://nlp.stanford.edu/projects/glove/ "
      ],
      "metadata": {
        "id": "i_a0fmzVKJVS"
      },
      "id": "i_a0fmzVKJVS"
    },
    {
      "cell_type": "code",
      "execution_count": null,
      "id": "834064bc",
      "metadata": {
        "execution": {
          "iopub.execute_input": "2022-04-30T22:25:29.631739Z",
          "iopub.status.busy": "2022-04-30T22:25:29.631135Z",
          "iopub.status.idle": "2022-04-30T22:28:34.306856Z",
          "shell.execute_reply": "2022-04-30T22:28:34.305939Z"
        },
        "papermill": {
          "duration": 184.697441,
          "end_time": "2022-04-30T22:28:34.309069",
          "exception": false,
          "start_time": "2022-04-30T22:25:29.611628",
          "status": "completed"
        },
        "tags": [],
        "id": "834064bc",
        "outputId": "cf6c70bb-9755-407d-d9fd-0db47ca6bd19",
        "colab": {
          "base_uri": "https://localhost:8080/"
        }
      },
      "outputs": [
        {
          "output_type": "stream",
          "name": "stdout",
          "text": [
            "--2022-05-08 21:57:25--  http://nlp.stanford.edu/data/glove.6B.zip\n",
            "Resolving nlp.stanford.edu (nlp.stanford.edu)... 171.64.67.140\n",
            "Connecting to nlp.stanford.edu (nlp.stanford.edu)|171.64.67.140|:80... connected.\n",
            "HTTP request sent, awaiting response... 302 Found\n",
            "Location: https://nlp.stanford.edu/data/glove.6B.zip [following]\n",
            "--2022-05-08 21:57:25--  https://nlp.stanford.edu/data/glove.6B.zip\n",
            "Connecting to nlp.stanford.edu (nlp.stanford.edu)|171.64.67.140|:443... connected.\n",
            "HTTP request sent, awaiting response... 301 Moved Permanently\n",
            "Location: http://downloads.cs.stanford.edu/nlp/data/glove.6B.zip [following]\n",
            "--2022-05-08 21:57:26--  http://downloads.cs.stanford.edu/nlp/data/glove.6B.zip\n",
            "Resolving downloads.cs.stanford.edu (downloads.cs.stanford.edu)... 171.64.64.22\n",
            "Connecting to downloads.cs.stanford.edu (downloads.cs.stanford.edu)|171.64.64.22|:80... connected.\n",
            "HTTP request sent, awaiting response... 200 OK\n",
            "Length: 862182613 (822M) [application/zip]\n",
            "Saving to: ‘glove.6B.zip’\n",
            "\n",
            "glove.6B.zip        100%[===================>] 822.24M  5.00MB/s    in 2m 42s  \n",
            "\n",
            "2022-05-08 22:00:08 (5.08 MB/s) - ‘glove.6B.zip’ saved [862182613/862182613]\n",
            "\n",
            "drive\t\t   glove.6B.200d.txt  glove.6B.50d.txt\tsample_data\n",
            "glove.6B.100d.txt  glove.6B.300d.txt  glove.6B.zip\n"
          ]
        }
      ],
      "source": [
        "!wget http://nlp.stanford.edu/data/glove.6B.zip\n",
        "!unzip -q glove.6B.zip\n",
        "!ls"
      ]
    },
    {
      "cell_type": "markdown",
      "source": [
        "Reference: Team, K. (n.d.). Keras documentation: Using pre-trained word embeddings. Keras. Retrieved May 11, 2022, from https://keras.io/examples/nlp/pretrained_word_embeddings/ "
      ],
      "metadata": {
        "id": "bGl1nHo7IoSM"
      },
      "id": "bGl1nHo7IoSM"
    },
    {
      "cell_type": "code",
      "execution_count": null,
      "id": "d93b2afe",
      "metadata": {
        "execution": {
          "iopub.execute_input": "2022-04-30T22:28:34.489372Z",
          "iopub.status.busy": "2022-04-30T22:28:34.489110Z",
          "iopub.status.idle": "2022-04-30T22:28:41.175323Z",
          "shell.execute_reply": "2022-04-30T22:28:41.174284Z"
        },
        "papermill": {
          "duration": 6.779522,
          "end_time": "2022-04-30T22:28:41.177124",
          "exception": false,
          "start_time": "2022-04-30T22:28:34.397602",
          "status": "completed"
        },
        "tags": [],
        "id": "d93b2afe",
        "outputId": "a828a374-5bbf-4d7a-c9cc-843ff01f947f",
        "colab": {
          "base_uri": "https://localhost:8080/"
        }
      },
      "outputs": [
        {
          "output_type": "stream",
          "name": "stdout",
          "text": [
            "400000 word vectors found.\n",
            "Embedding matrix with pretrained vectors ready: (161052, 50)\n"
          ]
        }
      ],
      "source": [
        "\n",
        "embed_dim = 50\n",
        "glove_fp = \"glove.6B.50d.txt\"\n",
        "\n",
        "embed_index = {}\n",
        "with open(glove_fp) as f:\n",
        "    for line in f:\n",
        "        word, coefs = line.split(maxsplit=1)\n",
        "        coefs = np.fromstring(coefs, \"f\", sep=\" \")\n",
        "        embed_index[word] = coefs\n",
        "\n",
        "print(f\"{len(embed_index)} word vectors found.\")\n",
        "\n",
        "\n",
        "embed_weights = np.zeros((vocab_size, embed_dim))\n",
        "for word, i in tok.word_index.items():\n",
        "    embed_vector = embed_index.get(word)\n",
        "    if i > MAX_WORDS:\n",
        "        break\n",
        "    if embed_vector is not None:\n",
        "        embed_weights[i] = embed_vector\n",
        "        \n",
        "\n",
        "print(\"Embedding matrix with pretrained vectors ready:\", embed_weights.shape)\n",
        "embed_init = keras.initializers.Constant(embed_weights)"
      ]
    },
    {
      "cell_type": "markdown",
      "source": [
        "Reference: Team, K. (n.d.). Keras Documentation: The sequential model. Keras. Retrieved May 11, 2022, from https://keras.io/guides/sequential_model/ "
      ],
      "metadata": {
        "id": "draVCdNzI2j4"
      },
      "id": "draVCdNzI2j4"
    },
    {
      "cell_type": "code",
      "execution_count": null,
      "id": "1169a298",
      "metadata": {
        "execution": {
          "iopub.execute_input": "2022-04-30T22:28:41.354417Z",
          "iopub.status.busy": "2022-04-30T22:28:41.354174Z",
          "iopub.status.idle": "2022-04-30T22:28:41.366283Z",
          "shell.execute_reply": "2022-04-30T22:28:41.365586Z"
        },
        "papermill": {
          "duration": 0.10299,
          "end_time": "2022-04-30T22:28:41.368040",
          "exception": false,
          "start_time": "2022-04-30T22:28:41.265050",
          "status": "completed"
        },
        "tags": [],
        "id": "1169a298"
      },
      "outputs": [],
      "source": [
        "\n",
        "from keras.models import Sequential\n",
        "from keras import layers\n",
        "\n",
        "def build_cnn_model():\n",
        "    text_cnn = Sequential()\n",
        "    text_cnn.add(layers.Embedding(vocab_size, embed_dim, input_length=MAXLEN, \n",
        "                                  embeddings_initializer=embed_init))\n",
        "    text_cnn.add(layers.Conv1D(64, kernel_size=3, activation='relu'))\n",
        "    text_cnn.add(layers.GlobalMaxPooling1D())\n",
        "    text_cnn.add(layers.Dense(16, activation='relu'))\n",
        "    text_cnn.add(layers.Dense(3, activation='softmax'))\n",
        "    text_cnn.compile(optimizer='rmsprop',\n",
        "                     loss='sparse_categorical_crossentropy',\n",
        "                     metrics=['accuracy'])\n",
        "    # text_cnn.summary()\n",
        "    return text_cnn\n",
        "\n",
        "def build_gru_model():\n",
        "    gru = Sequential()\n",
        "    gru.add(layers.Embedding(vocab_size, embed_dim, input_length=MAXLEN,\n",
        "                                  embeddings_initializer=embed_init))\n",
        "    gru.add(layers.GRU(64))\n",
        "    gru.add(layers.Dropout(0.2))\n",
        "    gru.add(layers.Dense(16, activation='relu'))\n",
        "    gru.add(layers.Dense(3, activation='softmax'))\n",
        "    gru.compile(optimizer='rmsprop',\n",
        "                     loss='sparse_categorical_crossentropy',\n",
        "                     metrics=['accuracy'])\n",
        "    # gru.summary()\n",
        "    return gru\n",
        "\n",
        "\n",
        "def build_lstm_model():\n",
        "    lstm = Sequential()\n",
        "    lstm.add(layers.Embedding(vocab_size, embed_dim, input_length=MAXLEN,\n",
        "                                  embeddings_initializer=embed_init))\n",
        "    lstm.add(layers.LSTM(64))\n",
        "    lstm.add(layers.Dropout(0.4))\n",
        "    lstm.add(layers.Dense(16, activation='relu'))\n",
        "    lstm.add(layers.Dense(3, activation='softmax'))\n",
        "    lstm.compile(optimizer='rmsprop',\n",
        "                     loss='sparse_categorical_crossentropy',\n",
        "                     metrics=['accuracy'])\n",
        "    # lstm.summary()\n",
        "    return lstm"
      ]
    },
    {
      "cell_type": "code",
      "execution_count": null,
      "id": "24ae7d05",
      "metadata": {
        "execution": {
          "iopub.execute_input": "2022-04-30T22:28:41.540316Z",
          "iopub.status.busy": "2022-04-30T22:28:41.540078Z",
          "iopub.status.idle": "2022-04-30T22:28:44.612591Z",
          "shell.execute_reply": "2022-04-30T22:28:44.611924Z"
        },
        "papermill": {
          "duration": 3.160007,
          "end_time": "2022-04-30T22:28:44.614332",
          "exception": false,
          "start_time": "2022-04-30T22:28:41.454325",
          "status": "completed"
        },
        "tags": [],
        "id": "24ae7d05"
      },
      "outputs": [],
      "source": [
        "all_clf = {'CNN_Model': build_cnn_model(),\n",
        "          'GRU_Model': build_gru_model(),\n",
        "          'LSTM_Model': build_lstm_model(),}"
      ]
    },
    {
      "cell_type": "code",
      "execution_count": null,
      "id": "1151d281",
      "metadata": {
        "execution": {
          "iopub.execute_input": "2022-04-30T22:28:44.789438Z",
          "iopub.status.busy": "2022-04-30T22:28:44.789197Z",
          "iopub.status.idle": "2022-05-01T00:27:55.049425Z",
          "shell.execute_reply": "2022-05-01T00:27:55.048610Z"
        },
        "papermill": {
          "duration": 7150.34955,
          "end_time": "2022-05-01T00:27:55.051618",
          "exception": false,
          "start_time": "2022-04-30T22:28:44.702068",
          "status": "completed"
        },
        "tags": [],
        "id": "1151d281",
        "outputId": "e3353add-077b-425d-d4cf-e04de7b2f375",
        "colab": {
          "base_uri": "https://localhost:8080/"
        }
      },
      "outputs": [
        {
          "output_type": "stream",
          "name": "stdout",
          "text": [
            "----------------------------------------------------------------------------------------------------\n",
            "Training CNN_Model...\n",
            "Epoch 1/10\n",
            "7921/7924 [============================>.] - ETA: 0s - loss: 0.5832 - accuracy: 0.7535WARNING:tensorflow:Early stopping conditioned on metric `val_acc` which is not available. Available metrics are: loss,accuracy,val_loss,val_accuracy\n",
            "WARNING:tensorflow:Can save best model only with val_acc available, skipping.\n",
            "7924/7924 [==============================] - 52s 6ms/step - loss: 0.5832 - accuracy: 0.7536 - val_loss: 0.5511 - val_accuracy: 0.7690\n",
            "Epoch 2/10\n",
            "7923/7924 [============================>.] - ETA: 0s - loss: 0.4951 - accuracy: 0.7965WARNING:tensorflow:Early stopping conditioned on metric `val_acc` which is not available. Available metrics are: loss,accuracy,val_loss,val_accuracy\n",
            "WARNING:tensorflow:Can save best model only with val_acc available, skipping.\n",
            "7924/7924 [==============================] - 51s 6ms/step - loss: 0.4951 - accuracy: 0.7965 - val_loss: 0.5089 - val_accuracy: 0.7889\n",
            "Epoch 3/10\n",
            "7923/7924 [============================>.] - ETA: 0s - loss: 0.4712 - accuracy: 0.8076WARNING:tensorflow:Early stopping conditioned on metric `val_acc` which is not available. Available metrics are: loss,accuracy,val_loss,val_accuracy\n",
            "WARNING:tensorflow:Can save best model only with val_acc available, skipping.\n",
            "7924/7924 [==============================] - 51s 6ms/step - loss: 0.4712 - accuracy: 0.8076 - val_loss: 0.4933 - val_accuracy: 0.7970\n",
            "Epoch 4/10\n",
            "7917/7924 [============================>.] - ETA: 0s - loss: 0.4561 - accuracy: 0.8148WARNING:tensorflow:Early stopping conditioned on metric `val_acc` which is not available. Available metrics are: loss,accuracy,val_loss,val_accuracy\n",
            "WARNING:tensorflow:Can save best model only with val_acc available, skipping.\n",
            "7924/7924 [==============================] - 51s 6ms/step - loss: 0.4560 - accuracy: 0.8148 - val_loss: 0.4931 - val_accuracy: 0.7971\n",
            "Epoch 5/10\n",
            "7919/7924 [============================>.] - ETA: 0s - loss: 0.4452 - accuracy: 0.8203WARNING:tensorflow:Early stopping conditioned on metric `val_acc` which is not available. Available metrics are: loss,accuracy,val_loss,val_accuracy\n",
            "WARNING:tensorflow:Can save best model only with val_acc available, skipping.\n",
            "7924/7924 [==============================] - 51s 6ms/step - loss: 0.4452 - accuracy: 0.8203 - val_loss: 0.5126 - val_accuracy: 0.7884\n",
            "Epoch 6/10\n",
            "7922/7924 [============================>.] - ETA: 0s - loss: 0.4372 - accuracy: 0.8248WARNING:tensorflow:Early stopping conditioned on metric `val_acc` which is not available. Available metrics are: loss,accuracy,val_loss,val_accuracy\n",
            "WARNING:tensorflow:Can save best model only with val_acc available, skipping.\n",
            "7924/7924 [==============================] - 51s 6ms/step - loss: 0.4372 - accuracy: 0.8248 - val_loss: 0.5031 - val_accuracy: 0.7956\n",
            "Epoch 7/10\n",
            "7923/7924 [============================>.] - ETA: 0s - loss: 0.4307 - accuracy: 0.8285WARNING:tensorflow:Early stopping conditioned on metric `val_acc` which is not available. Available metrics are: loss,accuracy,val_loss,val_accuracy\n",
            "WARNING:tensorflow:Can save best model only with val_acc available, skipping.\n",
            "7924/7924 [==============================] - 51s 6ms/step - loss: 0.4307 - accuracy: 0.8285 - val_loss: 0.5035 - val_accuracy: 0.7933\n",
            "Epoch 8/10\n",
            "7916/7924 [============================>.] - ETA: 0s - loss: 0.4251 - accuracy: 0.8314WARNING:tensorflow:Early stopping conditioned on metric `val_acc` which is not available. Available metrics are: loss,accuracy,val_loss,val_accuracy\n",
            "WARNING:tensorflow:Can save best model only with val_acc available, skipping.\n",
            "7924/7924 [==============================] - 51s 6ms/step - loss: 0.4251 - accuracy: 0.8314 - val_loss: 0.5391 - val_accuracy: 0.7863\n",
            "Epoch 9/10\n",
            "7918/7924 [============================>.] - ETA: 0s - loss: 0.4214 - accuracy: 0.8339WARNING:tensorflow:Early stopping conditioned on metric `val_acc` which is not available. Available metrics are: loss,accuracy,val_loss,val_accuracy\n",
            "WARNING:tensorflow:Can save best model only with val_acc available, skipping.\n",
            "7924/7924 [==============================] - 51s 6ms/step - loss: 0.4214 - accuracy: 0.8339 - val_loss: 0.5168 - val_accuracy: 0.7944\n",
            "Epoch 10/10\n",
            "7924/7924 [==============================] - ETA: 0s - loss: 0.4174 - accuracy: 0.8356WARNING:tensorflow:Early stopping conditioned on metric `val_acc` which is not available. Available metrics are: loss,accuracy,val_loss,val_accuracy\n",
            "WARNING:tensorflow:Can save best model only with val_acc available, skipping.\n",
            "7924/7924 [==============================] - 54s 7ms/step - loss: 0.4174 - accuracy: 0.8356 - val_loss: 0.5370 - val_accuracy: 0.7762\n",
            "4439/4439 [==============================] - 12s 3ms/step - loss: 0.5351 - accuracy: 0.7752\n",
            "----------------------------------------------------------------------------------------------------\n",
            "Training GRU_Model...\n",
            "Epoch 1/10\n",
            "7924/7924 [==============================] - ETA: 0s - loss: 0.5365 - accuracy: 0.7751WARNING:tensorflow:Early stopping conditioned on metric `val_acc` which is not available. Available metrics are: loss,accuracy,val_loss,val_accuracy\n",
            "WARNING:tensorflow:Can save best model only with val_acc available, skipping.\n",
            "7924/7924 [==============================] - 170s 21ms/step - loss: 0.5365 - accuracy: 0.7751 - val_loss: 0.4712 - val_accuracy: 0.8067\n",
            "Epoch 2/10\n",
            "7923/7924 [============================>.] - ETA: 0s - loss: 0.4473 - accuracy: 0.8184WARNING:tensorflow:Early stopping conditioned on metric `val_acc` which is not available. Available metrics are: loss,accuracy,val_loss,val_accuracy\n",
            "WARNING:tensorflow:Can save best model only with val_acc available, skipping.\n",
            "7924/7924 [==============================] - 167s 21ms/step - loss: 0.4473 - accuracy: 0.8184 - val_loss: 0.4532 - val_accuracy: 0.8146\n",
            "Epoch 3/10\n",
            "7924/7924 [==============================] - ETA: 0s - loss: 0.4252 - accuracy: 0.8282WARNING:tensorflow:Early stopping conditioned on metric `val_acc` which is not available. Available metrics are: loss,accuracy,val_loss,val_accuracy\n",
            "WARNING:tensorflow:Can save best model only with val_acc available, skipping.\n",
            "7924/7924 [==============================] - 169s 21ms/step - loss: 0.4252 - accuracy: 0.8282 - val_loss: 0.4707 - val_accuracy: 0.8088\n",
            "Epoch 4/10\n",
            "7923/7924 [============================>.] - ETA: 0s - loss: 0.4104 - accuracy: 0.8357WARNING:tensorflow:Early stopping conditioned on metric `val_acc` which is not available. Available metrics are: loss,accuracy,val_loss,val_accuracy\n",
            "WARNING:tensorflow:Can save best model only with val_acc available, skipping.\n",
            "7924/7924 [==============================] - 168s 21ms/step - loss: 0.4104 - accuracy: 0.8357 - val_loss: 0.4477 - val_accuracy: 0.8190\n",
            "Epoch 5/10\n",
            "7922/7924 [============================>.] - ETA: 0s - loss: 0.3989 - accuracy: 0.8418WARNING:tensorflow:Early stopping conditioned on metric `val_acc` which is not available. Available metrics are: loss,accuracy,val_loss,val_accuracy\n",
            "WARNING:tensorflow:Can save best model only with val_acc available, skipping.\n",
            "7924/7924 [==============================] - 168s 21ms/step - loss: 0.3989 - accuracy: 0.8418 - val_loss: 0.4475 - val_accuracy: 0.8197\n",
            "Epoch 6/10\n",
            "7922/7924 [============================>.] - ETA: 0s - loss: 0.3881 - accuracy: 0.8466WARNING:tensorflow:Early stopping conditioned on metric `val_acc` which is not available. Available metrics are: loss,accuracy,val_loss,val_accuracy\n",
            "WARNING:tensorflow:Can save best model only with val_acc available, skipping.\n",
            "7924/7924 [==============================] - 167s 21ms/step - loss: 0.3880 - accuracy: 0.8466 - val_loss: 0.4651 - val_accuracy: 0.8132\n",
            "Epoch 7/10\n",
            "7924/7924 [==============================] - ETA: 0s - loss: 0.3771 - accuracy: 0.8516WARNING:tensorflow:Early stopping conditioned on metric `val_acc` which is not available. Available metrics are: loss,accuracy,val_loss,val_accuracy\n",
            "WARNING:tensorflow:Can save best model only with val_acc available, skipping.\n",
            "7924/7924 [==============================] - 169s 21ms/step - loss: 0.3771 - accuracy: 0.8516 - val_loss: 0.4532 - val_accuracy: 0.8171\n",
            "Epoch 8/10\n",
            "7922/7924 [============================>.] - ETA: 0s - loss: 0.3665 - accuracy: 0.8571WARNING:tensorflow:Early stopping conditioned on metric `val_acc` which is not available. Available metrics are: loss,accuracy,val_loss,val_accuracy\n",
            "WARNING:tensorflow:Can save best model only with val_acc available, skipping.\n",
            "7924/7924 [==============================] - 169s 21ms/step - loss: 0.3665 - accuracy: 0.8571 - val_loss: 0.4717 - val_accuracy: 0.8098\n",
            "Epoch 9/10\n",
            "7924/7924 [==============================] - ETA: 0s - loss: 0.3554 - accuracy: 0.8628WARNING:tensorflow:Early stopping conditioned on metric `val_acc` which is not available. Available metrics are: loss,accuracy,val_loss,val_accuracy\n",
            "WARNING:tensorflow:Can save best model only with val_acc available, skipping.\n",
            "7924/7924 [==============================] - 169s 21ms/step - loss: 0.3554 - accuracy: 0.8628 - val_loss: 0.4759 - val_accuracy: 0.8099\n",
            "Epoch 10/10\n",
            "7922/7924 [============================>.] - ETA: 0s - loss: 0.3437 - accuracy: 0.8681WARNING:tensorflow:Early stopping conditioned on metric `val_acc` which is not available. Available metrics are: loss,accuracy,val_loss,val_accuracy\n",
            "WARNING:tensorflow:Can save best model only with val_acc available, skipping.\n",
            "7924/7924 [==============================] - 173s 22ms/step - loss: 0.3437 - accuracy: 0.8681 - val_loss: 0.4910 - val_accuracy: 0.8023\n",
            "4439/4439 [==============================] - 36s 8ms/step - loss: 0.4852 - accuracy: 0.8039\n",
            "----------------------------------------------------------------------------------------------------\n",
            "Training LSTM_Model...\n",
            "Epoch 1/10\n",
            "7922/7924 [============================>.] - ETA: 0s - loss: 0.5678 - accuracy: 0.7629WARNING:tensorflow:Early stopping conditioned on metric `val_acc` which is not available. Available metrics are: loss,accuracy,val_loss,val_accuracy\n",
            "WARNING:tensorflow:Can save best model only with val_acc available, skipping.\n",
            "7924/7924 [==============================] - 179s 22ms/step - loss: 0.5679 - accuracy: 0.7629 - val_loss: 0.4826 - val_accuracy: 0.8029\n",
            "Epoch 2/10\n",
            "7922/7924 [============================>.] - ETA: 0s - loss: 0.4613 - accuracy: 0.8138WARNING:tensorflow:Early stopping conditioned on metric `val_acc` which is not available. Available metrics are: loss,accuracy,val_loss,val_accuracy\n",
            "WARNING:tensorflow:Can save best model only with val_acc available, skipping.\n",
            "7924/7924 [==============================] - 176s 22ms/step - loss: 0.4612 - accuracy: 0.8138 - val_loss: 0.4620 - val_accuracy: 0.8123\n",
            "Epoch 3/10\n",
            "7923/7924 [============================>.] - ETA: 0s - loss: 0.4385 - accuracy: 0.8245WARNING:tensorflow:Early stopping conditioned on metric `val_acc` which is not available. Available metrics are: loss,accuracy,val_loss,val_accuracy\n",
            "WARNING:tensorflow:Can save best model only with val_acc available, skipping.\n",
            "7924/7924 [==============================] - 177s 22ms/step - loss: 0.4385 - accuracy: 0.8245 - val_loss: 0.4533 - val_accuracy: 0.8163\n",
            "Epoch 4/10\n",
            "7923/7924 [============================>.] - ETA: 0s - loss: 0.4232 - accuracy: 0.8318WARNING:tensorflow:Early stopping conditioned on metric `val_acc` which is not available. Available metrics are: loss,accuracy,val_loss,val_accuracy\n",
            "WARNING:tensorflow:Can save best model only with val_acc available, skipping.\n",
            "7924/7924 [==============================] - 175s 22ms/step - loss: 0.4232 - accuracy: 0.8317 - val_loss: 0.4514 - val_accuracy: 0.8151\n",
            "Epoch 5/10\n",
            "7924/7924 [==============================] - ETA: 0s - loss: 0.4116 - accuracy: 0.8376WARNING:tensorflow:Early stopping conditioned on metric `val_acc` which is not available. Available metrics are: loss,accuracy,val_loss,val_accuracy\n",
            "WARNING:tensorflow:Can save best model only with val_acc available, skipping.\n",
            "7924/7924 [==============================] - 176s 22ms/step - loss: 0.4116 - accuracy: 0.8376 - val_loss: 0.4539 - val_accuracy: 0.8158\n",
            "Epoch 6/10\n",
            "7922/7924 [============================>.] - ETA: 0s - loss: 0.4021 - accuracy: 0.8427WARNING:tensorflow:Early stopping conditioned on metric `val_acc` which is not available. Available metrics are: loss,accuracy,val_loss,val_accuracy\n",
            "WARNING:tensorflow:Can save best model only with val_acc available, skipping.\n",
            "7924/7924 [==============================] - 176s 22ms/step - loss: 0.4021 - accuracy: 0.8427 - val_loss: 0.4771 - val_accuracy: 0.8083\n",
            "Epoch 7/10\n",
            "7924/7924 [==============================] - ETA: 0s - loss: 0.3935 - accuracy: 0.8472WARNING:tensorflow:Early stopping conditioned on metric `val_acc` which is not available. Available metrics are: loss,accuracy,val_loss,val_accuracy\n",
            "WARNING:tensorflow:Can save best model only with val_acc available, skipping.\n",
            "7924/7924 [==============================] - 179s 23ms/step - loss: 0.3935 - accuracy: 0.8472 - val_loss: 0.4808 - val_accuracy: 0.8104\n",
            "Epoch 8/10\n",
            "7922/7924 [============================>.] - ETA: 0s - loss: 0.3861 - accuracy: 0.8514WARNING:tensorflow:Early stopping conditioned on metric `val_acc` which is not available. Available metrics are: loss,accuracy,val_loss,val_accuracy\n",
            "WARNING:tensorflow:Can save best model only with val_acc available, skipping.\n",
            "7924/7924 [==============================] - 178s 23ms/step - loss: 0.3861 - accuracy: 0.8514 - val_loss: 0.4808 - val_accuracy: 0.8100\n",
            "Epoch 9/10\n",
            "7922/7924 [============================>.] - ETA: 0s - loss: 0.3783 - accuracy: 0.8547WARNING:tensorflow:Early stopping conditioned on metric `val_acc` which is not available. Available metrics are: loss,accuracy,val_loss,val_accuracy\n",
            "WARNING:tensorflow:Can save best model only with val_acc available, skipping.\n",
            "7924/7924 [==============================] - 178s 22ms/step - loss: 0.3783 - accuracy: 0.8547 - val_loss: 0.4688 - val_accuracy: 0.8089\n",
            "Epoch 10/10\n",
            "7922/7924 [============================>.] - ETA: 0s - loss: 0.3708 - accuracy: 0.8585WARNING:tensorflow:Early stopping conditioned on metric `val_acc` which is not available. Available metrics are: loss,accuracy,val_loss,val_accuracy\n",
            "WARNING:tensorflow:Can save best model only with val_acc available, skipping.\n",
            "7924/7924 [==============================] - 180s 23ms/step - loss: 0.3708 - accuracy: 0.8585 - val_loss: 0.4699 - val_accuracy: 0.8125\n",
            "4439/4439 [==============================] - 37s 8ms/step - loss: 0.4673 - accuracy: 0.8122\n"
          ]
        }
      ],
      "source": [
        "model_hist = {}\n",
        "test_acc = {}\n",
        "for key in all_clf:\n",
        "    print(\"-\"*100)\n",
        "    print(f\"Training {key}...\")\n",
        "    model = all_clf[key]\n",
        "    early_stop = keras.callbacks.EarlyStopping(monitor='val_acc', patience=3)\n",
        "    mcp = keras.callbacks.ModelCheckpoint(f\"{key}.h5\", monitor='val_acc', mode=\"max\",\n",
        "                                          save_best_only=True)\n",
        "    hist = model.fit(X_train, y_train, epochs=10, batch_size=64, \n",
        "              validation_data=(X_val, y_val), callbacks=[early_stop, mcp])\n",
        "    tloss, tacc = model.evaluate(X_test, y_test)\n",
        "    model_hist[key] = hist\n",
        "    test_acc[key] = tacc"
      ]
    },
    {
      "cell_type": "code",
      "execution_count": null,
      "id": "a3c308a7",
      "metadata": {
        "execution": {
          "iopub.execute_input": "2022-05-01T00:29:01.821443Z",
          "iopub.status.busy": "2022-05-01T00:29:01.821197Z",
          "iopub.status.idle": "2022-05-01T00:29:01.828758Z",
          "shell.execute_reply": "2022-05-01T00:29:01.828082Z"
        },
        "papermill": {
          "duration": 33.491752,
          "end_time": "2022-05-01T00:29:01.830863",
          "exception": false,
          "start_time": "2022-05-01T00:28:28.339111",
          "status": "completed"
        },
        "tags": [],
        "id": "a3c308a7",
        "outputId": "36580750-adac-4d22-e241-f4d2a2d2b68c",
        "colab": {
          "base_uri": "https://localhost:8080/"
        }
      },
      "outputs": [
        {
          "output_type": "stream",
          "name": "stdout",
          "text": [
            "--------------------------------------------------\n",
            "CNN_Model\n",
            "Average Valiation Accuracy: 0.789\n",
            "Accuracy on Test data: 0.775\n",
            "--------------------------------------------------\n",
            "GRU_Model\n",
            "Average Valiation Accuracy: 0.812\n",
            "Accuracy on Test data: 0.804\n",
            "--------------------------------------------------\n",
            "LSTM_Model\n",
            "Average Valiation Accuracy: 0.811\n",
            "Accuracy on Test data: 0.812\n"
          ]
        }
      ],
      "source": [
        "for key in model_hist:\n",
        "    print(\"-\"*50)\n",
        "    print(key)\n",
        "    avg_val_acc = np.mean(model_hist[key].history['val_accuracy'])\n",
        "    print(\"Average Valiation Accuracy:\", round(avg_val_acc,3))\n",
        "    print(\"Accuracy on Test data:\", round(test_acc[key],3))"
      ]
    }
  ],
  "metadata": {
    "kernelspec": {
      "display_name": "Python 3",
      "language": "python",
      "name": "python3"
    },
    "language_info": {
      "codemirror_mode": {
        "name": "ipython",
        "version": 3
      },
      "file_extension": ".py",
      "mimetype": "text/x-python",
      "name": "python",
      "nbconvert_exporter": "python",
      "pygments_lexer": "ipython3",
      "version": "3.7.12"
    },
    "papermill": {
      "default_parameters": {},
      "duration": 8278.468617,
      "end_time": "2022-05-01T00:38:37.366705",
      "environment_variables": {},
      "exception": null,
      "input_path": "__notebook__.ipynb",
      "output_path": "__notebook__.ipynb",
      "parameters": {},
      "start_time": "2022-04-30T22:20:38.898088",
      "version": "2.3.4"
    },
    "colab": {
      "name": "Project_Part4(2).ipynb",
      "provenance": [],
      "collapsed_sections": []
    },
    "accelerator": "GPU"
  },
  "nbformat": 4,
  "nbformat_minor": 5
}