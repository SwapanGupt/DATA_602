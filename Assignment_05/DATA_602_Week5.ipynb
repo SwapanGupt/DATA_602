{
  "nbformat": 4,
  "nbformat_minor": 0,
  "metadata": {
    "colab": {
      "name": "Swapan_Gupta_602_Week5.ipynb",
      "provenance": []
    },
    "kernelspec": {
      "name": "python3",
      "display_name": "Python 3"
    },
    "language_info": {
      "name": "python"
    }
  },
  "cells": [
    {
      "cell_type": "markdown",
      "source": [
        "#Problem 1\n",
        " In the example given in class, using the Iris dataset, we predicted the species using only the petal length and width.  Repeat the study adding the sepal width and length (in addition to the petal width and length) as predictors.  Does classification accuracy improve with the additional predictors?"
      ],
      "metadata": {
        "id": "px-6S5FcxXBR"
      }
    },
    {
      "cell_type": "code",
      "execution_count": 2,
      "metadata": {
        "id": "7ewmnIQYM4Wq"
      },
      "outputs": [],
      "source": [
        "import sklearn.datasets\n",
        "import matplotlib.pyplot as plt\n",
        "import seaborn as sns\n",
        "from sklearn.datasets import load_iris\n",
        "from sklearn.linear_model import LogisticRegression\n",
        "from sklearn.metrics import classification_report\n",
        "from sklearn.metrics import accuracy_score\n",
        "from sklearn.model_selection import train_test_split\n",
        "from sklearn.preprocessing import StandardScaler\n",
        "from sklearn.pipeline import make_pipeline\n",
        "from sklearn.linear_model import Perceptron\n",
        "from sklearn.multiclass import OneVsOneClassifier\n",
        "from sklearn.multiclass import OneVsRestClassifier\n",
        "from sklearn.linear_model import LogisticRegression"
      ]
    },
    {
      "cell_type": "code",
      "source": [
        "iris = sklearn.datasets.load_iris()\n",
        "X = iris.data[:]\n",
        "y = iris.target"
      ],
      "metadata": {
        "id": "C2pyoG2kNBPj"
      },
      "execution_count": 47,
      "outputs": []
    },
    {
      "cell_type": "code",
      "source": [
        "X"
      ],
      "metadata": {
        "colab": {
          "base_uri": "https://localhost:8080/"
        },
        "id": "SiiHn3j2NGSh",
        "outputId": "c74a3ead-9f90-4467-a244-9566f1e51f47"
      },
      "execution_count": 48,
      "outputs": [
        {
          "output_type": "execute_result",
          "data": {
            "text/plain": [
              "array([[5.1, 3.5, 1.4, 0.2],\n",
              "       [4.9, 3. , 1.4, 0.2],\n",
              "       [4.7, 3.2, 1.3, 0.2],\n",
              "       [4.6, 3.1, 1.5, 0.2],\n",
              "       [5. , 3.6, 1.4, 0.2],\n",
              "       [5.4, 3.9, 1.7, 0.4],\n",
              "       [4.6, 3.4, 1.4, 0.3],\n",
              "       [5. , 3.4, 1.5, 0.2],\n",
              "       [4.4, 2.9, 1.4, 0.2],\n",
              "       [4.9, 3.1, 1.5, 0.1],\n",
              "       [5.4, 3.7, 1.5, 0.2],\n",
              "       [4.8, 3.4, 1.6, 0.2],\n",
              "       [4.8, 3. , 1.4, 0.1],\n",
              "       [4.3, 3. , 1.1, 0.1],\n",
              "       [5.8, 4. , 1.2, 0.2],\n",
              "       [5.7, 4.4, 1.5, 0.4],\n",
              "       [5.4, 3.9, 1.3, 0.4],\n",
              "       [5.1, 3.5, 1.4, 0.3],\n",
              "       [5.7, 3.8, 1.7, 0.3],\n",
              "       [5.1, 3.8, 1.5, 0.3],\n",
              "       [5.4, 3.4, 1.7, 0.2],\n",
              "       [5.1, 3.7, 1.5, 0.4],\n",
              "       [4.6, 3.6, 1. , 0.2],\n",
              "       [5.1, 3.3, 1.7, 0.5],\n",
              "       [4.8, 3.4, 1.9, 0.2],\n",
              "       [5. , 3. , 1.6, 0.2],\n",
              "       [5. , 3.4, 1.6, 0.4],\n",
              "       [5.2, 3.5, 1.5, 0.2],\n",
              "       [5.2, 3.4, 1.4, 0.2],\n",
              "       [4.7, 3.2, 1.6, 0.2],\n",
              "       [4.8, 3.1, 1.6, 0.2],\n",
              "       [5.4, 3.4, 1.5, 0.4],\n",
              "       [5.2, 4.1, 1.5, 0.1],\n",
              "       [5.5, 4.2, 1.4, 0.2],\n",
              "       [4.9, 3.1, 1.5, 0.2],\n",
              "       [5. , 3.2, 1.2, 0.2],\n",
              "       [5.5, 3.5, 1.3, 0.2],\n",
              "       [4.9, 3.6, 1.4, 0.1],\n",
              "       [4.4, 3. , 1.3, 0.2],\n",
              "       [5.1, 3.4, 1.5, 0.2],\n",
              "       [5. , 3.5, 1.3, 0.3],\n",
              "       [4.5, 2.3, 1.3, 0.3],\n",
              "       [4.4, 3.2, 1.3, 0.2],\n",
              "       [5. , 3.5, 1.6, 0.6],\n",
              "       [5.1, 3.8, 1.9, 0.4],\n",
              "       [4.8, 3. , 1.4, 0.3],\n",
              "       [5.1, 3.8, 1.6, 0.2],\n",
              "       [4.6, 3.2, 1.4, 0.2],\n",
              "       [5.3, 3.7, 1.5, 0.2],\n",
              "       [5. , 3.3, 1.4, 0.2],\n",
              "       [7. , 3.2, 4.7, 1.4],\n",
              "       [6.4, 3.2, 4.5, 1.5],\n",
              "       [6.9, 3.1, 4.9, 1.5],\n",
              "       [5.5, 2.3, 4. , 1.3],\n",
              "       [6.5, 2.8, 4.6, 1.5],\n",
              "       [5.7, 2.8, 4.5, 1.3],\n",
              "       [6.3, 3.3, 4.7, 1.6],\n",
              "       [4.9, 2.4, 3.3, 1. ],\n",
              "       [6.6, 2.9, 4.6, 1.3],\n",
              "       [5.2, 2.7, 3.9, 1.4],\n",
              "       [5. , 2. , 3.5, 1. ],\n",
              "       [5.9, 3. , 4.2, 1.5],\n",
              "       [6. , 2.2, 4. , 1. ],\n",
              "       [6.1, 2.9, 4.7, 1.4],\n",
              "       [5.6, 2.9, 3.6, 1.3],\n",
              "       [6.7, 3.1, 4.4, 1.4],\n",
              "       [5.6, 3. , 4.5, 1.5],\n",
              "       [5.8, 2.7, 4.1, 1. ],\n",
              "       [6.2, 2.2, 4.5, 1.5],\n",
              "       [5.6, 2.5, 3.9, 1.1],\n",
              "       [5.9, 3.2, 4.8, 1.8],\n",
              "       [6.1, 2.8, 4. , 1.3],\n",
              "       [6.3, 2.5, 4.9, 1.5],\n",
              "       [6.1, 2.8, 4.7, 1.2],\n",
              "       [6.4, 2.9, 4.3, 1.3],\n",
              "       [6.6, 3. , 4.4, 1.4],\n",
              "       [6.8, 2.8, 4.8, 1.4],\n",
              "       [6.7, 3. , 5. , 1.7],\n",
              "       [6. , 2.9, 4.5, 1.5],\n",
              "       [5.7, 2.6, 3.5, 1. ],\n",
              "       [5.5, 2.4, 3.8, 1.1],\n",
              "       [5.5, 2.4, 3.7, 1. ],\n",
              "       [5.8, 2.7, 3.9, 1.2],\n",
              "       [6. , 2.7, 5.1, 1.6],\n",
              "       [5.4, 3. , 4.5, 1.5],\n",
              "       [6. , 3.4, 4.5, 1.6],\n",
              "       [6.7, 3.1, 4.7, 1.5],\n",
              "       [6.3, 2.3, 4.4, 1.3],\n",
              "       [5.6, 3. , 4.1, 1.3],\n",
              "       [5.5, 2.5, 4. , 1.3],\n",
              "       [5.5, 2.6, 4.4, 1.2],\n",
              "       [6.1, 3. , 4.6, 1.4],\n",
              "       [5.8, 2.6, 4. , 1.2],\n",
              "       [5. , 2.3, 3.3, 1. ],\n",
              "       [5.6, 2.7, 4.2, 1.3],\n",
              "       [5.7, 3. , 4.2, 1.2],\n",
              "       [5.7, 2.9, 4.2, 1.3],\n",
              "       [6.2, 2.9, 4.3, 1.3],\n",
              "       [5.1, 2.5, 3. , 1.1],\n",
              "       [5.7, 2.8, 4.1, 1.3],\n",
              "       [6.3, 3.3, 6. , 2.5],\n",
              "       [5.8, 2.7, 5.1, 1.9],\n",
              "       [7.1, 3. , 5.9, 2.1],\n",
              "       [6.3, 2.9, 5.6, 1.8],\n",
              "       [6.5, 3. , 5.8, 2.2],\n",
              "       [7.6, 3. , 6.6, 2.1],\n",
              "       [4.9, 2.5, 4.5, 1.7],\n",
              "       [7.3, 2.9, 6.3, 1.8],\n",
              "       [6.7, 2.5, 5.8, 1.8],\n",
              "       [7.2, 3.6, 6.1, 2.5],\n",
              "       [6.5, 3.2, 5.1, 2. ],\n",
              "       [6.4, 2.7, 5.3, 1.9],\n",
              "       [6.8, 3. , 5.5, 2.1],\n",
              "       [5.7, 2.5, 5. , 2. ],\n",
              "       [5.8, 2.8, 5.1, 2.4],\n",
              "       [6.4, 3.2, 5.3, 2.3],\n",
              "       [6.5, 3. , 5.5, 1.8],\n",
              "       [7.7, 3.8, 6.7, 2.2],\n",
              "       [7.7, 2.6, 6.9, 2.3],\n",
              "       [6. , 2.2, 5. , 1.5],\n",
              "       [6.9, 3.2, 5.7, 2.3],\n",
              "       [5.6, 2.8, 4.9, 2. ],\n",
              "       [7.7, 2.8, 6.7, 2. ],\n",
              "       [6.3, 2.7, 4.9, 1.8],\n",
              "       [6.7, 3.3, 5.7, 2.1],\n",
              "       [7.2, 3.2, 6. , 1.8],\n",
              "       [6.2, 2.8, 4.8, 1.8],\n",
              "       [6.1, 3. , 4.9, 1.8],\n",
              "       [6.4, 2.8, 5.6, 2.1],\n",
              "       [7.2, 3. , 5.8, 1.6],\n",
              "       [7.4, 2.8, 6.1, 1.9],\n",
              "       [7.9, 3.8, 6.4, 2. ],\n",
              "       [6.4, 2.8, 5.6, 2.2],\n",
              "       [6.3, 2.8, 5.1, 1.5],\n",
              "       [6.1, 2.6, 5.6, 1.4],\n",
              "       [7.7, 3. , 6.1, 2.3],\n",
              "       [6.3, 3.4, 5.6, 2.4],\n",
              "       [6.4, 3.1, 5.5, 1.8],\n",
              "       [6. , 3. , 4.8, 1.8],\n",
              "       [6.9, 3.1, 5.4, 2.1],\n",
              "       [6.7, 3.1, 5.6, 2.4],\n",
              "       [6.9, 3.1, 5.1, 2.3],\n",
              "       [5.8, 2.7, 5.1, 1.9],\n",
              "       [6.8, 3.2, 5.9, 2.3],\n",
              "       [6.7, 3.3, 5.7, 2.5],\n",
              "       [6.7, 3. , 5.2, 2.3],\n",
              "       [6.3, 2.5, 5. , 1.9],\n",
              "       [6.5, 3. , 5.2, 2. ],\n",
              "       [6.2, 3.4, 5.4, 2.3],\n",
              "       [5.9, 3. , 5.1, 1.8]])"
            ]
          },
          "metadata": {},
          "execution_count": 48
        }
      ]
    },
    {
      "cell_type": "code",
      "source": [
        "y"
      ],
      "metadata": {
        "colab": {
          "base_uri": "https://localhost:8080/"
        },
        "id": "eZSYJP94N7xm",
        "outputId": "44c33eb1-4c90-41f6-d4fe-6b73f9ba598f"
      },
      "execution_count": 49,
      "outputs": [
        {
          "output_type": "execute_result",
          "data": {
            "text/plain": [
              "array([0, 0, 0, 0, 0, 0, 0, 0, 0, 0, 0, 0, 0, 0, 0, 0, 0, 0, 0, 0, 0, 0,\n",
              "       0, 0, 0, 0, 0, 0, 0, 0, 0, 0, 0, 0, 0, 0, 0, 0, 0, 0, 0, 0, 0, 0,\n",
              "       0, 0, 0, 0, 0, 0, 1, 1, 1, 1, 1, 1, 1, 1, 1, 1, 1, 1, 1, 1, 1, 1,\n",
              "       1, 1, 1, 1, 1, 1, 1, 1, 1, 1, 1, 1, 1, 1, 1, 1, 1, 1, 1, 1, 1, 1,\n",
              "       1, 1, 1, 1, 1, 1, 1, 1, 1, 1, 1, 1, 2, 2, 2, 2, 2, 2, 2, 2, 2, 2,\n",
              "       2, 2, 2, 2, 2, 2, 2, 2, 2, 2, 2, 2, 2, 2, 2, 2, 2, 2, 2, 2, 2, 2,\n",
              "       2, 2, 2, 2, 2, 2, 2, 2, 2, 2, 2, 2, 2, 2, 2, 2, 2, 2])"
            ]
          },
          "metadata": {},
          "execution_count": 49
        }
      ]
    },
    {
      "cell_type": "code",
      "source": [
        "X_train, X_test, y_train, y_test = train_test_split(iris.data, iris.target, test_size=0.15)"
      ],
      "metadata": {
        "id": "gRY3J3kSNQll"
      },
      "execution_count": 50,
      "outputs": []
    },
    {
      "cell_type": "code",
      "source": [
        "LR = LogisticRegression()\n",
        "LR.fit(X_train, y_train)"
      ],
      "metadata": {
        "colab": {
          "base_uri": "https://localhost:8080/"
        },
        "id": "fvnIZu1WS-Dn",
        "outputId": "d3d3cd07-ca88-4f3a-cc7a-389a0cebf744"
      },
      "execution_count": 51,
      "outputs": [
        {
          "output_type": "execute_result",
          "data": {
            "text/plain": [
              "LogisticRegression()"
            ]
          },
          "metadata": {},
          "execution_count": 51
        }
      ]
    },
    {
      "cell_type": "code",
      "source": [
        "accuracy_score = LR.score(X_test, y_test)\n",
        "print(\"Accuracy is:\",accuracy_score)"
      ],
      "metadata": {
        "colab": {
          "base_uri": "https://localhost:8080/"
        },
        "id": "hbUcLQXXS_hG",
        "outputId": "44826300-1dc3-4954-bb12-fe5e0ee804c8"
      },
      "execution_count": 52,
      "outputs": [
        {
          "output_type": "stream",
          "name": "stdout",
          "text": [
            "Accuracy is: 0.9565217391304348\n"
          ]
        }
      ]
    },
    {
      "cell_type": "code",
      "source": [
        "LR.fit(X_train[:,2:], y_train)\n",
        "print(\"Accuracy is: \", LR.score(X_test[:,2:], y_test) )"
      ],
      "metadata": {
        "colab": {
          "base_uri": "https://localhost:8080/"
        },
        "id": "YqrBuM9QUJ3b",
        "outputId": "0da59d07-3ce0-49d3-8d5a-e870d55c1a70"
      },
      "execution_count": 53,
      "outputs": [
        {
          "output_type": "stream",
          "name": "stdout",
          "text": [
            "Accuracy is:  0.9565217391304348\n"
          ]
        }
      ]
    },
    {
      "cell_type": "code",
      "source": [
        "scaler = StandardScaler()\n",
        "X_train = scaler.fit_transform(X_train)\n",
        "X_test = scaler.transform(X_test)"
      ],
      "metadata": {
        "id": "nUh1ofZLN3NJ"
      },
      "execution_count": 54,
      "outputs": []
    },
    {
      "cell_type": "code",
      "source": [
        "pcp = OneVsOneClassifier(Perceptron())\n",
        "pcp.fit(X_train, y_train)"
      ],
      "metadata": {
        "colab": {
          "base_uri": "https://localhost:8080/"
        },
        "id": "PKSo9XXFReNE",
        "outputId": "a57f349c-590b-4554-ac6d-84988999f6eb"
      },
      "execution_count": 55,
      "outputs": [
        {
          "output_type": "execute_result",
          "data": {
            "text/plain": [
              "OneVsOneClassifier(estimator=Perceptron())"
            ]
          },
          "metadata": {},
          "execution_count": 55
        }
      ]
    },
    {
      "cell_type": "code",
      "source": [
        "from sklearn.model_selection import GridSearchCV\n",
        "parameters = {'estimator__eta0': [.1 * x for x in range(1, 10)]}\n",
        "grid = GridSearchCV(pcp, parameters, cv=20, verbose=3)\n",
        "grid.fit(X_train, y_train)\n",
        "pcp = grid.best_estimator_"
      ],
      "metadata": {
        "colab": {
          "base_uri": "https://localhost:8080/"
        },
        "id": "e3AwMZuAQhbl",
        "outputId": "ae292734-70da-43e3-9bc5-5feb45fef807"
      },
      "execution_count": 56,
      "outputs": [
        {
          "output_type": "stream",
          "name": "stdout",
          "text": [
            "Fitting 20 folds for each of 9 candidates, totalling 180 fits\n",
            "[CV 1/20] END ..............estimator__eta0=0.1;, score=1.000 total time=   0.0s\n",
            "[CV 2/20] END ..............estimator__eta0=0.1;, score=1.000 total time=   0.0s\n",
            "[CV 3/20] END ..............estimator__eta0=0.1;, score=1.000 total time=   0.0s\n",
            "[CV 4/20] END ..............estimator__eta0=0.1;, score=1.000 total time=   0.0s\n",
            "[CV 5/20] END ..............estimator__eta0=0.1;, score=1.000 total time=   0.0s\n",
            "[CV 6/20] END ..............estimator__eta0=0.1;, score=1.000 total time=   0.0s\n",
            "[CV 7/20] END ..............estimator__eta0=0.1;, score=0.857 total time=   0.0s\n",
            "[CV 8/20] END ..............estimator__eta0=0.1;, score=1.000 total time=   0.0s\n",
            "[CV 9/20] END ..............estimator__eta0=0.1;, score=0.833 total time=   0.0s\n",
            "[CV 10/20] END .............estimator__eta0=0.1;, score=0.833 total time=   0.0s\n",
            "[CV 11/20] END .............estimator__eta0=0.1;, score=1.000 total time=   0.0s\n",
            "[CV 12/20] END .............estimator__eta0=0.1;, score=1.000 total time=   0.0s\n",
            "[CV 13/20] END .............estimator__eta0=0.1;, score=1.000 total time=   0.0s\n",
            "[CV 14/20] END .............estimator__eta0=0.1;, score=1.000 total time=   0.0s\n",
            "[CV 15/20] END .............estimator__eta0=0.1;, score=0.833 total time=   0.0s\n",
            "[CV 16/20] END .............estimator__eta0=0.1;, score=1.000 total time=   0.0s\n",
            "[CV 17/20] END .............estimator__eta0=0.1;, score=1.000 total time=   0.0s\n",
            "[CV 18/20] END .............estimator__eta0=0.1;, score=1.000 total time=   0.0s\n",
            "[CV 19/20] END .............estimator__eta0=0.1;, score=1.000 total time=   0.0s\n",
            "[CV 20/20] END .............estimator__eta0=0.1;, score=1.000 total time=   0.0s\n",
            "[CV 1/20] END ..............estimator__eta0=0.2;, score=1.000 total time=   0.0s\n",
            "[CV 2/20] END ..............estimator__eta0=0.2;, score=1.000 total time=   0.0s\n",
            "[CV 3/20] END ..............estimator__eta0=0.2;, score=1.000 total time=   0.0s\n",
            "[CV 4/20] END ..............estimator__eta0=0.2;, score=1.000 total time=   0.0s\n",
            "[CV 5/20] END ..............estimator__eta0=0.2;, score=1.000 total time=   0.0s\n",
            "[CV 6/20] END ..............estimator__eta0=0.2;, score=1.000 total time=   0.0s\n",
            "[CV 7/20] END ..............estimator__eta0=0.2;, score=0.857 total time=   0.0s\n",
            "[CV 8/20] END ..............estimator__eta0=0.2;, score=1.000 total time=   0.0s\n",
            "[CV 9/20] END ..............estimator__eta0=0.2;, score=0.833 total time=   0.0s\n",
            "[CV 10/20] END .............estimator__eta0=0.2;, score=0.833 total time=   0.0s\n",
            "[CV 11/20] END .............estimator__eta0=0.2;, score=1.000 total time=   0.0s\n",
            "[CV 12/20] END .............estimator__eta0=0.2;, score=1.000 total time=   0.0s\n",
            "[CV 13/20] END .............estimator__eta0=0.2;, score=1.000 total time=   0.0s\n",
            "[CV 14/20] END .............estimator__eta0=0.2;, score=1.000 total time=   0.0s\n",
            "[CV 15/20] END .............estimator__eta0=0.2;, score=0.833 total time=   0.0s\n",
            "[CV 16/20] END .............estimator__eta0=0.2;, score=1.000 total time=   0.0s\n",
            "[CV 17/20] END .............estimator__eta0=0.2;, score=1.000 total time=   0.0s\n",
            "[CV 18/20] END .............estimator__eta0=0.2;, score=1.000 total time=   0.0s\n",
            "[CV 19/20] END .............estimator__eta0=0.2;, score=1.000 total time=   0.0s\n",
            "[CV 20/20] END .............estimator__eta0=0.2;, score=1.000 total time=   0.0s\n",
            "[CV 1/20] END estimator__eta0=0.30000000000000004;, score=1.000 total time=   0.0s\n",
            "[CV 2/20] END estimator__eta0=0.30000000000000004;, score=1.000 total time=   0.0s\n",
            "[CV 3/20] END estimator__eta0=0.30000000000000004;, score=1.000 total time=   0.0s\n",
            "[CV 4/20] END estimator__eta0=0.30000000000000004;, score=1.000 total time=   0.0s\n",
            "[CV 5/20] END estimator__eta0=0.30000000000000004;, score=1.000 total time=   0.0s\n",
            "[CV 6/20] END estimator__eta0=0.30000000000000004;, score=1.000 total time=   0.0s\n",
            "[CV 7/20] END estimator__eta0=0.30000000000000004;, score=0.857 total time=   0.0s\n",
            "[CV 8/20] END estimator__eta0=0.30000000000000004;, score=1.000 total time=   0.0s\n",
            "[CV 9/20] END estimator__eta0=0.30000000000000004;, score=0.833 total time=   0.0s\n",
            "[CV 10/20] END estimator__eta0=0.30000000000000004;, score=0.833 total time=   0.0s\n",
            "[CV 11/20] END estimator__eta0=0.30000000000000004;, score=1.000 total time=   0.0s\n",
            "[CV 12/20] END estimator__eta0=0.30000000000000004;, score=1.000 total time=   0.0s\n",
            "[CV 13/20] END estimator__eta0=0.30000000000000004;, score=1.000 total time=   0.0s\n",
            "[CV 14/20] END estimator__eta0=0.30000000000000004;, score=1.000 total time=   0.0s\n",
            "[CV 15/20] END estimator__eta0=0.30000000000000004;, score=0.833 total time=   0.0s\n",
            "[CV 16/20] END estimator__eta0=0.30000000000000004;, score=1.000 total time=   0.0s\n",
            "[CV 17/20] END estimator__eta0=0.30000000000000004;, score=1.000 total time=   0.0s\n",
            "[CV 18/20] END estimator__eta0=0.30000000000000004;, score=1.000 total time=   0.0s\n",
            "[CV 19/20] END estimator__eta0=0.30000000000000004;, score=1.000 total time=   0.0s\n",
            "[CV 20/20] END estimator__eta0=0.30000000000000004;, score=1.000 total time=   0.0s\n",
            "[CV 1/20] END ..............estimator__eta0=0.4;, score=1.000 total time=   0.0s\n",
            "[CV 2/20] END ..............estimator__eta0=0.4;, score=1.000 total time=   0.0s\n",
            "[CV 3/20] END ..............estimator__eta0=0.4;, score=1.000 total time=   0.0s\n",
            "[CV 4/20] END ..............estimator__eta0=0.4;, score=1.000 total time=   0.0s\n",
            "[CV 5/20] END ..............estimator__eta0=0.4;, score=1.000 total time=   0.0s\n",
            "[CV 6/20] END ..............estimator__eta0=0.4;, score=1.000 total time=   0.0s\n",
            "[CV 7/20] END ..............estimator__eta0=0.4;, score=0.857 total time=   0.0s\n",
            "[CV 8/20] END ..............estimator__eta0=0.4;, score=1.000 total time=   0.0s\n",
            "[CV 9/20] END ..............estimator__eta0=0.4;, score=0.833 total time=   0.0s\n",
            "[CV 10/20] END .............estimator__eta0=0.4;, score=0.833 total time=   0.0s\n",
            "[CV 11/20] END .............estimator__eta0=0.4;, score=1.000 total time=   0.0s\n",
            "[CV 12/20] END .............estimator__eta0=0.4;, score=1.000 total time=   0.0s\n",
            "[CV 13/20] END .............estimator__eta0=0.4;, score=1.000 total time=   0.0s\n",
            "[CV 14/20] END .............estimator__eta0=0.4;, score=1.000 total time=   0.0s\n",
            "[CV 15/20] END .............estimator__eta0=0.4;, score=0.833 total time=   0.0s\n",
            "[CV 16/20] END .............estimator__eta0=0.4;, score=1.000 total time=   0.0s\n",
            "[CV 17/20] END .............estimator__eta0=0.4;, score=1.000 total time=   0.0s\n",
            "[CV 18/20] END .............estimator__eta0=0.4;, score=1.000 total time=   0.0s\n",
            "[CV 19/20] END .............estimator__eta0=0.4;, score=1.000 total time=   0.0s\n",
            "[CV 20/20] END .............estimator__eta0=0.4;, score=1.000 total time=   0.0s\n",
            "[CV 1/20] END ..............estimator__eta0=0.5;, score=1.000 total time=   0.0s\n",
            "[CV 2/20] END ..............estimator__eta0=0.5;, score=1.000 total time=   0.0s\n",
            "[CV 3/20] END ..............estimator__eta0=0.5;, score=1.000 total time=   0.0s\n",
            "[CV 4/20] END ..............estimator__eta0=0.5;, score=1.000 total time=   0.0s\n",
            "[CV 5/20] END ..............estimator__eta0=0.5;, score=1.000 total time=   0.0s\n",
            "[CV 6/20] END ..............estimator__eta0=0.5;, score=1.000 total time=   0.0s\n",
            "[CV 7/20] END ..............estimator__eta0=0.5;, score=0.857 total time=   0.0s\n",
            "[CV 8/20] END ..............estimator__eta0=0.5;, score=1.000 total time=   0.0s\n",
            "[CV 9/20] END ..............estimator__eta0=0.5;, score=0.833 total time=   0.0s\n",
            "[CV 10/20] END .............estimator__eta0=0.5;, score=0.833 total time=   0.0s\n",
            "[CV 11/20] END .............estimator__eta0=0.5;, score=1.000 total time=   0.0s\n",
            "[CV 12/20] END .............estimator__eta0=0.5;, score=1.000 total time=   0.0s\n",
            "[CV 13/20] END .............estimator__eta0=0.5;, score=1.000 total time=   0.0s\n",
            "[CV 14/20] END .............estimator__eta0=0.5;, score=1.000 total time=   0.0s\n",
            "[CV 15/20] END .............estimator__eta0=0.5;, score=0.833 total time=   0.0s\n",
            "[CV 16/20] END .............estimator__eta0=0.5;, score=1.000 total time=   0.0s\n",
            "[CV 17/20] END .............estimator__eta0=0.5;, score=1.000 total time=   0.0s\n",
            "[CV 18/20] END .............estimator__eta0=0.5;, score=1.000 total time=   0.0s\n",
            "[CV 19/20] END .............estimator__eta0=0.5;, score=1.000 total time=   0.0s\n",
            "[CV 20/20] END .............estimator__eta0=0.5;, score=1.000 total time=   0.0s\n",
            "[CV 1/20] END estimator__eta0=0.6000000000000001;, score=1.000 total time=   0.0s\n",
            "[CV 2/20] END estimator__eta0=0.6000000000000001;, score=1.000 total time=   0.0s\n",
            "[CV 3/20] END estimator__eta0=0.6000000000000001;, score=1.000 total time=   0.0s\n",
            "[CV 4/20] END estimator__eta0=0.6000000000000001;, score=1.000 total time=   0.0s\n",
            "[CV 5/20] END estimator__eta0=0.6000000000000001;, score=1.000 total time=   0.0s\n",
            "[CV 6/20] END estimator__eta0=0.6000000000000001;, score=1.000 total time=   0.0s\n",
            "[CV 7/20] END estimator__eta0=0.6000000000000001;, score=0.857 total time=   0.0s\n",
            "[CV 8/20] END estimator__eta0=0.6000000000000001;, score=1.000 total time=   0.0s\n",
            "[CV 9/20] END estimator__eta0=0.6000000000000001;, score=0.833 total time=   0.0s\n",
            "[CV 10/20] END estimator__eta0=0.6000000000000001;, score=0.833 total time=   0.0s\n",
            "[CV 11/20] END estimator__eta0=0.6000000000000001;, score=1.000 total time=   0.0s\n",
            "[CV 12/20] END estimator__eta0=0.6000000000000001;, score=1.000 total time=   0.0s\n",
            "[CV 13/20] END estimator__eta0=0.6000000000000001;, score=1.000 total time=   0.0s\n",
            "[CV 14/20] END estimator__eta0=0.6000000000000001;, score=1.000 total time=   0.0s\n",
            "[CV 15/20] END estimator__eta0=0.6000000000000001;, score=0.833 total time=   0.0s\n",
            "[CV 16/20] END estimator__eta0=0.6000000000000001;, score=1.000 total time=   0.0s\n",
            "[CV 17/20] END estimator__eta0=0.6000000000000001;, score=1.000 total time=   0.0s\n",
            "[CV 18/20] END estimator__eta0=0.6000000000000001;, score=1.000 total time=   0.0s\n",
            "[CV 19/20] END estimator__eta0=0.6000000000000001;, score=1.000 total time=   0.0s\n",
            "[CV 20/20] END estimator__eta0=0.6000000000000001;, score=1.000 total time=   0.0s\n",
            "[CV 1/20] END estimator__eta0=0.7000000000000001;, score=1.000 total time=   0.0s\n",
            "[CV 2/20] END estimator__eta0=0.7000000000000001;, score=1.000 total time=   0.0s\n",
            "[CV 3/20] END estimator__eta0=0.7000000000000001;, score=1.000 total time=   0.0s\n",
            "[CV 4/20] END estimator__eta0=0.7000000000000001;, score=1.000 total time=   0.0s\n",
            "[CV 5/20] END estimator__eta0=0.7000000000000001;, score=1.000 total time=   0.0s\n",
            "[CV 6/20] END estimator__eta0=0.7000000000000001;, score=1.000 total time=   0.0s\n",
            "[CV 7/20] END estimator__eta0=0.7000000000000001;, score=0.857 total time=   0.0s\n",
            "[CV 8/20] END estimator__eta0=0.7000000000000001;, score=1.000 total time=   0.0s\n",
            "[CV 9/20] END estimator__eta0=0.7000000000000001;, score=0.833 total time=   0.0s\n",
            "[CV 10/20] END estimator__eta0=0.7000000000000001;, score=0.833 total time=   0.0s\n",
            "[CV 11/20] END estimator__eta0=0.7000000000000001;, score=1.000 total time=   0.0s\n",
            "[CV 12/20] END estimator__eta0=0.7000000000000001;, score=1.000 total time=   0.0s\n",
            "[CV 13/20] END estimator__eta0=0.7000000000000001;, score=1.000 total time=   0.0s\n",
            "[CV 14/20] END estimator__eta0=0.7000000000000001;, score=1.000 total time=   0.0s\n",
            "[CV 15/20] END estimator__eta0=0.7000000000000001;, score=0.833 total time=   0.0s\n",
            "[CV 16/20] END estimator__eta0=0.7000000000000001;, score=1.000 total time=   0.0s\n",
            "[CV 17/20] END estimator__eta0=0.7000000000000001;, score=1.000 total time=   0.0s\n",
            "[CV 18/20] END estimator__eta0=0.7000000000000001;, score=1.000 total time=   0.0s\n",
            "[CV 19/20] END estimator__eta0=0.7000000000000001;, score=1.000 total time=   0.0s\n",
            "[CV 20/20] END estimator__eta0=0.7000000000000001;, score=1.000 total time=   0.0s\n",
            "[CV 1/20] END ..............estimator__eta0=0.8;, score=1.000 total time=   0.0s\n",
            "[CV 2/20] END ..............estimator__eta0=0.8;, score=1.000 total time=   0.0s\n",
            "[CV 3/20] END ..............estimator__eta0=0.8;, score=1.000 total time=   0.0s\n",
            "[CV 4/20] END ..............estimator__eta0=0.8;, score=1.000 total time=   0.0s\n",
            "[CV 5/20] END ..............estimator__eta0=0.8;, score=1.000 total time=   0.0s\n",
            "[CV 6/20] END ..............estimator__eta0=0.8;, score=1.000 total time=   0.0s\n",
            "[CV 7/20] END ..............estimator__eta0=0.8;, score=0.857 total time=   0.0s\n",
            "[CV 8/20] END ..............estimator__eta0=0.8;, score=1.000 total time=   0.0s\n",
            "[CV 9/20] END ..............estimator__eta0=0.8;, score=0.833 total time=   0.0s\n",
            "[CV 10/20] END .............estimator__eta0=0.8;, score=0.833 total time=   0.0s\n",
            "[CV 11/20] END .............estimator__eta0=0.8;, score=1.000 total time=   0.0s\n",
            "[CV 12/20] END .............estimator__eta0=0.8;, score=1.000 total time=   0.0s\n",
            "[CV 13/20] END .............estimator__eta0=0.8;, score=1.000 total time=   0.0s\n",
            "[CV 14/20] END .............estimator__eta0=0.8;, score=1.000 total time=   0.0s\n",
            "[CV 15/20] END .............estimator__eta0=0.8;, score=0.833 total time=   0.0s\n",
            "[CV 16/20] END .............estimator__eta0=0.8;, score=1.000 total time=   0.0s\n",
            "[CV 17/20] END .............estimator__eta0=0.8;, score=1.000 total time=   0.0s\n",
            "[CV 18/20] END .............estimator__eta0=0.8;, score=1.000 total time=   0.0s\n",
            "[CV 19/20] END .............estimator__eta0=0.8;, score=1.000 total time=   0.0s\n",
            "[CV 20/20] END .............estimator__eta0=0.8;, score=1.000 total time=   0.0s\n",
            "[CV 1/20] END ..............estimator__eta0=0.9;, score=1.000 total time=   0.0s\n",
            "[CV 2/20] END ..............estimator__eta0=0.9;, score=1.000 total time=   0.0s\n",
            "[CV 3/20] END ..............estimator__eta0=0.9;, score=1.000 total time=   0.0s\n",
            "[CV 4/20] END ..............estimator__eta0=0.9;, score=1.000 total time=   0.0s\n",
            "[CV 5/20] END ..............estimator__eta0=0.9;, score=1.000 total time=   0.0s\n",
            "[CV 6/20] END ..............estimator__eta0=0.9;, score=1.000 total time=   0.0s\n",
            "[CV 7/20] END ..............estimator__eta0=0.9;, score=0.857 total time=   0.0s\n",
            "[CV 8/20] END ..............estimator__eta0=0.9;, score=1.000 total time=   0.0s\n",
            "[CV 9/20] END ..............estimator__eta0=0.9;, score=0.833 total time=   0.0s\n",
            "[CV 10/20] END .............estimator__eta0=0.9;, score=0.833 total time=   0.0s\n",
            "[CV 11/20] END .............estimator__eta0=0.9;, score=1.000 total time=   0.0s\n",
            "[CV 12/20] END .............estimator__eta0=0.9;, score=1.000 total time=   0.0s\n",
            "[CV 13/20] END .............estimator__eta0=0.9;, score=1.000 total time=   0.0s\n",
            "[CV 14/20] END .............estimator__eta0=0.9;, score=1.000 total time=   0.0s\n",
            "[CV 15/20] END .............estimator__eta0=0.9;, score=0.833 total time=   0.0s\n",
            "[CV 16/20] END .............estimator__eta0=0.9;, score=1.000 total time=   0.0s\n",
            "[CV 17/20] END .............estimator__eta0=0.9;, score=1.000 total time=   0.0s\n",
            "[CV 18/20] END .............estimator__eta0=0.9;, score=1.000 total time=   0.0s\n",
            "[CV 19/20] END .............estimator__eta0=0.9;, score=1.000 total time=   0.0s\n",
            "[CV 20/20] END .............estimator__eta0=0.9;, score=1.000 total time=   0.0s\n"
          ]
        }
      ]
    },
    {
      "cell_type": "code",
      "source": [
        "pcp.score(X_train, y_train)"
      ],
      "metadata": {
        "colab": {
          "base_uri": "https://localhost:8080/"
        },
        "id": "ksKDRpr3SOSh",
        "outputId": "c3a6d61f-9732-4759-bd40-0d4df83fdca8"
      },
      "execution_count": 57,
      "outputs": [
        {
          "output_type": "execute_result",
          "data": {
            "text/plain": [
              "0.968503937007874"
            ]
          },
          "metadata": {},
          "execution_count": 57
        }
      ]
    },
    {
      "cell_type": "code",
      "source": [
        "pcp.score(X_test, y_test)"
      ],
      "metadata": {
        "colab": {
          "base_uri": "https://localhost:8080/"
        },
        "id": "-HyDq9goSS4p",
        "outputId": "c38894aa-3dac-4768-e085-dc39eb87699a"
      },
      "execution_count": 58,
      "outputs": [
        {
          "output_type": "execute_result",
          "data": {
            "text/plain": [
              "0.9565217391304348"
            ]
          },
          "metadata": {},
          "execution_count": 58
        }
      ]
    },
    {
      "cell_type": "markdown",
      "source": [
        "#Problem 2\n",
        "In the example given in class, we used a logistic regression (`LogisticRegression`) classifier to classify digits.  Continuing on the example presented in class that uses the MNIST 784 dataset, use the classifier to classify whether a digit is a 3.  The classifier includes the hyperparameter $C$ where $10^{-4}\\lessapprox C \\lessapprox 10^4$.  This parameter defines the regularization strength, the meaning of which we will discuss later in this course.  Experiment with at least 4 different values of this hyperparameter across different orders of magnitude.  What value of $C$ produces the highest $F_1$ scores?\n",
        "\n",
        "**Notes:**\n",
        "\n",
        "* While you can compute different values manually, the `GridSearchCV` or randomized search class is recommended.\n",
        "* HPO may require about 1 hour in Colab using the full dataset of 60,000 records, with training time increasing as $C$ increases.  You can use a smaller subset of the training dataset if needed.\n",
        "* If you receive a message that the mode failed to converge due to maximum number of iterations being reached, increase the `max_iter` hyperparameter of the logistic regression classifier.  You may need several thousand iterations for convergence."
      ],
      "metadata": {
        "id": "akwRmAjJXdj3"
      }
    },
    {
      "cell_type": "code",
      "source": [
        "from sklearn.datasets import fetch_openml\n",
        "from sklearn.linear_model import LogisticRegression\n",
        "import numpy as np\n",
        "import matplotlib.pyplot as plt\n",
        "from sklearn.preprocessing import MinMaxScaler\n",
        "import pandas as pd\n",
        "import seaborn as sns"
      ],
      "metadata": {
        "id": "faKxQNgGXn9a"
      },
      "execution_count": 59,
      "outputs": []
    },
    {
      "cell_type": "code",
      "source": [
        "tdig = fetch_openml('mnist_784', version=1, as_frame=False)"
      ],
      "metadata": {
        "id": "89ilrkE_XtVo"
      },
      "execution_count": 60,
      "outputs": []
    },
    {
      "cell_type": "code",
      "source": [
        "X,y=tdig['data'],tdig['target']\n",
        "X_train, X_test, y_train, y_test = X[:60000],X[60000:],y[:60000]=='3',y[60000:]=='3'"
      ],
      "metadata": {
        "id": "ISxZzxCLfiuv"
      },
      "execution_count": 61,
      "outputs": []
    },
    {
      "cell_type": "code",
      "source": [
        "from sklearn.preprocessing import MaxAbsScaler\n",
        "scaler = MaxAbsScaler()\n",
        "X_train = scaler.fit_transform(X_train)\n",
        "X_test = scaler.transform(X_test)"
      ],
      "metadata": {
        "id": "Jy4R6oyWz606"
      },
      "execution_count": 62,
      "outputs": []
    },
    {
      "cell_type": "code",
      "source": [
        "from sklearn.model_selection import GridSearchCV\n",
        "parameters = {'solver': ['newton-cg', 'lbfgs', 'liblinear', 'sag' ],\n",
        "              'class_weight': [None, 'balanced'],\n",
        "              'penalty': ['l2'],\n",
        "              \n",
        "              }"
      ],
      "metadata": {
        "id": "uk_zoYkmvU-n"
      },
      "execution_count": 63,
      "outputs": []
    },
    {
      "cell_type": "code",
      "source": [
        "model= LogisticRegression(max_iter=1000)\n",
        "x=GridSearchCV(model,parameters,verbose=3,cv=10)"
      ],
      "metadata": {
        "id": "3wZKzjzjhH4P"
      },
      "execution_count": 64,
      "outputs": []
    },
    {
      "cell_type": "code",
      "source": [
        "x.fit(X_train,y_train)"
      ],
      "metadata": {
        "colab": {
          "base_uri": "https://localhost:8080/"
        },
        "id": "xVK95Z1SiD5i",
        "outputId": "9e08bc70-10ed-4654-bc42-76125fad4e44"
      },
      "execution_count": 65,
      "outputs": [
        {
          "output_type": "stream",
          "name": "stdout",
          "text": [
            "Fitting 10 folds for each of 8 candidates, totalling 80 fits\n",
            "[CV 1/10] END class_weight=None, penalty=l2, solver=newton-cg;, score=0.975 total time=  33.8s\n",
            "[CV 2/10] END class_weight=None, penalty=l2, solver=newton-cg;, score=0.971 total time=  35.5s\n",
            "[CV 3/10] END class_weight=None, penalty=l2, solver=newton-cg;, score=0.972 total time=  31.8s\n",
            "[CV 4/10] END class_weight=None, penalty=l2, solver=newton-cg;, score=0.979 total time=  33.9s\n",
            "[CV 5/10] END class_weight=None, penalty=l2, solver=newton-cg;, score=0.973 total time=  33.7s\n",
            "[CV 6/10] END class_weight=None, penalty=l2, solver=newton-cg;, score=0.975 total time=  36.1s\n",
            "[CV 7/10] END class_weight=None, penalty=l2, solver=newton-cg;, score=0.973 total time=  35.5s\n",
            "[CV 8/10] END class_weight=None, penalty=l2, solver=newton-cg;, score=0.972 total time=  33.4s\n",
            "[CV 9/10] END class_weight=None, penalty=l2, solver=newton-cg;, score=0.974 total time=  34.8s\n",
            "[CV 10/10] END class_weight=None, penalty=l2, solver=newton-cg;, score=0.980 total time=  35.4s\n",
            "[CV 1/10] END class_weight=None, penalty=l2, solver=lbfgs;, score=0.975 total time=  26.2s\n",
            "[CV 2/10] END class_weight=None, penalty=l2, solver=lbfgs;, score=0.971 total time=  25.9s\n",
            "[CV 3/10] END class_weight=None, penalty=l2, solver=lbfgs;, score=0.972 total time=  24.0s\n",
            "[CV 4/10] END class_weight=None, penalty=l2, solver=lbfgs;, score=0.979 total time=  23.5s\n",
            "[CV 5/10] END class_weight=None, penalty=l2, solver=lbfgs;, score=0.973 total time=  23.8s\n",
            "[CV 6/10] END class_weight=None, penalty=l2, solver=lbfgs;, score=0.975 total time=  25.7s\n",
            "[CV 7/10] END class_weight=None, penalty=l2, solver=lbfgs;, score=0.973 total time=  25.8s\n",
            "[CV 8/10] END class_weight=None, penalty=l2, solver=lbfgs;, score=0.972 total time=  24.1s\n",
            "[CV 9/10] END class_weight=None, penalty=l2, solver=lbfgs;, score=0.974 total time=  23.0s\n",
            "[CV 10/10] END class_weight=None, penalty=l2, solver=lbfgs;, score=0.980 total time=  25.0s\n",
            "[CV 1/10] END class_weight=None, penalty=l2, solver=liblinear;, score=0.975 total time=   7.8s\n",
            "[CV 2/10] END class_weight=None, penalty=l2, solver=liblinear;, score=0.971 total time=   7.8s\n",
            "[CV 3/10] END class_weight=None, penalty=l2, solver=liblinear;, score=0.972 total time=   7.9s\n",
            "[CV 4/10] END class_weight=None, penalty=l2, solver=liblinear;, score=0.979 total time=   8.0s\n",
            "[CV 5/10] END class_weight=None, penalty=l2, solver=liblinear;, score=0.973 total time=   8.1s\n",
            "[CV 6/10] END class_weight=None, penalty=l2, solver=liblinear;, score=0.975 total time=   8.1s\n",
            "[CV 7/10] END class_weight=None, penalty=l2, solver=liblinear;, score=0.973 total time=   8.0s\n",
            "[CV 8/10] END class_weight=None, penalty=l2, solver=liblinear;, score=0.973 total time=   8.1s\n",
            "[CV 9/10] END class_weight=None, penalty=l2, solver=liblinear;, score=0.974 total time=   7.9s\n",
            "[CV 10/10] END class_weight=None, penalty=l2, solver=liblinear;, score=0.980 total time=   7.5s\n",
            "[CV 1/10] END class_weight=None, penalty=l2, solver=sag;, score=0.975 total time= 2.1min\n",
            "[CV 2/10] END class_weight=None, penalty=l2, solver=sag;, score=0.971 total time= 2.2min\n",
            "[CV 3/10] END class_weight=None, penalty=l2, solver=sag;, score=0.972 total time= 2.2min\n",
            "[CV 4/10] END class_weight=None, penalty=l2, solver=sag;, score=0.979 total time= 2.1min\n",
            "[CV 5/10] END class_weight=None, penalty=l2, solver=sag;, score=0.973 total time= 2.2min\n",
            "[CV 6/10] END class_weight=None, penalty=l2, solver=sag;, score=0.975 total time= 2.2min\n",
            "[CV 7/10] END class_weight=None, penalty=l2, solver=sag;, score=0.973 total time= 1.9min\n",
            "[CV 8/10] END class_weight=None, penalty=l2, solver=sag;, score=0.972 total time= 2.1min\n",
            "[CV 9/10] END class_weight=None, penalty=l2, solver=sag;, score=0.974 total time= 2.2min\n",
            "[CV 10/10] END class_weight=None, penalty=l2, solver=sag;, score=0.980 total time= 2.1min\n",
            "[CV 1/10] END class_weight=balanced, penalty=l2, solver=newton-cg;, score=0.947 total time=  39.9s\n",
            "[CV 2/10] END class_weight=balanced, penalty=l2, solver=newton-cg;, score=0.945 total time=  39.8s\n",
            "[CV 3/10] END class_weight=balanced, penalty=l2, solver=newton-cg;, score=0.942 total time=  42.6s\n",
            "[CV 4/10] END class_weight=balanced, penalty=l2, solver=newton-cg;, score=0.939 total time=  39.4s\n",
            "[CV 5/10] END class_weight=balanced, penalty=l2, solver=newton-cg;, score=0.941 total time=  41.4s\n",
            "[CV 6/10] END class_weight=balanced, penalty=l2, solver=newton-cg;, score=0.946 total time=  41.0s\n",
            "[CV 7/10] END class_weight=balanced, penalty=l2, solver=newton-cg;, score=0.942 total time=  40.9s\n",
            "[CV 8/10] END class_weight=balanced, penalty=l2, solver=newton-cg;, score=0.936 total time=  40.2s\n",
            "[CV 9/10] END class_weight=balanced, penalty=l2, solver=newton-cg;, score=0.942 total time=  38.6s\n",
            "[CV 10/10] END class_weight=balanced, penalty=l2, solver=newton-cg;, score=0.950 total time=  43.1s\n",
            "[CV 1/10] END class_weight=balanced, penalty=l2, solver=lbfgs;, score=0.947 total time=  35.8s\n",
            "[CV 2/10] END class_weight=balanced, penalty=l2, solver=lbfgs;, score=0.945 total time=  36.8s\n",
            "[CV 3/10] END class_weight=balanced, penalty=l2, solver=lbfgs;, score=0.942 total time=  34.4s\n",
            "[CV 4/10] END class_weight=balanced, penalty=l2, solver=lbfgs;, score=0.939 total time=  37.2s\n",
            "[CV 5/10] END class_weight=balanced, penalty=l2, solver=lbfgs;, score=0.941 total time=  36.6s\n",
            "[CV 6/10] END class_weight=balanced, penalty=l2, solver=lbfgs;, score=0.946 total time=  35.9s\n",
            "[CV 7/10] END class_weight=balanced, penalty=l2, solver=lbfgs;, score=0.942 total time=  34.3s\n",
            "[CV 8/10] END class_weight=balanced, penalty=l2, solver=lbfgs;, score=0.935 total time=  34.1s\n",
            "[CV 9/10] END class_weight=balanced, penalty=l2, solver=lbfgs;, score=0.942 total time=  36.0s\n",
            "[CV 10/10] END class_weight=balanced, penalty=l2, solver=lbfgs;, score=0.950 total time=  31.8s\n",
            "[CV 1/10] END class_weight=balanced, penalty=l2, solver=liblinear;, score=0.947 total time=  12.4s\n",
            "[CV 2/10] END class_weight=balanced, penalty=l2, solver=liblinear;, score=0.945 total time=  12.9s\n",
            "[CV 3/10] END class_weight=balanced, penalty=l2, solver=liblinear;, score=0.943 total time=  12.3s\n",
            "[CV 4/10] END class_weight=balanced, penalty=l2, solver=liblinear;, score=0.939 total time=  12.8s\n",
            "[CV 5/10] END class_weight=balanced, penalty=l2, solver=liblinear;, score=0.941 total time=  12.1s\n",
            "[CV 6/10] END class_weight=balanced, penalty=l2, solver=liblinear;, score=0.946 total time=  12.9s\n",
            "[CV 7/10] END class_weight=balanced, penalty=l2, solver=liblinear;, score=0.942 total time=  12.5s\n",
            "[CV 8/10] END class_weight=balanced, penalty=l2, solver=liblinear;, score=0.936 total time=  12.2s\n",
            "[CV 9/10] END class_weight=balanced, penalty=l2, solver=liblinear;, score=0.943 total time=  12.7s\n",
            "[CV 10/10] END class_weight=balanced, penalty=l2, solver=liblinear;, score=0.950 total time=  12.8s\n",
            "[CV 1/10] END class_weight=balanced, penalty=l2, solver=sag;, score=0.947 total time= 2.0min\n",
            "[CV 2/10] END class_weight=balanced, penalty=l2, solver=sag;, score=0.945 total time= 2.0min\n",
            "[CV 3/10] END class_weight=balanced, penalty=l2, solver=sag;, score=0.942 total time= 1.9min\n",
            "[CV 4/10] END class_weight=balanced, penalty=l2, solver=sag;, score=0.939 total time= 1.9min\n",
            "[CV 5/10] END class_weight=balanced, penalty=l2, solver=sag;, score=0.941 total time= 2.0min\n",
            "[CV 6/10] END class_weight=balanced, penalty=l2, solver=sag;, score=0.946 total time= 2.0min\n",
            "[CV 7/10] END class_weight=balanced, penalty=l2, solver=sag;, score=0.942 total time= 1.8min\n",
            "[CV 8/10] END class_weight=balanced, penalty=l2, solver=sag;, score=0.936 total time= 2.0min\n",
            "[CV 9/10] END class_weight=balanced, penalty=l2, solver=sag;, score=0.942 total time= 1.9min\n",
            "[CV 10/10] END class_weight=balanced, penalty=l2, solver=sag;, score=0.950 total time= 2.0min\n"
          ]
        },
        {
          "output_type": "execute_result",
          "data": {
            "text/plain": [
              "GridSearchCV(cv=10, estimator=LogisticRegression(max_iter=1000),\n",
              "             param_grid={'class_weight': [None, 'balanced'], 'penalty': ['l2'],\n",
              "                         'solver': ['newton-cg', 'lbfgs', 'liblinear', 'sag']},\n",
              "             verbose=3)"
            ]
          },
          "metadata": {},
          "execution_count": 65
        }
      ]
    },
    {
      "cell_type": "code",
      "source": [
        "x.predict(X_test)"
      ],
      "metadata": {
        "colab": {
          "base_uri": "https://localhost:8080/"
        },
        "id": "8obmHrfYlGZy",
        "outputId": "36a48504-12bc-4179-cbfd-75eb9ad13fb8"
      },
      "execution_count": 66,
      "outputs": [
        {
          "output_type": "execute_result",
          "data": {
            "text/plain": [
              "array([False, False, False, ..., False, False, False])"
            ]
          },
          "metadata": {},
          "execution_count": 66
        }
      ]
    },
    {
      "cell_type": "code",
      "source": [
        "x.best_params_"
      ],
      "metadata": {
        "colab": {
          "base_uri": "https://localhost:8080/"
        },
        "id": "CnxK1QE-sH7K",
        "outputId": "184e04d4-5ca8-428e-8da5-1bc46cc11fae"
      },
      "execution_count": 67,
      "outputs": [
        {
          "output_type": "execute_result",
          "data": {
            "text/plain": [
              "{'class_weight': None, 'penalty': 'l2', 'solver': 'liblinear'}"
            ]
          },
          "metadata": {},
          "execution_count": 67
        }
      ]
    },
    {
      "cell_type": "code",
      "source": [
        "x.score(X_train, y_train)"
      ],
      "metadata": {
        "colab": {
          "base_uri": "https://localhost:8080/"
        },
        "id": "tNLCrInvsqi7",
        "outputId": "c841f9d1-d50b-4de7-c062-407dd21f101e"
      },
      "execution_count": 68,
      "outputs": [
        {
          "output_type": "execute_result",
          "data": {
            "text/plain": [
              "0.9772333333333333"
            ]
          },
          "metadata": {},
          "execution_count": 68
        }
      ]
    },
    {
      "cell_type": "code",
      "source": [
        "from sklearn.metrics import classification_report\n",
        "from sklearn.model_selection import cross_val_predict\n",
        "bestest = grid.best_estimator_\n",
        "y_pred = cross_val_predict(bestest, X_train, y_train)\n",
        "print(classification_report(y_train, y_pred))"
      ],
      "metadata": {
        "id": "gKoLLkvxqP2y",
        "colab": {
          "base_uri": "https://localhost:8080/"
        },
        "outputId": "c39d2638-7532-49f5-c693-402b2dae89f4"
      },
      "execution_count": 69,
      "outputs": [
        {
          "output_type": "stream",
          "name": "stdout",
          "text": [
            "              precision    recall  f1-score   support\n",
            "\n",
            "       False       0.98      0.98      0.98     53869\n",
            "        True       0.80      0.84      0.82      6131\n",
            "\n",
            "    accuracy                           0.96     60000\n",
            "   macro avg       0.89      0.91      0.90     60000\n",
            "weighted avg       0.96      0.96      0.96     60000\n",
            "\n"
          ]
        }
      ]
    },
    {
      "cell_type": "markdown",
      "source": [
        "## 3.Precision-Recall curve Generate and plot the precision-recall curve for the highest-performing model you identified in the previous question."
      ],
      "metadata": {
        "id": "MPNtNMk3KCf1"
      }
    },
    {
      "cell_type": "code",
      "source": [
        "from sklearn.metrics import precision_recall_curve\n",
        "y_values = cross_val_predict(bestest, X_train, y_train,method=\"decision_function\")                            \n",
        "precision, recall, thresholds = precision_recall_curve(y_train, y_values)"
      ],
      "metadata": {
        "id": "7JjaT7oNJ-hu"
      },
      "execution_count": 70,
      "outputs": []
    },
    {
      "cell_type": "code",
      "source": [
        "sns.set(font_scale=1) \n",
        "fig, ax = plt.subplots()\n",
        "ax.plot(thresholds, precision[:-1], label=\"Precision\")\n",
        "ax.plot(thresholds, recall[:-1], label=\"Recall\")\n",
        "ax.set_xlabel(\"Threshold\")\n",
        "plt.legend(loc='lower left', ncol=2)"
      ],
      "metadata": {
        "colab": {
          "base_uri": "https://localhost:8080/",
          "height": 303
        },
        "id": "Z_tRg_MpKG2J",
        "outputId": "390144a5-f1fa-4688-9c63-0334c86e4a7c"
      },
      "execution_count": 71,
      "outputs": [
        {
          "output_type": "execute_result",
          "data": {
            "text/plain": [
              "<matplotlib.legend.Legend at 0x7f5a01529290>"
            ]
          },
          "metadata": {},
          "execution_count": 71
        },
        {
          "output_type": "display_data",
          "data": {
            "image/png": "[encoded data removed]",
            "text/plain": [
              "<Figure size 432x288 with 1 Axes>"
            ]
          },
          "metadata": {}
        }
      ]
    },
    {
      "cell_type": "code",
      "source": [
        "X_train[0].shape\n",
        "plt.imshow(X_train[50].reshape(28,28))"
      ],
      "metadata": {
        "colab": {
          "base_uri": "https://localhost:8080/",
          "height": 285
        },
        "id": "-cxJfiVOLnIh",
        "outputId": "87c06014-9d99-4139-f1e3-3ba6ad036dd8"
      },
      "execution_count": 74,
      "outputs": [
        {
          "output_type": "execute_result",
          "data": {
            "text/plain": [
              "<matplotlib.image.AxesImage at 0x7f5a01510cd0>"
            ]
          },
          "metadata": {},
          "execution_count": 74
        },
        {
          "output_type": "display_data",
          "data": {
            "image/png": "[encoded data removed]",
            "text/plain": [
              "<Figure size 432x288 with 1 Axes>"
            ]
          },
          "metadata": {}
        }
      ]
    }
  ]
}