{
 "cells": [
  {
   "cell_type": "code",
   "execution_count": null,
   "metadata": {
    "colab": {
     "base_uri": "https://localhost:8080/"
    },
    "id": "haFsI8kGZFJS",
    "outputId": "1d48a44e-bc2b-4035-da2f-f712d253687c"
   },
   "outputs": [
    {
     "name": "stdout",
     "output_type": "stream",
     "text": [
      "Mounted at /content/drive\n"
     ]
    }
   ],
   "source": [
    "from google.colab import drive\n",
    "drive.mount(\"/content/drive\")"
   ]
  },
  {
   "cell_type": "code",
   "execution_count": null,
   "metadata": {
    "id": "mZz0H0dQm8wY"
   },
   "outputs": [],
   "source": [
    "import numpy as np\n",
    "import pandas as pd\n",
    "import matplotlib.pyplot as plt\n",
    "import os\n"
   ]
  },
  {
   "cell_type": "code",
   "execution_count": null,
   "metadata": {
    "id": "wJIdsLKdPo4K"
   },
   "outputs": [],
   "source": [
    "!unzip -q \"/content/drive/Shareddrives/602Project/Assigns/dataset.zip\""
   ]
  },
  {
   "cell_type": "code",
   "execution_count": null,
   "metadata": {
    "colab": {
     "base_uri": "https://localhost:8080/"
    },
    "id": "187L5XRCP-Ql",
    "outputId": "9e62ca8e-002a-4d80-be57-81cfa1760af2"
   },
   "outputs": [
    {
     "data": {
      "text/plain": [
       "(17, 1150)"
      ]
     },
     "execution_count": 4,
     "metadata": {},
     "output_type": "execute_result"
    }
   ],
   "source": [
    "len(os.listdir(\"/content/1_movies_per_genre\")), len(os.listdir(\"/content/2_reviews_per_movie_raw\"))"
   ]
  },
  {
   "cell_type": "code",
   "execution_count": null,
   "metadata": {
    "id": "Lft7tBDyP-Ha"
   },
   "outputs": [],
   "source": [
    "movies_path = \"/content/1_movies_per_genre\"\n",
    "reviews_path = \"/content/2_reviews_per_movie_raw\""
   ]
  },
  {
   "cell_type": "code",
   "execution_count": null,
   "metadata": {
    "colab": {
     "base_uri": "https://localhost:8080/"
    },
    "id": "E0YMX8-1Qcoj",
    "outputId": "545b37c2-ba11-4d79-a8b7-dfc68c3c7b03"
   },
   "outputs": [
    {
     "data": {
      "text/plain": [
       "((1150, 10),\n",
       " Index(['name', 'year', 'movie_rated', 'run_length', 'genres', 'release_date',\n",
       "        'rating', 'num_raters', 'num_reviews', 'review_url'],\n",
       "       dtype='object'))"
      ]
     },
     "execution_count": 6,
     "metadata": {},
     "output_type": "execute_result"
    }
   ],
   "source": [
    "movies_df = pd.DataFrame()\n",
    "\n",
    "for fn in os.listdir(movies_path):\n",
    "  if fn.endswith(\"csv\"):\n",
    "    temp_df = pd.read_csv(os.path.join(movies_path, fn))\n",
    "    movies_df = movies_df.append(temp_df)\n",
    "\n",
    "movies_df = movies_df.drop_duplicates(subset=['name', 'year'])\n",
    "movies_df.shape, movies_df.columns"
   ]
  },
  {
   "cell_type": "code",
   "execution_count": null,
   "metadata": {
    "colab": {
     "base_uri": "https://localhost:8080/"
    },
    "id": "_TDvz8EQQclr",
    "outputId": "73807569-18de-4339-dab8-a31512e68e99"
   },
   "outputs": [
    {
     "name": "stderr",
     "output_type": "stream",
     "text": [
      "/usr/local/lib/python3.7/dist-packages/ipykernel_launcher.py:11: SettingWithCopyWarning: \n",
      "A value is trying to be set on a copy of a slice from a DataFrame.\n",
      "Try using .loc[row_indexer,col_indexer] = value instead\n",
      "\n",
      "See the caveats in the documentation: https://pandas.pydata.org/pandas-docs/stable/user_guide/indexing.html#returning-a-view-versus-a-copy\n",
      "  # This is added back by InteractiveShellApp.init_path()\n"
     ]
    },
    {
     "data": {
      "text/plain": [
       "((927096, 9),\n",
       " Index(['username', 'rating', 'helpful', 'total', 'date', 'title', 'review',\n",
       "        'year', 'name'],\n",
       "       dtype='object'))"
      ]
     },
     "execution_count": 7,
     "metadata": {},
     "output_type": "execute_result"
    }
   ],
   "source": [
    "rev_df = pd.DataFrame()\n",
    "\n",
    "for fn in os.listdir(reviews_path):\n",
    "  if fn.endswith(\"csv\"):\n",
    "    temp_df = pd.read_csv(os.path.join(reviews_path, fn))\n",
    "    temp_df['year'] = int(fn.split(\" \")[-1].replace(\".csv\", \"\"))\n",
    "    temp_df['name'] = \" \".join(fn.split(\" \")[:-1])\n",
    "    rev_df = rev_df.append(temp_df)\n",
    "\n",
    "rev_df = rev_df.drop_duplicates(subset=['name', 'username', 'rating'])\n",
    "rev_df['year'] = rev_df['year'].astype(int)\n",
    "rev_df.shape, rev_df.columns"
   ]
  },
  {
   "cell_type": "code",
   "execution_count": null,
   "metadata": {
    "id": "xYWV6oCiGkvj"
   },
   "outputs": [],
   "source": [
    "movies_df.to_csv(\"/content/drive/Shareddrives/602Project/Assigns/imdb_movies_raw.csv.gz\", index=False, compression='gzip')\n",
    "rev_df.to_csv(\"/content/drive/Shareddrives/602Project/Assigns/imdb_reviews_raw.csv.gz\", index=False, compression='gzip')"
   ]
  },
  {
   "cell_type": "markdown",
   "metadata": {
    "id": "3Hkkvl-EHKGB"
   },
   "source": [
    "### Joining Movies & Reviews data"
   ]
  },
  {
   "cell_type": "code",
   "execution_count": null,
   "metadata": {
    "colab": {
     "base_uri": "https://localhost:8080/"
    },
    "id": "6noivk4QQciG",
    "outputId": "003e5f97-2eec-4622-bce7-13427d084ed8"
   },
   "outputs": [
    {
     "data": {
      "text/plain": [
       "(927096, 17)"
      ]
     },
     "execution_count": 10,
     "metadata": {},
     "output_type": "execute_result"
    }
   ],
   "source": [
    "mrdf = rev_df.merge(movies_df, on=['name', 'year'], how=\"left\")\n",
    "mrdf = mrdf.rename(columns={'rating_y':'movie_rating', 'rating_x': 'rev_rating'})\n",
    "mrdf.shape"
   ]
  },
  {
   "cell_type": "code",
   "execution_count": null,
   "metadata": {
    "id": "wMjWSXnR_ydw"
   },
   "outputs": [],
   "source": [
    "# mrdf.to_csv(\"/content/drive/Shareddrives/602Project/Assigns/imdb_data_merged.csv.gz\", index=False, compression='gzip')"
   ]
  },
  {
   "cell_type": "markdown",
   "metadata": {
    "id": "zWirUjqoJ5x4"
   },
   "source": [
    "# Data Analysis"
   ]
  },
  {
   "cell_type": "markdown",
   "metadata": {
    "id": "L9Rn9jWjJ-T6"
   },
   "source": [
    "### NULL Values \n",
    "\n",
    "- There are no explict null values in any of the columns"
   ]
  },
  {
   "cell_type": "code",
   "execution_count": null,
   "metadata": {
    "colab": {
     "base_uri": "https://localhost:8080/"
    },
    "id": "0QN0RaSLQcWx",
    "outputId": "562363c9-5d5a-4f93-beea-66900ec3c8ac"
   },
   "outputs": [
    {
     "data": {
      "text/plain": [
       "username        0\n",
       "rev_rating      0\n",
       "helpful         0\n",
       "total           0\n",
       "date            0\n",
       "title           0\n",
       "review          0\n",
       "year            0\n",
       "name            0\n",
       "movie_rated     0\n",
       "run_length      0\n",
       "genres          0\n",
       "release_date    0\n",
       "movie_rating    0\n",
       "num_raters      0\n",
       "num_reviews     0\n",
       "review_url      0\n",
       "dtype: int64"
      ]
     },
     "execution_count": 12,
     "metadata": {},
     "output_type": "execute_result"
    }
   ],
   "source": [
    "mrdf.isna().sum()"
   ]
  },
  {
   "cell_type": "code",
   "execution_count": null,
   "metadata": {
    "colab": {
     "base_uri": "https://localhost:8080/"
    },
    "id": "2cvRDany8qNE",
    "outputId": "648b1283-6bdc-4dc2-8192-85afc354db23"
   },
   "outputs": [
    {
     "data": {
      "text/plain": [
       "10      232450\n",
       "9       125638\n",
       "8       122243\n",
       "Null     95361\n",
       "7        87173\n",
       "1        67868\n",
       "6        58451\n",
       "5        44559\n",
       "4        33155\n",
       "3        32334\n",
       "2        27864\n",
       "Name: rev_rating, dtype: int64"
      ]
     },
     "execution_count": 13,
     "metadata": {},
     "output_type": "execute_result"
    }
   ],
   "source": [
    "mrdf['rev_rating'].value_counts()"
   ]
  },
  {
   "cell_type": "markdown",
   "metadata": {
    "id": "BlBhtvDbKH4i"
   },
   "source": [
    "- Around 95K didnt have any rating associated with the given review"
   ]
  },
  {
   "cell_type": "code",
   "execution_count": null,
   "metadata": {
    "colab": {
     "base_uri": "https://localhost:8080/"
    },
    "id": "xjdpH4cZ9FVP",
    "outputId": "b1e0ac2f-0505-4c88-f8d0-ac9ecab5c0e6"
   },
   "outputs": [
    {
     "data": {
      "text/plain": [
       "(1317.6321589134243, 933.0)"
      ]
     },
     "execution_count": 14,
     "metadata": {},
     "output_type": "execute_result"
    }
   ],
   "source": [
    "mrdf['rev_len'] = mrdf['review'].str.len()\n",
    "mrdf['rev_len'].mean(), mrdf['rev_len'].median()"
   ]
  },
  {
   "cell_type": "code",
   "execution_count": null,
   "metadata": {
    "colab": {
     "base_uri": "https://localhost:8080/",
     "height": 307
    },
    "id": "Sk2idWQzKtVQ",
    "outputId": "e040ab12-3e2a-4e66-8c60-bd9cbbd14bcf"
   },
   "outputs": [
    {
     "data": {
      "text/plain": [
       "<matplotlib.axes._subplots.AxesSubplot at 0x7fde9bb2bc90>"
      ]
     },
     "execution_count": 15,
     "metadata": {},
     "output_type": "execute_result"
    },
    {
     "data": {
      "image/png": "[encoded data removed]",
      "text/plain": [
       "<Figure size 432x288 with 1 Axes>"
      ]
     },
     "metadata": {
      "needs_background": "light"
     },
     "output_type": "display_data"
    }
   ],
   "source": [
    "mrdf.groupby(['rev_rating'])['rev_len'].mean().plot(kind=\"bar\")"
   ]
  },
  {
   "cell_type": "code",
   "execution_count": null,
   "metadata": {
    "colab": {
     "base_uri": "https://localhost:8080/"
    },
    "id": "2_crYoao8ctx",
    "outputId": "53d0fb69-a496-4190-fb14-3a4c4e76844b"
   },
   "outputs": [
    {
     "data": {
      "text/plain": [
       "0.05     145.0\n",
       "0.10     258.0\n",
       "0.25     607.0\n",
       "0.50     933.0\n",
       "0.75    1676.0\n",
       "0.90    2885.0\n",
       "0.95    3860.0\n",
       "Name: rev_len, dtype: float64"
      ]
     },
     "execution_count": 16,
     "metadata": {},
     "output_type": "execute_result"
    }
   ],
   "source": [
    "mrdf['rev_len'].quantile([0.05, 0.1, 0.25, 0.5, 0.75, 0.9, 0.95])"
   ]
  },
  {
   "cell_type": "code",
   "execution_count": null,
   "metadata": {
    "colab": {
     "base_uri": "https://localhost:8080/",
     "height": 299
    },
    "id": "0CQiK0CQ9S0c",
    "outputId": "75640e81-b1a1-4b3b-e117-1111e6507891"
   },
   "outputs": [
    {
     "data": {
      "text/plain": [
       "Text(0.5, 1.0, 'Distrubution of Reviews Length (characters)')"
      ]
     },
     "execution_count": 17,
     "metadata": {},
     "output_type": "execute_result"
    },
    {
     "data": {
      "image/png": "[encoded data removed]",
      "text/plain": [
       "<Figure size 432x288 with 1 Axes>"
      ]
     },
     "metadata": {
      "needs_background": "light"
     },
     "output_type": "display_data"
    }
   ],
   "source": [
    "ax = mrdf['rev_len'].hist()\n",
    "_ = ax.axis(xmin=0, xmax=7000)\n",
    "ax.set_title(\"Distrubution of Reviews Length (characters)\")"
   ]
  },
  {
   "cell_type": "code",
   "execution_count": null,
   "metadata": {
    "colab": {
     "base_uri": "https://localhost:8080/",
     "height": 299
    },
    "id": "loWzmQ_I_Z10",
    "outputId": "c95aa38a-0a44-4821-b089-0dae15354204"
   },
   "outputs": [
    {
     "data": {
      "text/plain": [
       "Text(0.5, 1.0, 'Distrubution of Reviews word counts')"
      ]
     },
     "execution_count": 18,
     "metadata": {},
     "output_type": "execute_result"
    },
    {
     "data": {
      "image/png": "[encoded data removed]",
      "text/plain": [
       "<Figure size 432x288 with 1 Axes>"
      ]
     },
     "metadata": {
      "needs_background": "light"
     },
     "output_type": "display_data"
    }
   ],
   "source": [
    "mrdf['word_count'] = mrdf['review'].astype(str).apply(lambda x:len(x.split()))\n",
    "ax = mrdf['word_count'].hist()\n",
    "_ = ax.axis(xmin=0, xmax=1500)\n",
    "ax.set_title(\"Distrubution of Reviews word counts\")"
   ]
  },
  {
   "cell_type": "markdown",
   "metadata": {
    "id": "HxIvvnB7KU1g"
   },
   "source": [
    "The reviews are of good mix with both short and large ones. The length of reviews varies in a large range - from 1 character to more than 7k characters. Most reviews are having under 300-400 words"
   ]
  },
  {
   "cell_type": "code",
   "execution_count": null,
   "metadata": {
    "colab": {
     "base_uri": "https://localhost:8080/",
     "height": 299
    },
    "id": "cB1nUB_X-f8u",
    "outputId": "a3c696d4-15f4-48bd-9d90-369433c869b6"
   },
   "outputs": [
    {
     "data": {
      "text/plain": [
       "Text(0.5, 1.0, 'Distrubution of individual ratings of all movies')"
      ]
     },
     "execution_count": 19,
     "metadata": {},
     "output_type": "execute_result"
    },
    {
     "data": {
      "image/png": "[encoded data removed]",
      "text/plain": [
       "<Figure size 432x288 with 1 Axes>"
      ]
     },
     "metadata": {
      "needs_background": "light"
     },
     "output_type": "display_data"
    }
   ],
   "source": [
    "ax = mrdf['rev_rating'].hist()\n",
    "ax.set_title(\"Distrubution of individual ratings of all movies\")"
   ]
  },
  {
   "cell_type": "markdown",
   "metadata": {
    "id": "mM8xtO5Gc4Tj"
   },
   "source": [
    "- Reviews with 10 star are comparatively very high. Also, reviews with less than 5 star are significantly low in number. This indicates most people have given rating greater than 5 - indicating data is having movies that are well recieved."
   ]
  },
  {
   "cell_type": "code",
   "execution_count": null,
   "metadata": {
    "colab": {
     "base_uri": "https://localhost:8080/",
     "height": 283
    },
    "id": "Y5C1Ft-Vc3PR",
    "outputId": "72df5e3d-e603-4896-8f3c-0862d878ee94"
   },
   "outputs": [
    {
     "data": {
      "text/plain": [
       "Text(0.5, 1.0, 'Distrubution of Average Movie Rating')"
      ]
     },
     "execution_count": 20,
     "metadata": {},
     "output_type": "execute_result"
    },
    {
     "data": {
      "image/png": "[encoded data removed]",
      "text/plain": [
       "<Figure size 432x288 with 1 Axes>"
      ]
     },
     "metadata": {
      "needs_background": "light"
     },
     "output_type": "display_data"
    }
   ],
   "source": [
    "movies_df['rating'].hist()\n",
    "ax.set_title(\"Distrubution of Average Movie Rating\")"
   ]
  },
  {
   "cell_type": "markdown",
   "metadata": {
    "id": "t4BTFmSZdxqD"
   },
   "source": [
    "- Confirming our previous hypothesis, Most movie are having the average rating greather than 7"
   ]
  },
  {
   "cell_type": "code",
   "execution_count": null,
   "metadata": {
    "colab": {
     "base_uri": "https://localhost:8080/",
     "height": 283
    },
    "id": "0B4swo9E1e3e",
    "outputId": "6b27c1d1-5baa-4fd5-83e8-cec7c2813478"
   },
   "outputs": [
    {
     "data": {
      "text/plain": [
       "Text(0.5, 1.0, 'Distrubution of release year of all Movies')"
      ]
     },
     "execution_count": 21,
     "metadata": {},
     "output_type": "execute_result"
    },
    {
     "data": {
      "image/png": "[encoded data removed]",
      "text/plain": [
       "<Figure size 432x288 with 1 Axes>"
      ]
     },
     "metadata": {
      "needs_background": "light"
     },
     "output_type": "display_data"
    }
   ],
   "source": [
    "movies_df['year'].hist()\n",
    "ax.set_title(\"Distrubution of release year of all Movies\")"
   ]
  },
  {
   "cell_type": "markdown",
   "metadata": {
    "id": "kYUeWbTcBGi4"
   },
   "source": [
    "- Majority of the movies are released after the year 2000"
   ]
  },
  {
   "cell_type": "code",
   "execution_count": null,
   "metadata": {
    "id": "hD77VwIpph7a"
   },
   "outputs": [],
   "source": [
    "# mrdf['run_length']\n",
    "# mrdf['genres']"
   ]
  },
  {
   "cell_type": "markdown",
   "metadata": {
    "id": "tyFUP75-eshs"
   },
   "source": [
    "#### Notebook 2: Text Data Preprocessing & Analysis, Data Sampling/Splitting\n"
   ]
  }
 ],
 "metadata": {
  "colab": {
   "collapsed_sections": [],
   "name": "Project_Part1.ipynb",
   "provenance": []
  },
  "kernelspec": {
   "display_name": "Python 3",
   "language": "python",
   "name": "python3"
  },
  "language_info": {
   "codemirror_mode": {
    "name": "ipython",
    "version": 3
   },
   "file_extension": ".py",
   "mimetype": "text/x-python",
   "name": "python",
   "nbconvert_exporter": "python",
   "pygments_lexer": "ipython3",
   "version": "3.8.8"
  }
 },
 "nbformat": 4,
 "nbformat_minor": 1
}
