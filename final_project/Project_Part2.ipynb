{
 "cells": [
  {
   "cell_type": "code",
   "execution_count": null,
   "metadata": {
    "_cell_guid": "b1076dfc-b9ad-4769-8c92-a6c4dae69d19",
    "_uuid": "8f2839f25d086af736a60e9eeb907d3b93b6e0e5",
    "colab": {
     "base_uri": "https://localhost:8080/"
    },
    "execution": {
     "iopub.execute_input": "2022-04-29T12:56:25.664126Z",
     "iopub.status.busy": "2022-04-29T12:56:25.663173Z",
     "iopub.status.idle": "2022-04-29T12:56:37.015569Z",
     "shell.execute_reply": "2022-04-29T12:56:37.014435Z",
     "shell.execute_reply.started": "2022-04-29T12:56:25.663978Z"
    },
    "id": "ufw7x9jtmFri",
    "outputId": "de9d8e1b-942d-4f46-abd5-46c2c9a4c514"
   },
   "outputs": [
    {
     "name": "stdout",
     "output_type": "stream",
     "text": [
      "\u001b[?25l\r",
      "\u001b[K     |█▉                              | 10 kB 18.1 MB/s eta 0:00:01\r",
      "\u001b[K     |███▊                            | 20 kB 22.0 MB/s eta 0:00:01\r",
      "\u001b[K     |█████▋                          | 30 kB 24.3 MB/s eta 0:00:01\r",
      "\u001b[K     |███████▌                        | 40 kB 19.5 MB/s eta 0:00:01\r",
      "\u001b[K     |█████████▍                      | 51 kB 14.9 MB/s eta 0:00:01\r",
      "\u001b[K     |███████████▏                    | 61 kB 16.9 MB/s eta 0:00:01\r",
      "\u001b[K     |█████████████                   | 71 kB 17.0 MB/s eta 0:00:01\r",
      "\u001b[K     |███████████████                 | 81 kB 17.8 MB/s eta 0:00:01\r",
      "\u001b[K     |████████████████▉               | 92 kB 19.4 MB/s eta 0:00:01\r",
      "\u001b[K     |██████████████████▊             | 102 kB 20.5 MB/s eta 0:00:01\r",
      "\u001b[K     |████████████████████▌           | 112 kB 20.5 MB/s eta 0:00:01\r",
      "\u001b[K     |██████████████████████▍         | 122 kB 20.5 MB/s eta 0:00:01\r",
      "\u001b[K     |████████████████████████▎       | 133 kB 20.5 MB/s eta 0:00:01\r",
      "\u001b[K     |██████████████████████████▏     | 143 kB 20.5 MB/s eta 0:00:01\r",
      "\u001b[K     |████████████████████████████    | 153 kB 20.5 MB/s eta 0:00:01\r",
      "\u001b[K     |█████████████████████████████▉  | 163 kB 20.5 MB/s eta 0:00:01\r",
      "\u001b[K     |███████████████████████████████▊| 174 kB 20.5 MB/s eta 0:00:01\r",
      "\u001b[K     |████████████████████████████████| 175 kB 20.5 MB/s \n",
      "\u001b[?25h  Building wheel for emoji (setup.py) ... \u001b[?25l\u001b[?25hdone\n"
     ]
    }
   ],
   "source": [
    "!pip -q install emoji emojis"
   ]
  },
  {
   "cell_type": "markdown",
   "metadata": {
    "id": "vyylE3JmcQGA"
   },
   "source": [
    "Reference: Emoji. PyPI. (n.d.). Retrieved May 10, 2022, from https://pypi.org/project/emoji/  "
   ]
  },
  {
   "cell_type": "code",
   "execution_count": null,
   "metadata": {
    "colab": {
     "base_uri": "https://localhost:8080/"
    },
    "id": "XBYo8k6ScB2R",
    "outputId": "4f62b918-b7da-400b-988b-2a993efa9a94"
   },
   "outputs": [
    {
     "name": "stdout",
     "output_type": "stream",
     "text": [
      "Mounted at /content/drive\n"
     ]
    }
   ],
   "source": [
    "from google.colab import drive\n",
    "drive.mount(\"/content/drive\")"
   ]
  },
  {
   "cell_type": "code",
   "execution_count": null,
   "metadata": {
    "colab": {
     "base_uri": "https://localhost:8080/"
    },
    "execution": {
     "iopub.execute_input": "2022-04-29T12:56:37.019162Z",
     "iopub.status.busy": "2022-04-29T12:56:37.018793Z",
     "iopub.status.idle": "2022-04-29T12:56:39.045871Z",
     "shell.execute_reply": "2022-04-29T12:56:39.044910Z",
     "shell.execute_reply.started": "2022-04-29T12:56:37.019124Z"
    },
    "id": "ljpm2DBYmFrm",
    "outputId": "7ac743f7-26b4-4349-add2-0bdde73e4680"
   },
   "outputs": [
    {
     "data": {
      "text/plain": [
       "['imdb_movies_test.csv.gz',\n",
       " 'lda.gensim.state',\n",
       " 'imdb_movies_val.csv.gz',\n",
       " 'imdb_movies_train.csv.gz',\n",
       " 'lda.gensim.id2word',\n",
       " 'lda.gensim',\n",
       " 'lda.gensim.expElogbeta.npy',\n",
       " 'word2vec.gensim',\n",
       " 'imdb_reviews_val.csv.gz',\n",
       " 'imdb_reviews_test.csv.gz',\n",
       " 'dataset.zip',\n",
       " 'imdb_reviews_train.csv.gz',\n",
       " 'imdb_movies_raw.csv.gz',\n",
       " 'imdb_reviews_raw.csv.gz']"
      ]
     },
     "execution_count": 3,
     "metadata": {},
     "output_type": "execute_result"
    }
   ],
   "source": [
    "import numpy as np\n",
    "import pandas as pd\n",
    "import matplotlib.pyplot as plt\n",
    "from collections import Counter\n",
    "from tqdm.notebook import tqdm\n",
    "import nltk, re\n",
    "import seaborn as sns\n",
    "import string\n",
    "import os, gc\n",
    "import random\n",
    "\n",
    "tqdm.pandas()\n",
    "\n",
    "base_dir = \"/content/drive/Shareddrives/602Project/Assigns\"\n",
    "os.listdir(base_dir)"
   ]
  },
  {
   "cell_type": "code",
   "execution_count": null,
   "metadata": {
    "colab": {
     "base_uri": "https://localhost:8080/"
    },
    "execution": {
     "iopub.execute_input": "2022-04-29T12:56:39.047430Z",
     "iopub.status.busy": "2022-04-29T12:56:39.047185Z",
     "iopub.status.idle": "2022-04-29T12:57:13.522657Z",
     "shell.execute_reply": "2022-04-29T12:57:13.521620Z",
     "shell.execute_reply.started": "2022-04-29T12:56:39.047404Z"
    },
    "id": "UNcZ-JilmFrp",
    "outputId": "ea6a4016-e331-442b-c3e9-9cbe5967ad3f"
   },
   "outputs": [
    {
     "name": "stdout",
     "output_type": "stream",
     "text": [
      "Movies data:\n",
      "(1150, 10) Index(['name', 'year', 'movie_rated', 'run_length', 'genres', 'release_date',\n",
      "       'rating', 'num_raters', 'num_reviews', 'review_url'],\n",
      "      dtype='object')\n",
      "Reviews data:\n",
      "(927096, 9) Index(['username', 'rating', 'helpful', 'total', 'date', 'title', 'review',\n",
      "       'year', 'name'],\n",
      "      dtype='object')\n"
     ]
    }
   ],
   "source": [
    "mov_df = pd.read_csv(f\"{base_dir}/imdb_movies_raw.csv.gz\", compression=\"gzip\")\n",
    "rev_df = pd.read_csv(f\"{base_dir}/imdb_reviews_raw.csv.gz\", compression=\"gzip\")\n",
    "\n",
    "print(\"Movies data:\")\n",
    "print(mov_df.shape, mov_df.columns)\n",
    "\n",
    "print(\"Reviews data:\")\n",
    "print(rev_df.shape, rev_df.columns)"
   ]
  },
  {
   "cell_type": "code",
   "execution_count": null,
   "metadata": {
    "execution": {
     "iopub.execute_input": "2022-04-29T13:51:51.066107Z",
     "iopub.status.busy": "2022-04-29T13:51:51.065777Z",
     "iopub.status.idle": "2022-04-29T13:51:51.070041Z",
     "shell.execute_reply": "2022-04-29T13:51:51.069346Z",
     "shell.execute_reply.started": "2022-04-29T13:51:51.066072Z"
    },
    "id": "nky5JzzSmFrq"
   },
   "outputs": [],
   "source": [
    "# rev_df = rev_df.sample(frac=0.1)\n",
    "# rev_df.shape"
   ]
  },
  {
   "cell_type": "markdown",
   "metadata": {
    "id": "hCg42-JwmFrr"
   },
   "source": [
    "#### Data Cleaning & Sampling"
   ]
  },
  {
   "cell_type": "code",
   "execution_count": null,
   "metadata": {
    "execution": {
     "iopub.execute_input": "2022-04-29T12:57:13.844054Z",
     "iopub.status.busy": "2022-04-29T12:57:13.843716Z",
     "iopub.status.idle": "2022-04-29T12:57:13.929227Z",
     "shell.execute_reply": "2022-04-29T12:57:13.928390Z",
     "shell.execute_reply.started": "2022-04-29T12:57:13.844024Z"
    },
    "id": "2kAT6lsJmFru"
   },
   "outputs": [],
   "source": [
    "# leave run_length, release_date, name, 'year',review_url\n",
    "# features = ['name', 'year', 'movie_rated','genres','rating', 'num_raters', 'num_reviews',]"
   ]
  },
  {
   "cell_type": "code",
   "execution_count": null,
   "metadata": {
    "colab": {
     "base_uri": "https://localhost:8080/"
    },
    "execution": {
     "iopub.execute_input": "2022-04-29T12:57:13.975956Z",
     "iopub.status.busy": "2022-04-29T12:57:13.975428Z",
     "iopub.status.idle": "2022-04-29T12:57:13.988150Z",
     "shell.execute_reply": "2022-04-29T12:57:13.987200Z",
     "shell.execute_reply.started": "2022-04-29T12:57:13.975921Z"
    },
    "id": "DrqBcjommFrv",
    "outputId": "035caded-a2a6-4ec5-d9b8-c0a470491983"
   },
   "outputs": [
    {
     "name": "stdout",
     "output_type": "stream",
     "text": [
      "Train: (736, 10) Val: (184, 10) Test: (230, 10)\n"
     ]
    }
   ],
   "source": [
    "from sklearn.model_selection import train_test_split\n",
    "mov_cv, mov_test = train_test_split(mov_df, train_size = 0.8, random_state=439)\n",
    "mov_train, mov_val = train_test_split(mov_cv, train_size = 0.8, random_state=439)\n",
    "print(\"Train:\", mov_train.shape, \"Val:\", mov_val.shape, \"Test:\", mov_test.shape)"
   ]
  },
  {
   "cell_type": "code",
   "execution_count": null,
   "metadata": {
    "colab": {
     "base_uri": "https://localhost:8080/"
    },
    "execution": {
     "iopub.execute_input": "2022-04-29T12:57:13.989964Z",
     "iopub.status.busy": "2022-04-29T12:57:13.989691Z",
     "iopub.status.idle": "2022-04-29T12:57:14.258564Z",
     "shell.execute_reply": "2022-04-29T12:57:14.257686Z",
     "shell.execute_reply.started": "2022-04-29T12:57:13.989923Z"
    },
    "id": "4lIAa7mfmFrw",
    "outputId": "de7ff2f4-a257-40bd-80df-8355dfe4d3fe"
   },
   "outputs": [
    {
     "name": "stdout",
     "output_type": "stream",
     "text": [
      "[nltk_data] Downloading package stopwords to /root/nltk_data...\n",
      "[nltk_data]   Unzipping corpora/stopwords.zip.\n",
      "[nltk_data] Downloading package punkt to /root/nltk_data...\n",
      "[nltk_data]   Unzipping tokenizers/punkt.zip.\n",
      "[nltk_data] Downloading package wordnet to /root/nltk_data...\n",
      "[nltk_data]   Unzipping corpora/wordnet.zip.\n"
     ]
    }
   ],
   "source": [
    "import emojis\n",
    "from nltk.corpus import stopwords\n",
    "from nltk import word_tokenize\n",
    "from nltk.stem.wordnet import WordNetLemmatizer\n",
    "import re, emoji\n",
    "nltk.download('stopwords')\n",
    "nltk.download('punkt')\n",
    "nltk.download(\"wordnet\")\n",
    "\n",
    "eng_stops = stopwords.words('english')\n",
    "lemma = WordNetLemmatizer()\n",
    "\n",
    "def preprocess_review(r):\n",
    "    # r = emoji.demojize(r)\n",
    "    lower_rev = r.lower()\n",
    "    rev = lower_rev.encode(encoding=\"ascii\", errors=\"ignore\").decode()\n",
    "    rev = re.sub(r\"[^\\'\\,\\_a-zA-Z\\s]\", \" \", rev)\n",
    "    rev = re.sub(r\"[0-9]+|(http|https)?://(www\\.)?|[\\w\\.-]+@[\\w\\.-]+|<[^>]*>\", \" \", rev)\n",
    "    words = [x.strip() for x in word_tokenize(rev) if x not in eng_stops]\n",
    "    words = [lemma.lemmatize(w.strip(\".\")) for w in words if len(w)>2]\n",
    "\n",
    "    if len(words) < 10:\n",
    "      return np.nan\n",
    "\n",
    "    return \"|\".join(words)\n",
    "\n",
    "\n",
    "def clean_review_data(df):\n",
    "    \n",
    "    df = df.dropna(subset=['review', 'name', 'year'])\n",
    "    df = df.drop_duplicates(subset=['review', 'name', 'year'])\n",
    "    df = df[~df['rating'].isin([\"Null\"])]\n",
    "    df = df[df['review'].str.len() >= 100]\n",
    "    df = df[df['review'].str.len() <= 5000]\n",
    "    df['emojis'] = df['review'].progress_apply(lambda t: \",\".join(list(emojis.get(t))))\n",
    "    df['review'] = df['review'].progress_apply(emoji.demojize)\n",
    "    df['review_words'] = df['review'].progress_apply(preprocess_review)\n",
    "    df = df.dropna(subset=['review_words'])\n",
    "\n",
    "    return df"
   ]
  },
  {
   "cell_type": "markdown",
   "metadata": {
    "id": "76-nOKPdc4IA"
   },
   "source": [
    "Reference: NLTK stop words. pythonspot. (2021, July 22). Retrieved May 10, 2022, from https://pythonspot.com/nltk-stop-words/ "
   ]
  },
  {
   "cell_type": "code",
   "execution_count": null,
   "metadata": {
    "execution": {
     "iopub.execute_input": "2022-04-29T13:04:01.390377Z",
     "iopub.status.busy": "2022-04-29T13:04:01.390055Z",
     "iopub.status.idle": "2022-04-29T13:04:01.395191Z",
     "shell.execute_reply": "2022-04-29T13:04:01.394231Z",
     "shell.execute_reply.started": "2022-04-29T13:04:01.390343Z"
    },
    "id": "zOezbOckmFry"
   },
   "outputs": [],
   "source": [
    "# for r in mrdf['review'].values[250:800]:\n",
    "#     print(preprocess_review(r))\n",
    "#     break\n",
    "# mrdf['review_words'] = mrdf['review'].progress_apply(preprocess_review)"
   ]
  },
  {
   "cell_type": "markdown",
   "metadata": {
    "id": "23jRS__gr3XX"
   },
   "source": [
    "#### Clean & Save the Training data for modelling"
   ]
  },
  {
   "cell_type": "code",
   "execution_count": null,
   "metadata": {
    "colab": {
     "base_uri": "https://localhost:8080/",
     "height": 183,
     "referenced_widgets": [
      "c70184ed958c41a38b5447252146d51d",
      "c1955ed1950846fc8dc794ae427375e5",
      "aa97801b54974a1581f1093c91b980f9",
      "a3069764c7894bb7a4ccc1a85eddcfdd",
      "054524f0659840fea7d2a96e2775fc31",
      "3a9662df247f4b599b7c66e8a2c01d5b",
      "a19c8212a28f457a95bb6b6aa9e23eef",
      "f8836e8c5ece44c09edfd15703b57570",
      "3f7b8901e12d46249c7cdc03fbe1f9f8",
      "2c7a707ad0524a8888e493a627b7c956",
      "7557725a19024eca958a8ceb449b69de",
      "88a0ddd7f38647f1bfc24e8cdd77d176",
      "549f666a53f14ea8b1d44aa20e1763dc",
      "de7e485b04d647f3aafe34f126129487",
      "9d996be172fd41ec94cb2ff88f540bda",
      "b22b664b108d4bd09f59094cb567358d",
      "3a073ca1ad7a4f7f86092f5136394b93",
      "98980b940ac04b8c93f0e41462821131",
      "3fb22fc3f80449539cfa71b31114552d",
      "acef47fe350f45c091265df42837c1be",
      "94c77fa081b447328649ee5d37934fba",
      "cc9dd41bcf954489a7ce4097863129a8",
      "76d3f72341474e4096a429e1d0644f28",
      "24abd1c48643470a9d2b0a71f5286b2e",
      "e89ac9f060794676877e73ae3c76b430",
      "d147ba87479049f682fde06e83efd53d",
      "ccfb8ca8247545e9aae3f1bc7654c7d8",
      "50d3498b6c86445ea93d43c19d17cf89",
      "3b6694d01fd4470f87bfa54337431d8e",
      "b75fb2f1de2a4cf1bea6eabff209dc62",
      "c35dabab368941278ec326615f49e4a1",
      "7ab0b757e7c347f89dca7fe7df441195",
      "e57de31bd88d4ea38c931fa565f85c07"
     ]
    },
    "execution": {
     "iopub.execute_input": "2022-04-29T12:57:14.262481Z",
     "iopub.status.busy": "2022-04-29T12:57:14.262206Z",
     "iopub.status.idle": "2022-04-29T13:04:01.388654Z",
     "shell.execute_reply": "2022-04-29T13:04:01.387766Z",
     "shell.execute_reply.started": "2022-04-29T12:57:14.262449Z"
    },
    "id": "0-5LTBGbmFrx",
    "outputId": "accdea7d-7591-4df3-ee2e-ae0d0a62a06e"
   },
   "outputs": [
    {
     "data": {
      "application/vnd.jupyter.widget-view+json": {
       "model_id": "c70184ed958c41a38b5447252146d51d",
       "version_major": 2,
       "version_minor": 0
      },
      "text/plain": [
       "  0%|          | 0/508676 [00:00<?, ?it/s]"
      ]
     },
     "metadata": {},
     "output_type": "display_data"
    },
    {
     "data": {
      "application/vnd.jupyter.widget-view+json": {
       "model_id": "88a0ddd7f38647f1bfc24e8cdd77d176",
       "version_major": 2,
       "version_minor": 0
      },
      "text/plain": [
       "  0%|          | 0/508676 [00:00<?, ?it/s]"
      ]
     },
     "metadata": {},
     "output_type": "display_data"
    },
    {
     "data": {
      "application/vnd.jupyter.widget-view+json": {
       "model_id": "76d3f72341474e4096a429e1d0644f28",
       "version_major": 2,
       "version_minor": 0
      },
      "text/plain": [
       "  0%|          | 0/508676 [00:00<?, ?it/s]"
      ]
     },
     "metadata": {},
     "output_type": "display_data"
    },
    {
     "name": "stdout",
     "output_type": "stream",
     "text": [
      "Train: (507092, 11)\n",
      "\n",
      "\n",
      "Saving the cleaned Train data files...\n"
     ]
    }
   ],
   "source": [
    "# filter the data\n",
    "rev_train = rev_df[rev_df['name'].isin(mov_train['name'])].reset_index(drop=1)\n",
    "\n",
    "# clean the date\n",
    "rev_train = clean_review_data(rev_train)\n",
    "\n",
    "print(\"Train:\", rev_train.shape)\n",
    "print(\"\\n\")\n",
    "\n",
    "# save the date\n",
    "print(\"Saving the cleaned Train data files...\")\n",
    "mov_train.to_csv(f\"{base_dir}/imdb_movies_train.csv.gz\", index=False, compression='gzip')\n",
    "rev_train.to_csv(f\"{base_dir}/imdb_reviews_train.csv.gz\", index=False, compression='gzip')"
   ]
  },
  {
   "cell_type": "markdown",
   "metadata": {
    "id": "0BEAWxfrmFrz"
   },
   "source": [
    "#### Clean & Save the Val & Test data for modelling"
   ]
  },
  {
   "cell_type": "code",
   "execution_count": null,
   "metadata": {
    "colab": {
     "base_uri": "https://localhost:8080/",
     "height": 279,
     "referenced_widgets": [
      "1f03e1adc95b4ad08af407eb744be234",
      "17085f7e088c46bdb5b14d33c7006284",
      "d778f07783384b68b2056bc5da9ae195",
      "b52e688e52b54fe19d071f95b94ac04a",
      "60121d99234d44168605004aea073fe3",
      "46c78d2ffb4d4252888eb5ea2e46dacc",
      "d791d1a8e85f4a6e8b2e4734bac38972",
      "597ec6671cd541bea9ad072fe6f5dcf7",
      "57c74fcc21c24f588a719afb50f3d412",
      "adb24e9a5e3944bd90ec4122da1cb4b0",
      "af3dfea4b89046f68ef52b6c2d870c50",
      "7c99322824964d12bf5fd9bc77badbe7",
      "20895cc1dbbd491b99ea88d2a619f56f",
      "401e5c6b7c9b46eeb9ea56c4e35ac356",
      "72885f4232eb4608a182a8af6dadc232",
      "f094150a2db84564b9c293749d382f1a",
      "be9f422ed0b24635af86605f0802767f",
      "bbcaf4f814fd42c297556bee830f4f35",
      "38fcf6225e404b9fb0cbab77a7064a24",
      "4775a714f30d4ad6a87ee85753b7bd2e",
      "e9ebc303e9b441ab970d7bbf9eb437c1",
      "f36ad2d921d84a36a48e9c0b75f79774",
      "e438e9fe1446416b889f014af983c5d6",
      "7886d552d21b40a98dbb54edbc369587",
      "489c17cb54744057a4be4cf175157236",
      "2204f2fdea274578a8601033fb44d000",
      "de8363b0012e43b0bd9d7f96d59cd812",
      "bfad24a207f7475b97b7b27e1b5bb2e6",
      "439056ed1bdb4805b34d1cb61d52a5a6",
      "acd58d864e204cf99deb47f768eced30",
      "ae18498f63154deaa4f9ee1ac69dbc82",
      "06ddf7d6d74f44f083251bd1c4e6a6af",
      "942f6cac5c9244839355e17ed22b5f50",
      "dec7b4c8625e471baddcda724ae11eb4",
      "f0d264050a3e4f4996fc1b95f24c9c7c",
      "45ec2eb6325a4d39a453428dc11a9d1d",
      "c031a6fdef9049e092bab75b35850ec5",
      "028152b84e5145b5b3b4c531c335c904",
      "7d31f7ad56cf474c9ba1beb2321f30b4",
      "de7f4f04969f4e7cb242cfb91e4ffca4",
      "c20846d9d496453e997e01709e8b155e",
      "5b6e7ecebb064f0091fe3711b288367f",
      "c74f0a85e2074c3f8cb4b18a0da023c8",
      "36a2076087054bbf9bdf7eaa3d76ccc1",
      "c784dddd48f4442fb7eb7a04cabfd2aa",
      "2fa00ddd583b445097820d01ec01bb26",
      "718f55aaba4d4f6fb082068a4919946c",
      "71a9dc2696f54eb2b9717a65f88ff34a",
      "04beb6c7961c4f5a9d0121afe57d0514",
      "37d8537d08dd4bd99f5baaee2e1c8992",
      "873bed7be3e54ea582553d2143f5358a",
      "154fa661837b4ef0aaada254dc37cfd4",
      "7bcb44efd93543119e1aec982a1fbd4c",
      "c73969fc7d204793b527d391972f75eb",
      "7fbeddb1e395492b9c4ca6591a986e09",
      "6227df38dd534711b01b0c998a68c1dd",
      "a4316ff8857942a9bf4111f82780fdda",
      "163dfa30158a4ab1965965d8427e8786",
      "6b5c16e11e8e4a3b9029cb467ae7b6a1",
      "d06958cced8947fdbf146b6e245669c9",
      "5f837cf3ab654838a42c9b6be5397633",
      "609fc1d7d6944b9faf004062281ee38c",
      "ad46231cad9e40bd8a3ffb9878a38cbc",
      "25b241a8a44348afaec668fd594be155",
      "3893f2d28a8f46bdbd098a412c4d332a",
      "09f190dbac154fc28ac5f6e6413da61a"
     ]
    },
    "execution": {
     "iopub.execute_input": "2022-04-29T13:04:01.398217Z",
     "iopub.status.busy": "2022-04-29T13:04:01.397936Z",
     "iopub.status.idle": "2022-04-29T13:04:20.123161Z",
     "shell.execute_reply": "2022-04-29T13:04:20.122178Z",
     "shell.execute_reply.started": "2022-04-29T13:04:01.398186Z"
    },
    "id": "-n9mYW1VmFr0",
    "outputId": "e5757d31-0035-4d47-f792-7316f576e9c4"
   },
   "outputs": [
    {
     "data": {
      "application/vnd.jupyter.widget-view+json": {
       "model_id": "1f03e1adc95b4ad08af407eb744be234",
       "version_major": 2,
       "version_minor": 0
      },
      "text/plain": [
       "  0%|          | 0/143019 [00:00<?, ?it/s]"
      ]
     },
     "metadata": {},
     "output_type": "display_data"
    },
    {
     "data": {
      "application/vnd.jupyter.widget-view+json": {
       "model_id": "7c99322824964d12bf5fd9bc77badbe7",
       "version_major": 2,
       "version_minor": 0
      },
      "text/plain": [
       "  0%|          | 0/143019 [00:00<?, ?it/s]"
      ]
     },
     "metadata": {},
     "output_type": "display_data"
    },
    {
     "data": {
      "application/vnd.jupyter.widget-view+json": {
       "model_id": "e438e9fe1446416b889f014af983c5d6",
       "version_major": 2,
       "version_minor": 0
      },
      "text/plain": [
       "  0%|          | 0/143019 [00:00<?, ?it/s]"
      ]
     },
     "metadata": {},
     "output_type": "display_data"
    },
    {
     "data": {
      "application/vnd.jupyter.widget-view+json": {
       "model_id": "dec7b4c8625e471baddcda724ae11eb4",
       "version_major": 2,
       "version_minor": 0
      },
      "text/plain": [
       "  0%|          | 0/142491 [00:00<?, ?it/s]"
      ]
     },
     "metadata": {},
     "output_type": "display_data"
    },
    {
     "data": {
      "application/vnd.jupyter.widget-view+json": {
       "model_id": "c784dddd48f4442fb7eb7a04cabfd2aa",
       "version_major": 2,
       "version_minor": 0
      },
      "text/plain": [
       "  0%|          | 0/142491 [00:00<?, ?it/s]"
      ]
     },
     "metadata": {},
     "output_type": "display_data"
    },
    {
     "data": {
      "application/vnd.jupyter.widget-view+json": {
       "model_id": "6227df38dd534711b01b0c998a68c1dd",
       "version_major": 2,
       "version_minor": 0
      },
      "text/plain": [
       "  0%|          | 0/142491 [00:00<?, ?it/s]"
      ]
     },
     "metadata": {},
     "output_type": "display_data"
    },
    {
     "name": "stdout",
     "output_type": "stream",
     "text": [
      "Val: (142432, 11) Test: (142018, 11)\n",
      "\n",
      "\n",
      "Saving the cleaned Val/Test data files...\n"
     ]
    }
   ],
   "source": [
    "# filter\n",
    "rev_val = rev_df[rev_df['name'].isin(mov_val['name'])].reset_index(drop=1)\n",
    "rev_test = rev_df[rev_df['name'].isin(mov_test['name'])].reset_index(drop=1)\n",
    "\n",
    "# clean\n",
    "rev_val = clean_review_data(rev_val)\n",
    "rev_test = clean_review_data(rev_test)\n",
    "\n",
    "print(\"Val:\", rev_val.shape, \"Test:\", rev_test.shape)\n",
    "print(\"\\n\")\n",
    "\n",
    "# save\n",
    "print(\"Saving the cleaned Val/Test data files...\")\n",
    "# mov_train.to_csv(f\"{base_dir}/imdb_movies_train.csv.gz\", index=False, compression='gzip')\n",
    "# rev_train.to_csv(f\"{base_dir}/imdb_reviews_train.csv.gz\", index=False, compression='gzip')\n",
    "\n",
    "mov_val.to_csv(f\"{base_dir}/imdb_movies_val.csv.gz\", index=False, compression='gzip')\n",
    "mov_test.to_csv(f\"{base_dir}/imdb_movies_test.csv.gz\", index=False, compression='gzip')\n",
    "\n",
    "rev_val.to_csv(f\"{base_dir}/imdb_reviews_val.csv.gz\", index=False, compression='gzip')\n",
    "rev_test.to_csv(f\"{base_dir}/imdb_reviews_test.csv.gz\", index=False, compression='gzip')"
   ]
  },
  {
   "cell_type": "code",
   "execution_count": null,
   "metadata": {
    "colab": {
     "base_uri": "https://localhost:8080/"
    },
    "execution": {
     "iopub.execute_input": "2022-04-29T13:04:20.124984Z",
     "iopub.status.busy": "2022-04-29T13:04:20.124698Z",
     "iopub.status.idle": "2022-04-29T13:04:20.274132Z",
     "shell.execute_reply": "2022-04-29T13:04:20.273446Z",
     "shell.execute_reply.started": "2022-04-29T13:04:20.124946Z"
    },
    "id": "cBcjD6skmFr2",
    "outputId": "c5ee5558-1b3b-466f-a420-2ee13c1ac79c"
   },
   "outputs": [
    {
     "data": {
      "text/plain": [
       "783"
      ]
     },
     "execution_count": 12,
     "metadata": {},
     "output_type": "execute_result"
    }
   ],
   "source": [
    "del rev_val, rev_test\n",
    "del mov_val, mov_test\n",
    "gc.collect()"
   ]
  },
  {
   "cell_type": "markdown",
   "metadata": {
    "id": "qgbsGvZ5mFr3"
   },
   "source": [
    "### EDA/Data Analysis"
   ]
  },
  {
   "cell_type": "code",
   "execution_count": null,
   "metadata": {
    "colab": {
     "base_uri": "https://localhost:8080/",
     "height": 339
    },
    "execution": {
     "iopub.execute_input": "2022-04-29T13:04:20.275441Z",
     "iopub.status.busy": "2022-04-29T13:04:20.275126Z",
     "iopub.status.idle": "2022-04-29T13:04:20.540595Z",
     "shell.execute_reply": "2022-04-29T13:04:20.539434Z",
     "shell.execute_reply.started": "2022-04-29T13:04:20.275413Z"
    },
    "id": "pq3VAC1_mFr3",
    "outputId": "8b793895-edfe-4ef2-c51c-d17ba54c6442"
   },
   "outputs": [
    {
     "data": {
      "text/plain": [
       "<BarContainer object of 10 artists>"
      ]
     },
     "execution_count": 13,
     "metadata": {},
     "output_type": "execute_result"
    },
    {
     "data": {
      "image/png": "[encoded data removed]",
      "text/plain": [
       "<Figure size 1080x360 with 1 Axes>"
      ]
     },
     "metadata": {
      "needs_background": "light"
     },
     "output_type": "display_data"
    }
   ],
   "source": [
    "all_emojis = rev_train['emojis'].values.ravel().tolist()\n",
    "all_emojis = [e for e in all_emojis if len(e)]\n",
    "emoji_counts = Counter(all_emojis)\n",
    "v, h = zip(*emoji_counts.most_common(10))\n",
    "x = [emojis.decode(e) for e in v]\n",
    "plt.figure(figsize=(15,5))\n",
    "plt.bar(x, h)"
   ]
  },
  {
   "cell_type": "code",
   "execution_count": null,
   "metadata": {
    "colab": {
     "base_uri": "https://localhost:8080/",
     "height": 331,
     "referenced_widgets": [
      "3057777796414607814f622bfb28bb68",
      "5b73c73933db4fb2b6aff84661c733d0",
      "56723985f3ba4c8fa1b71966fa6620bf",
      "8ab71344c5f64be996ab8fe58c608027",
      "0f767034cc4e4a878ef018034538e405",
      "c18a2842cb224b48b40c034bcf0438b4",
      "3c3364fd5df247ac93f6767799c513aa",
      "c0de30dfdb594044a883b307fb0887d5",
      "b8b4d7cf95a245608f6322bba2d6e4fd",
      "df6e957cc04f4b3c863d6f7d3d077f48",
      "338bd41939384cf1991c113bad903e0a"
     ]
    },
    "execution": {
     "iopub.execute_input": "2022-04-29T13:04:20.542132Z",
     "iopub.status.busy": "2022-04-29T13:04:20.541861Z",
     "iopub.status.idle": "2022-04-29T13:04:42.058431Z",
     "shell.execute_reply": "2022-04-29T13:04:42.057456Z",
     "shell.execute_reply.started": "2022-04-29T13:04:20.542101Z"
    },
    "id": "8VTybTQDmFr4",
    "outputId": "12897193-c18f-4144-e552-612a17688327"
   },
   "outputs": [
    {
     "data": {
      "application/vnd.jupyter.widget-view+json": {
       "model_id": "3057777796414607814f622bfb28bb68",
       "version_major": 2,
       "version_minor": 0
      },
      "text/plain": [
       "  0%|          | 0/507092 [00:00<?, ?it/s]"
      ]
     },
     "metadata": {},
     "output_type": "display_data"
    },
    {
     "data": {
      "text/plain": [
       "Text(0.5, 1.0, 'Distrubution of Length of Reviews Sentences.')"
      ]
     },
     "execution_count": 14,
     "metadata": {},
     "output_type": "execute_result"
    },
    {
     "data": {
      "image/png": "[encoded data removed]",
      "text/plain": [
       "<Figure size 432x288 with 1 Axes>"
      ]
     },
     "metadata": {
      "needs_background": "light"
     },
     "output_type": "display_data"
    }
   ],
   "source": [
    "all_sent_lens = []\n",
    "num_sents = []\n",
    "for t in tqdm(rev_train['review'].values):\n",
    "    sents = nltk.sent_tokenize(t)\n",
    "    num_sents.append(len(sents))\n",
    "    for sent in sents:\n",
    "        all_sent_lens.append(len(sent.split(\" \")))\n",
    "        \n",
    "ax = sns.histplot(all_sent_lens, stat='frequency', bins=120)\n",
    "_ = ax.axis(xmin=0, xmax=180)\n",
    "ax.set_title(\"Distrubution of Length of Reviews Sentences.\")"
   ]
  },
  {
   "cell_type": "code",
   "execution_count": null,
   "metadata": {
    "colab": {
     "base_uri": "https://localhost:8080/",
     "height": 333
    },
    "execution": {
     "iopub.execute_input": "2022-04-29T13:04:42.060593Z",
     "iopub.status.busy": "2022-04-29T13:04:42.060272Z",
     "iopub.status.idle": "2022-04-29T13:04:42.711360Z",
     "shell.execute_reply": "2022-04-29T13:04:42.710466Z",
     "shell.execute_reply.started": "2022-04-29T13:04:42.060551Z"
    },
    "id": "newrwOKtmFr5",
    "outputId": "a2e32876-670b-4f00-b29c-ecd0d87b2e87"
   },
   "outputs": [
    {
     "name": "stdout",
     "output_type": "stream",
     "text": [
      "mean number of sentences per each review: 20.63147212676654\n",
      "\n",
      "\n"
     ]
    },
    {
     "data": {
      "image/png": "[encoded data removed]",
      "text/plain": [
       "<Figure size 432x288 with 1 Axes>"
      ]
     },
     "metadata": {
      "needs_background": "light"
     },
     "output_type": "display_data"
    }
   ],
   "source": [
    "ax = sns.histplot(num_sents, stat='frequency', bins=200)\n",
    "_ = ax.axis(xmin=0, xmax=80)\n",
    "ax.set_title(\"Distrubution of Reviews - Sentence Counts.\")\n",
    "print(\"mean number of sentences per each review:\", np.mean(all_sent_lens))\n",
    "print(\"\\n\")"
   ]
  },
  {
   "cell_type": "code",
   "execution_count": null,
   "metadata": {
    "colab": {
     "base_uri": "https://localhost:8080/"
    },
    "execution": {
     "iopub.execute_input": "2022-04-29T13:04:42.712726Z",
     "iopub.status.busy": "2022-04-29T13:04:42.712512Z",
     "iopub.status.idle": "2022-04-29T13:04:42.864985Z",
     "shell.execute_reply": "2022-04-29T13:04:42.863930Z",
     "shell.execute_reply.started": "2022-04-29T13:04:42.712700Z"
    },
    "id": "-GYOKW5EmFr8",
    "outputId": "d5df37d4-0424-40b9-9b0e-99a5efb7163a"
   },
   "outputs": [
    {
     "data": {
      "text/plain": [
       "238"
      ]
     },
     "execution_count": 16,
     "metadata": {},
     "output_type": "execute_result"
    }
   ],
   "source": [
    "del all_sent_lens, num_sents\n",
    "gc.collect()"
   ]
  },
  {
   "cell_type": "code",
   "execution_count": null,
   "metadata": {
    "execution": {
     "iopub.execute_input": "2022-04-29T13:04:42.867061Z",
     "iopub.status.busy": "2022-04-29T13:04:42.866782Z",
     "iopub.status.idle": "2022-04-29T13:04:42.876477Z",
     "shell.execute_reply": "2022-04-29T13:04:42.875201Z",
     "shell.execute_reply.started": "2022-04-29T13:04:42.867029Z"
    },
    "id": "lDbi2sOImFr9"
   },
   "outputs": [],
   "source": [
    "review_words = rev_train['review_words'].values"
   ]
  },
  {
   "cell_type": "code",
   "execution_count": null,
   "metadata": {
    "execution": {
     "iopub.execute_input": "2022-04-29T13:04:42.878253Z",
     "iopub.status.busy": "2022-04-29T13:04:42.877986Z",
     "iopub.status.idle": "2022-04-29T13:04:42.925428Z",
     "shell.execute_reply": "2022-04-29T13:04:42.924650Z",
     "shell.execute_reply.started": "2022-04-29T13:04:42.878221Z"
    },
    "id": "TQtVkeP1mFr9"
   },
   "outputs": [],
   "source": [
    "from wordcloud import WordCloud\n",
    "\n",
    "def plot_word_cloud(freq_counter, max_words=25):\n",
    "    wc = (WordCloud(max_font_size=50,max_words=max_words)\n",
    "          .generate_from_frequencies(freq_counter))\n",
    "    plt.figure(figsize=(9,9))\n",
    "    plt.imshow(wc, interpolation='bilinear')\n",
    "    plt.axis(\"off\")\n",
    "    plt.show()"
   ]
  },
  {
   "cell_type": "code",
   "execution_count": null,
   "metadata": {
    "colab": {
     "base_uri": "https://localhost:8080/",
     "height": 653
    },
    "execution": {
     "iopub.execute_input": "2022-04-29T13:04:42.927095Z",
     "iopub.status.busy": "2022-04-29T13:04:42.926831Z",
     "iopub.status.idle": "2022-04-29T13:04:48.003264Z",
     "shell.execute_reply": "2022-04-29T13:04:48.002428Z",
     "shell.execute_reply.started": "2022-04-29T13:04:42.927066Z"
    },
    "id": "35n5ZSh1mFr-",
    "outputId": "e4e61986-eeb9-429a-b475-6c68afa63152"
   },
   "outputs": [
    {
     "name": "stdout",
     "output_type": "stream",
     "text": [
      "[('movie', 1394219), ('film', 972290), (\"n't\", 693495), ('one', 515828), ('like', 426671)]\n",
      "\n",
      "\n"
     ]
    },
    {
     "data": {
      "image/png": "[encoded data removed]",
      "text/plain": [
       "<Figure size 1080x360 with 1 Axes>"
      ]
     },
     "metadata": {
      "needs_background": "light"
     },
     "output_type": "display_data"
    },
    {
     "data": {
      "image/png": "[encoded data removed]",
      "text/plain": [
       "<Figure size 648x648 with 1 Axes>"
      ]
     },
     "metadata": {
      "needs_background": "light"
     },
     "output_type": "display_data"
    }
   ],
   "source": [
    "from nltk.probability import FreqDist\n",
    "\n",
    "all_words = []\n",
    "for r in review_words:\n",
    "    ws = r.split(\"|\")\n",
    "    all_words.extend(ws)\n",
    "\n",
    "word_counts = FreqDist(all_words)\n",
    "print(word_counts.most_common(5))\n",
    "x, h = zip(*word_counts.most_common(12))\n",
    "plt.figure(figsize=(15,5))\n",
    "plt.bar(x, h)\n",
    "plt.title(\"Frequently occuring words in Reviews\")\n",
    "print(\"\\n\")\n",
    "_ = plot_word_cloud(word_counts)"
   ]
  },
  {
   "cell_type": "code",
   "execution_count": null,
   "metadata": {
    "colab": {
     "base_uri": "https://localhost:8080/"
    },
    "execution": {
     "iopub.execute_input": "2022-04-29T13:04:48.004381Z",
     "iopub.status.busy": "2022-04-29T13:04:48.004189Z",
     "iopub.status.idle": "2022-04-29T13:04:48.280873Z",
     "shell.execute_reply": "2022-04-29T13:04:48.280018Z",
     "shell.execute_reply.started": "2022-04-29T13:04:48.004357Z"
    },
    "id": "jMXn5bSWmFr_",
    "outputId": "d8b860a1-343e-45c6-b67c-bedcde42e7a7"
   },
   "outputs": [
    {
     "name": "stdout",
     "output_type": "stream",
     "text": [
      "Less Frequent words in Reviews\n"
     ]
    },
    {
     "data": {
      "text/plain": [
       "[('ppaque', 1),\n",
       " ('cataloni', 1),\n",
       " ('bessant', 1),\n",
       " (\"'planting\", 1),\n",
       " ('mindbugged', 1),\n",
       " ('unlasting', 1),\n",
       " ('wihle', 1),\n",
       " ('falmouth', 1),\n",
       " ('pedos', 1),\n",
       " ('beb', 1)]"
      ]
     },
     "execution_count": 20,
     "metadata": {},
     "output_type": "execute_result"
    }
   ],
   "source": [
    "del all_words\n",
    "gc.collect()\n",
    "print(\"Less Frequent words in Reviews\")\n",
    "word_counts.most_common()[:-10-1:-1]"
   ]
  },
  {
   "cell_type": "code",
   "execution_count": null,
   "metadata": {
    "execution": {
     "iopub.execute_input": "2022-04-29T13:04:48.282711Z",
     "iopub.status.busy": "2022-04-29T13:04:48.282431Z",
     "iopub.status.idle": "2022-04-29T13:04:48.307916Z",
     "shell.execute_reply": "2022-04-29T13:04:48.307209Z",
     "shell.execute_reply.started": "2022-04-29T13:04:48.282671Z"
    },
    "id": "GayO-9EsmFsA"
   },
   "outputs": [],
   "source": [
    "# sampling to avoid out of memory issues\n",
    "review_words = random.sample(list(review_words), len(review_words)//4)"
   ]
  },
  {
   "cell_type": "code",
   "execution_count": null,
   "metadata": {
    "execution": {
     "iopub.execute_input": "2022-04-29T13:04:48.309891Z",
     "iopub.status.busy": "2022-04-29T13:04:48.309317Z",
     "iopub.status.idle": "2022-04-29T13:04:49.528160Z",
     "shell.execute_reply": "2022-04-29T13:04:49.527113Z",
     "shell.execute_reply.started": "2022-04-29T13:04:48.309842Z"
    },
    "id": "NKdsrgPsmFsA"
   },
   "outputs": [],
   "source": [
    "from nltk.util import ngrams\n",
    "\n",
    "two_grams = []\n",
    "three_grams = []\n",
    "for r in review_words:\n",
    "    ws = [w for w in r.split(\"|\") if len(w)]\n",
    "    try:\n",
    "        two_grams.extend(['_'.join(g) for g in ngrams(ws, 2)])\n",
    "        three_grams.extend(['_'.join(g) for g in ngrams(ws, 3)])\n",
    "    except Exception as e:\n",
    "        continue"
   ]
  },
  {
   "cell_type": "code",
   "execution_count": null,
   "metadata": {
    "colab": {
     "base_uri": "https://localhost:8080/",
     "height": 699
    },
    "execution": {
     "iopub.execute_input": "2022-04-29T13:04:49.530625Z",
     "iopub.status.busy": "2022-04-29T13:04:49.529944Z",
     "iopub.status.idle": "2022-04-29T13:04:51.826348Z",
     "shell.execute_reply": "2022-04-29T13:04:51.825089Z",
     "shell.execute_reply.started": "2022-04-29T13:04:49.530565Z"
    },
    "id": "taJ_dRT9mFsB",
    "outputId": "006bc6af-3ebf-4ed2-dab9-844a2f703d2b"
   },
   "outputs": [
    {
     "name": "stdout",
     "output_type": "stream",
     "text": [
      "[('star_war', 11547), ('special_effect', 9559), (\"movie_n't\", 8953), ('one_best', 8882), (\"could_n't\", 7157)]\n",
      "\n",
      "\n"
     ]
    },
    {
     "data": {
      "image/png": "[encoded data removed]",
      "text/plain": [
       "<Figure size 1080x360 with 1 Axes>"
      ]
     },
     "metadata": {
      "needs_background": "light"
     },
     "output_type": "display_data"
    },
    {
     "data": {
      "image/png": "[encoded data removed]",
      "text/plain": [
       "<Figure size 648x648 with 1 Axes>"
      ]
     },
     "metadata": {
      "needs_background": "light"
     },
     "output_type": "display_data"
    }
   ],
   "source": [
    "gram_counts = FreqDist(two_grams)\n",
    "print(gram_counts.most_common(5))\n",
    "x, h = zip(*gram_counts.most_common(10))\n",
    "plt.figure(figsize=(15,5))\n",
    "plt.bar(x, h)\n",
    "plt.xticks(rotation=45)\n",
    "_ = plt.title(\"Frequently occuring 2-grams in Review Texts\")\n",
    "\n",
    "print(\"\\n\")\n",
    "\n",
    "_ = plot_word_cloud(gram_counts, 20)"
   ]
  },
  {
   "cell_type": "code",
   "execution_count": null,
   "metadata": {
    "colab": {
     "base_uri": "https://localhost:8080/",
     "height": 715
    },
    "execution": {
     "iopub.execute_input": "2022-04-29T13:04:51.828310Z",
     "iopub.status.busy": "2022-04-29T13:04:51.827926Z",
     "iopub.status.idle": "2022-04-29T13:04:54.082516Z",
     "shell.execute_reply": "2022-04-29T13:04:54.080984Z",
     "shell.execute_reply.started": "2022-04-29T13:04:51.828261Z"
    },
    "id": "9uLi0uMqmFsB",
    "outputId": "4b7bb413-2827-4263-899a-bb5f719f320d"
   },
   "outputs": [
    {
     "name": "stdout",
     "output_type": "stream",
     "text": [
      "[(\"'ve_ever_seen\", 2377), ('one_best_movie', 1773), ('movie_ever_made', 1540), ('star_war_movie', 1496), ('best_movie_ever', 1267)]\n",
      "\n",
      "\n"
     ]
    },
    {
     "data": {
      "image/png": "[encoded data removed]",
      "text/plain": [
       "<Figure size 1080x360 with 1 Axes>"
      ]
     },
     "metadata": {
      "needs_background": "light"
     },
     "output_type": "display_data"
    },
    {
     "data": {
      "image/png": "[encoded data removed]",
      "text/plain": [
       "<Figure size 648x648 with 1 Axes>"
      ]
     },
     "metadata": {
      "needs_background": "light"
     },
     "output_type": "display_data"
    }
   ],
   "source": [
    "gram_counts = FreqDist(three_grams)\n",
    "print(gram_counts.most_common(5))\n",
    "x, h = zip(*gram_counts.most_common(10))\n",
    "plt.figure(figsize=(15,5))\n",
    "plt.bar(x, h)\n",
    "plt.xticks(rotation=45)\n",
    "_ = plt.title(\"Frequently occuring 3-grams in Review Texts\")\n",
    "\n",
    "print(\"\\n\")\n",
    "\n",
    "_ = plot_word_cloud(gram_counts, 15)"
   ]
  },
  {
   "cell_type": "markdown",
   "metadata": {
    "id": "a3IG5H4rdkZW"
   },
   "source": [
    "Reference: Generating word cloud in python. GeeksforGeeks. (2021, July 5). Retrieved May 10, 2022, from https://www.geeksforgeeks.org/generating-word-cloud-python/ "
   ]
  },
  {
   "cell_type": "markdown",
   "metadata": {
    "id": "X-fjmgOxmFsC"
   },
   "source": [
    "#### Notebook 3: Word2Vec & Topic Modelling on Reviews Text Data\n",
    "\n",
    "---\n",
    "\n"
   ]
  }
 ],
 "metadata": {
  "colab": {
   "collapsed_sections": [],
   "name": "Project_Part2.ipynb",
   "provenance": []
  },
  "kernelspec": {
   "display_name": "Python 3",
   "language": "python",
   "name": "python3"
  },
  "language_info": {
   "codemirror_mode": {
    "name": "ipython",
    "version": 3
   },
   "file_extension": ".py",
   "mimetype": "text/x-python",
   "name": "python",
   "nbconvert_exporter": "python",
   "pygments_lexer": "ipython3",
   "version": "3.8.8"
  },
  "widgets": {
   "application/vnd.jupyter.widget-state+json": {
    "028152b84e5145b5b3b4c531c335c904": {
     "model_module": "@jupyter-widgets/base",
     "model_module_version": "1.2.0",
     "model_name": "LayoutModel",
     "state": {
      "_model_module": "@jupyter-widgets/base",
      "_model_module_version": "1.2.0",
      "_model_name": "LayoutModel",
      "_view_count": null,
      "_view_module": "@jupyter-widgets/base",
      "_view_module_version": "1.2.0",
      "_view_name": "LayoutView",
      "align_content": null,
      "align_items": null,
      "align_self": null,
      "border": null,
      "bottom": null,
      "display": null,
      "flex": null,
      "flex_flow": null,
      "grid_area": null,
      "grid_auto_columns": null,
      "grid_auto_flow": null,
      "grid_auto_rows": null,
      "grid_column": null,
      "grid_gap": null,
      "grid_row": null,
      "grid_template_areas": null,
      "grid_template_columns": null,
      "grid_template_rows": null,
      "height": null,
      "justify_content": null,
      "justify_items": null,
      "left": null,
      "margin": null,
      "max_height": null,
      "max_width": null,
      "min_height": null,
      "min_width": null,
      "object_fit": null,
      "object_position": null,
      "order": null,
      "overflow": null,
      "overflow_x": null,
      "overflow_y": null,
      "padding": null,
      "right": null,
      "top": null,
      "visibility": null,
      "width": null
     }
    },
    "04beb6c7961c4f5a9d0121afe57d0514": {
     "model_module": "@jupyter-widgets/base",
     "model_module_version": "1.2.0",
     "model_name": "LayoutModel",
     "state": {
      "_model_module": "@jupyter-widgets/base",
      "_model_module_version": "1.2.0",
      "_model_name": "LayoutModel",
      "_view_count": null,
      "_view_module": "@jupyter-widgets/base",
      "_view_module_version": "1.2.0",
      "_view_name": "LayoutView",
      "align_content": null,
      "align_items": null,
      "align_self": null,
      "border": null,
      "bottom": null,
      "display": null,
      "flex": null,
      "flex_flow": null,
      "grid_area": null,
      "grid_auto_columns": null,
      "grid_auto_flow": null,
      "grid_auto_rows": null,
      "grid_column": null,
      "grid_gap": null,
      "grid_row": null,
      "grid_template_areas": null,
      "grid_template_columns": null,
      "grid_template_rows": null,
      "height": null,
      "justify_content": null,
      "justify_items": null,
      "left": null,
      "margin": null,
      "max_height": null,
      "max_width": null,
      "min_height": null,
      "min_width": null,
      "object_fit": null,
      "object_position": null,
      "order": null,
      "overflow": null,
      "overflow_x": null,
      "overflow_y": null,
      "padding": null,
      "right": null,
      "top": null,
      "visibility": null,
      "width": null
     }
    },
    "054524f0659840fea7d2a96e2775fc31": {
     "model_module": "@jupyter-widgets/base",
     "model_module_version": "1.2.0",
     "model_name": "LayoutModel",
     "state": {
      "_model_module": "@jupyter-widgets/base",
      "_model_module_version": "1.2.0",
      "_model_name": "LayoutModel",
      "_view_count": null,
      "_view_module": "@jupyter-widgets/base",
      "_view_module_version": "1.2.0",
      "_view_name": "LayoutView",
      "align_content": null,
      "align_items": null,
      "align_self": null,
      "border": null,
      "bottom": null,
      "display": null,
      "flex": null,
      "flex_flow": null,
      "grid_area": null,
      "grid_auto_columns": null,
      "grid_auto_flow": null,
      "grid_auto_rows": null,
      "grid_column": null,
      "grid_gap": null,
      "grid_row": null,
      "grid_template_areas": null,
      "grid_template_columns": null,
      "grid_template_rows": null,
      "height": null,
      "justify_content": null,
      "justify_items": null,
      "left": null,
      "margin": null,
      "max_height": null,
      "max_width": null,
      "min_height": null,
      "min_width": null,
      "object_fit": null,
      "object_position": null,
      "order": null,
      "overflow": null,
      "overflow_x": null,
      "overflow_y": null,
      "padding": null,
      "right": null,
      "top": null,
      "visibility": null,
      "width": null
     }
    },
    "06ddf7d6d74f44f083251bd1c4e6a6af": {
     "model_module": "@jupyter-widgets/base",
     "model_module_version": "1.2.0",
     "model_name": "LayoutModel",
     "state": {
      "_model_module": "@jupyter-widgets/base",
      "_model_module_version": "1.2.0",
      "_model_name": "LayoutModel",
      "_view_count": null,
      "_view_module": "@jupyter-widgets/base",
      "_view_module_version": "1.2.0",
      "_view_name": "LayoutView",
      "align_content": null,
      "align_items": null,
      "align_self": null,
      "border": null,
      "bottom": null,
      "display": null,
      "flex": null,
      "flex_flow": null,
      "grid_area": null,
      "grid_auto_columns": null,
      "grid_auto_flow": null,
      "grid_auto_rows": null,
      "grid_column": null,
      "grid_gap": null,
      "grid_row": null,
      "grid_template_areas": null,
      "grid_template_columns": null,
      "grid_template_rows": null,
      "height": null,
      "justify_content": null,
      "justify_items": null,
      "left": null,
      "margin": null,
      "max_height": null,
      "max_width": null,
      "min_height": null,
      "min_width": null,
      "object_fit": null,
      "object_position": null,
      "order": null,
      "overflow": null,
      "overflow_x": null,
      "overflow_y": null,
      "padding": null,
      "right": null,
      "top": null,
      "visibility": null,
      "width": null
     }
    },
    "09f190dbac154fc28ac5f6e6413da61a": {
     "model_module": "@jupyter-widgets/controls",
     "model_module_version": "1.5.0",
     "model_name": "DescriptionStyleModel",
     "state": {
      "_model_module": "@jupyter-widgets/controls",
      "_model_module_version": "1.5.0",
      "_model_name": "DescriptionStyleModel",
      "_view_count": null,
      "_view_module": "@jupyter-widgets/base",
      "_view_module_version": "1.2.0",
      "_view_name": "StyleView",
      "description_width": ""
     }
    },
    "0f767034cc4e4a878ef018034538e405": {
     "model_module": "@jupyter-widgets/base",
     "model_module_version": "1.2.0",
     "model_name": "LayoutModel",
     "state": {
      "_model_module": "@jupyter-widgets/base",
      "_model_module_version": "1.2.0",
      "_model_name": "LayoutModel",
      "_view_count": null,
      "_view_module": "@jupyter-widgets/base",
      "_view_module_version": "1.2.0",
      "_view_name": "LayoutView",
      "align_content": null,
      "align_items": null,
      "align_self": null,
      "border": null,
      "bottom": null,
      "display": null,
      "flex": null,
      "flex_flow": null,
      "grid_area": null,
      "grid_auto_columns": null,
      "grid_auto_flow": null,
      "grid_auto_rows": null,
      "grid_column": null,
      "grid_gap": null,
      "grid_row": null,
      "grid_template_areas": null,
      "grid_template_columns": null,
      "grid_template_rows": null,
      "height": null,
      "justify_content": null,
      "justify_items": null,
      "left": null,
      "margin": null,
      "max_height": null,
      "max_width": null,
      "min_height": null,
      "min_width": null,
      "object_fit": null,
      "object_position": null,
      "order": null,
      "overflow": null,
      "overflow_x": null,
      "overflow_y": null,
      "padding": null,
      "right": null,
      "top": null,
      "visibility": null,
      "width": null
     }
    },
    "154fa661837b4ef0aaada254dc37cfd4": {
     "model_module": "@jupyter-widgets/base",
     "model_module_version": "1.2.0",
     "model_name": "LayoutModel",
     "state": {
      "_model_module": "@jupyter-widgets/base",
      "_model_module_version": "1.2.0",
      "_model_name": "LayoutModel",
      "_view_count": null,
      "_view_module": "@jupyter-widgets/base",
      "_view_module_version": "1.2.0",
      "_view_name": "LayoutView",
      "align_content": null,
      "align_items": null,
      "align_self": null,
      "border": null,
      "bottom": null,
      "display": null,
      "flex": null,
      "flex_flow": null,
      "grid_area": null,
      "grid_auto_columns": null,
      "grid_auto_flow": null,
      "grid_auto_rows": null,
      "grid_column": null,
      "grid_gap": null,
      "grid_row": null,
      "grid_template_areas": null,
      "grid_template_columns": null,
      "grid_template_rows": null,
      "height": null,
      "justify_content": null,
      "justify_items": null,
      "left": null,
      "margin": null,
      "max_height": null,
      "max_width": null,
      "min_height": null,
      "min_width": null,
      "object_fit": null,
      "object_position": null,
      "order": null,
      "overflow": null,
      "overflow_x": null,
      "overflow_y": null,
      "padding": null,
      "right": null,
      "top": null,
      "visibility": null,
      "width": null
     }
    },
    "163dfa30158a4ab1965965d8427e8786": {
     "model_module": "@jupyter-widgets/controls",
     "model_module_version": "1.5.0",
     "model_name": "FloatProgressModel",
     "state": {
      "_dom_classes": [],
      "_model_module": "@jupyter-widgets/controls",
      "_model_module_version": "1.5.0",
      "_model_name": "FloatProgressModel",
      "_view_count": null,
      "_view_module": "@jupyter-widgets/controls",
      "_view_module_version": "1.5.0",
      "_view_name": "ProgressView",
      "bar_style": "success",
      "description": "",
      "description_tooltip": null,
      "layout": "IPY_MODEL_ad46231cad9e40bd8a3ffb9878a38cbc",
      "max": 142491,
      "min": 0,
      "orientation": "horizontal",
      "style": "IPY_MODEL_25b241a8a44348afaec668fd594be155",
      "value": 142491
     }
    },
    "17085f7e088c46bdb5b14d33c7006284": {
     "model_module": "@jupyter-widgets/controls",
     "model_module_version": "1.5.0",
     "model_name": "HTMLModel",
     "state": {
      "_dom_classes": [],
      "_model_module": "@jupyter-widgets/controls",
      "_model_module_version": "1.5.0",
      "_model_name": "HTMLModel",
      "_view_count": null,
      "_view_module": "@jupyter-widgets/controls",
      "_view_module_version": "1.5.0",
      "_view_name": "HTMLView",
      "description": "",
      "description_tooltip": null,
      "layout": "IPY_MODEL_46c78d2ffb4d4252888eb5ea2e46dacc",
      "placeholder": "​",
      "style": "IPY_MODEL_d791d1a8e85f4a6e8b2e4734bac38972",
      "value": "100%"
     }
    },
    "1f03e1adc95b4ad08af407eb744be234": {
     "model_module": "@jupyter-widgets/controls",
     "model_module_version": "1.5.0",
     "model_name": "HBoxModel",
     "state": {
      "_dom_classes": [],
      "_model_module": "@jupyter-widgets/controls",
      "_model_module_version": "1.5.0",
      "_model_name": "HBoxModel",
      "_view_count": null,
      "_view_module": "@jupyter-widgets/controls",
      "_view_module_version": "1.5.0",
      "_view_name": "HBoxView",
      "box_style": "",
      "children": [
       "IPY_MODEL_17085f7e088c46bdb5b14d33c7006284",
       "IPY_MODEL_d778f07783384b68b2056bc5da9ae195",
       "IPY_MODEL_b52e688e52b54fe19d071f95b94ac04a"
      ],
      "layout": "IPY_MODEL_60121d99234d44168605004aea073fe3"
     }
    },
    "20895cc1dbbd491b99ea88d2a619f56f": {
     "model_module": "@jupyter-widgets/controls",
     "model_module_version": "1.5.0",
     "model_name": "HTMLModel",
     "state": {
      "_dom_classes": [],
      "_model_module": "@jupyter-widgets/controls",
      "_model_module_version": "1.5.0",
      "_model_name": "HTMLModel",
      "_view_count": null,
      "_view_module": "@jupyter-widgets/controls",
      "_view_module_version": "1.5.0",
      "_view_name": "HTMLView",
      "description": "",
      "description_tooltip": null,
      "layout": "IPY_MODEL_be9f422ed0b24635af86605f0802767f",
      "placeholder": "​",
      "style": "IPY_MODEL_bbcaf4f814fd42c297556bee830f4f35",
      "value": "100%"
     }
    },
    "2204f2fdea274578a8601033fb44d000": {
     "model_module": "@jupyter-widgets/controls",
     "model_module_version": "1.5.0",
     "model_name": "HTMLModel",
     "state": {
      "_dom_classes": [],
      "_model_module": "@jupyter-widgets/controls",
      "_model_module_version": "1.5.0",
      "_model_name": "HTMLModel",
      "_view_count": null,
      "_view_module": "@jupyter-widgets/controls",
      "_view_module_version": "1.5.0",
      "_view_name": "HTMLView",
      "description": "",
      "description_tooltip": null,
      "layout": "IPY_MODEL_06ddf7d6d74f44f083251bd1c4e6a6af",
      "placeholder": "​",
      "style": "IPY_MODEL_942f6cac5c9244839355e17ed22b5f50",
      "value": " 143019/143019 [05:25&lt;00:00, 451.08it/s]"
     }
    },
    "24abd1c48643470a9d2b0a71f5286b2e": {
     "model_module": "@jupyter-widgets/controls",
     "model_module_version": "1.5.0",
     "model_name": "HTMLModel",
     "state": {
      "_dom_classes": [],
      "_model_module": "@jupyter-widgets/controls",
      "_model_module_version": "1.5.0",
      "_model_name": "HTMLModel",
      "_view_count": null,
      "_view_module": "@jupyter-widgets/controls",
      "_view_module_version": "1.5.0",
      "_view_name": "HTMLView",
      "description": "",
      "description_tooltip": null,
      "layout": "IPY_MODEL_50d3498b6c86445ea93d43c19d17cf89",
      "placeholder": "​",
      "style": "IPY_MODEL_3b6694d01fd4470f87bfa54337431d8e",
      "value": "100%"
     }
    },
    "25b241a8a44348afaec668fd594be155": {
     "model_module": "@jupyter-widgets/controls",
     "model_module_version": "1.5.0",
     "model_name": "ProgressStyleModel",
     "state": {
      "_model_module": "@jupyter-widgets/controls",
      "_model_module_version": "1.5.0",
      "_model_name": "ProgressStyleModel",
      "_view_count": null,
      "_view_module": "@jupyter-widgets/base",
      "_view_module_version": "1.2.0",
      "_view_name": "StyleView",
      "bar_color": null,
      "description_width": ""
     }
    },
    "2c7a707ad0524a8888e493a627b7c956": {
     "model_module": "@jupyter-widgets/base",
     "model_module_version": "1.2.0",
     "model_name": "LayoutModel",
     "state": {
      "_model_module": "@jupyter-widgets/base",
      "_model_module_version": "1.2.0",
      "_model_name": "LayoutModel",
      "_view_count": null,
      "_view_module": "@jupyter-widgets/base",
      "_view_module_version": "1.2.0",
      "_view_name": "LayoutView",
      "align_content": null,
      "align_items": null,
      "align_self": null,
      "border": null,
      "bottom": null,
      "display": null,
      "flex": null,
      "flex_flow": null,
      "grid_area": null,
      "grid_auto_columns": null,
      "grid_auto_flow": null,
      "grid_auto_rows": null,
      "grid_column": null,
      "grid_gap": null,
      "grid_row": null,
      "grid_template_areas": null,
      "grid_template_columns": null,
      "grid_template_rows": null,
      "height": null,
      "justify_content": null,
      "justify_items": null,
      "left": null,
      "margin": null,
      "max_height": null,
      "max_width": null,
      "min_height": null,
      "min_width": null,
      "object_fit": null,
      "object_position": null,
      "order": null,
      "overflow": null,
      "overflow_x": null,
      "overflow_y": null,
      "padding": null,
      "right": null,
      "top": null,
      "visibility": null,
      "width": null
     }
    },
    "2fa00ddd583b445097820d01ec01bb26": {
     "model_module": "@jupyter-widgets/controls",
     "model_module_version": "1.5.0",
     "model_name": "HTMLModel",
     "state": {
      "_dom_classes": [],
      "_model_module": "@jupyter-widgets/controls",
      "_model_module_version": "1.5.0",
      "_model_name": "HTMLModel",
      "_view_count": null,
      "_view_module": "@jupyter-widgets/controls",
      "_view_module_version": "1.5.0",
      "_view_name": "HTMLView",
      "description": "",
      "description_tooltip": null,
      "layout": "IPY_MODEL_37d8537d08dd4bd99f5baaee2e1c8992",
      "placeholder": "​",
      "style": "IPY_MODEL_873bed7be3e54ea582553d2143f5358a",
      "value": "100%"
     }
    },
    "3057777796414607814f622bfb28bb68": {
     "model_module": "@jupyter-widgets/controls",
     "model_module_version": "1.5.0",
     "model_name": "HBoxModel",
     "state": {
      "_dom_classes": [],
      "_model_module": "@jupyter-widgets/controls",
      "_model_module_version": "1.5.0",
      "_model_name": "HBoxModel",
      "_view_count": null,
      "_view_module": "@jupyter-widgets/controls",
      "_view_module_version": "1.5.0",
      "_view_name": "HBoxView",
      "box_style": "",
      "children": [
       "IPY_MODEL_5b73c73933db4fb2b6aff84661c733d0",
       "IPY_MODEL_56723985f3ba4c8fa1b71966fa6620bf",
       "IPY_MODEL_8ab71344c5f64be996ab8fe58c608027"
      ],
      "layout": "IPY_MODEL_0f767034cc4e4a878ef018034538e405"
     }
    },
    "338bd41939384cf1991c113bad903e0a": {
     "model_module": "@jupyter-widgets/controls",
     "model_module_version": "1.5.0",
     "model_name": "DescriptionStyleModel",
     "state": {
      "_model_module": "@jupyter-widgets/controls",
      "_model_module_version": "1.5.0",
      "_model_name": "DescriptionStyleModel",
      "_view_count": null,
      "_view_module": "@jupyter-widgets/base",
      "_view_module_version": "1.2.0",
      "_view_name": "StyleView",
      "description_width": ""
     }
    },
    "36a2076087054bbf9bdf7eaa3d76ccc1": {
     "model_module": "@jupyter-widgets/controls",
     "model_module_version": "1.5.0",
     "model_name": "DescriptionStyleModel",
     "state": {
      "_model_module": "@jupyter-widgets/controls",
      "_model_module_version": "1.5.0",
      "_model_name": "DescriptionStyleModel",
      "_view_count": null,
      "_view_module": "@jupyter-widgets/base",
      "_view_module_version": "1.2.0",
      "_view_name": "StyleView",
      "description_width": ""
     }
    },
    "37d8537d08dd4bd99f5baaee2e1c8992": {
     "model_module": "@jupyter-widgets/base",
     "model_module_version": "1.2.0",
     "model_name": "LayoutModel",
     "state": {
      "_model_module": "@jupyter-widgets/base",
      "_model_module_version": "1.2.0",
      "_model_name": "LayoutModel",
      "_view_count": null,
      "_view_module": "@jupyter-widgets/base",
      "_view_module_version": "1.2.0",
      "_view_name": "LayoutView",
      "align_content": null,
      "align_items": null,
      "align_self": null,
      "border": null,
      "bottom": null,
      "display": null,
      "flex": null,
      "flex_flow": null,
      "grid_area": null,
      "grid_auto_columns": null,
      "grid_auto_flow": null,
      "grid_auto_rows": null,
      "grid_column": null,
      "grid_gap": null,
      "grid_row": null,
      "grid_template_areas": null,
      "grid_template_columns": null,
      "grid_template_rows": null,
      "height": null,
      "justify_content": null,
      "justify_items": null,
      "left": null,
      "margin": null,
      "max_height": null,
      "max_width": null,
      "min_height": null,
      "min_width": null,
      "object_fit": null,
      "object_position": null,
      "order": null,
      "overflow": null,
      "overflow_x": null,
      "overflow_y": null,
      "padding": null,
      "right": null,
      "top": null,
      "visibility": null,
      "width": null
     }
    },
    "3893f2d28a8f46bdbd098a412c4d332a": {
     "model_module": "@jupyter-widgets/base",
     "model_module_version": "1.2.0",
     "model_name": "LayoutModel",
     "state": {
      "_model_module": "@jupyter-widgets/base",
      "_model_module_version": "1.2.0",
      "_model_name": "LayoutModel",
      "_view_count": null,
      "_view_module": "@jupyter-widgets/base",
      "_view_module_version": "1.2.0",
      "_view_name": "LayoutView",
      "align_content": null,
      "align_items": null,
      "align_self": null,
      "border": null,
      "bottom": null,
      "display": null,
      "flex": null,
      "flex_flow": null,
      "grid_area": null,
      "grid_auto_columns": null,
      "grid_auto_flow": null,
      "grid_auto_rows": null,
      "grid_column": null,
      "grid_gap": null,
      "grid_row": null,
      "grid_template_areas": null,
      "grid_template_columns": null,
      "grid_template_rows": null,
      "height": null,
      "justify_content": null,
      "justify_items": null,
      "left": null,
      "margin": null,
      "max_height": null,
      "max_width": null,
      "min_height": null,
      "min_width": null,
      "object_fit": null,
      "object_position": null,
      "order": null,
      "overflow": null,
      "overflow_x": null,
      "overflow_y": null,
      "padding": null,
      "right": null,
      "top": null,
      "visibility": null,
      "width": null
     }
    },
    "38fcf6225e404b9fb0cbab77a7064a24": {
     "model_module": "@jupyter-widgets/base",
     "model_module_version": "1.2.0",
     "model_name": "LayoutModel",
     "state": {
      "_model_module": "@jupyter-widgets/base",
      "_model_module_version": "1.2.0",
      "_model_name": "LayoutModel",
      "_view_count": null,
      "_view_module": "@jupyter-widgets/base",
      "_view_module_version": "1.2.0",
      "_view_name": "LayoutView",
      "align_content": null,
      "align_items": null,
      "align_self": null,
      "border": null,
      "bottom": null,
      "display": null,
      "flex": null,
      "flex_flow": null,
      "grid_area": null,
      "grid_auto_columns": null,
      "grid_auto_flow": null,
      "grid_auto_rows": null,
      "grid_column": null,
      "grid_gap": null,
      "grid_row": null,
      "grid_template_areas": null,
      "grid_template_columns": null,
      "grid_template_rows": null,
      "height": null,
      "justify_content": null,
      "justify_items": null,
      "left": null,
      "margin": null,
      "max_height": null,
      "max_width": null,
      "min_height": null,
      "min_width": null,
      "object_fit": null,
      "object_position": null,
      "order": null,
      "overflow": null,
      "overflow_x": null,
      "overflow_y": null,
      "padding": null,
      "right": null,
      "top": null,
      "visibility": null,
      "width": null
     }
    },
    "3a073ca1ad7a4f7f86092f5136394b93": {
     "model_module": "@jupyter-widgets/base",
     "model_module_version": "1.2.0",
     "model_name": "LayoutModel",
     "state": {
      "_model_module": "@jupyter-widgets/base",
      "_model_module_version": "1.2.0",
      "_model_name": "LayoutModel",
      "_view_count": null,
      "_view_module": "@jupyter-widgets/base",
      "_view_module_version": "1.2.0",
      "_view_name": "LayoutView",
      "align_content": null,
      "align_items": null,
      "align_self": null,
      "border": null,
      "bottom": null,
      "display": null,
      "flex": null,
      "flex_flow": null,
      "grid_area": null,
      "grid_auto_columns": null,
      "grid_auto_flow": null,
      "grid_auto_rows": null,
      "grid_column": null,
      "grid_gap": null,
      "grid_row": null,
      "grid_template_areas": null,
      "grid_template_columns": null,
      "grid_template_rows": null,
      "height": null,
      "justify_content": null,
      "justify_items": null,
      "left": null,
      "margin": null,
      "max_height": null,
      "max_width": null,
      "min_height": null,
      "min_width": null,
      "object_fit": null,
      "object_position": null,
      "order": null,
      "overflow": null,
      "overflow_x": null,
      "overflow_y": null,
      "padding": null,
      "right": null,
      "top": null,
      "visibility": null,
      "width": null
     }
    },
    "3a9662df247f4b599b7c66e8a2c01d5b": {
     "model_module": "@jupyter-widgets/base",
     "model_module_version": "1.2.0",
     "model_name": "LayoutModel",
     "state": {
      "_model_module": "@jupyter-widgets/base",
      "_model_module_version": "1.2.0",
      "_model_name": "LayoutModel",
      "_view_count": null,
      "_view_module": "@jupyter-widgets/base",
      "_view_module_version": "1.2.0",
      "_view_name": "LayoutView",
      "align_content": null,
      "align_items": null,
      "align_self": null,
      "border": null,
      "bottom": null,
      "display": null,
      "flex": null,
      "flex_flow": null,
      "grid_area": null,
      "grid_auto_columns": null,
      "grid_auto_flow": null,
      "grid_auto_rows": null,
      "grid_column": null,
      "grid_gap": null,
      "grid_row": null,
      "grid_template_areas": null,
      "grid_template_columns": null,
      "grid_template_rows": null,
      "height": null,
      "justify_content": null,
      "justify_items": null,
      "left": null,
      "margin": null,
      "max_height": null,
      "max_width": null,
      "min_height": null,
      "min_width": null,
      "object_fit": null,
      "object_position": null,
      "order": null,
      "overflow": null,
      "overflow_x": null,
      "overflow_y": null,
      "padding": null,
      "right": null,
      "top": null,
      "visibility": null,
      "width": null
     }
    },
    "3b6694d01fd4470f87bfa54337431d8e": {
     "model_module": "@jupyter-widgets/controls",
     "model_module_version": "1.5.0",
     "model_name": "DescriptionStyleModel",
     "state": {
      "_model_module": "@jupyter-widgets/controls",
      "_model_module_version": "1.5.0",
      "_model_name": "DescriptionStyleModel",
      "_view_count": null,
      "_view_module": "@jupyter-widgets/base",
      "_view_module_version": "1.2.0",
      "_view_name": "StyleView",
      "description_width": ""
     }
    },
    "3c3364fd5df247ac93f6767799c513aa": {
     "model_module": "@jupyter-widgets/controls",
     "model_module_version": "1.5.0",
     "model_name": "DescriptionStyleModel",
     "state": {
      "_model_module": "@jupyter-widgets/controls",
      "_model_module_version": "1.5.0",
      "_model_name": "DescriptionStyleModel",
      "_view_count": null,
      "_view_module": "@jupyter-widgets/base",
      "_view_module_version": "1.2.0",
      "_view_name": "StyleView",
      "description_width": ""
     }
    },
    "3f7b8901e12d46249c7cdc03fbe1f9f8": {
     "model_module": "@jupyter-widgets/controls",
     "model_module_version": "1.5.0",
     "model_name": "ProgressStyleModel",
     "state": {
      "_model_module": "@jupyter-widgets/controls",
      "_model_module_version": "1.5.0",
      "_model_name": "ProgressStyleModel",
      "_view_count": null,
      "_view_module": "@jupyter-widgets/base",
      "_view_module_version": "1.2.0",
      "_view_name": "StyleView",
      "bar_color": null,
      "description_width": ""
     }
    },
    "3fb22fc3f80449539cfa71b31114552d": {
     "model_module": "@jupyter-widgets/base",
     "model_module_version": "1.2.0",
     "model_name": "LayoutModel",
     "state": {
      "_model_module": "@jupyter-widgets/base",
      "_model_module_version": "1.2.0",
      "_model_name": "LayoutModel",
      "_view_count": null,
      "_view_module": "@jupyter-widgets/base",
      "_view_module_version": "1.2.0",
      "_view_name": "LayoutView",
      "align_content": null,
      "align_items": null,
      "align_self": null,
      "border": null,
      "bottom": null,
      "display": null,
      "flex": null,
      "flex_flow": null,
      "grid_area": null,
      "grid_auto_columns": null,
      "grid_auto_flow": null,
      "grid_auto_rows": null,
      "grid_column": null,
      "grid_gap": null,
      "grid_row": null,
      "grid_template_areas": null,
      "grid_template_columns": null,
      "grid_template_rows": null,
      "height": null,
      "justify_content": null,
      "justify_items": null,
      "left": null,
      "margin": null,
      "max_height": null,
      "max_width": null,
      "min_height": null,
      "min_width": null,
      "object_fit": null,
      "object_position": null,
      "order": null,
      "overflow": null,
      "overflow_x": null,
      "overflow_y": null,
      "padding": null,
      "right": null,
      "top": null,
      "visibility": null,
      "width": null
     }
    },
    "401e5c6b7c9b46eeb9ea56c4e35ac356": {
     "model_module": "@jupyter-widgets/controls",
     "model_module_version": "1.5.0",
     "model_name": "FloatProgressModel",
     "state": {
      "_dom_classes": [],
      "_model_module": "@jupyter-widgets/controls",
      "_model_module_version": "1.5.0",
      "_model_name": "FloatProgressModel",
      "_view_count": null,
      "_view_module": "@jupyter-widgets/controls",
      "_view_module_version": "1.5.0",
      "_view_name": "ProgressView",
      "bar_style": "success",
      "description": "",
      "description_tooltip": null,
      "layout": "IPY_MODEL_38fcf6225e404b9fb0cbab77a7064a24",
      "max": 143019,
      "min": 0,
      "orientation": "horizontal",
      "style": "IPY_MODEL_4775a714f30d4ad6a87ee85753b7bd2e",
      "value": 143019
     }
    },
    "439056ed1bdb4805b34d1cb61d52a5a6": {
     "model_module": "@jupyter-widgets/controls",
     "model_module_version": "1.5.0",
     "model_name": "DescriptionStyleModel",
     "state": {
      "_model_module": "@jupyter-widgets/controls",
      "_model_module_version": "1.5.0",
      "_model_name": "DescriptionStyleModel",
      "_view_count": null,
      "_view_module": "@jupyter-widgets/base",
      "_view_module_version": "1.2.0",
      "_view_name": "StyleView",
      "description_width": ""
     }
    },
    "45ec2eb6325a4d39a453428dc11a9d1d": {
     "model_module": "@jupyter-widgets/controls",
     "model_module_version": "1.5.0",
     "model_name": "FloatProgressModel",
     "state": {
      "_dom_classes": [],
      "_model_module": "@jupyter-widgets/controls",
      "_model_module_version": "1.5.0",
      "_model_name": "FloatProgressModel",
      "_view_count": null,
      "_view_module": "@jupyter-widgets/controls",
      "_view_module_version": "1.5.0",
      "_view_name": "ProgressView",
      "bar_style": "success",
      "description": "",
      "description_tooltip": null,
      "layout": "IPY_MODEL_c20846d9d496453e997e01709e8b155e",
      "max": 142491,
      "min": 0,
      "orientation": "horizontal",
      "style": "IPY_MODEL_5b6e7ecebb064f0091fe3711b288367f",
      "value": 142491
     }
    },
    "46c78d2ffb4d4252888eb5ea2e46dacc": {
     "model_module": "@jupyter-widgets/base",
     "model_module_version": "1.2.0",
     "model_name": "LayoutModel",
     "state": {
      "_model_module": "@jupyter-widgets/base",
      "_model_module_version": "1.2.0",
      "_model_name": "LayoutModel",
      "_view_count": null,
      "_view_module": "@jupyter-widgets/base",
      "_view_module_version": "1.2.0",
      "_view_name": "LayoutView",
      "align_content": null,
      "align_items": null,
      "align_self": null,
      "border": null,
      "bottom": null,
      "display": null,
      "flex": null,
      "flex_flow": null,
      "grid_area": null,
      "grid_auto_columns": null,
      "grid_auto_flow": null,
      "grid_auto_rows": null,
      "grid_column": null,
      "grid_gap": null,
      "grid_row": null,
      "grid_template_areas": null,
      "grid_template_columns": null,
      "grid_template_rows": null,
      "height": null,
      "justify_content": null,
      "justify_items": null,
      "left": null,
      "margin": null,
      "max_height": null,
      "max_width": null,
      "min_height": null,
      "min_width": null,
      "object_fit": null,
      "object_position": null,
      "order": null,
      "overflow": null,
      "overflow_x": null,
      "overflow_y": null,
      "padding": null,
      "right": null,
      "top": null,
      "visibility": null,
      "width": null
     }
    },
    "4775a714f30d4ad6a87ee85753b7bd2e": {
     "model_module": "@jupyter-widgets/controls",
     "model_module_version": "1.5.0",
     "model_name": "ProgressStyleModel",
     "state": {
      "_model_module": "@jupyter-widgets/controls",
      "_model_module_version": "1.5.0",
      "_model_name": "ProgressStyleModel",
      "_view_count": null,
      "_view_module": "@jupyter-widgets/base",
      "_view_module_version": "1.2.0",
      "_view_name": "StyleView",
      "bar_color": null,
      "description_width": ""
     }
    },
    "489c17cb54744057a4be4cf175157236": {
     "model_module": "@jupyter-widgets/controls",
     "model_module_version": "1.5.0",
     "model_name": "FloatProgressModel",
     "state": {
      "_dom_classes": [],
      "_model_module": "@jupyter-widgets/controls",
      "_model_module_version": "1.5.0",
      "_model_name": "FloatProgressModel",
      "_view_count": null,
      "_view_module": "@jupyter-widgets/controls",
      "_view_module_version": "1.5.0",
      "_view_name": "ProgressView",
      "bar_style": "success",
      "description": "",
      "description_tooltip": null,
      "layout": "IPY_MODEL_acd58d864e204cf99deb47f768eced30",
      "max": 143019,
      "min": 0,
      "orientation": "horizontal",
      "style": "IPY_MODEL_ae18498f63154deaa4f9ee1ac69dbc82",
      "value": 143019
     }
    },
    "50d3498b6c86445ea93d43c19d17cf89": {
     "model_module": "@jupyter-widgets/base",
     "model_module_version": "1.2.0",
     "model_name": "LayoutModel",
     "state": {
      "_model_module": "@jupyter-widgets/base",
      "_model_module_version": "1.2.0",
      "_model_name": "LayoutModel",
      "_view_count": null,
      "_view_module": "@jupyter-widgets/base",
      "_view_module_version": "1.2.0",
      "_view_name": "LayoutView",
      "align_content": null,
      "align_items": null,
      "align_self": null,
      "border": null,
      "bottom": null,
      "display": null,
      "flex": null,
      "flex_flow": null,
      "grid_area": null,
      "grid_auto_columns": null,
      "grid_auto_flow": null,
      "grid_auto_rows": null,
      "grid_column": null,
      "grid_gap": null,
      "grid_row": null,
      "grid_template_areas": null,
      "grid_template_columns": null,
      "grid_template_rows": null,
      "height": null,
      "justify_content": null,
      "justify_items": null,
      "left": null,
      "margin": null,
      "max_height": null,
      "max_width": null,
      "min_height": null,
      "min_width": null,
      "object_fit": null,
      "object_position": null,
      "order": null,
      "overflow": null,
      "overflow_x": null,
      "overflow_y": null,
      "padding": null,
      "right": null,
      "top": null,
      "visibility": null,
      "width": null
     }
    },
    "549f666a53f14ea8b1d44aa20e1763dc": {
     "model_module": "@jupyter-widgets/controls",
     "model_module_version": "1.5.0",
     "model_name": "HTMLModel",
     "state": {
      "_dom_classes": [],
      "_model_module": "@jupyter-widgets/controls",
      "_model_module_version": "1.5.0",
      "_model_name": "HTMLModel",
      "_view_count": null,
      "_view_module": "@jupyter-widgets/controls",
      "_view_module_version": "1.5.0",
      "_view_name": "HTMLView",
      "description": "",
      "description_tooltip": null,
      "layout": "IPY_MODEL_3a073ca1ad7a4f7f86092f5136394b93",
      "placeholder": "​",
      "style": "IPY_MODEL_98980b940ac04b8c93f0e41462821131",
      "value": "100%"
     }
    },
    "56723985f3ba4c8fa1b71966fa6620bf": {
     "model_module": "@jupyter-widgets/controls",
     "model_module_version": "1.5.0",
     "model_name": "FloatProgressModel",
     "state": {
      "_dom_classes": [],
      "_model_module": "@jupyter-widgets/controls",
      "_model_module_version": "1.5.0",
      "_model_name": "FloatProgressModel",
      "_view_count": null,
      "_view_module": "@jupyter-widgets/controls",
      "_view_module_version": "1.5.0",
      "_view_name": "ProgressView",
      "bar_style": "success",
      "description": "",
      "description_tooltip": null,
      "layout": "IPY_MODEL_c0de30dfdb594044a883b307fb0887d5",
      "max": 507092,
      "min": 0,
      "orientation": "horizontal",
      "style": "IPY_MODEL_b8b4d7cf95a245608f6322bba2d6e4fd",
      "value": 507092
     }
    },
    "57c74fcc21c24f588a719afb50f3d412": {
     "model_module": "@jupyter-widgets/controls",
     "model_module_version": "1.5.0",
     "model_name": "ProgressStyleModel",
     "state": {
      "_model_module": "@jupyter-widgets/controls",
      "_model_module_version": "1.5.0",
      "_model_name": "ProgressStyleModel",
      "_view_count": null,
      "_view_module": "@jupyter-widgets/base",
      "_view_module_version": "1.2.0",
      "_view_name": "StyleView",
      "bar_color": null,
      "description_width": ""
     }
    },
    "597ec6671cd541bea9ad072fe6f5dcf7": {
     "model_module": "@jupyter-widgets/base",
     "model_module_version": "1.2.0",
     "model_name": "LayoutModel",
     "state": {
      "_model_module": "@jupyter-widgets/base",
      "_model_module_version": "1.2.0",
      "_model_name": "LayoutModel",
      "_view_count": null,
      "_view_module": "@jupyter-widgets/base",
      "_view_module_version": "1.2.0",
      "_view_name": "LayoutView",
      "align_content": null,
      "align_items": null,
      "align_self": null,
      "border": null,
      "bottom": null,
      "display": null,
      "flex": null,
      "flex_flow": null,
      "grid_area": null,
      "grid_auto_columns": null,
      "grid_auto_flow": null,
      "grid_auto_rows": null,
      "grid_column": null,
      "grid_gap": null,
      "grid_row": null,
      "grid_template_areas": null,
      "grid_template_columns": null,
      "grid_template_rows": null,
      "height": null,
      "justify_content": null,
      "justify_items": null,
      "left": null,
      "margin": null,
      "max_height": null,
      "max_width": null,
      "min_height": null,
      "min_width": null,
      "object_fit": null,
      "object_position": null,
      "order": null,
      "overflow": null,
      "overflow_x": null,
      "overflow_y": null,
      "padding": null,
      "right": null,
      "top": null,
      "visibility": null,
      "width": null
     }
    },
    "5b6e7ecebb064f0091fe3711b288367f": {
     "model_module": "@jupyter-widgets/controls",
     "model_module_version": "1.5.0",
     "model_name": "ProgressStyleModel",
     "state": {
      "_model_module": "@jupyter-widgets/controls",
      "_model_module_version": "1.5.0",
      "_model_name": "ProgressStyleModel",
      "_view_count": null,
      "_view_module": "@jupyter-widgets/base",
      "_view_module_version": "1.2.0",
      "_view_name": "StyleView",
      "bar_color": null,
      "description_width": ""
     }
    },
    "5b73c73933db4fb2b6aff84661c733d0": {
     "model_module": "@jupyter-widgets/controls",
     "model_module_version": "1.5.0",
     "model_name": "HTMLModel",
     "state": {
      "_dom_classes": [],
      "_model_module": "@jupyter-widgets/controls",
      "_model_module_version": "1.5.0",
      "_model_name": "HTMLModel",
      "_view_count": null,
      "_view_module": "@jupyter-widgets/controls",
      "_view_module_version": "1.5.0",
      "_view_name": "HTMLView",
      "description": "",
      "description_tooltip": null,
      "layout": "IPY_MODEL_c18a2842cb224b48b40c034bcf0438b4",
      "placeholder": "​",
      "style": "IPY_MODEL_3c3364fd5df247ac93f6767799c513aa",
      "value": "100%"
     }
    },
    "5f837cf3ab654838a42c9b6be5397633": {
     "model_module": "@jupyter-widgets/base",
     "model_module_version": "1.2.0",
     "model_name": "LayoutModel",
     "state": {
      "_model_module": "@jupyter-widgets/base",
      "_model_module_version": "1.2.0",
      "_model_name": "LayoutModel",
      "_view_count": null,
      "_view_module": "@jupyter-widgets/base",
      "_view_module_version": "1.2.0",
      "_view_name": "LayoutView",
      "align_content": null,
      "align_items": null,
      "align_self": null,
      "border": null,
      "bottom": null,
      "display": null,
      "flex": null,
      "flex_flow": null,
      "grid_area": null,
      "grid_auto_columns": null,
      "grid_auto_flow": null,
      "grid_auto_rows": null,
      "grid_column": null,
      "grid_gap": null,
      "grid_row": null,
      "grid_template_areas": null,
      "grid_template_columns": null,
      "grid_template_rows": null,
      "height": null,
      "justify_content": null,
      "justify_items": null,
      "left": null,
      "margin": null,
      "max_height": null,
      "max_width": null,
      "min_height": null,
      "min_width": null,
      "object_fit": null,
      "object_position": null,
      "order": null,
      "overflow": null,
      "overflow_x": null,
      "overflow_y": null,
      "padding": null,
      "right": null,
      "top": null,
      "visibility": null,
      "width": null
     }
    },
    "60121d99234d44168605004aea073fe3": {
     "model_module": "@jupyter-widgets/base",
     "model_module_version": "1.2.0",
     "model_name": "LayoutModel",
     "state": {
      "_model_module": "@jupyter-widgets/base",
      "_model_module_version": "1.2.0",
      "_model_name": "LayoutModel",
      "_view_count": null,
      "_view_module": "@jupyter-widgets/base",
      "_view_module_version": "1.2.0",
      "_view_name": "LayoutView",
      "align_content": null,
      "align_items": null,
      "align_self": null,
      "border": null,
      "bottom": null,
      "display": null,
      "flex": null,
      "flex_flow": null,
      "grid_area": null,
      "grid_auto_columns": null,
      "grid_auto_flow": null,
      "grid_auto_rows": null,
      "grid_column": null,
      "grid_gap": null,
      "grid_row": null,
      "grid_template_areas": null,
      "grid_template_columns": null,
      "grid_template_rows": null,
      "height": null,
      "justify_content": null,
      "justify_items": null,
      "left": null,
      "margin": null,
      "max_height": null,
      "max_width": null,
      "min_height": null,
      "min_width": null,
      "object_fit": null,
      "object_position": null,
      "order": null,
      "overflow": null,
      "overflow_x": null,
      "overflow_y": null,
      "padding": null,
      "right": null,
      "top": null,
      "visibility": null,
      "width": null
     }
    },
    "609fc1d7d6944b9faf004062281ee38c": {
     "model_module": "@jupyter-widgets/controls",
     "model_module_version": "1.5.0",
     "model_name": "DescriptionStyleModel",
     "state": {
      "_model_module": "@jupyter-widgets/controls",
      "_model_module_version": "1.5.0",
      "_model_name": "DescriptionStyleModel",
      "_view_count": null,
      "_view_module": "@jupyter-widgets/base",
      "_view_module_version": "1.2.0",
      "_view_name": "StyleView",
      "description_width": ""
     }
    },
    "6227df38dd534711b01b0c998a68c1dd": {
     "model_module": "@jupyter-widgets/controls",
     "model_module_version": "1.5.0",
     "model_name": "HBoxModel",
     "state": {
      "_dom_classes": [],
      "_model_module": "@jupyter-widgets/controls",
      "_model_module_version": "1.5.0",
      "_model_name": "HBoxModel",
      "_view_count": null,
      "_view_module": "@jupyter-widgets/controls",
      "_view_module_version": "1.5.0",
      "_view_name": "HBoxView",
      "box_style": "",
      "children": [
       "IPY_MODEL_a4316ff8857942a9bf4111f82780fdda",
       "IPY_MODEL_163dfa30158a4ab1965965d8427e8786",
       "IPY_MODEL_6b5c16e11e8e4a3b9029cb467ae7b6a1"
      ],
      "layout": "IPY_MODEL_d06958cced8947fdbf146b6e245669c9"
     }
    },
    "6b5c16e11e8e4a3b9029cb467ae7b6a1": {
     "model_module": "@jupyter-widgets/controls",
     "model_module_version": "1.5.0",
     "model_name": "HTMLModel",
     "state": {
      "_dom_classes": [],
      "_model_module": "@jupyter-widgets/controls",
      "_model_module_version": "1.5.0",
      "_model_name": "HTMLModel",
      "_view_count": null,
      "_view_module": "@jupyter-widgets/controls",
      "_view_module_version": "1.5.0",
      "_view_name": "HTMLView",
      "description": "",
      "description_tooltip": null,
      "layout": "IPY_MODEL_3893f2d28a8f46bdbd098a412c4d332a",
      "placeholder": "​",
      "style": "IPY_MODEL_09f190dbac154fc28ac5f6e6413da61a",
      "value": " 142491/142491 [05:42&lt;00:00, 349.84it/s]"
     }
    },
    "718f55aaba4d4f6fb082068a4919946c": {
     "model_module": "@jupyter-widgets/controls",
     "model_module_version": "1.5.0",
     "model_name": "FloatProgressModel",
     "state": {
      "_dom_classes": [],
      "_model_module": "@jupyter-widgets/controls",
      "_model_module_version": "1.5.0",
      "_model_name": "FloatProgressModel",
      "_view_count": null,
      "_view_module": "@jupyter-widgets/controls",
      "_view_module_version": "1.5.0",
      "_view_name": "ProgressView",
      "bar_style": "success",
      "description": "",
      "description_tooltip": null,
      "layout": "IPY_MODEL_154fa661837b4ef0aaada254dc37cfd4",
      "max": 142491,
      "min": 0,
      "orientation": "horizontal",
      "style": "IPY_MODEL_7bcb44efd93543119e1aec982a1fbd4c",
      "value": 142491
     }
    },
    "71a9dc2696f54eb2b9717a65f88ff34a": {
     "model_module": "@jupyter-widgets/controls",
     "model_module_version": "1.5.0",
     "model_name": "HTMLModel",
     "state": {
      "_dom_classes": [],
      "_model_module": "@jupyter-widgets/controls",
      "_model_module_version": "1.5.0",
      "_model_name": "HTMLModel",
      "_view_count": null,
      "_view_module": "@jupyter-widgets/controls",
      "_view_module_version": "1.5.0",
      "_view_name": "HTMLView",
      "description": "",
      "description_tooltip": null,
      "layout": "IPY_MODEL_c73969fc7d204793b527d391972f75eb",
      "placeholder": "​",
      "style": "IPY_MODEL_7fbeddb1e395492b9c4ca6591a986e09",
      "value": " 142491/142491 [01:02&lt;00:00, 2489.61it/s]"
     }
    },
    "72885f4232eb4608a182a8af6dadc232": {
     "model_module": "@jupyter-widgets/controls",
     "model_module_version": "1.5.0",
     "model_name": "HTMLModel",
     "state": {
      "_dom_classes": [],
      "_model_module": "@jupyter-widgets/controls",
      "_model_module_version": "1.5.0",
      "_model_name": "HTMLModel",
      "_view_count": null,
      "_view_module": "@jupyter-widgets/controls",
      "_view_module_version": "1.5.0",
      "_view_name": "HTMLView",
      "description": "",
      "description_tooltip": null,
      "layout": "IPY_MODEL_e9ebc303e9b441ab970d7bbf9eb437c1",
      "placeholder": "​",
      "style": "IPY_MODEL_f36ad2d921d84a36a48e9c0b75f79774",
      "value": " 143019/143019 [01:00&lt;00:00, 2232.01it/s]"
     }
    },
    "7557725a19024eca958a8ceb449b69de": {
     "model_module": "@jupyter-widgets/controls",
     "model_module_version": "1.5.0",
     "model_name": "DescriptionStyleModel",
     "state": {
      "_model_module": "@jupyter-widgets/controls",
      "_model_module_version": "1.5.0",
      "_model_name": "DescriptionStyleModel",
      "_view_count": null,
      "_view_module": "@jupyter-widgets/base",
      "_view_module_version": "1.2.0",
      "_view_name": "StyleView",
      "description_width": ""
     }
    },
    "76d3f72341474e4096a429e1d0644f28": {
     "model_module": "@jupyter-widgets/controls",
     "model_module_version": "1.5.0",
     "model_name": "HBoxModel",
     "state": {
      "_dom_classes": [],
      "_model_module": "@jupyter-widgets/controls",
      "_model_module_version": "1.5.0",
      "_model_name": "HBoxModel",
      "_view_count": null,
      "_view_module": "@jupyter-widgets/controls",
      "_view_module_version": "1.5.0",
      "_view_name": "HBoxView",
      "box_style": "",
      "children": [
       "IPY_MODEL_24abd1c48643470a9d2b0a71f5286b2e",
       "IPY_MODEL_e89ac9f060794676877e73ae3c76b430",
       "IPY_MODEL_d147ba87479049f682fde06e83efd53d"
      ],
      "layout": "IPY_MODEL_ccfb8ca8247545e9aae3f1bc7654c7d8"
     }
    },
    "7886d552d21b40a98dbb54edbc369587": {
     "model_module": "@jupyter-widgets/controls",
     "model_module_version": "1.5.0",
     "model_name": "HTMLModel",
     "state": {
      "_dom_classes": [],
      "_model_module": "@jupyter-widgets/controls",
      "_model_module_version": "1.5.0",
      "_model_name": "HTMLModel",
      "_view_count": null,
      "_view_module": "@jupyter-widgets/controls",
      "_view_module_version": "1.5.0",
      "_view_name": "HTMLView",
      "description": "",
      "description_tooltip": null,
      "layout": "IPY_MODEL_bfad24a207f7475b97b7b27e1b5bb2e6",
      "placeholder": "​",
      "style": "IPY_MODEL_439056ed1bdb4805b34d1cb61d52a5a6",
      "value": "100%"
     }
    },
    "7ab0b757e7c347f89dca7fe7df441195": {
     "model_module": "@jupyter-widgets/base",
     "model_module_version": "1.2.0",
     "model_name": "LayoutModel",
     "state": {
      "_model_module": "@jupyter-widgets/base",
      "_model_module_version": "1.2.0",
      "_model_name": "LayoutModel",
      "_view_count": null,
      "_view_module": "@jupyter-widgets/base",
      "_view_module_version": "1.2.0",
      "_view_name": "LayoutView",
      "align_content": null,
      "align_items": null,
      "align_self": null,
      "border": null,
      "bottom": null,
      "display": null,
      "flex": null,
      "flex_flow": null,
      "grid_area": null,
      "grid_auto_columns": null,
      "grid_auto_flow": null,
      "grid_auto_rows": null,
      "grid_column": null,
      "grid_gap": null,
      "grid_row": null,
      "grid_template_areas": null,
      "grid_template_columns": null,
      "grid_template_rows": null,
      "height": null,
      "justify_content": null,
      "justify_items": null,
      "left": null,
      "margin": null,
      "max_height": null,
      "max_width": null,
      "min_height": null,
      "min_width": null,
      "object_fit": null,
      "object_position": null,
      "order": null,
      "overflow": null,
      "overflow_x": null,
      "overflow_y": null,
      "padding": null,
      "right": null,
      "top": null,
      "visibility": null,
      "width": null
     }
    },
    "7bcb44efd93543119e1aec982a1fbd4c": {
     "model_module": "@jupyter-widgets/controls",
     "model_module_version": "1.5.0",
     "model_name": "ProgressStyleModel",
     "state": {
      "_model_module": "@jupyter-widgets/controls",
      "_model_module_version": "1.5.0",
      "_model_name": "ProgressStyleModel",
      "_view_count": null,
      "_view_module": "@jupyter-widgets/base",
      "_view_module_version": "1.2.0",
      "_view_name": "StyleView",
      "bar_color": null,
      "description_width": ""
     }
    },
    "7c99322824964d12bf5fd9bc77badbe7": {
     "model_module": "@jupyter-widgets/controls",
     "model_module_version": "1.5.0",
     "model_name": "HBoxModel",
     "state": {
      "_dom_classes": [],
      "_model_module": "@jupyter-widgets/controls",
      "_model_module_version": "1.5.0",
      "_model_name": "HBoxModel",
      "_view_count": null,
      "_view_module": "@jupyter-widgets/controls",
      "_view_module_version": "1.5.0",
      "_view_name": "HBoxView",
      "box_style": "",
      "children": [
       "IPY_MODEL_20895cc1dbbd491b99ea88d2a619f56f",
       "IPY_MODEL_401e5c6b7c9b46eeb9ea56c4e35ac356",
       "IPY_MODEL_72885f4232eb4608a182a8af6dadc232"
      ],
      "layout": "IPY_MODEL_f094150a2db84564b9c293749d382f1a"
     }
    },
    "7d31f7ad56cf474c9ba1beb2321f30b4": {
     "model_module": "@jupyter-widgets/base",
     "model_module_version": "1.2.0",
     "model_name": "LayoutModel",
     "state": {
      "_model_module": "@jupyter-widgets/base",
      "_model_module_version": "1.2.0",
      "_model_name": "LayoutModel",
      "_view_count": null,
      "_view_module": "@jupyter-widgets/base",
      "_view_module_version": "1.2.0",
      "_view_name": "LayoutView",
      "align_content": null,
      "align_items": null,
      "align_self": null,
      "border": null,
      "bottom": null,
      "display": null,
      "flex": null,
      "flex_flow": null,
      "grid_area": null,
      "grid_auto_columns": null,
      "grid_auto_flow": null,
      "grid_auto_rows": null,
      "grid_column": null,
      "grid_gap": null,
      "grid_row": null,
      "grid_template_areas": null,
      "grid_template_columns": null,
      "grid_template_rows": null,
      "height": null,
      "justify_content": null,
      "justify_items": null,
      "left": null,
      "margin": null,
      "max_height": null,
      "max_width": null,
      "min_height": null,
      "min_width": null,
      "object_fit": null,
      "object_position": null,
      "order": null,
      "overflow": null,
      "overflow_x": null,
      "overflow_y": null,
      "padding": null,
      "right": null,
      "top": null,
      "visibility": null,
      "width": null
     }
    },
    "7fbeddb1e395492b9c4ca6591a986e09": {
     "model_module": "@jupyter-widgets/controls",
     "model_module_version": "1.5.0",
     "model_name": "DescriptionStyleModel",
     "state": {
      "_model_module": "@jupyter-widgets/controls",
      "_model_module_version": "1.5.0",
      "_model_name": "DescriptionStyleModel",
      "_view_count": null,
      "_view_module": "@jupyter-widgets/base",
      "_view_module_version": "1.2.0",
      "_view_name": "StyleView",
      "description_width": ""
     }
    },
    "873bed7be3e54ea582553d2143f5358a": {
     "model_module": "@jupyter-widgets/controls",
     "model_module_version": "1.5.0",
     "model_name": "DescriptionStyleModel",
     "state": {
      "_model_module": "@jupyter-widgets/controls",
      "_model_module_version": "1.5.0",
      "_model_name": "DescriptionStyleModel",
      "_view_count": null,
      "_view_module": "@jupyter-widgets/base",
      "_view_module_version": "1.2.0",
      "_view_name": "StyleView",
      "description_width": ""
     }
    },
    "88a0ddd7f38647f1bfc24e8cdd77d176": {
     "model_module": "@jupyter-widgets/controls",
     "model_module_version": "1.5.0",
     "model_name": "HBoxModel",
     "state": {
      "_dom_classes": [],
      "_model_module": "@jupyter-widgets/controls",
      "_model_module_version": "1.5.0",
      "_model_name": "HBoxModel",
      "_view_count": null,
      "_view_module": "@jupyter-widgets/controls",
      "_view_module_version": "1.5.0",
      "_view_name": "HBoxView",
      "box_style": "",
      "children": [
       "IPY_MODEL_549f666a53f14ea8b1d44aa20e1763dc",
       "IPY_MODEL_de7e485b04d647f3aafe34f126129487",
       "IPY_MODEL_9d996be172fd41ec94cb2ff88f540bda"
      ],
      "layout": "IPY_MODEL_b22b664b108d4bd09f59094cb567358d"
     }
    },
    "8ab71344c5f64be996ab8fe58c608027": {
     "model_module": "@jupyter-widgets/controls",
     "model_module_version": "1.5.0",
     "model_name": "HTMLModel",
     "state": {
      "_dom_classes": [],
      "_model_module": "@jupyter-widgets/controls",
      "_model_module_version": "1.5.0",
      "_model_name": "HTMLModel",
      "_view_count": null,
      "_view_module": "@jupyter-widgets/controls",
      "_view_module_version": "1.5.0",
      "_view_name": "HTMLView",
      "description": "",
      "description_tooltip": null,
      "layout": "IPY_MODEL_df6e957cc04f4b3c863d6f7d3d077f48",
      "placeholder": "​",
      "style": "IPY_MODEL_338bd41939384cf1991c113bad903e0a",
      "value": " 507092/507092 [04:05&lt;00:00, 2151.83it/s]"
     }
    },
    "942f6cac5c9244839355e17ed22b5f50": {
     "model_module": "@jupyter-widgets/controls",
     "model_module_version": "1.5.0",
     "model_name": "DescriptionStyleModel",
     "state": {
      "_model_module": "@jupyter-widgets/controls",
      "_model_module_version": "1.5.0",
      "_model_name": "DescriptionStyleModel",
      "_view_count": null,
      "_view_module": "@jupyter-widgets/base",
      "_view_module_version": "1.2.0",
      "_view_name": "StyleView",
      "description_width": ""
     }
    },
    "94c77fa081b447328649ee5d37934fba": {
     "model_module": "@jupyter-widgets/base",
     "model_module_version": "1.2.0",
     "model_name": "LayoutModel",
     "state": {
      "_model_module": "@jupyter-widgets/base",
      "_model_module_version": "1.2.0",
      "_model_name": "LayoutModel",
      "_view_count": null,
      "_view_module": "@jupyter-widgets/base",
      "_view_module_version": "1.2.0",
      "_view_name": "LayoutView",
      "align_content": null,
      "align_items": null,
      "align_self": null,
      "border": null,
      "bottom": null,
      "display": null,
      "flex": null,
      "flex_flow": null,
      "grid_area": null,
      "grid_auto_columns": null,
      "grid_auto_flow": null,
      "grid_auto_rows": null,
      "grid_column": null,
      "grid_gap": null,
      "grid_row": null,
      "grid_template_areas": null,
      "grid_template_columns": null,
      "grid_template_rows": null,
      "height": null,
      "justify_content": null,
      "justify_items": null,
      "left": null,
      "margin": null,
      "max_height": null,
      "max_width": null,
      "min_height": null,
      "min_width": null,
      "object_fit": null,
      "object_position": null,
      "order": null,
      "overflow": null,
      "overflow_x": null,
      "overflow_y": null,
      "padding": null,
      "right": null,
      "top": null,
      "visibility": null,
      "width": null
     }
    },
    "98980b940ac04b8c93f0e41462821131": {
     "model_module": "@jupyter-widgets/controls",
     "model_module_version": "1.5.0",
     "model_name": "DescriptionStyleModel",
     "state": {
      "_model_module": "@jupyter-widgets/controls",
      "_model_module_version": "1.5.0",
      "_model_name": "DescriptionStyleModel",
      "_view_count": null,
      "_view_module": "@jupyter-widgets/base",
      "_view_module_version": "1.2.0",
      "_view_name": "StyleView",
      "description_width": ""
     }
    },
    "9d996be172fd41ec94cb2ff88f540bda": {
     "model_module": "@jupyter-widgets/controls",
     "model_module_version": "1.5.0",
     "model_name": "HTMLModel",
     "state": {
      "_dom_classes": [],
      "_model_module": "@jupyter-widgets/controls",
      "_model_module_version": "1.5.0",
      "_model_name": "HTMLModel",
      "_view_count": null,
      "_view_module": "@jupyter-widgets/controls",
      "_view_module_version": "1.5.0",
      "_view_name": "HTMLView",
      "description": "",
      "description_tooltip": null,
      "layout": "IPY_MODEL_94c77fa081b447328649ee5d37934fba",
      "placeholder": "​",
      "style": "IPY_MODEL_cc9dd41bcf954489a7ce4097863129a8",
      "value": " 508676/508676 [03:40&lt;00:00, 2507.76it/s]"
     }
    },
    "a19c8212a28f457a95bb6b6aa9e23eef": {
     "model_module": "@jupyter-widgets/controls",
     "model_module_version": "1.5.0",
     "model_name": "DescriptionStyleModel",
     "state": {
      "_model_module": "@jupyter-widgets/controls",
      "_model_module_version": "1.5.0",
      "_model_name": "DescriptionStyleModel",
      "_view_count": null,
      "_view_module": "@jupyter-widgets/base",
      "_view_module_version": "1.2.0",
      "_view_name": "StyleView",
      "description_width": ""
     }
    },
    "a3069764c7894bb7a4ccc1a85eddcfdd": {
     "model_module": "@jupyter-widgets/controls",
     "model_module_version": "1.5.0",
     "model_name": "HTMLModel",
     "state": {
      "_dom_classes": [],
      "_model_module": "@jupyter-widgets/controls",
      "_model_module_version": "1.5.0",
      "_model_name": "HTMLModel",
      "_view_count": null,
      "_view_module": "@jupyter-widgets/controls",
      "_view_module_version": "1.5.0",
      "_view_name": "HTMLView",
      "description": "",
      "description_tooltip": null,
      "layout": "IPY_MODEL_2c7a707ad0524a8888e493a627b7c956",
      "placeholder": "​",
      "style": "IPY_MODEL_7557725a19024eca958a8ceb449b69de",
      "value": " 508676/508676 [30:36&lt;00:00, 237.70it/s]"
     }
    },
    "a4316ff8857942a9bf4111f82780fdda": {
     "model_module": "@jupyter-widgets/controls",
     "model_module_version": "1.5.0",
     "model_name": "HTMLModel",
     "state": {
      "_dom_classes": [],
      "_model_module": "@jupyter-widgets/controls",
      "_model_module_version": "1.5.0",
      "_model_name": "HTMLModel",
      "_view_count": null,
      "_view_module": "@jupyter-widgets/controls",
      "_view_module_version": "1.5.0",
      "_view_name": "HTMLView",
      "description": "",
      "description_tooltip": null,
      "layout": "IPY_MODEL_5f837cf3ab654838a42c9b6be5397633",
      "placeholder": "​",
      "style": "IPY_MODEL_609fc1d7d6944b9faf004062281ee38c",
      "value": "100%"
     }
    },
    "aa97801b54974a1581f1093c91b980f9": {
     "model_module": "@jupyter-widgets/controls",
     "model_module_version": "1.5.0",
     "model_name": "FloatProgressModel",
     "state": {
      "_dom_classes": [],
      "_model_module": "@jupyter-widgets/controls",
      "_model_module_version": "1.5.0",
      "_model_name": "FloatProgressModel",
      "_view_count": null,
      "_view_module": "@jupyter-widgets/controls",
      "_view_module_version": "1.5.0",
      "_view_name": "ProgressView",
      "bar_style": "success",
      "description": "",
      "description_tooltip": null,
      "layout": "IPY_MODEL_f8836e8c5ece44c09edfd15703b57570",
      "max": 508676,
      "min": 0,
      "orientation": "horizontal",
      "style": "IPY_MODEL_3f7b8901e12d46249c7cdc03fbe1f9f8",
      "value": 508676
     }
    },
    "acd58d864e204cf99deb47f768eced30": {
     "model_module": "@jupyter-widgets/base",
     "model_module_version": "1.2.0",
     "model_name": "LayoutModel",
     "state": {
      "_model_module": "@jupyter-widgets/base",
      "_model_module_version": "1.2.0",
      "_model_name": "LayoutModel",
      "_view_count": null,
      "_view_module": "@jupyter-widgets/base",
      "_view_module_version": "1.2.0",
      "_view_name": "LayoutView",
      "align_content": null,
      "align_items": null,
      "align_self": null,
      "border": null,
      "bottom": null,
      "display": null,
      "flex": null,
      "flex_flow": null,
      "grid_area": null,
      "grid_auto_columns": null,
      "grid_auto_flow": null,
      "grid_auto_rows": null,
      "grid_column": null,
      "grid_gap": null,
      "grid_row": null,
      "grid_template_areas": null,
      "grid_template_columns": null,
      "grid_template_rows": null,
      "height": null,
      "justify_content": null,
      "justify_items": null,
      "left": null,
      "margin": null,
      "max_height": null,
      "max_width": null,
      "min_height": null,
      "min_width": null,
      "object_fit": null,
      "object_position": null,
      "order": null,
      "overflow": null,
      "overflow_x": null,
      "overflow_y": null,
      "padding": null,
      "right": null,
      "top": null,
      "visibility": null,
      "width": null
     }
    },
    "acef47fe350f45c091265df42837c1be": {
     "model_module": "@jupyter-widgets/controls",
     "model_module_version": "1.5.0",
     "model_name": "ProgressStyleModel",
     "state": {
      "_model_module": "@jupyter-widgets/controls",
      "_model_module_version": "1.5.0",
      "_model_name": "ProgressStyleModel",
      "_view_count": null,
      "_view_module": "@jupyter-widgets/base",
      "_view_module_version": "1.2.0",
      "_view_name": "StyleView",
      "bar_color": null,
      "description_width": ""
     }
    },
    "ad46231cad9e40bd8a3ffb9878a38cbc": {
     "model_module": "@jupyter-widgets/base",
     "model_module_version": "1.2.0",
     "model_name": "LayoutModel",
     "state": {
      "_model_module": "@jupyter-widgets/base",
      "_model_module_version": "1.2.0",
      "_model_name": "LayoutModel",
      "_view_count": null,
      "_view_module": "@jupyter-widgets/base",
      "_view_module_version": "1.2.0",
      "_view_name": "LayoutView",
      "align_content": null,
      "align_items": null,
      "align_self": null,
      "border": null,
      "bottom": null,
      "display": null,
      "flex": null,
      "flex_flow": null,
      "grid_area": null,
      "grid_auto_columns": null,
      "grid_auto_flow": null,
      "grid_auto_rows": null,
      "grid_column": null,
      "grid_gap": null,
      "grid_row": null,
      "grid_template_areas": null,
      "grid_template_columns": null,
      "grid_template_rows": null,
      "height": null,
      "justify_content": null,
      "justify_items": null,
      "left": null,
      "margin": null,
      "max_height": null,
      "max_width": null,
      "min_height": null,
      "min_width": null,
      "object_fit": null,
      "object_position": null,
      "order": null,
      "overflow": null,
      "overflow_x": null,
      "overflow_y": null,
      "padding": null,
      "right": null,
      "top": null,
      "visibility": null,
      "width": null
     }
    },
    "adb24e9a5e3944bd90ec4122da1cb4b0": {
     "model_module": "@jupyter-widgets/base",
     "model_module_version": "1.2.0",
     "model_name": "LayoutModel",
     "state": {
      "_model_module": "@jupyter-widgets/base",
      "_model_module_version": "1.2.0",
      "_model_name": "LayoutModel",
      "_view_count": null,
      "_view_module": "@jupyter-widgets/base",
      "_view_module_version": "1.2.0",
      "_view_name": "LayoutView",
      "align_content": null,
      "align_items": null,
      "align_self": null,
      "border": null,
      "bottom": null,
      "display": null,
      "flex": null,
      "flex_flow": null,
      "grid_area": null,
      "grid_auto_columns": null,
      "grid_auto_flow": null,
      "grid_auto_rows": null,
      "grid_column": null,
      "grid_gap": null,
      "grid_row": null,
      "grid_template_areas": null,
      "grid_template_columns": null,
      "grid_template_rows": null,
      "height": null,
      "justify_content": null,
      "justify_items": null,
      "left": null,
      "margin": null,
      "max_height": null,
      "max_width": null,
      "min_height": null,
      "min_width": null,
      "object_fit": null,
      "object_position": null,
      "order": null,
      "overflow": null,
      "overflow_x": null,
      "overflow_y": null,
      "padding": null,
      "right": null,
      "top": null,
      "visibility": null,
      "width": null
     }
    },
    "ae18498f63154deaa4f9ee1ac69dbc82": {
     "model_module": "@jupyter-widgets/controls",
     "model_module_version": "1.5.0",
     "model_name": "ProgressStyleModel",
     "state": {
      "_model_module": "@jupyter-widgets/controls",
      "_model_module_version": "1.5.0",
      "_model_name": "ProgressStyleModel",
      "_view_count": null,
      "_view_module": "@jupyter-widgets/base",
      "_view_module_version": "1.2.0",
      "_view_name": "StyleView",
      "bar_color": null,
      "description_width": ""
     }
    },
    "af3dfea4b89046f68ef52b6c2d870c50": {
     "model_module": "@jupyter-widgets/controls",
     "model_module_version": "1.5.0",
     "model_name": "DescriptionStyleModel",
     "state": {
      "_model_module": "@jupyter-widgets/controls",
      "_model_module_version": "1.5.0",
      "_model_name": "DescriptionStyleModel",
      "_view_count": null,
      "_view_module": "@jupyter-widgets/base",
      "_view_module_version": "1.2.0",
      "_view_name": "StyleView",
      "description_width": ""
     }
    },
    "b22b664b108d4bd09f59094cb567358d": {
     "model_module": "@jupyter-widgets/base",
     "model_module_version": "1.2.0",
     "model_name": "LayoutModel",
     "state": {
      "_model_module": "@jupyter-widgets/base",
      "_model_module_version": "1.2.0",
      "_model_name": "LayoutModel",
      "_view_count": null,
      "_view_module": "@jupyter-widgets/base",
      "_view_module_version": "1.2.0",
      "_view_name": "LayoutView",
      "align_content": null,
      "align_items": null,
      "align_self": null,
      "border": null,
      "bottom": null,
      "display": null,
      "flex": null,
      "flex_flow": null,
      "grid_area": null,
      "grid_auto_columns": null,
      "grid_auto_flow": null,
      "grid_auto_rows": null,
      "grid_column": null,
      "grid_gap": null,
      "grid_row": null,
      "grid_template_areas": null,
      "grid_template_columns": null,
      "grid_template_rows": null,
      "height": null,
      "justify_content": null,
      "justify_items": null,
      "left": null,
      "margin": null,
      "max_height": null,
      "max_width": null,
      "min_height": null,
      "min_width": null,
      "object_fit": null,
      "object_position": null,
      "order": null,
      "overflow": null,
      "overflow_x": null,
      "overflow_y": null,
      "padding": null,
      "right": null,
      "top": null,
      "visibility": null,
      "width": null
     }
    },
    "b52e688e52b54fe19d071f95b94ac04a": {
     "model_module": "@jupyter-widgets/controls",
     "model_module_version": "1.5.0",
     "model_name": "HTMLModel",
     "state": {
      "_dom_classes": [],
      "_model_module": "@jupyter-widgets/controls",
      "_model_module_version": "1.5.0",
      "_model_name": "HTMLModel",
      "_view_count": null,
      "_view_module": "@jupyter-widgets/controls",
      "_view_module_version": "1.5.0",
      "_view_name": "HTMLView",
      "description": "",
      "description_tooltip": null,
      "layout": "IPY_MODEL_adb24e9a5e3944bd90ec4122da1cb4b0",
      "placeholder": "​",
      "style": "IPY_MODEL_af3dfea4b89046f68ef52b6c2d870c50",
      "value": " 143019/143019 [08:09&lt;00:00, 287.93it/s]"
     }
    },
    "b75fb2f1de2a4cf1bea6eabff209dc62": {
     "model_module": "@jupyter-widgets/base",
     "model_module_version": "1.2.0",
     "model_name": "LayoutModel",
     "state": {
      "_model_module": "@jupyter-widgets/base",
      "_model_module_version": "1.2.0",
      "_model_name": "LayoutModel",
      "_view_count": null,
      "_view_module": "@jupyter-widgets/base",
      "_view_module_version": "1.2.0",
      "_view_name": "LayoutView",
      "align_content": null,
      "align_items": null,
      "align_self": null,
      "border": null,
      "bottom": null,
      "display": null,
      "flex": null,
      "flex_flow": null,
      "grid_area": null,
      "grid_auto_columns": null,
      "grid_auto_flow": null,
      "grid_auto_rows": null,
      "grid_column": null,
      "grid_gap": null,
      "grid_row": null,
      "grid_template_areas": null,
      "grid_template_columns": null,
      "grid_template_rows": null,
      "height": null,
      "justify_content": null,
      "justify_items": null,
      "left": null,
      "margin": null,
      "max_height": null,
      "max_width": null,
      "min_height": null,
      "min_width": null,
      "object_fit": null,
      "object_position": null,
      "order": null,
      "overflow": null,
      "overflow_x": null,
      "overflow_y": null,
      "padding": null,
      "right": null,
      "top": null,
      "visibility": null,
      "width": null
     }
    },
    "b8b4d7cf95a245608f6322bba2d6e4fd": {
     "model_module": "@jupyter-widgets/controls",
     "model_module_version": "1.5.0",
     "model_name": "ProgressStyleModel",
     "state": {
      "_model_module": "@jupyter-widgets/controls",
      "_model_module_version": "1.5.0",
      "_model_name": "ProgressStyleModel",
      "_view_count": null,
      "_view_module": "@jupyter-widgets/base",
      "_view_module_version": "1.2.0",
      "_view_name": "StyleView",
      "bar_color": null,
      "description_width": ""
     }
    },
    "bbcaf4f814fd42c297556bee830f4f35": {
     "model_module": "@jupyter-widgets/controls",
     "model_module_version": "1.5.0",
     "model_name": "DescriptionStyleModel",
     "state": {
      "_model_module": "@jupyter-widgets/controls",
      "_model_module_version": "1.5.0",
      "_model_name": "DescriptionStyleModel",
      "_view_count": null,
      "_view_module": "@jupyter-widgets/base",
      "_view_module_version": "1.2.0",
      "_view_name": "StyleView",
      "description_width": ""
     }
    },
    "be9f422ed0b24635af86605f0802767f": {
     "model_module": "@jupyter-widgets/base",
     "model_module_version": "1.2.0",
     "model_name": "LayoutModel",
     "state": {
      "_model_module": "@jupyter-widgets/base",
      "_model_module_version": "1.2.0",
      "_model_name": "LayoutModel",
      "_view_count": null,
      "_view_module": "@jupyter-widgets/base",
      "_view_module_version": "1.2.0",
      "_view_name": "LayoutView",
      "align_content": null,
      "align_items": null,
      "align_self": null,
      "border": null,
      "bottom": null,
      "display": null,
      "flex": null,
      "flex_flow": null,
      "grid_area": null,
      "grid_auto_columns": null,
      "grid_auto_flow": null,
      "grid_auto_rows": null,
      "grid_column": null,
      "grid_gap": null,
      "grid_row": null,
      "grid_template_areas": null,
      "grid_template_columns": null,
      "grid_template_rows": null,
      "height": null,
      "justify_content": null,
      "justify_items": null,
      "left": null,
      "margin": null,
      "max_height": null,
      "max_width": null,
      "min_height": null,
      "min_width": null,
      "object_fit": null,
      "object_position": null,
      "order": null,
      "overflow": null,
      "overflow_x": null,
      "overflow_y": null,
      "padding": null,
      "right": null,
      "top": null,
      "visibility": null,
      "width": null
     }
    },
    "bfad24a207f7475b97b7b27e1b5bb2e6": {
     "model_module": "@jupyter-widgets/base",
     "model_module_version": "1.2.0",
     "model_name": "LayoutModel",
     "state": {
      "_model_module": "@jupyter-widgets/base",
      "_model_module_version": "1.2.0",
      "_model_name": "LayoutModel",
      "_view_count": null,
      "_view_module": "@jupyter-widgets/base",
      "_view_module_version": "1.2.0",
      "_view_name": "LayoutView",
      "align_content": null,
      "align_items": null,
      "align_self": null,
      "border": null,
      "bottom": null,
      "display": null,
      "flex": null,
      "flex_flow": null,
      "grid_area": null,
      "grid_auto_columns": null,
      "grid_auto_flow": null,
      "grid_auto_rows": null,
      "grid_column": null,
      "grid_gap": null,
      "grid_row": null,
      "grid_template_areas": null,
      "grid_template_columns": null,
      "grid_template_rows": null,
      "height": null,
      "justify_content": null,
      "justify_items": null,
      "left": null,
      "margin": null,
      "max_height": null,
      "max_width": null,
      "min_height": null,
      "min_width": null,
      "object_fit": null,
      "object_position": null,
      "order": null,
      "overflow": null,
      "overflow_x": null,
      "overflow_y": null,
      "padding": null,
      "right": null,
      "top": null,
      "visibility": null,
      "width": null
     }
    },
    "c031a6fdef9049e092bab75b35850ec5": {
     "model_module": "@jupyter-widgets/controls",
     "model_module_version": "1.5.0",
     "model_name": "HTMLModel",
     "state": {
      "_dom_classes": [],
      "_model_module": "@jupyter-widgets/controls",
      "_model_module_version": "1.5.0",
      "_model_name": "HTMLModel",
      "_view_count": null,
      "_view_module": "@jupyter-widgets/controls",
      "_view_module_version": "1.5.0",
      "_view_name": "HTMLView",
      "description": "",
      "description_tooltip": null,
      "layout": "IPY_MODEL_c74f0a85e2074c3f8cb4b18a0da023c8",
      "placeholder": "​",
      "style": "IPY_MODEL_36a2076087054bbf9bdf7eaa3d76ccc1",
      "value": " 142491/142491 [08:37&lt;00:00, 233.67it/s]"
     }
    },
    "c0de30dfdb594044a883b307fb0887d5": {
     "model_module": "@jupyter-widgets/base",
     "model_module_version": "1.2.0",
     "model_name": "LayoutModel",
     "state": {
      "_model_module": "@jupyter-widgets/base",
      "_model_module_version": "1.2.0",
      "_model_name": "LayoutModel",
      "_view_count": null,
      "_view_module": "@jupyter-widgets/base",
      "_view_module_version": "1.2.0",
      "_view_name": "LayoutView",
      "align_content": null,
      "align_items": null,
      "align_self": null,
      "border": null,
      "bottom": null,
      "display": null,
      "flex": null,
      "flex_flow": null,
      "grid_area": null,
      "grid_auto_columns": null,
      "grid_auto_flow": null,
      "grid_auto_rows": null,
      "grid_column": null,
      "grid_gap": null,
      "grid_row": null,
      "grid_template_areas": null,
      "grid_template_columns": null,
      "grid_template_rows": null,
      "height": null,
      "justify_content": null,
      "justify_items": null,
      "left": null,
      "margin": null,
      "max_height": null,
      "max_width": null,
      "min_height": null,
      "min_width": null,
      "object_fit": null,
      "object_position": null,
      "order": null,
      "overflow": null,
      "overflow_x": null,
      "overflow_y": null,
      "padding": null,
      "right": null,
      "top": null,
      "visibility": null,
      "width": null
     }
    },
    "c18a2842cb224b48b40c034bcf0438b4": {
     "model_module": "@jupyter-widgets/base",
     "model_module_version": "1.2.0",
     "model_name": "LayoutModel",
     "state": {
      "_model_module": "@jupyter-widgets/base",
      "_model_module_version": "1.2.0",
      "_model_name": "LayoutModel",
      "_view_count": null,
      "_view_module": "@jupyter-widgets/base",
      "_view_module_version": "1.2.0",
      "_view_name": "LayoutView",
      "align_content": null,
      "align_items": null,
      "align_self": null,
      "border": null,
      "bottom": null,
      "display": null,
      "flex": null,
      "flex_flow": null,
      "grid_area": null,
      "grid_auto_columns": null,
      "grid_auto_flow": null,
      "grid_auto_rows": null,
      "grid_column": null,
      "grid_gap": null,
      "grid_row": null,
      "grid_template_areas": null,
      "grid_template_columns": null,
      "grid_template_rows": null,
      "height": null,
      "justify_content": null,
      "justify_items": null,
      "left": null,
      "margin": null,
      "max_height": null,
      "max_width": null,
      "min_height": null,
      "min_width": null,
      "object_fit": null,
      "object_position": null,
      "order": null,
      "overflow": null,
      "overflow_x": null,
      "overflow_y": null,
      "padding": null,
      "right": null,
      "top": null,
      "visibility": null,
      "width": null
     }
    },
    "c1955ed1950846fc8dc794ae427375e5": {
     "model_module": "@jupyter-widgets/controls",
     "model_module_version": "1.5.0",
     "model_name": "HTMLModel",
     "state": {
      "_dom_classes": [],
      "_model_module": "@jupyter-widgets/controls",
      "_model_module_version": "1.5.0",
      "_model_name": "HTMLModel",
      "_view_count": null,
      "_view_module": "@jupyter-widgets/controls",
      "_view_module_version": "1.5.0",
      "_view_name": "HTMLView",
      "description": "",
      "description_tooltip": null,
      "layout": "IPY_MODEL_3a9662df247f4b599b7c66e8a2c01d5b",
      "placeholder": "​",
      "style": "IPY_MODEL_a19c8212a28f457a95bb6b6aa9e23eef",
      "value": "100%"
     }
    },
    "c20846d9d496453e997e01709e8b155e": {
     "model_module": "@jupyter-widgets/base",
     "model_module_version": "1.2.0",
     "model_name": "LayoutModel",
     "state": {
      "_model_module": "@jupyter-widgets/base",
      "_model_module_version": "1.2.0",
      "_model_name": "LayoutModel",
      "_view_count": null,
      "_view_module": "@jupyter-widgets/base",
      "_view_module_version": "1.2.0",
      "_view_name": "LayoutView",
      "align_content": null,
      "align_items": null,
      "align_self": null,
      "border": null,
      "bottom": null,
      "display": null,
      "flex": null,
      "flex_flow": null,
      "grid_area": null,
      "grid_auto_columns": null,
      "grid_auto_flow": null,
      "grid_auto_rows": null,
      "grid_column": null,
      "grid_gap": null,
      "grid_row": null,
      "grid_template_areas": null,
      "grid_template_columns": null,
      "grid_template_rows": null,
      "height": null,
      "justify_content": null,
      "justify_items": null,
      "left": null,
      "margin": null,
      "max_height": null,
      "max_width": null,
      "min_height": null,
      "min_width": null,
      "object_fit": null,
      "object_position": null,
      "order": null,
      "overflow": null,
      "overflow_x": null,
      "overflow_y": null,
      "padding": null,
      "right": null,
      "top": null,
      "visibility": null,
      "width": null
     }
    },
    "c35dabab368941278ec326615f49e4a1": {
     "model_module": "@jupyter-widgets/controls",
     "model_module_version": "1.5.0",
     "model_name": "ProgressStyleModel",
     "state": {
      "_model_module": "@jupyter-widgets/controls",
      "_model_module_version": "1.5.0",
      "_model_name": "ProgressStyleModel",
      "_view_count": null,
      "_view_module": "@jupyter-widgets/base",
      "_view_module_version": "1.2.0",
      "_view_name": "StyleView",
      "bar_color": null,
      "description_width": ""
     }
    },
    "c70184ed958c41a38b5447252146d51d": {
     "model_module": "@jupyter-widgets/controls",
     "model_module_version": "1.5.0",
     "model_name": "HBoxModel",
     "state": {
      "_dom_classes": [],
      "_model_module": "@jupyter-widgets/controls",
      "_model_module_version": "1.5.0",
      "_model_name": "HBoxModel",
      "_view_count": null,
      "_view_module": "@jupyter-widgets/controls",
      "_view_module_version": "1.5.0",
      "_view_name": "HBoxView",
      "box_style": "",
      "children": [
       "IPY_MODEL_c1955ed1950846fc8dc794ae427375e5",
       "IPY_MODEL_aa97801b54974a1581f1093c91b980f9",
       "IPY_MODEL_a3069764c7894bb7a4ccc1a85eddcfdd"
      ],
      "layout": "IPY_MODEL_054524f0659840fea7d2a96e2775fc31"
     }
    },
    "c73969fc7d204793b527d391972f75eb": {
     "model_module": "@jupyter-widgets/base",
     "model_module_version": "1.2.0",
     "model_name": "LayoutModel",
     "state": {
      "_model_module": "@jupyter-widgets/base",
      "_model_module_version": "1.2.0",
      "_model_name": "LayoutModel",
      "_view_count": null,
      "_view_module": "@jupyter-widgets/base",
      "_view_module_version": "1.2.0",
      "_view_name": "LayoutView",
      "align_content": null,
      "align_items": null,
      "align_self": null,
      "border": null,
      "bottom": null,
      "display": null,
      "flex": null,
      "flex_flow": null,
      "grid_area": null,
      "grid_auto_columns": null,
      "grid_auto_flow": null,
      "grid_auto_rows": null,
      "grid_column": null,
      "grid_gap": null,
      "grid_row": null,
      "grid_template_areas": null,
      "grid_template_columns": null,
      "grid_template_rows": null,
      "height": null,
      "justify_content": null,
      "justify_items": null,
      "left": null,
      "margin": null,
      "max_height": null,
      "max_width": null,
      "min_height": null,
      "min_width": null,
      "object_fit": null,
      "object_position": null,
      "order": null,
      "overflow": null,
      "overflow_x": null,
      "overflow_y": null,
      "padding": null,
      "right": null,
      "top": null,
      "visibility": null,
      "width": null
     }
    },
    "c74f0a85e2074c3f8cb4b18a0da023c8": {
     "model_module": "@jupyter-widgets/base",
     "model_module_version": "1.2.0",
     "model_name": "LayoutModel",
     "state": {
      "_model_module": "@jupyter-widgets/base",
      "_model_module_version": "1.2.0",
      "_model_name": "LayoutModel",
      "_view_count": null,
      "_view_module": "@jupyter-widgets/base",
      "_view_module_version": "1.2.0",
      "_view_name": "LayoutView",
      "align_content": null,
      "align_items": null,
      "align_self": null,
      "border": null,
      "bottom": null,
      "display": null,
      "flex": null,
      "flex_flow": null,
      "grid_area": null,
      "grid_auto_columns": null,
      "grid_auto_flow": null,
      "grid_auto_rows": null,
      "grid_column": null,
      "grid_gap": null,
      "grid_row": null,
      "grid_template_areas": null,
      "grid_template_columns": null,
      "grid_template_rows": null,
      "height": null,
      "justify_content": null,
      "justify_items": null,
      "left": null,
      "margin": null,
      "max_height": null,
      "max_width": null,
      "min_height": null,
      "min_width": null,
      "object_fit": null,
      "object_position": null,
      "order": null,
      "overflow": null,
      "overflow_x": null,
      "overflow_y": null,
      "padding": null,
      "right": null,
      "top": null,
      "visibility": null,
      "width": null
     }
    },
    "c784dddd48f4442fb7eb7a04cabfd2aa": {
     "model_module": "@jupyter-widgets/controls",
     "model_module_version": "1.5.0",
     "model_name": "HBoxModel",
     "state": {
      "_dom_classes": [],
      "_model_module": "@jupyter-widgets/controls",
      "_model_module_version": "1.5.0",
      "_model_name": "HBoxModel",
      "_view_count": null,
      "_view_module": "@jupyter-widgets/controls",
      "_view_module_version": "1.5.0",
      "_view_name": "HBoxView",
      "box_style": "",
      "children": [
       "IPY_MODEL_2fa00ddd583b445097820d01ec01bb26",
       "IPY_MODEL_718f55aaba4d4f6fb082068a4919946c",
       "IPY_MODEL_71a9dc2696f54eb2b9717a65f88ff34a"
      ],
      "layout": "IPY_MODEL_04beb6c7961c4f5a9d0121afe57d0514"
     }
    },
    "cc9dd41bcf954489a7ce4097863129a8": {
     "model_module": "@jupyter-widgets/controls",
     "model_module_version": "1.5.0",
     "model_name": "DescriptionStyleModel",
     "state": {
      "_model_module": "@jupyter-widgets/controls",
      "_model_module_version": "1.5.0",
      "_model_name": "DescriptionStyleModel",
      "_view_count": null,
      "_view_module": "@jupyter-widgets/base",
      "_view_module_version": "1.2.0",
      "_view_name": "StyleView",
      "description_width": ""
     }
    },
    "ccfb8ca8247545e9aae3f1bc7654c7d8": {
     "model_module": "@jupyter-widgets/base",
     "model_module_version": "1.2.0",
     "model_name": "LayoutModel",
     "state": {
      "_model_module": "@jupyter-widgets/base",
      "_model_module_version": "1.2.0",
      "_model_name": "LayoutModel",
      "_view_count": null,
      "_view_module": "@jupyter-widgets/base",
      "_view_module_version": "1.2.0",
      "_view_name": "LayoutView",
      "align_content": null,
      "align_items": null,
      "align_self": null,
      "border": null,
      "bottom": null,
      "display": null,
      "flex": null,
      "flex_flow": null,
      "grid_area": null,
      "grid_auto_columns": null,
      "grid_auto_flow": null,
      "grid_auto_rows": null,
      "grid_column": null,
      "grid_gap": null,
      "grid_row": null,
      "grid_template_areas": null,
      "grid_template_columns": null,
      "grid_template_rows": null,
      "height": null,
      "justify_content": null,
      "justify_items": null,
      "left": null,
      "margin": null,
      "max_height": null,
      "max_width": null,
      "min_height": null,
      "min_width": null,
      "object_fit": null,
      "object_position": null,
      "order": null,
      "overflow": null,
      "overflow_x": null,
      "overflow_y": null,
      "padding": null,
      "right": null,
      "top": null,
      "visibility": null,
      "width": null
     }
    },
    "d06958cced8947fdbf146b6e245669c9": {
     "model_module": "@jupyter-widgets/base",
     "model_module_version": "1.2.0",
     "model_name": "LayoutModel",
     "state": {
      "_model_module": "@jupyter-widgets/base",
      "_model_module_version": "1.2.0",
      "_model_name": "LayoutModel",
      "_view_count": null,
      "_view_module": "@jupyter-widgets/base",
      "_view_module_version": "1.2.0",
      "_view_name": "LayoutView",
      "align_content": null,
      "align_items": null,
      "align_self": null,
      "border": null,
      "bottom": null,
      "display": null,
      "flex": null,
      "flex_flow": null,
      "grid_area": null,
      "grid_auto_columns": null,
      "grid_auto_flow": null,
      "grid_auto_rows": null,
      "grid_column": null,
      "grid_gap": null,
      "grid_row": null,
      "grid_template_areas": null,
      "grid_template_columns": null,
      "grid_template_rows": null,
      "height": null,
      "justify_content": null,
      "justify_items": null,
      "left": null,
      "margin": null,
      "max_height": null,
      "max_width": null,
      "min_height": null,
      "min_width": null,
      "object_fit": null,
      "object_position": null,
      "order": null,
      "overflow": null,
      "overflow_x": null,
      "overflow_y": null,
      "padding": null,
      "right": null,
      "top": null,
      "visibility": null,
      "width": null
     }
    },
    "d147ba87479049f682fde06e83efd53d": {
     "model_module": "@jupyter-widgets/controls",
     "model_module_version": "1.5.0",
     "model_name": "HTMLModel",
     "state": {
      "_dom_classes": [],
      "_model_module": "@jupyter-widgets/controls",
      "_model_module_version": "1.5.0",
      "_model_name": "HTMLModel",
      "_view_count": null,
      "_view_module": "@jupyter-widgets/controls",
      "_view_module_version": "1.5.0",
      "_view_name": "HTMLView",
      "description": "",
      "description_tooltip": null,
      "layout": "IPY_MODEL_7ab0b757e7c347f89dca7fe7df441195",
      "placeholder": "​",
      "style": "IPY_MODEL_e57de31bd88d4ea38c931fa565f85c07",
      "value": " 508676/508676 [20:22&lt;00:00, 391.77it/s]"
     }
    },
    "d778f07783384b68b2056bc5da9ae195": {
     "model_module": "@jupyter-widgets/controls",
     "model_module_version": "1.5.0",
     "model_name": "FloatProgressModel",
     "state": {
      "_dom_classes": [],
      "_model_module": "@jupyter-widgets/controls",
      "_model_module_version": "1.5.0",
      "_model_name": "FloatProgressModel",
      "_view_count": null,
      "_view_module": "@jupyter-widgets/controls",
      "_view_module_version": "1.5.0",
      "_view_name": "ProgressView",
      "bar_style": "success",
      "description": "",
      "description_tooltip": null,
      "layout": "IPY_MODEL_597ec6671cd541bea9ad072fe6f5dcf7",
      "max": 143019,
      "min": 0,
      "orientation": "horizontal",
      "style": "IPY_MODEL_57c74fcc21c24f588a719afb50f3d412",
      "value": 143019
     }
    },
    "d791d1a8e85f4a6e8b2e4734bac38972": {
     "model_module": "@jupyter-widgets/controls",
     "model_module_version": "1.5.0",
     "model_name": "DescriptionStyleModel",
     "state": {
      "_model_module": "@jupyter-widgets/controls",
      "_model_module_version": "1.5.0",
      "_model_name": "DescriptionStyleModel",
      "_view_count": null,
      "_view_module": "@jupyter-widgets/base",
      "_view_module_version": "1.2.0",
      "_view_name": "StyleView",
      "description_width": ""
     }
    },
    "de7e485b04d647f3aafe34f126129487": {
     "model_module": "@jupyter-widgets/controls",
     "model_module_version": "1.5.0",
     "model_name": "FloatProgressModel",
     "state": {
      "_dom_classes": [],
      "_model_module": "@jupyter-widgets/controls",
      "_model_module_version": "1.5.0",
      "_model_name": "FloatProgressModel",
      "_view_count": null,
      "_view_module": "@jupyter-widgets/controls",
      "_view_module_version": "1.5.0",
      "_view_name": "ProgressView",
      "bar_style": "success",
      "description": "",
      "description_tooltip": null,
      "layout": "IPY_MODEL_3fb22fc3f80449539cfa71b31114552d",
      "max": 508676,
      "min": 0,
      "orientation": "horizontal",
      "style": "IPY_MODEL_acef47fe350f45c091265df42837c1be",
      "value": 508676
     }
    },
    "de7f4f04969f4e7cb242cfb91e4ffca4": {
     "model_module": "@jupyter-widgets/controls",
     "model_module_version": "1.5.0",
     "model_name": "DescriptionStyleModel",
     "state": {
      "_model_module": "@jupyter-widgets/controls",
      "_model_module_version": "1.5.0",
      "_model_name": "DescriptionStyleModel",
      "_view_count": null,
      "_view_module": "@jupyter-widgets/base",
      "_view_module_version": "1.2.0",
      "_view_name": "StyleView",
      "description_width": ""
     }
    },
    "de8363b0012e43b0bd9d7f96d59cd812": {
     "model_module": "@jupyter-widgets/base",
     "model_module_version": "1.2.0",
     "model_name": "LayoutModel",
     "state": {
      "_model_module": "@jupyter-widgets/base",
      "_model_module_version": "1.2.0",
      "_model_name": "LayoutModel",
      "_view_count": null,
      "_view_module": "@jupyter-widgets/base",
      "_view_module_version": "1.2.0",
      "_view_name": "LayoutView",
      "align_content": null,
      "align_items": null,
      "align_self": null,
      "border": null,
      "bottom": null,
      "display": null,
      "flex": null,
      "flex_flow": null,
      "grid_area": null,
      "grid_auto_columns": null,
      "grid_auto_flow": null,
      "grid_auto_rows": null,
      "grid_column": null,
      "grid_gap": null,
      "grid_row": null,
      "grid_template_areas": null,
      "grid_template_columns": null,
      "grid_template_rows": null,
      "height": null,
      "justify_content": null,
      "justify_items": null,
      "left": null,
      "margin": null,
      "max_height": null,
      "max_width": null,
      "min_height": null,
      "min_width": null,
      "object_fit": null,
      "object_position": null,
      "order": null,
      "overflow": null,
      "overflow_x": null,
      "overflow_y": null,
      "padding": null,
      "right": null,
      "top": null,
      "visibility": null,
      "width": null
     }
    },
    "dec7b4c8625e471baddcda724ae11eb4": {
     "model_module": "@jupyter-widgets/controls",
     "model_module_version": "1.5.0",
     "model_name": "HBoxModel",
     "state": {
      "_dom_classes": [],
      "_model_module": "@jupyter-widgets/controls",
      "_model_module_version": "1.5.0",
      "_model_name": "HBoxModel",
      "_view_count": null,
      "_view_module": "@jupyter-widgets/controls",
      "_view_module_version": "1.5.0",
      "_view_name": "HBoxView",
      "box_style": "",
      "children": [
       "IPY_MODEL_f0d264050a3e4f4996fc1b95f24c9c7c",
       "IPY_MODEL_45ec2eb6325a4d39a453428dc11a9d1d",
       "IPY_MODEL_c031a6fdef9049e092bab75b35850ec5"
      ],
      "layout": "IPY_MODEL_028152b84e5145b5b3b4c531c335c904"
     }
    },
    "df6e957cc04f4b3c863d6f7d3d077f48": {
     "model_module": "@jupyter-widgets/base",
     "model_module_version": "1.2.0",
     "model_name": "LayoutModel",
     "state": {
      "_model_module": "@jupyter-widgets/base",
      "_model_module_version": "1.2.0",
      "_model_name": "LayoutModel",
      "_view_count": null,
      "_view_module": "@jupyter-widgets/base",
      "_view_module_version": "1.2.0",
      "_view_name": "LayoutView",
      "align_content": null,
      "align_items": null,
      "align_self": null,
      "border": null,
      "bottom": null,
      "display": null,
      "flex": null,
      "flex_flow": null,
      "grid_area": null,
      "grid_auto_columns": null,
      "grid_auto_flow": null,
      "grid_auto_rows": null,
      "grid_column": null,
      "grid_gap": null,
      "grid_row": null,
      "grid_template_areas": null,
      "grid_template_columns": null,
      "grid_template_rows": null,
      "height": null,
      "justify_content": null,
      "justify_items": null,
      "left": null,
      "margin": null,
      "max_height": null,
      "max_width": null,
      "min_height": null,
      "min_width": null,
      "object_fit": null,
      "object_position": null,
      "order": null,
      "overflow": null,
      "overflow_x": null,
      "overflow_y": null,
      "padding": null,
      "right": null,
      "top": null,
      "visibility": null,
      "width": null
     }
    },
    "e438e9fe1446416b889f014af983c5d6": {
     "model_module": "@jupyter-widgets/controls",
     "model_module_version": "1.5.0",
     "model_name": "HBoxModel",
     "state": {
      "_dom_classes": [],
      "_model_module": "@jupyter-widgets/controls",
      "_model_module_version": "1.5.0",
      "_model_name": "HBoxModel",
      "_view_count": null,
      "_view_module": "@jupyter-widgets/controls",
      "_view_module_version": "1.5.0",
      "_view_name": "HBoxView",
      "box_style": "",
      "children": [
       "IPY_MODEL_7886d552d21b40a98dbb54edbc369587",
       "IPY_MODEL_489c17cb54744057a4be4cf175157236",
       "IPY_MODEL_2204f2fdea274578a8601033fb44d000"
      ],
      "layout": "IPY_MODEL_de8363b0012e43b0bd9d7f96d59cd812"
     }
    },
    "e57de31bd88d4ea38c931fa565f85c07": {
     "model_module": "@jupyter-widgets/controls",
     "model_module_version": "1.5.0",
     "model_name": "DescriptionStyleModel",
     "state": {
      "_model_module": "@jupyter-widgets/controls",
      "_model_module_version": "1.5.0",
      "_model_name": "DescriptionStyleModel",
      "_view_count": null,
      "_view_module": "@jupyter-widgets/base",
      "_view_module_version": "1.2.0",
      "_view_name": "StyleView",
      "description_width": ""
     }
    },
    "e89ac9f060794676877e73ae3c76b430": {
     "model_module": "@jupyter-widgets/controls",
     "model_module_version": "1.5.0",
     "model_name": "FloatProgressModel",
     "state": {
      "_dom_classes": [],
      "_model_module": "@jupyter-widgets/controls",
      "_model_module_version": "1.5.0",
      "_model_name": "FloatProgressModel",
      "_view_count": null,
      "_view_module": "@jupyter-widgets/controls",
      "_view_module_version": "1.5.0",
      "_view_name": "ProgressView",
      "bar_style": "success",
      "description": "",
      "description_tooltip": null,
      "layout": "IPY_MODEL_b75fb2f1de2a4cf1bea6eabff209dc62",
      "max": 508676,
      "min": 0,
      "orientation": "horizontal",
      "style": "IPY_MODEL_c35dabab368941278ec326615f49e4a1",
      "value": 508676
     }
    },
    "e9ebc303e9b441ab970d7bbf9eb437c1": {
     "model_module": "@jupyter-widgets/base",
     "model_module_version": "1.2.0",
     "model_name": "LayoutModel",
     "state": {
      "_model_module": "@jupyter-widgets/base",
      "_model_module_version": "1.2.0",
      "_model_name": "LayoutModel",
      "_view_count": null,
      "_view_module": "@jupyter-widgets/base",
      "_view_module_version": "1.2.0",
      "_view_name": "LayoutView",
      "align_content": null,
      "align_items": null,
      "align_self": null,
      "border": null,
      "bottom": null,
      "display": null,
      "flex": null,
      "flex_flow": null,
      "grid_area": null,
      "grid_auto_columns": null,
      "grid_auto_flow": null,
      "grid_auto_rows": null,
      "grid_column": null,
      "grid_gap": null,
      "grid_row": null,
      "grid_template_areas": null,
      "grid_template_columns": null,
      "grid_template_rows": null,
      "height": null,
      "justify_content": null,
      "justify_items": null,
      "left": null,
      "margin": null,
      "max_height": null,
      "max_width": null,
      "min_height": null,
      "min_width": null,
      "object_fit": null,
      "object_position": null,
      "order": null,
      "overflow": null,
      "overflow_x": null,
      "overflow_y": null,
      "padding": null,
      "right": null,
      "top": null,
      "visibility": null,
      "width": null
     }
    },
    "f094150a2db84564b9c293749d382f1a": {
     "model_module": "@jupyter-widgets/base",
     "model_module_version": "1.2.0",
     "model_name": "LayoutModel",
     "state": {
      "_model_module": "@jupyter-widgets/base",
      "_model_module_version": "1.2.0",
      "_model_name": "LayoutModel",
      "_view_count": null,
      "_view_module": "@jupyter-widgets/base",
      "_view_module_version": "1.2.0",
      "_view_name": "LayoutView",
      "align_content": null,
      "align_items": null,
      "align_self": null,
      "border": null,
      "bottom": null,
      "display": null,
      "flex": null,
      "flex_flow": null,
      "grid_area": null,
      "grid_auto_columns": null,
      "grid_auto_flow": null,
      "grid_auto_rows": null,
      "grid_column": null,
      "grid_gap": null,
      "grid_row": null,
      "grid_template_areas": null,
      "grid_template_columns": null,
      "grid_template_rows": null,
      "height": null,
      "justify_content": null,
      "justify_items": null,
      "left": null,
      "margin": null,
      "max_height": null,
      "max_width": null,
      "min_height": null,
      "min_width": null,
      "object_fit": null,
      "object_position": null,
      "order": null,
      "overflow": null,
      "overflow_x": null,
      "overflow_y": null,
      "padding": null,
      "right": null,
      "top": null,
      "visibility": null,
      "width": null
     }
    },
    "f0d264050a3e4f4996fc1b95f24c9c7c": {
     "model_module": "@jupyter-widgets/controls",
     "model_module_version": "1.5.0",
     "model_name": "HTMLModel",
     "state": {
      "_dom_classes": [],
      "_model_module": "@jupyter-widgets/controls",
      "_model_module_version": "1.5.0",
      "_model_name": "HTMLModel",
      "_view_count": null,
      "_view_module": "@jupyter-widgets/controls",
      "_view_module_version": "1.5.0",
      "_view_name": "HTMLView",
      "description": "",
      "description_tooltip": null,
      "layout": "IPY_MODEL_7d31f7ad56cf474c9ba1beb2321f30b4",
      "placeholder": "​",
      "style": "IPY_MODEL_de7f4f04969f4e7cb242cfb91e4ffca4",
      "value": "100%"
     }
    },
    "f36ad2d921d84a36a48e9c0b75f79774": {
     "model_module": "@jupyter-widgets/controls",
     "model_module_version": "1.5.0",
     "model_name": "DescriptionStyleModel",
     "state": {
      "_model_module": "@jupyter-widgets/controls",
      "_model_module_version": "1.5.0",
      "_model_name": "DescriptionStyleModel",
      "_view_count": null,
      "_view_module": "@jupyter-widgets/base",
      "_view_module_version": "1.2.0",
      "_view_name": "StyleView",
      "description_width": ""
     }
    },
    "f8836e8c5ece44c09edfd15703b57570": {
     "model_module": "@jupyter-widgets/base",
     "model_module_version": "1.2.0",
     "model_name": "LayoutModel",
     "state": {
      "_model_module": "@jupyter-widgets/base",
      "_model_module_version": "1.2.0",
      "_model_name": "LayoutModel",
      "_view_count": null,
      "_view_module": "@jupyter-widgets/base",
      "_view_module_version": "1.2.0",
      "_view_name": "LayoutView",
      "align_content": null,
      "align_items": null,
      "align_self": null,
      "border": null,
      "bottom": null,
      "display": null,
      "flex": null,
      "flex_flow": null,
      "grid_area": null,
      "grid_auto_columns": null,
      "grid_auto_flow": null,
      "grid_auto_rows": null,
      "grid_column": null,
      "grid_gap": null,
      "grid_row": null,
      "grid_template_areas": null,
      "grid_template_columns": null,
      "grid_template_rows": null,
      "height": null,
      "justify_content": null,
      "justify_items": null,
      "left": null,
      "margin": null,
      "max_height": null,
      "max_width": null,
      "min_height": null,
      "min_width": null,
      "object_fit": null,
      "object_position": null,
      "order": null,
      "overflow": null,
      "overflow_x": null,
      "overflow_y": null,
      "padding": null,
      "right": null,
      "top": null,
      "visibility": null,
      "width": null
     }
    }
   }
  }
 },
 "nbformat": 4,
 "nbformat_minor": 1
}
