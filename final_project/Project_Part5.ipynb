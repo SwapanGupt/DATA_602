{
  "nbformat": 4,
  "nbformat_minor": 0,
  "metadata": {
    "colab": {
      "name": "Project_Part5.ipynb",
      "provenance": [],
      "collapsed_sections": []
    },
    "kernelspec": {
      "name": "python3",
      "display_name": "Python 3"
    },
    "language_info": {
      "name": "python"
    }
  },
  "cells": [
    {
      "cell_type": "code",
      "source": [
        "from google.colab import drive\n",
        "drive.mount(\"/content/drive\")"
      ],
      "metadata": {
        "colab": {
          "base_uri": "https://localhost:8080/"
        },
        "id": "ebG38XXdt1w6",
        "outputId": "395ce818-3b4d-49cd-83c3-1b5200e48d98"
      },
      "execution_count": null,
      "outputs": [
        {
          "output_type": "stream",
          "name": "stdout",
          "text": [
            "Mounted at /content/drive\n"
          ]
        }
      ]
    },
    {
      "cell_type": "code",
      "execution_count": null,
      "metadata": {
        "_cell_guid": "b1076dfc-b9ad-4769-8c92-a6c4dae69d19",
        "_uuid": "8f2839f25d086af736a60e9eeb907d3b93b6e0e5",
        "execution": {
          "iopub.execute_input": "2022-05-01T17:38:26.110809Z",
          "iopub.status.busy": "2022-05-01T17:38:26.110259Z",
          "iopub.status.idle": "2022-05-01T17:38:28.234388Z",
          "shell.execute_reply": "2022-05-01T17:38:28.233323Z"
        },
        "papermill": {
          "duration": 2.147192,
          "end_time": "2022-05-01T17:38:28.237660",
          "exception": false,
          "start_time": "2022-05-01T17:38:26.090468",
          "status": "completed"
        },
        "tags": [],
        "colab": {
          "base_uri": "https://localhost:8080/"
        },
        "id": "78b011be",
        "outputId": "415f0988-32c2-4876-e618-f0ed7a005ff0"
      },
      "outputs": [
        {
          "output_type": "execute_result",
          "data": {
            "text/plain": [
              "['dataset.zip',\n",
              " 'imdb_movies_val.csv.gz',\n",
              " 'imdb_movies_test.csv.gz',\n",
              " 'imdb_reviews_val.csv.gz',\n",
              " 'imdb_reviews_test.csv.gz',\n",
              " 'imdb_movies_raw.csv.gz',\n",
              " 'imdb_reviews_raw.csv.gz',\n",
              " 'word2vec.gensim',\n",
              " 'imdb_movies_train.csv.gz',\n",
              " 'imdb_reviews_train.csv.gz',\n",
              " 'lda.gensim.state',\n",
              " 'lda.gensim.id2word',\n",
              " 'lda.gensim.expElogbeta.npy',\n",
              " 'lda.gensim']"
            ]
          },
          "metadata": {},
          "execution_count": 3
        }
      ],
      "source": [
        "import warnings\n",
        "warnings.filterwarnings('ignore')\n",
        "import matplotlib.pyplot as plt\n",
        "from collections import Counter\n",
        "from tqdm.notebook import tqdm\n",
        "import seaborn as sns\n",
        "import numpy as np\n",
        "import pandas as pd\n",
        "import nltk, re\n",
        "import string\n",
        "import os, gc\n",
        "import random\n",
        "np.random.seed(545)\n",
        "random.seed(545)\n",
        "\n",
        "\n",
        "tqdm.pandas()\n",
        "base_dir = \"/content/drive/Shareddrives/602Project/Assigns\"\n",
        "os.listdir(base_dir)"
      ]
    },
    {
      "cell_type": "code",
      "execution_count": null,
      "metadata": {
        "execution": {
          "iopub.execute_input": "2022-05-01T17:38:28.275144Z",
          "iopub.status.busy": "2022-05-01T17:38:28.274478Z",
          "iopub.status.idle": "2022-05-01T17:38:28.324619Z",
          "shell.execute_reply": "2022-05-01T17:38:28.323883Z"
        },
        "papermill": {
          "duration": 0.070756,
          "end_time": "2022-05-01T17:38:28.327355",
          "exception": false,
          "start_time": "2022-05-01T17:38:28.256599",
          "status": "completed"
        },
        "tags": [],
        "colab": {
          "base_uri": "https://localhost:8080/"
        },
        "id": "88779cbb",
        "outputId": "bca72d4e-ccc5-426f-e7b6-c9f9c80eabd1"
      },
      "outputs": [
        {
          "output_type": "stream",
          "name": "stdout",
          "text": [
            "Movies data:\n",
            "(736, 10) Index(['name', 'year', 'movie_rated', 'run_length', 'genres', 'release_date',\n",
            "       'rating', 'num_raters', 'num_reviews', 'review_url'],\n",
            "      dtype='object')\n"
          ]
        }
      ],
      "source": [
        "mov_train = pd.read_csv(f\"{base_dir}/imdb_movies_train.csv.gz\", compression=\"gzip\")\n",
        "mov_val = pd.read_csv(f\"{base_dir}/imdb_movies_val.csv.gz\", compression=\"gzip\")\n",
        "mov_test = pd.read_csv(f\"{base_dir}/imdb_movies_test.csv.gz\", compression=\"gzip\")\n",
        "print(\"Movies data:\")\n",
        "print(mov_train.shape, mov_train.columns)"
      ]
    },
    {
      "cell_type": "code",
      "execution_count": null,
      "metadata": {
        "execution": {
          "iopub.execute_input": "2022-05-01T17:38:28.404993Z",
          "iopub.status.busy": "2022-05-01T17:38:28.403858Z",
          "iopub.status.idle": "2022-05-01T17:38:28.410308Z",
          "shell.execute_reply": "2022-05-01T17:38:28.409668Z"
        },
        "papermill": {
          "duration": 0.026032,
          "end_time": "2022-05-01T17:38:28.412020",
          "exception": false,
          "start_time": "2022-05-01T17:38:28.385988",
          "status": "completed"
        },
        "tags": [],
        "id": "dc0e0523"
      },
      "outputs": [],
      "source": [
        "def preprocess_data(df):\n",
        "    \n",
        "    # # leave run_length, release_date, name, 'year',review_url\n",
        "    # mrdf = rev_df.merge(movies_df, on=['name', 'year'], how=\"left\")\n",
        "    # mrdf = mrdf.rename(columns={'rating_y':'movie_rating', 'rating_x': 'rev_rating'})\n",
        "    \n",
        "    features = ['movie_rated', 'genres', 'num_raters', 'num_reviews']\n",
        "    target = ['rating']\n",
        "    \n",
        "    df['movie_rated'] = df['movie_rated'].str.replace(\"-\", \"\")\n",
        "    df['movie_rated'] = df['movie_rated'].str.replace(\"/\", \"\")\n",
        "    df['movie_rated'] = df['movie_rated'].str.replace(\" \", \"\")\n",
        "    df['genres'] = df['genres'].str.replace(\"-\", \"\")\n",
        "    X = df[features].reset_index(drop=1)\n",
        "    y = df['rating'].reset_index(drop=1)\n",
        "\n",
        "    return X, y"
      ]
    },
    {
      "cell_type": "code",
      "execution_count": null,
      "metadata": {
        "execution": {
          "iopub.execute_input": "2022-05-01T17:38:28.447324Z",
          "iopub.status.busy": "2022-05-01T17:38:28.446781Z",
          "iopub.status.idle": "2022-05-01T17:38:28.450330Z",
          "shell.execute_reply": "2022-05-01T17:38:28.449626Z"
        },
        "papermill": {
          "duration": 0.023706,
          "end_time": "2022-05-01T17:38:28.452113",
          "exception": false,
          "start_time": "2022-05-01T17:38:28.428407",
          "status": "completed"
        },
        "tags": [],
        "id": "f872b4da"
      },
      "outputs": [],
      "source": [
        "# mov_cv = mov_train.append(mov_val).reset_index(drop=1)"
      ]
    },
    {
      "cell_type": "code",
      "execution_count": null,
      "metadata": {
        "execution": {
          "iopub.execute_input": "2022-05-01T17:38:28.486655Z",
          "iopub.status.busy": "2022-05-01T17:38:28.486184Z",
          "iopub.status.idle": "2022-05-01T17:38:28.509537Z",
          "shell.execute_reply": "2022-05-01T17:38:28.508723Z"
        },
        "papermill": {
          "duration": 0.043366,
          "end_time": "2022-05-01T17:38:28.511684",
          "exception": false,
          "start_time": "2022-05-01T17:38:28.468318",
          "status": "completed"
        },
        "tags": [],
        "id": "4c82d239"
      },
      "outputs": [],
      "source": [
        "train_feat, y_train = preprocess_data(mov_train)\n",
        "val_feat, y_val = preprocess_data(mov_val)\n",
        "test_feat, y_test = preprocess_data(mov_test)"
      ]
    },
    {
      "cell_type": "markdown",
      "source": [
        "Reference: Sklearn.feature_extraction.text.CountVectorizer. scikit. (n.d.). Retrieved May 11, 2022, from https://scikit-learn.org/stable/modules/generated/sklearn.feature_extraction.text.CountVectorizer.html "
      ],
      "metadata": {
        "id": "N5WGLVX8ptgM"
      }
    },
    {
      "cell_type": "code",
      "execution_count": null,
      "metadata": {
        "execution": {
          "iopub.execute_input": "2022-05-01T17:38:28.546259Z",
          "iopub.status.busy": "2022-05-01T17:38:28.545912Z",
          "iopub.status.idle": "2022-05-01T17:38:28.568968Z",
          "shell.execute_reply": "2022-05-01T17:38:28.568273Z"
        },
        "papermill": {
          "duration": 0.043188,
          "end_time": "2022-05-01T17:38:28.571333",
          "exception": false,
          "start_time": "2022-05-01T17:38:28.528145",
          "status": "completed"
        },
        "tags": [],
        "id": "26d50e32"
      },
      "outputs": [],
      "source": [
        "from sklearn.feature_extraction.text import CountVectorizer\n",
        "mr_cv = CountVectorizer()\n",
        "gen_cv = CountVectorizer()\n",
        "\n",
        "X_train_mr = mr_cv.fit_transform(train_feat['movie_rated']).toarray()\n",
        "X_val_mr = mr_cv.transform(val_feat['movie_rated']).toarray()\n",
        "X_test_mr = mr_cv.transform(test_feat['movie_rated']).toarray()\n",
        "\n",
        "X_train_gen = gen_cv.fit_transform(train_feat['genres']).toarray()\n",
        "X_val_gen = gen_cv.transform(val_feat['genres']).toarray()\n",
        "X_test_gen = gen_cv.transform(test_feat['genres']).toarray()\n",
        "\n",
        "X_train_rem = train_feat[['num_raters', 'num_reviews']].values\n",
        "X_val_rem = val_feat[['num_raters', 'num_reviews']].values\n",
        "X_test_rem = test_feat[['num_raters', 'num_reviews']].values"
      ]
    },
    {
      "cell_type": "code",
      "execution_count": null,
      "metadata": {
        "execution": {
          "iopub.execute_input": "2022-05-01T17:38:28.606663Z",
          "iopub.status.busy": "2022-05-01T17:38:28.606042Z",
          "iopub.status.idle": "2022-05-01T17:38:28.613007Z",
          "shell.execute_reply": "2022-05-01T17:38:28.612397Z"
        },
        "papermill": {
          "duration": 0.026658,
          "end_time": "2022-05-01T17:38:28.614834",
          "exception": false,
          "start_time": "2022-05-01T17:38:28.588176",
          "status": "completed"
        },
        "tags": [],
        "colab": {
          "base_uri": "https://localhost:8080/"
        },
        "id": "74d0e0a9",
        "outputId": "e8ac608f-9c3b-4da5-a3d1-02eae6652cb0"
      },
      "outputs": [
        {
          "output_type": "execute_result",
          "data": {
            "text/plain": [
              "((736, 18), (184, 18))"
            ]
          },
          "metadata": {},
          "execution_count": 10
        }
      ],
      "source": [
        "X_train_mr.shape, X_val_mr.shape\n",
        "X_train_gen.shape, X_val_gen.shape"
      ]
    },
    {
      "cell_type": "code",
      "execution_count": null,
      "metadata": {
        "execution": {
          "iopub.execute_input": "2022-05-01T17:38:28.650673Z",
          "iopub.status.busy": "2022-05-01T17:38:28.650020Z",
          "iopub.status.idle": "2022-05-01T17:38:28.658573Z",
          "shell.execute_reply": "2022-05-01T17:38:28.657946Z"
        },
        "papermill": {
          "duration": 0.028933,
          "end_time": "2022-05-01T17:38:28.660431",
          "exception": false,
          "start_time": "2022-05-01T17:38:28.631498",
          "status": "completed"
        },
        "tags": [],
        "colab": {
          "base_uri": "https://localhost:8080/"
        },
        "id": "494dff9f",
        "outputId": "6aadda5a-8ba1-42ce-b633-a9af85f50a70"
      },
      "outputs": [
        {
          "output_type": "execute_result",
          "data": {
            "text/plain": [
              "((736, 30), (736,), (184, 30), (184,), (230, 30), (230,))"
            ]
          },
          "metadata": {},
          "execution_count": 11
        }
      ],
      "source": [
        "X_train = np.hstack([X_train_mr, X_train_gen, X_train_rem])\n",
        "X_val = np.hstack([X_val_mr, X_val_gen, X_val_rem])\n",
        "X_test = np.hstack([X_test_mr, X_test_gen, X_test_rem])\n",
        "X_train.shape, y_train.shape, X_val.shape, y_val.shape, X_test.shape, y_test.shape"
      ]
    },
    {
      "cell_type": "code",
      "execution_count": null,
      "metadata": {
        "execution": {
          "iopub.execute_input": "2022-05-01T17:38:28.701196Z",
          "iopub.status.busy": "2022-05-01T17:38:28.700388Z",
          "iopub.status.idle": "2022-05-01T17:38:28.864423Z",
          "shell.execute_reply": "2022-05-01T17:38:28.863332Z"
        },
        "papermill": {
          "duration": 0.186627,
          "end_time": "2022-05-01T17:38:28.867030",
          "exception": false,
          "start_time": "2022-05-01T17:38:28.680403",
          "status": "completed"
        },
        "tags": [],
        "id": "6fdb7ce8"
      },
      "outputs": [],
      "source": [
        "from sklearn.linear_model import LinearRegression\n",
        "from sklearn.linear_model import Ridge, Lasso, ElasticNet\n",
        "from sklearn.svm import LinearSVR\n",
        "from sklearn.ensemble import RandomForestRegressor, GradientBoostingRegressor\n",
        "from sklearn.neighbors import KNeighborsRegressor\n",
        "from sklearn import metrics\n",
        "\n",
        "all_models = {'knn': KNeighborsRegressor(), \n",
        "              'linear': LinearRegression(), \n",
        "              'ridge': Ridge(random_state=42), \n",
        "              'lasso': Lasso(random_state=42),\n",
        "              'elastic_net': ElasticNet(random_state=42), \n",
        "              'linear_svr': LinearSVR(random_state=42),\n",
        "              'random_forest': RandomForestRegressor(random_state=42, n_jobs = -1),\n",
        "              'gradient_boosting':GradientBoostingRegressor(random_state=42),\n",
        "             }"
      ]
    },
    {
      "cell_type": "markdown",
      "source": [
        "References:\n",
        "1.SKLEARN.METRICS.MEAN_ABSOLUTE_ERROR. scikit. (n.d.). Retrieved May 11, 2022, from https://scikit-learn.org/stable/modules/generated/sklearn.metrics.mean_absolute_error.html \n",
        "\n",
        "2.SKLEARN.METRICS.MEAN_SQUARED_ERROR. scikit. (n.d.). Retrieved May 11, 2022, from https://scikit-learn.org/stable/modules/generated/sklearn.metrics.mean_squared_error.html "
      ],
      "metadata": {
        "id": "LuoqKx-9qW37"
      }
    },
    {
      "cell_type": "code",
      "execution_count": null,
      "metadata": {
        "execution": {
          "iopub.execute_input": "2022-05-01T17:38:28.903336Z",
          "iopub.status.busy": "2022-05-01T17:38:28.902974Z",
          "iopub.status.idle": "2022-05-01T17:38:29.731083Z",
          "shell.execute_reply": "2022-05-01T17:38:29.729520Z"
        },
        "papermill": {
          "duration": 0.849428,
          "end_time": "2022-05-01T17:38:29.733698",
          "exception": false,
          "start_time": "2022-05-01T17:38:28.884270",
          "status": "completed"
        },
        "tags": [],
        "colab": {
          "base_uri": "https://localhost:8080/"
        },
        "id": "6be7b4a6",
        "outputId": "febfdb76-623c-4285-d9ec-5eb63b1921a0"
      },
      "outputs": [
        {
          "output_type": "stream",
          "name": "stdout",
          "text": [
            "--------------------------------------------------\n",
            "Training knn Model:\n",
            "Validation --> MAE=0.51  MSE=0.409\n",
            "Test Data --> MAE=0.482  MSE=0.407\n",
            "Complete.\n",
            "--------------------------------------------------\n",
            "Training linear Model:\n",
            "Validation --> MAE=0.434  MSE=0.309\n",
            "Test Data --> MAE=0.42  MSE=0.326\n",
            "Complete.\n",
            "--------------------------------------------------\n",
            "Training ridge Model:\n",
            "Validation --> MAE=0.429  MSE=0.304\n",
            "Test Data --> MAE=0.421  MSE=0.324\n",
            "Complete.\n",
            "--------------------------------------------------\n",
            "Training lasso Model:\n",
            "Validation --> MAE=0.502  MSE=0.385\n",
            "Test Data --> MAE=0.506  MSE=0.442\n",
            "Complete.\n",
            "--------------------------------------------------\n",
            "Training elastic_net Model:\n",
            "Validation --> MAE=0.502  MSE=0.385\n",
            "Test Data --> MAE=0.506  MSE=0.442\n",
            "Complete.\n",
            "--------------------------------------------------\n",
            "Training linear_svr Model:\n",
            "Validation --> MAE=33.269  MSE=2415.262\n",
            "Test Data --> MAE=27.37  MSE=1473.756\n",
            "Complete.\n",
            "--------------------------------------------------\n",
            "Training random_forest Model:\n",
            "Validation --> MAE=0.275  MSE=0.178\n",
            "Test Data --> MAE=0.308  MSE=0.222\n",
            "Complete.\n",
            "--------------------------------------------------\n",
            "Training gradient_boosting Model:\n",
            "Validation --> MAE=0.374  MSE=0.237\n",
            "Test Data --> MAE=0.376  MSE=0.272\n",
            "Complete.\n"
          ]
        }
      ],
      "source": [
        "val_mae = {}\n",
        "test_mae = {}\n",
        "# iterate over classifiers\n",
        "for key in all_models:\n",
        "    print('-'*50)\n",
        "    print('Training {} Model:'.format(key))\n",
        "    reg = all_models[key]\n",
        "    reg.fit(X_train, y_train)\n",
        "    all_models[key] = reg\n",
        "    \n",
        "    # get predictions & metrics on validation data\n",
        "    y_val_pred = reg.predict(X_val)\n",
        "    mae = metrics.mean_absolute_error(y_val, y_val_pred)\n",
        "    mse = metrics.mean_squared_error(y_val, y_val_pred)\n",
        "    print(f'Validation --> MAE={round(mae,3)}  MSE={round(mse,3)}', )\n",
        "    val_mae[key] = mae\n",
        "\n",
        "    # get predictions & metrics on test data\n",
        "    y_test_pred = reg.predict(X_test)\n",
        "    mae = metrics.mean_absolute_error(y_test, y_test_pred)\n",
        "    mse = metrics.mean_squared_error(y_test, y_test_pred)\n",
        "    print(f'Test Data --> MAE={round(mae,3)}  MSE={round(mse,3)}', )\n",
        "    test_mae[key] = mae\n",
        "    print(\"Complete.\")"
      ]
    },
    {
      "cell_type": "code",
      "execution_count": null,
      "metadata": {
        "execution": {
          "iopub.execute_input": "2022-05-01T17:38:29.773497Z",
          "iopub.status.busy": "2022-05-01T17:38:29.772468Z",
          "iopub.status.idle": "2022-05-01T17:38:29.778868Z",
          "shell.execute_reply": "2022-05-01T17:38:29.777947Z"
        },
        "papermill": {
          "duration": 0.028875,
          "end_time": "2022-05-01T17:38:29.780910",
          "exception": false,
          "start_time": "2022-05-01T17:38:29.752035",
          "status": "completed"
        },
        "tags": [],
        "colab": {
          "base_uri": "https://localhost:8080/"
        },
        "id": "b6ef5b0e",
        "outputId": "43523df7-742f-4d75-92d7-6fb4e8e0892a"
      },
      "outputs": [
        {
          "output_type": "stream",
          "name": "stdout",
          "text": [
            "Model with Best MAE: random_forest\n"
          ]
        }
      ],
      "source": [
        "best_key = min(val_mae, key=lambda x: val_mae[x])\n",
        "best_model = all_models[best_key]\n",
        "print(f\"Model with Best MAE: {best_key}\")"
      ]
    },
    {
      "cell_type": "markdown",
      "source": [
        "Referances:\n",
        "1. Sklearn.ensemble.randomforestclassifier. scikit. (n.d.). Retrieved May 11, 2022, from https://scikit-learn.org/stable/modules/generated/sklearn.ensemble.RandomForestClassifier.html \n",
        "\n",
        "2. Sklearn.ensemble.gradientboostingregressor. scikit. (n.d.). Retrieved May 11, 2022, from https://scikit-learn.org/stable/modules/generated/sklearn.ensemble.GradientBoostingRegressor.html "
      ],
      "metadata": {
        "id": "4P6bcDlZi9o7"
      }
    },
    {
      "cell_type": "code",
      "execution_count": null,
      "metadata": {
        "execution": {
          "iopub.execute_input": "2022-05-01T17:38:29.821712Z",
          "iopub.status.busy": "2022-05-01T17:38:29.820965Z",
          "iopub.status.idle": "2022-05-01T17:38:29.827735Z",
          "shell.execute_reply": "2022-05-01T17:38:29.827092Z"
        },
        "papermill": {
          "duration": 0.029291,
          "end_time": "2022-05-01T17:38:29.829608",
          "exception": false,
          "start_time": "2022-05-01T17:38:29.800317",
          "status": "completed"
        },
        "tags": [],
        "id": "eb04b994"
      },
      "outputs": [],
      "source": [
        "all_params = {}\n",
        "all_params['linear'] = {'fit_intercept': [True, False]}\n",
        "all_params['ridge'] =  {'alpha': [v for v in np.linspace(0.0001, 10**2, 10**4)]}\n",
        "all_params['gradient_boosting'] = {'n_estimators': range(50, 301, 20), 'max_depth': range(3, 26, 1), \n",
        "                                   'learning_rate': [0.0001, 0.0005, 0.001, 0.005, 0.01, 0.05, 0.1],\n",
        "                                   'min_samples_split': range(3, 26, 1),}\n",
        "all_params['random_forest'] = {'n_estimators': range(50, 301, 20), 'max_depth': range(3, 26, 1),\n",
        "                               'criterion' : ['squared_error', 'absolute_error', 'poisson'],\n",
        "                               'min_samples_split': range(3, 26, 1),}                                 \n",
        "search_param = all_params[best_key]"
      ]
    },
    {
      "cell_type": "code",
      "execution_count": null,
      "metadata": {
        "execution": {
          "iopub.execute_input": "2022-05-01T17:38:29.869510Z",
          "iopub.status.busy": "2022-05-01T17:38:29.869127Z",
          "iopub.status.idle": "2022-05-01T17:38:29.878120Z",
          "shell.execute_reply": "2022-05-01T17:38:29.877126Z"
        },
        "papermill": {
          "duration": 0.031527,
          "end_time": "2022-05-01T17:38:29.879949",
          "exception": false,
          "start_time": "2022-05-01T17:38:29.848422",
          "status": "completed"
        },
        "tags": [],
        "colab": {
          "base_uri": "https://localhost:8080/"
        },
        "id": "3cfe1d6e",
        "outputId": "6063c0d3-9262-4fc4-edd6-b55b1319d2ff"
      },
      "outputs": [
        {
          "output_type": "execute_result",
          "data": {
            "text/plain": [
              "((920, 30), (920,))"
            ]
          },
          "metadata": {},
          "execution_count": 16
        }
      ],
      "source": [
        "X_train_cv = np.vstack([X_train, X_val])\n",
        "y_train_cv = y_train.append(y_val)\n",
        "X_train_cv.shape, y_train_cv.shape"
      ]
    },
    {
      "cell_type": "markdown",
      "source": [
        "Reference: Sklearn.model_selection.RANDOMIZEDSEARCHCV. scikit. (n.d.). Retrieved May 11, 2022, from https://scikit-learn.org/stable/modules/generated/sklearn.model_selection.RandomizedSearchCV.html "
      ],
      "metadata": {
        "id": "rgY_mNBpi4Ik"
      }
    },
    {
      "cell_type": "code",
      "execution_count": null,
      "metadata": {
        "execution": {
          "iopub.execute_input": "2022-05-01T17:38:29.919053Z",
          "iopub.status.busy": "2022-05-01T17:38:29.918379Z",
          "iopub.status.idle": "2022-05-01T17:38:32.989295Z",
          "shell.execute_reply": "2022-05-01T17:38:32.988335Z"
        },
        "papermill": {
          "duration": 3.095738,
          "end_time": "2022-05-01T17:38:32.994322",
          "exception": false,
          "start_time": "2022-05-01T17:38:29.898584",
          "status": "completed"
        },
        "tags": [],
        "colab": {
          "base_uri": "https://localhost:8080/"
        },
        "id": "bb52fa4c",
        "outputId": "78e8c94e-6f13-4fd5-8ed5-818fc0f48a2a"
      },
      "outputs": [
        {
          "output_type": "stream",
          "name": "stdout",
          "text": [
            "Best k-fold R2 score =  0.49313055615192214\n",
            "Best Parameters: {'n_estimators': 90, 'min_samples_split': 4, 'max_depth': 23, 'criterion': 'absolute_error'}\n"
          ]
        }
      ],
      "source": [
        "from sklearn.pipeline import Pipeline, make_pipeline\n",
        "from sklearn.model_selection import RandomizedSearchCV, StratifiedShuffleSplit\n",
        "\n",
        "reg_grid = RandomizedSearchCV(best_model, search_param, cv=3, scoring='r2', \n",
        "                             n_iter=250,random_state=2143, n_jobs=-1)\n",
        "reg_grid.fit(X_train_cv, y_train_cv)\n",
        "best_model = reg_grid.best_estimator_\n",
        "print(\"Best k-fold R2 score = \", reg_grid.best_score_)\n",
        "print(\"Best Parameters:\", reg_grid.best_params_)"
      ]
    },
    {
      "cell_type": "code",
      "execution_count": null,
      "metadata": {
        "execution": {
          "iopub.execute_input": "2022-05-01T17:38:33.076770Z",
          "iopub.status.busy": "2022-05-01T17:38:33.076248Z",
          "iopub.status.idle": "2022-05-01T17:38:33.087026Z",
          "shell.execute_reply": "2022-05-01T17:38:33.085975Z"
        },
        "papermill": {
          "duration": 0.056028,
          "end_time": "2022-05-01T17:38:33.089614",
          "exception": false,
          "start_time": "2022-05-01T17:38:33.033586",
          "status": "completed"
        },
        "tags": [],
        "colab": {
          "base_uri": "https://localhost:8080/"
        },
        "id": "cab9755b",
        "outputId": "400a849c-c4a2-4b98-d17c-205b7582b2cb"
      },
      "outputs": [
        {
          "output_type": "stream",
          "name": "stdout",
          "text": [
            "Test Data --> MAE=0.376  MSE=0.272\n"
          ]
        }
      ],
      "source": [
        "y_test_pred = best_model.predict(X_test)\n",
        "acc = metrics.mean_absolute_error(y_test, y_test_pred)\n",
        "f1 = metrics.mean_squared_error(y_test, y_test_pred)\n",
        "print(f'Test Data --> MAE={round(mae,3)}  MSE={round(mse,3)}', )"
      ]
    },
    {
      "cell_type": "code",
      "source": [
        "if best_key in [\"random_forest\", \"gradient_boosting\"]:\n",
        "  mr_feat_names = [f\"rating_{n}\" for n in list(mr_cv.vocabulary_)]\n",
        "  gen_feat_names = [f\"genre_{n}\" for n in list(gen_cv.vocabulary_)]\n",
        "  feat_names = mr_feat_names + gen_feat_names +  ['num_raters', 'num_reviews']\n",
        "  feature_importances = best_model.feature_importances_\n",
        "  imp_df = pd.Series(feature_importances, index=feat_names)\n",
        "  imp_df = imp_df.sort_values(ascending=False)\n",
        "  \n",
        "  # plot the feature importances as bar char\n",
        "  plt.figure(figsize=(6,6))\n",
        "  ax = imp_df.head(10).plot(kind='barh')\n",
        "  ax.set_ylabel(\"Features\")\n",
        "  ax.set_xlabel(\"Relative Feature Importance Score\")\n",
        "  ax.set_title(\"Feature Importances Plot\")"
      ],
      "metadata": {
        "colab": {
          "base_uri": "https://localhost:8080/",
          "height": 404
        },
        "id": "2aSKI6vaCiLl",
        "outputId": "f0179617-ff0f-4119-f7d9-92994ac3cb54"
      },
      "execution_count": null,
      "outputs": [
        {
          "output_type": "display_data",
          "data": {
            "text/plain": [
              "<Figure size 432x432 with 1 Axes>"
            ],
            "image/png": "[encoded data removed]"
          },
          "metadata": {
            "needs_background": "light"
          }
        }
      ]
    },
    {
      "cell_type": "code",
      "execution_count": null,
      "metadata": {
        "execution": {
          "iopub.execute_input": "2022-05-01T17:38:33.137867Z",
          "iopub.status.busy": "2022-05-01T17:38:33.137525Z",
          "iopub.status.idle": "2022-05-01T17:38:33.357290Z",
          "shell.execute_reply": "2022-05-01T17:38:33.356192Z"
        },
        "papermill": {
          "duration": 0.244106,
          "end_time": "2022-05-01T17:38:33.359980",
          "exception": false,
          "start_time": "2022-05-01T17:38:33.115874",
          "status": "completed"
        },
        "tags": [],
        "colab": {
          "base_uri": "https://localhost:8080/",
          "height": 295
        },
        "id": "61dcf6f2",
        "outputId": "d22774fc-1b47-4aa6-af13-97d0d766bfcb"
      },
      "outputs": [
        {
          "output_type": "display_data",
          "data": {
            "text/plain": [
              "<Figure size 432x288 with 1 Axes>"
            ],
            "image/png": "[encoded data removed]"
          },
          "metadata": {
            "needs_background": "light"
          }
        }
      ],
      "source": [
        "plt.figure()\n",
        "resid_val = y_test_pred - y_test\n",
        "plt.scatter(y_test_pred, resid_val)\n",
        "plt.axhline(0, color='Black')\n",
        "plt.title('Movie Ratings: Residual Plot')\n",
        "plt.xlabel('Predicted Rating Values')\n",
        "plt.ylabel('Residual Values')\n",
        "plt.show()"
      ]
    },
    {
      "cell_type": "markdown",
      "source": [
        "Reeferences for PPT:\n",
        "\n",
        "1.\thttps://analyticsindiamag.com/the-continuous-bag-of-words-cbow-model-in-nlp-hands-on-implementation-with-codes/\n",
        "\n",
        "2. \tMadhukar, B. (2021, January 12). The continuous bag of words (CBOW) model in NLP - hands-on implementation with codes. Analytics India Magazine. Retrieved May 8, 2022, from https://analyticsindiamag.com/the-continuous-bag-of-words-cbow-model-in-nlp-hands-on-implementation-with-codes/ \n",
        "\n",
        "3. \tLendave, V. (2021, June 25). Guide to word2vec using Skip Gram model. Analytics India Magazine. Retrieved May 8, 2022, from https://analyticsindiamag.com/guide-to-word2vec-using-skip-gram-model/ \n",
        "\n",
        "4.\t“N-Gram.” Wikipedia, Wikimedia Foundation, 20 Feb. 2022, https://en.wikipedia.org/wiki/N-gram#n-grams_for_approximate_matching. \n",
        "\n",
        "5.\tMikolov, T., Chen, K., Corrado, G., & Dean, J. (2013, September 7). Efficient estimation of word representations in vector space. arXiv.org. Retrieved May 11, 2022, from https://arxiv.org/abs/1301.3781 \n",
        "\n",
        "\n"
      ],
      "metadata": {
        "id": "utyDXZmwkJQy"
      }
    }
  ]
}