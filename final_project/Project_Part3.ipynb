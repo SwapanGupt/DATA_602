{
 "cells": [
  {
   "cell_type": "code",
   "execution_count": null,
   "metadata": {
    "colab": {
     "base_uri": "https://localhost:8080/"
    },
    "id": "G4GhYwv2abWv",
    "outputId": "c41ccb53-5fdd-4e80-8f17-62203e8c2294"
   },
   "outputs": [
    {
     "name": "stdout",
     "output_type": "stream",
     "text": [
      "Mounted at /content/drive\n"
     ]
    }
   ],
   "source": [
    "from google.colab import drive\n",
    "drive.mount(\"/content/drive\")"
   ]
  },
  {
   "cell_type": "code",
   "execution_count": null,
   "metadata": {
    "colab": {
     "base_uri": "https://localhost:8080/"
    },
    "id": "ik4dpY39UJ-1",
    "outputId": "002a2020-3239-4874-9111-0057f2d9ce85"
   },
   "outputs": [
    {
     "name": "stdout",
     "output_type": "stream",
     "text": [
      "\u001b[?25l\r",
      "\u001b[K     |▏                               | 10 kB 16.0 MB/s eta 0:00:01\r",
      "\u001b[K     |▍                               | 20 kB 10.6 MB/s eta 0:00:01\r",
      "\u001b[K     |▋                               | 30 kB 8.0 MB/s eta 0:00:01\r",
      "\u001b[K     |▉                               | 40 kB 7.2 MB/s eta 0:00:01\r",
      "\u001b[K     |█                               | 51 kB 2.6 MB/s eta 0:00:01\r",
      "\u001b[K     |█▏                              | 61 kB 3.0 MB/s eta 0:00:01\r",
      "\u001b[K     |█▍                              | 71 kB 3.5 MB/s eta 0:00:01\r",
      "\u001b[K     |█▋                              | 81 kB 3.9 MB/s eta 0:00:01\r",
      "\u001b[K     |█▉                              | 92 kB 4.3 MB/s eta 0:00:01\r",
      "\u001b[K     |██                              | 102 kB 4.7 MB/s eta 0:00:01\r",
      "\u001b[K     |██▏                             | 112 kB 4.7 MB/s eta 0:00:01\r",
      "\u001b[K     |██▍                             | 122 kB 4.7 MB/s eta 0:00:01\r",
      "\u001b[K     |██▋                             | 133 kB 4.7 MB/s eta 0:00:01\r",
      "\u001b[K     |██▊                             | 143 kB 4.7 MB/s eta 0:00:01\r",
      "\u001b[K     |███                             | 153 kB 4.7 MB/s eta 0:00:01\r",
      "\u001b[K     |███▏                            | 163 kB 4.7 MB/s eta 0:00:01\r",
      "\u001b[K     |███▍                            | 174 kB 4.7 MB/s eta 0:00:01\r",
      "\u001b[K     |███▋                            | 184 kB 4.7 MB/s eta 0:00:01\r",
      "\u001b[K     |███▊                            | 194 kB 4.7 MB/s eta 0:00:01\r",
      "\u001b[K     |████                            | 204 kB 4.7 MB/s eta 0:00:01\r",
      "\u001b[K     |████▏                           | 215 kB 4.7 MB/s eta 0:00:01\r",
      "\u001b[K     |████▍                           | 225 kB 4.7 MB/s eta 0:00:01\r",
      "\u001b[K     |████▋                           | 235 kB 4.7 MB/s eta 0:00:01\r",
      "\u001b[K     |████▊                           | 245 kB 4.7 MB/s eta 0:00:01\r",
      "\u001b[K     |█████                           | 256 kB 4.7 MB/s eta 0:00:01\r",
      "\u001b[K     |█████▏                          | 266 kB 4.7 MB/s eta 0:00:01\r",
      "\u001b[K     |█████▍                          | 276 kB 4.7 MB/s eta 0:00:01\r",
      "\u001b[K     |█████▌                          | 286 kB 4.7 MB/s eta 0:00:01\r",
      "\u001b[K     |█████▊                          | 296 kB 4.7 MB/s eta 0:00:01\r",
      "\u001b[K     |██████                          | 307 kB 4.7 MB/s eta 0:00:01\r",
      "\u001b[K     |██████▏                         | 317 kB 4.7 MB/s eta 0:00:01\r",
      "\u001b[K     |██████▍                         | 327 kB 4.7 MB/s eta 0:00:01\r",
      "\u001b[K     |██████▌                         | 337 kB 4.7 MB/s eta 0:00:01\r",
      "\u001b[K     |██████▊                         | 348 kB 4.7 MB/s eta 0:00:01\r",
      "\u001b[K     |███████                         | 358 kB 4.7 MB/s eta 0:00:01\r",
      "\u001b[K     |███████▏                        | 368 kB 4.7 MB/s eta 0:00:01\r",
      "\u001b[K     |███████▎                        | 378 kB 4.7 MB/s eta 0:00:01\r",
      "\u001b[K     |███████▌                        | 389 kB 4.7 MB/s eta 0:00:01\r",
      "\u001b[K     |███████▊                        | 399 kB 4.7 MB/s eta 0:00:01\r",
      "\u001b[K     |████████                        | 409 kB 4.7 MB/s eta 0:00:01\r",
      "\u001b[K     |████████▏                       | 419 kB 4.7 MB/s eta 0:00:01\r",
      "\u001b[K     |████████▎                       | 430 kB 4.7 MB/s eta 0:00:01\r",
      "\u001b[K     |████████▌                       | 440 kB 4.7 MB/s eta 0:00:01\r",
      "\u001b[K     |████████▊                       | 450 kB 4.7 MB/s eta 0:00:01\r",
      "\u001b[K     |█████████                       | 460 kB 4.7 MB/s eta 0:00:01\r",
      "\u001b[K     |█████████▏                      | 471 kB 4.7 MB/s eta 0:00:01\r",
      "\u001b[K     |█████████▎                      | 481 kB 4.7 MB/s eta 0:00:01\r",
      "\u001b[K     |█████████▌                      | 491 kB 4.7 MB/s eta 0:00:01\r",
      "\u001b[K     |█████████▊                      | 501 kB 4.7 MB/s eta 0:00:01\r",
      "\u001b[K     |██████████                      | 512 kB 4.7 MB/s eta 0:00:01\r",
      "\u001b[K     |██████████                      | 522 kB 4.7 MB/s eta 0:00:01\r",
      "\u001b[K     |██████████▎                     | 532 kB 4.7 MB/s eta 0:00:01\r",
      "\u001b[K     |██████████▌                     | 542 kB 4.7 MB/s eta 0:00:01\r",
      "\u001b[K     |██████████▊                     | 552 kB 4.7 MB/s eta 0:00:01\r",
      "\u001b[K     |███████████                     | 563 kB 4.7 MB/s eta 0:00:01\r",
      "\u001b[K     |███████████                     | 573 kB 4.7 MB/s eta 0:00:01\r",
      "\u001b[K     |███████████▎                    | 583 kB 4.7 MB/s eta 0:00:01\r",
      "\u001b[K     |███████████▌                    | 593 kB 4.7 MB/s eta 0:00:01\r",
      "\u001b[K     |███████████▊                    | 604 kB 4.7 MB/s eta 0:00:01\r",
      "\u001b[K     |███████████▉                    | 614 kB 4.7 MB/s eta 0:00:01\r",
      "\u001b[K     |████████████                    | 624 kB 4.7 MB/s eta 0:00:01\r",
      "\u001b[K     |████████████▎                   | 634 kB 4.7 MB/s eta 0:00:01\r",
      "\u001b[K     |████████████▌                   | 645 kB 4.7 MB/s eta 0:00:01\r",
      "\u001b[K     |████████████▊                   | 655 kB 4.7 MB/s eta 0:00:01\r",
      "\u001b[K     |████████████▉                   | 665 kB 4.7 MB/s eta 0:00:01\r",
      "\u001b[K     |█████████████                   | 675 kB 4.7 MB/s eta 0:00:01\r",
      "\u001b[K     |█████████████▎                  | 686 kB 4.7 MB/s eta 0:00:01\r",
      "\u001b[K     |█████████████▌                  | 696 kB 4.7 MB/s eta 0:00:01\r",
      "\u001b[K     |█████████████▊                  | 706 kB 4.7 MB/s eta 0:00:01\r",
      "\u001b[K     |█████████████▉                  | 716 kB 4.7 MB/s eta 0:00:01\r",
      "\u001b[K     |██████████████                  | 727 kB 4.7 MB/s eta 0:00:01\r",
      "\u001b[K     |██████████████▎                 | 737 kB 4.7 MB/s eta 0:00:01\r",
      "\u001b[K     |██████████████▌                 | 747 kB 4.7 MB/s eta 0:00:01\r",
      "\u001b[K     |██████████████▋                 | 757 kB 4.7 MB/s eta 0:00:01\r",
      "\u001b[K     |██████████████▉                 | 768 kB 4.7 MB/s eta 0:00:01\r",
      "\u001b[K     |███████████████                 | 778 kB 4.7 MB/s eta 0:00:01\r",
      "\u001b[K     |███████████████▎                | 788 kB 4.7 MB/s eta 0:00:01\r",
      "\u001b[K     |███████████████▌                | 798 kB 4.7 MB/s eta 0:00:01\r",
      "\u001b[K     |███████████████▋                | 808 kB 4.7 MB/s eta 0:00:01\r",
      "\u001b[K     |███████████████▉                | 819 kB 4.7 MB/s eta 0:00:01\r",
      "\u001b[K     |████████████████                | 829 kB 4.7 MB/s eta 0:00:01\r",
      "\u001b[K     |████████████████▎               | 839 kB 4.7 MB/s eta 0:00:01\r",
      "\u001b[K     |████████████████▍               | 849 kB 4.7 MB/s eta 0:00:01\r",
      "\u001b[K     |████████████████▋               | 860 kB 4.7 MB/s eta 0:00:01\r",
      "\u001b[K     |████████████████▉               | 870 kB 4.7 MB/s eta 0:00:01\r",
      "\u001b[K     |█████████████████               | 880 kB 4.7 MB/s eta 0:00:01\r",
      "\u001b[K     |█████████████████▎              | 890 kB 4.7 MB/s eta 0:00:01\r",
      "\u001b[K     |█████████████████▍              | 901 kB 4.7 MB/s eta 0:00:01\r",
      "\u001b[K     |█████████████████▋              | 911 kB 4.7 MB/s eta 0:00:01\r",
      "\u001b[K     |█████████████████▉              | 921 kB 4.7 MB/s eta 0:00:01\r",
      "\u001b[K     |██████████████████              | 931 kB 4.7 MB/s eta 0:00:01\r",
      "\u001b[K     |██████████████████▎             | 942 kB 4.7 MB/s eta 0:00:01\r",
      "\u001b[K     |██████████████████▍             | 952 kB 4.7 MB/s eta 0:00:01\r",
      "\u001b[K     |██████████████████▋             | 962 kB 4.7 MB/s eta 0:00:01\r",
      "\u001b[K     |██████████████████▉             | 972 kB 4.7 MB/s eta 0:00:01\r",
      "\u001b[K     |███████████████████             | 983 kB 4.7 MB/s eta 0:00:01\r",
      "\u001b[K     |███████████████████▏            | 993 kB 4.7 MB/s eta 0:00:01\r",
      "\u001b[K     |███████████████████▍            | 1.0 MB 4.7 MB/s eta 0:00:01\r",
      "\u001b[K     |███████████████████▋            | 1.0 MB 4.7 MB/s eta 0:00:01\r",
      "\u001b[K     |███████████████████▉            | 1.0 MB 4.7 MB/s eta 0:00:01\r",
      "\u001b[K     |████████████████████            | 1.0 MB 4.7 MB/s eta 0:00:01\r",
      "\u001b[K     |████████████████████▏           | 1.0 MB 4.7 MB/s eta 0:00:01\r",
      "\u001b[K     |████████████████████▍           | 1.1 MB 4.7 MB/s eta 0:00:01\r",
      "\u001b[K     |████████████████████▋           | 1.1 MB 4.7 MB/s eta 0:00:01\r",
      "\u001b[K     |████████████████████▉           | 1.1 MB 4.7 MB/s eta 0:00:01\r",
      "\u001b[K     |█████████████████████           | 1.1 MB 4.7 MB/s eta 0:00:01\r",
      "\u001b[K     |█████████████████████▏          | 1.1 MB 4.7 MB/s eta 0:00:01\r",
      "\u001b[K     |█████████████████████▍          | 1.1 MB 4.7 MB/s eta 0:00:01\r",
      "\u001b[K     |█████████████████████▋          | 1.1 MB 4.7 MB/s eta 0:00:01\r",
      "\u001b[K     |█████████████████████▉          | 1.1 MB 4.7 MB/s eta 0:00:01\r",
      "\u001b[K     |██████████████████████          | 1.1 MB 4.7 MB/s eta 0:00:01\r",
      "\u001b[K     |██████████████████████▏         | 1.1 MB 4.7 MB/s eta 0:00:01\r",
      "\u001b[K     |██████████████████████▍         | 1.2 MB 4.7 MB/s eta 0:00:01\r",
      "\u001b[K     |██████████████████████▋         | 1.2 MB 4.7 MB/s eta 0:00:01\r",
      "\u001b[K     |██████████████████████▉         | 1.2 MB 4.7 MB/s eta 0:00:01\r",
      "\u001b[K     |███████████████████████         | 1.2 MB 4.7 MB/s eta 0:00:01\r",
      "\u001b[K     |███████████████████████▏        | 1.2 MB 4.7 MB/s eta 0:00:01\r",
      "\u001b[K     |███████████████████████▍        | 1.2 MB 4.7 MB/s eta 0:00:01\r",
      "\u001b[K     |███████████████████████▋        | 1.2 MB 4.7 MB/s eta 0:00:01\r",
      "\u001b[K     |███████████████████████▊        | 1.2 MB 4.7 MB/s eta 0:00:01\r",
      "\u001b[K     |████████████████████████        | 1.2 MB 4.7 MB/s eta 0:00:01\r",
      "\u001b[K     |████████████████████████▏       | 1.2 MB 4.7 MB/s eta 0:00:01\r",
      "\u001b[K     |████████████████████████▍       | 1.3 MB 4.7 MB/s eta 0:00:01\r",
      "\u001b[K     |████████████████████████▋       | 1.3 MB 4.7 MB/s eta 0:00:01\r",
      "\u001b[K     |████████████████████████▊       | 1.3 MB 4.7 MB/s eta 0:00:01\r",
      "\u001b[K     |█████████████████████████       | 1.3 MB 4.7 MB/s eta 0:00:01\r",
      "\u001b[K     |█████████████████████████▏      | 1.3 MB 4.7 MB/s eta 0:00:01\r",
      "\u001b[K     |█████████████████████████▍      | 1.3 MB 4.7 MB/s eta 0:00:01\r",
      "\u001b[K     |█████████████████████████▌      | 1.3 MB 4.7 MB/s eta 0:00:01\r",
      "\u001b[K     |█████████████████████████▊      | 1.3 MB 4.7 MB/s eta 0:00:01\r",
      "\u001b[K     |██████████████████████████      | 1.3 MB 4.7 MB/s eta 0:00:01\r",
      "\u001b[K     |██████████████████████████▏     | 1.4 MB 4.7 MB/s eta 0:00:01\r",
      "\u001b[K     |██████████████████████████▍     | 1.4 MB 4.7 MB/s eta 0:00:01\r",
      "\u001b[K     |██████████████████████████▌     | 1.4 MB 4.7 MB/s eta 0:00:01\r",
      "\u001b[K     |██████████████████████████▊     | 1.4 MB 4.7 MB/s eta 0:00:01\r",
      "\u001b[K     |███████████████████████████     | 1.4 MB 4.7 MB/s eta 0:00:01\r",
      "\u001b[K     |███████████████████████████▏    | 1.4 MB 4.7 MB/s eta 0:00:01\r",
      "\u001b[K     |███████████████████████████▍    | 1.4 MB 4.7 MB/s eta 0:00:01\r",
      "\u001b[K     |███████████████████████████▌    | 1.4 MB 4.7 MB/s eta 0:00:01\r",
      "\u001b[K     |███████████████████████████▊    | 1.4 MB 4.7 MB/s eta 0:00:01\r",
      "\u001b[K     |████████████████████████████    | 1.4 MB 4.7 MB/s eta 0:00:01\r",
      "\u001b[K     |████████████████████████████▏   | 1.5 MB 4.7 MB/s eta 0:00:01\r",
      "\u001b[K     |████████████████████████████▎   | 1.5 MB 4.7 MB/s eta 0:00:01\r",
      "\u001b[K     |████████████████████████████▌   | 1.5 MB 4.7 MB/s eta 0:00:01\r",
      "\u001b[K     |████████████████████████████▊   | 1.5 MB 4.7 MB/s eta 0:00:01\r",
      "\u001b[K     |█████████████████████████████   | 1.5 MB 4.7 MB/s eta 0:00:01\r",
      "\u001b[K     |█████████████████████████████▏  | 1.5 MB 4.7 MB/s eta 0:00:01\r",
      "\u001b[K     |█████████████████████████████▎  | 1.5 MB 4.7 MB/s eta 0:00:01\r",
      "\u001b[K     |█████████████████████████████▌  | 1.5 MB 4.7 MB/s eta 0:00:01\r",
      "\u001b[K     |█████████████████████████████▊  | 1.5 MB 4.7 MB/s eta 0:00:01\r",
      "\u001b[K     |██████████████████████████████  | 1.5 MB 4.7 MB/s eta 0:00:01\r",
      "\u001b[K     |██████████████████████████████▏ | 1.6 MB 4.7 MB/s eta 0:00:01\r",
      "\u001b[K     |██████████████████████████████▎ | 1.6 MB 4.7 MB/s eta 0:00:01\r",
      "\u001b[K     |██████████████████████████████▌ | 1.6 MB 4.7 MB/s eta 0:00:01\r",
      "\u001b[K     |██████████████████████████████▊ | 1.6 MB 4.7 MB/s eta 0:00:01\r",
      "\u001b[K     |███████████████████████████████ | 1.6 MB 4.7 MB/s eta 0:00:01\r",
      "\u001b[K     |███████████████████████████████ | 1.6 MB 4.7 MB/s eta 0:00:01\r",
      "\u001b[K     |███████████████████████████████▎| 1.6 MB 4.7 MB/s eta 0:00:01\r",
      "\u001b[K     |███████████████████████████████▌| 1.6 MB 4.7 MB/s eta 0:00:01\r",
      "\u001b[K     |███████████████████████████████▊| 1.6 MB 4.7 MB/s eta 0:00:01\r",
      "\u001b[K     |████████████████████████████████| 1.6 MB 4.7 MB/s eta 0:00:01\r",
      "\u001b[K     |████████████████████████████████| 1.7 MB 4.7 MB/s \n",
      "\u001b[?25h  Installing build dependencies ... \u001b[?25l\u001b[?25hdone\n",
      "  Getting requirements to build wheel ... \u001b[?25l\u001b[?25hdone\n",
      "  Installing backend dependencies ... \u001b[?25l\u001b[?25hdone\n",
      "    Preparing wheel metadata ... \u001b[?25l\u001b[?25hdone\n",
      "  Building wheel for pyLDAvis (PEP 517) ... \u001b[?25l\u001b[?25hdone\n"
     ]
    }
   ],
   "source": [
    "!pip -q install pyLDAvis"
   ]
  },
  {
   "cell_type": "markdown",
   "metadata": {
    "id": "XfJZeDU7_XJk"
   },
   "source": [
    "Word2Vec & Topic Modelling on Reviews Text Data"
   ]
  },
  {
   "cell_type": "code",
   "execution_count": null,
   "metadata": {
    "colab": {
     "base_uri": "https://localhost:8080/"
    },
    "id": "Z_n1aers-qmo",
    "outputId": "602218d8-0ed7-4b14-f0cf-ccac05651da5"
   },
   "outputs": [
    {
     "data": {
      "text/plain": [
       "['dataset.zip',\n",
       " 'imdb_movies_raw.csv.gz',\n",
       " 'imdb_reviews_raw.csv.gz',\n",
       " 'word2vec.gensim',\n",
       " 'lda.gensim.state',\n",
       " 'lda.gensim',\n",
       " 'lda.gensim.expElogbeta.npy',\n",
       " 'lda.gensim.id2word',\n",
       " 'imdb_movies_train.csv.gz',\n",
       " 'imdb_reviews_train.csv.gz',\n",
       " 'imdb_movies_val.csv.gz',\n",
       " 'imdb_movies_test.csv.gz',\n",
       " 'imdb_reviews_val.csv.gz',\n",
       " 'imdb_reviews_test.csv.gz']"
      ]
     },
     "execution_count": 3,
     "metadata": {},
     "output_type": "execute_result"
    }
   ],
   "source": [
    "import numpy as np\n",
    "import pandas as pd\n",
    "import matplotlib.pyplot as plt\n",
    "from collections import Counter\n",
    "from tqdm.notebook import tqdm\n",
    "import nltk, re\n",
    "import seaborn as sns\n",
    "import string\n",
    "import os, gc\n",
    "import random\n",
    "\n",
    "tqdm.pandas()\n",
    "\n",
    "base_dir = \"/content/drive/Shareddrives/602Project/Assigns\"\n",
    "os.listdir(base_dir)"
   ]
  },
  {
   "cell_type": "code",
   "execution_count": null,
   "metadata": {
    "colab": {
     "base_uri": "https://localhost:8080/"
    },
    "id": "eJ342I5M-qmq",
    "outputId": "bd6eb9a9-df9f-4a22-ad4a-a4008ec07196"
   },
   "outputs": [
    {
     "name": "stdout",
     "output_type": "stream",
     "text": [
      "Movies data:\n",
      "(736, 10) Index(['name', 'year', 'movie_rated', 'run_length', 'genres', 'release_date',\n",
      "       'rating', 'num_raters', 'num_reviews', 'review_url'],\n",
      "      dtype='object')\n",
      "Reviews data:\n",
      "(507092, 11) Index(['username', 'rating', 'helpful', 'total', 'date', 'title', 'review',\n",
      "       'year', 'name', 'emojis', 'review_words'],\n",
      "      dtype='object')\n"
     ]
    }
   ],
   "source": [
    "mov_train = pd.read_csv(f\"{base_dir}/imdb_movies_train.csv.gz\", compression=\"gzip\")\n",
    "rev_train = pd.read_csv(f\"{base_dir}/imdb_reviews_train.csv.gz\", compression=\"gzip\")\n",
    "\n",
    "print(\"Movies data:\")\n",
    "print(mov_train.shape, mov_train.columns)\n",
    "\n",
    "print(\"Reviews data:\")\n",
    "print(rev_train.shape, rev_train.columns)"
   ]
  },
  {
   "cell_type": "code",
   "execution_count": null,
   "metadata": {
    "colab": {
     "base_uri": "https://localhost:8080/"
    },
    "id": "ek8NrXNr-qmq",
    "outputId": "726eea5b-32a4-4cd5-c95a-6a230af4a942"
   },
   "outputs": [
    {
     "data": {
      "text/plain": [
       "(126773, 11)"
      ]
     },
     "execution_count": 5,
     "metadata": {},
     "output_type": "execute_result"
    }
   ],
   "source": [
    "rev_train = rev_train.sample(frac=0.25)\n",
    "rev_train.shape"
   ]
  },
  {
   "cell_type": "markdown",
   "metadata": {
    "id": "zx4l7c1e-qm2"
   },
   "source": [
    "## Word2Vec"
   ]
  },
  {
   "cell_type": "markdown",
   "metadata": {
    "id": "lR2vUXT8i6g4"
   },
   "source": [
    "Reference: Gensim: Topic modelling for humans. Word2Vec Model - gensim. (2022, May 6). Retrieved May 10, 2022, from https://radimrehurek.com/gensim/auto_examples/tutorials/run_word2vec.html "
   ]
  },
  {
   "cell_type": "code",
   "execution_count": null,
   "metadata": {
    "id": "3w5UnEusMnrz"
   },
   "outputs": [],
   "source": [
    "# rev_words = rev_train['review_words'].apply(lambda x:str(x).split(\"|\")).tolist()"
   ]
  },
  {
   "cell_type": "code",
   "execution_count": null,
   "metadata": {
    "colab": {
     "base_uri": "https://localhost:8080/",
     "height": 49,
     "referenced_widgets": [
      "8c16972b02ea4f02bbbdf82c06a639b3",
      "db8a29a0c4604a1a8c4c38d466f44438",
      "a4d3fa587dc249729828161de2f8acf6",
      "171aad155fe6410587dfbbeda32e8433",
      "640ac63ac6df4c808b53d597df2b536e",
      "8b409e82ad5e4925b386d74c38606f2a",
      "44ef271d778a4b8cb4fd56b5f37b37cb",
      "97cd4a83097f4f5b84f01ad28f9f5695",
      "bfdd48701ef64e4fad8bdbd9b998c3d0",
      "661099b5ff324841b6bbde29f1b98485",
      "1c81a277bcae4304b39a4bad3f1bd598"
     ]
    },
    "id": "BeAsg0T5-qm2",
    "outputId": "df738098-93b0-4199-86ca-f6f2a40ae507"
   },
   "outputs": [
    {
     "data": {
      "application/vnd.jupyter.widget-view+json": {
       "model_id": "8c16972b02ea4f02bbbdf82c06a639b3",
       "version_major": 2,
       "version_minor": 0
      },
      "text/plain": [
       "  0%|          | 0/126773 [00:00<?, ?it/s]"
      ]
     },
     "metadata": {},
     "output_type": "display_data"
    }
   ],
   "source": [
    "rev_words = []\n",
    "for r in tqdm(rev_train['review_words']):\n",
    "    ws = str(r).split(\"|\")\n",
    "    rev_words.append(ws)"
   ]
  },
  {
   "cell_type": "code",
   "execution_count": null,
   "metadata": {
    "colab": {
     "base_uri": "https://localhost:8080/",
     "height": 49,
     "referenced_widgets": [
      "9cef737c75c349baa16f7499c4253212",
      "4b7f3fccad0146f5b5e6b158710e1c25",
      "8895ae2863e5434789b897a6c848cfa2",
      "09e6bc06f5f04f62b57509a6450c58bd",
      "959fb2d7c8144c759d11ec2f382716cb",
      "d8a1f2fb88b849a28843961f03f1646e",
      "ace8e3bd6fa64b47b1f18c45fd34b900",
      "9d4ed9363ea74a4fa6126af80978035d",
      "c986fd8eea09493b8b0f8ca80853ea9b",
      "e450fcecc6274e89abc040f6411fd922",
      "39035ad9377b4c7eb6507486d6710a4d"
     ]
    },
    "id": "-BNrfOHJNBXy",
    "outputId": "8391f6c5-ed4f-4b48-ec0c-fdd76740bd3f"
   },
   "outputs": [
    {
     "data": {
      "application/vnd.jupyter.widget-view+json": {
       "model_id": "9cef737c75c349baa16f7499c4253212",
       "version_major": 2,
       "version_minor": 0
      },
      "text/plain": [
       "0it [00:00, ?it/s]"
      ]
     },
     "metadata": {},
     "output_type": "display_data"
    }
   ],
   "source": [
    "from gensim import models\n",
    "bigrams = models.Phrases(rev_words, min_count=5)\n",
    "bigram_model = models.phrases.Phraser(bigrams)\n",
    "\n",
    "all_bigrams = []\n",
    "for i, text_doc in tqdm(enumerate(rev_words)):\n",
    "    for word in bigram_model[text_doc]:\n",
    "        if len(word.split(\"_\")) >= 2:\n",
    "            rev_words[i].append(word)\n",
    "            all_bigrams.append(word)"
   ]
  },
  {
   "cell_type": "code",
   "execution_count": null,
   "metadata": {
    "colab": {
     "base_uri": "https://localhost:8080/"
    },
    "id": "4572fQEe-qm2",
    "outputId": "4e03aaba-5357-4de1-9a5c-9a45e95d3bd2"
   },
   "outputs": [
    {
     "data": {
      "text/plain": [
       "['legend',\n",
       " 'bagger',\n",
       " 'vance',\n",
       " 'living',\n",
       " 'golf',\n",
       " 'medium',\n",
       " 'use',\n",
       " 'bring',\n",
       " 'character',\n",
       " 'seen']"
      ]
     },
     "execution_count": 9,
     "metadata": {},
     "output_type": "execute_result"
    }
   ],
   "source": [
    "rev_words[-1][:10]"
   ]
  },
  {
   "cell_type": "code",
   "execution_count": null,
   "metadata": {
    "colab": {
     "base_uri": "https://localhost:8080/"
    },
    "id": "AuJiSe3jcaVM",
    "outputId": "198264e6-d284-43a5-b63e-e54590ef7564"
   },
   "outputs": [
    {
     "data": {
      "text/plain": [
       "0"
      ]
     },
     "execution_count": 10,
     "metadata": {},
     "output_type": "execute_result"
    }
   ],
   "source": [
    "del bigram_model, bigrams, mov_train\n",
    "gc.collect()"
   ]
  },
  {
   "cell_type": "code",
   "execution_count": null,
   "metadata": {
    "colab": {
     "base_uri": "https://localhost:8080/"
    },
    "id": "3BhFsySq-qm2",
    "outputId": "02ae5499-0acf-47a6-d51e-922171f06403"
   },
   "outputs": [
    {
     "name": "stdout",
     "output_type": "stream",
     "text": [
      "Building Model Vocab...\n",
      "Word2Vec vocabulary length:  19129\n"
     ]
    }
   ],
   "source": [
    "from gensim import models\n",
    "\n",
    "w2v_model = models.word2vec.Word2Vec(size=100, window=3, min_count=50, \n",
    "                                     workers=2, sg=1, seed=234)\n",
    "print(\"Building Model Vocab...\")\n",
    "w2v_model.build_vocab(rev_words)\n",
    "print(\"Word2Vec vocabulary length: \", len(w2v_model.wv.vocab))"
   ]
  },
  {
   "cell_type": "markdown",
   "metadata": {
    "id": "GLYKaIaAfP-G"
   },
   "source": [
    "If memory runs out after model training, load the saved model & continue..."
   ]
  },
  {
   "cell_type": "code",
   "execution_count": null,
   "metadata": {
    "colab": {
     "base_uri": "https://localhost:8080/"
    },
    "id": "qDkxVEwF-qm2",
    "outputId": "d17e9884-b52a-4475-9e3a-161911f19060"
   },
   "outputs": [
    {
     "name": "stdout",
     "output_type": "stream",
     "text": [
      "Training the model...\n",
      "Done...\n"
     ]
    }
   ],
   "source": [
    "# training the model on the reviews data\n",
    "train_model = True\n",
    "model_path = f\"{base_dir}/word2vec.gensim\"\n",
    "if train_model:\n",
    "  print(\"Training the model...\")\n",
    "  w2v_model.train(rev_words, epochs=25, total_examples=len(rev_words))\n",
    "  print(\"Done...\")\n",
    "  w2v_model.save(model_path)\n",
    "\n",
    "if not train_model:\n",
    "  w2v_model = models.Word2Vec.load(model_path)"
   ]
  },
  {
   "cell_type": "code",
   "execution_count": null,
   "metadata": {
    "id": "wOCfK6Mo-qm3"
   },
   "outputs": [],
   "source": [
    "index_to_word = w2v_model.wv.index2word\n",
    "word_to_index = {y:x for x,y in enumerate(index_to_word)}\n",
    "vocab = w2v_model.wv.vocab"
   ]
  },
  {
   "cell_type": "code",
   "execution_count": null,
   "metadata": {
    "colab": {
     "base_uri": "https://localhost:8080/"
    },
    "id": "C0-dWWQ0-qm3",
    "outputId": "a54a7c68-d590-453b-c532-43bdb6201f6d"
   },
   "outputs": [
    {
     "name": "stdout",
     "output_type": "stream",
     "text": [
      "Dimentionality of Word Vectors is Reduced to 2:  (19129, 2)\n"
     ]
    }
   ],
   "source": [
    "from sklearn.decomposition import PCA\n",
    "pca = PCA(n_components=2)\n",
    "vectors_reduced = pca.fit_transform(w2v_model.wv.vectors)\n",
    "print(\"Dimentionality of Word Vectors is Reduced to 2: \", vectors_reduced.shape)"
   ]
  },
  {
   "cell_type": "code",
   "execution_count": null,
   "metadata": {
    "colab": {
     "base_uri": "https://localhost:8080/"
    },
    "id": "DJTWmCVaFLhP",
    "outputId": "8f5e4836-b767-4143-bb8a-1d9265c55a10"
   },
   "outputs": [
    {
     "name": "stderr",
     "output_type": "stream",
     "text": [
      "/usr/local/lib/python3.7/dist-packages/ipykernel_launcher.py:2: DeprecationWarning: Call to deprecated `similar_by_word` (Method will be removed in 4.0.0, use self.wv.similar_by_word() instead).\n",
      "  \n"
     ]
    },
    {
     "data": {
      "text/plain": [
       "[('cute', 0.7278481125831604),\n",
       " ('lovely', 0.6964848041534424),\n",
       " ('touching', 0.6776920557022095),\n",
       " ('charming', 0.6759390830993652),\n",
       " ('adorable', 0.6475133895874023),\n",
       " ('tender', 0.6411848068237305),\n",
       " ('warm', 0.6399644613265991),\n",
       " ('heartfelt', 0.6324620246887207),\n",
       " ('heartwarming', 0.6300756931304932),\n",
       " ('endearing', 0.6108172535896301)]"
      ]
     },
     "execution_count": 15,
     "metadata": {},
     "output_type": "execute_result"
    }
   ],
   "source": [
    "word = \"sweet\"\n",
    "w2v_model.similar_by_word(word)"
   ]
  },
  {
   "cell_type": "code",
   "execution_count": null,
   "metadata": {
    "id": "0-YiTltcE7Jh"
   },
   "outputs": [],
   "source": [
    "def plot_similar_word_vectors(words):\n",
    "  sim_words = [t[0] for t in w2v_model.wv.most_similar(words)]\n",
    "  words_idx = [word_to_index[w] for w in sim_words]\n",
    "  word_vectors = [vectors_reduced[i] for i in words_idx]\n",
    "\n",
    "  df = pd.DataFrame(word_vectors, index=sim_words, \n",
    "                    columns=['p1', 'p2'])\n",
    "  fig = plt.figure(figsize=(6,6))\n",
    "  plt.scatter(df['p1'], df['p2'])\n",
    "  for word, pos in df.iterrows():\n",
    "      plt.annotate(word, pos)\n",
    "  plt.show()\n",
    "  return"
   ]
  },
  {
   "cell_type": "code",
   "execution_count": null,
   "metadata": {
    "colab": {
     "base_uri": "https://localhost:8080/",
     "height": 374
    },
    "id": "N5VE5bma-qm3",
    "outputId": "3921fd2f-7c6d-4d5e-e3be-f4c743f3d7c4"
   },
   "outputs": [
    {
     "data": {
      "image/png": "[encoded data removed]",
      "text/plain": [
       "<Figure size 432x432 with 1 Axes>"
      ]
     },
     "metadata": {
      "needs_background": "light"
     },
     "output_type": "display_data"
    }
   ],
   "source": [
    "_ = plot_similar_word_vectors(['good', 'bad'])"
   ]
  },
  {
   "cell_type": "code",
   "execution_count": null,
   "metadata": {
    "colab": {
     "base_uri": "https://localhost:8080/",
     "height": 374
    },
    "id": "mq5mzmhh-qm3",
    "outputId": "9fd1db3a-ab6c-42fd-f214-e6daddd8bcbb"
   },
   "outputs": [
    {
     "data": {
      "image/png": "[encoded data removed]",
      "text/plain": [
       "<Figure size 432x432 with 1 Axes>"
      ]
     },
     "metadata": {
      "needs_background": "light"
     },
     "output_type": "display_data"
    }
   ],
   "source": [
    "_ = plot_similar_word_vectors(['john', 'william'])"
   ]
  },
  {
   "cell_type": "code",
   "execution_count": null,
   "metadata": {
    "colab": {
     "base_uri": "https://localhost:8080/",
     "height": 374
    },
    "id": "0YWft7FpMAkJ",
    "outputId": "82e0d894-e797-46f5-d5d6-5a14ada6c45c"
   },
   "outputs": [
    {
     "data": {
      "image/png": "[encoded data removed]",
      "text/plain": [
       "<Figure size 432x432 with 1 Axes>"
      ]
     },
     "metadata": {
      "needs_background": "light"
     },
     "output_type": "display_data"
    }
   ],
   "source": [
    "_ = plot_similar_word_vectors(['men', 'female'])"
   ]
  },
  {
   "cell_type": "code",
   "execution_count": null,
   "metadata": {
    "colab": {
     "base_uri": "https://localhost:8080/",
     "height": 374
    },
    "id": "rfEqZGIdMEmc",
    "outputId": "77f7f8e5-e08a-4689-eb44-d5978c670cc0"
   },
   "outputs": [
    {
     "data": {
      "image/png": "[encoded data removed]",
      "text/plain": [
       "<Figure size 432x432 with 1 Axes>"
      ]
     },
     "metadata": {
      "needs_background": "light"
     },
     "output_type": "display_data"
    }
   ],
   "source": [
    "_ = plot_similar_word_vectors(['mary', 'emma'])"
   ]
  },
  {
   "cell_type": "markdown",
   "metadata": {
    "id": "a72gkXWR-qm4"
   },
   "source": [
    "### Topic Modelling"
   ]
  },
  {
   "cell_type": "markdown",
   "metadata": {
    "id": "p64BMotVkQf_"
   },
   "source": [
    "Reference: Gensim: Topic modelling for humans. LDA Model - gensim. (2022, May 6). Retrieved May 10, 2022, from https://radimrehurek.com/gensim/auto_examples/tutorials/run_lda.html "
   ]
  },
  {
   "cell_type": "code",
   "execution_count": null,
   "metadata": {
    "colab": {
     "base_uri": "https://localhost:8080/"
    },
    "id": "UIJBZylfcRR4",
    "outputId": "8d9ce30a-c4b5-495e-d9cb-65bb23f48efc"
   },
   "outputs": [
    {
     "data": {
      "text/plain": [
       "10301"
      ]
     },
     "execution_count": 21,
     "metadata": {},
     "output_type": "execute_result"
    }
   ],
   "source": [
    "del w2v_model, pca\n",
    "gc.collect()"
   ]
  },
  {
   "cell_type": "code",
   "execution_count": null,
   "metadata": {
    "colab": {
     "base_uri": "https://localhost:8080/"
    },
    "id": "w_2A624t-qm4",
    "outputId": "71e10354-e2ba-4ffc-8f79-7dbf7283b49a"
   },
   "outputs": [
    {
     "name": "stdout",
     "output_type": "stream",
     "text": [
      "unique words in the dictionary:  100000\n"
     ]
    }
   ],
   "source": [
    "from gensim.corpora import Dictionary\n",
    "word_dict = Dictionary(rev_words)\n",
    "word_dict.filter_extremes(no_below=0.25, no_above=0.75)\n",
    "bow_corpus = [word_dict.doc2bow(doc) for doc in rev_words]\n",
    "print('unique words in the dictionary: ', len(word_dict))"
   ]
  },
  {
   "cell_type": "code",
   "execution_count": null,
   "metadata": {
    "colab": {
     "base_uri": "https://localhost:8080/",
     "height": 35
    },
    "id": "u9s7RVEKQETQ",
    "outputId": "1f7c67cb-4dd0-498e-e1c5-4b5adffc09a7"
   },
   "outputs": [
    {
     "data": {
      "application/vnd.google.colaboratory.intrinsic+json": {
       "type": "string"
      },
      "text/plain": [
       "'also'"
      ]
     },
     "execution_count": 23,
     "metadata": {},
     "output_type": "execute_result"
    }
   ],
   "source": [
    "word_dict[0]"
   ]
  },
  {
   "cell_type": "code",
   "execution_count": null,
   "metadata": {
    "colab": {
     "base_uri": "https://localhost:8080/"
    },
    "id": "OzDs5i__uby8",
    "outputId": "2ee5c672-1422-4600-d97c-c899ee496457"
   },
   "outputs": [
    {
     "name": "stdout",
     "output_type": "stream",
     "text": [
      "Training the model...\n"
     ]
    },
    {
     "name": "stderr",
     "output_type": "stream",
     "text": [
      "/usr/local/lib/python3.7/dist-packages/gensim/models/ldamodel.py:1023: RuntimeWarning: divide by zero encountered in log\n",
      "  diff = np.log(self.expElogbeta)\n"
     ]
    },
    {
     "name": "stdout",
     "output_type": "stream",
     "text": [
      "Done...\n"
     ]
    }
   ],
   "source": [
    "train_model = True\n",
    "\n",
    "model_path = f\"{base_dir}/lda.gensim\"\n",
    "num_topics = 10\n",
    "\n",
    "if train_model:\n",
    "  print(\"Training the model...\")\n",
    "  lda_model = models.LdaModel(corpus=bow_corpus, id2word=word_dict.id2token,\n",
    "                            chunksize=2500, iterations=500,\n",
    "                            alpha='auto',eta='auto',\n",
    "                            num_topics=num_topics, passes=10)\n",
    "  print(\"Done...\")\n",
    "  lda_model.save(model_path)\n",
    "\n",
    "if not train_model:\n",
    "  lda_model = models.LdaModel.load(model_path)"
   ]
  },
  {
   "cell_type": "code",
   "execution_count": null,
   "metadata": {
    "colab": {
     "base_uri": "https://localhost:8080/",
     "height": 392
    },
    "id": "xzmRux1xO_2U",
    "outputId": "ef4f556b-cd3a-4abc-bed9-ae98763531af"
   },
   "outputs": [
    {
     "data": {
      "text/plain": [
       "([(0.029238934, \"n't\"),\n",
       "  (0.016963357, 'like'),\n",
       "  (0.0134007195, 'good'),\n",
       "  (0.0125403255, 'one'),\n",
       "  (0.011140922, 'really'),\n",
       "  (0.010527171, 'film'),\n",
       "  (0.01029699, 'would'),\n",
       "  (0.010097064, 'time'),\n",
       "  (0.009974345, 'see'),\n",
       "  (0.008449843, 'character'),\n",
       "  (0.007887665, 'much'),\n",
       "  (0.0076564974, 'scene'),\n",
       "  (0.0076169106, 'first'),\n",
       "  (0.0075190137, 'get'),\n",
       "  (0.007511518, 'could'),\n",
       "  (0.00738229, 'even'),\n",
       "  (0.0073669367, 'story'),\n",
       "  (0.007132954, 'think'),\n",
       "  (0.0069821663, 'thing'),\n",
       "  (0.0068381038, 'make')],\n",
       " -0.9612562220486606)"
      ]
     },
     "metadata": {},
     "output_type": "display_data"
    }
   ],
   "source": [
    "top_lda_topics = lda_model.top_topics(bow_corpus)\n",
    "display(top_lda_topics[0])"
   ]
  }
 ],
 "metadata": {
  "colab": {
   "collapsed_sections": [],
   "name": "ProjectPart3.ipynb",
   "provenance": []
  },
  "kernelspec": {
   "display_name": "Python 3",
   "language": "python",
   "name": "python3"
  },
  "language_info": {
   "codemirror_mode": {
    "name": "ipython",
    "version": 3
   },
   "file_extension": ".py",
   "mimetype": "text/x-python",
   "name": "python",
   "nbconvert_exporter": "python",
   "pygments_lexer": "ipython3",
   "version": "3.8.8"
  },
  "widgets": {
   "application/vnd.jupyter.widget-state+json": {
    "09e6bc06f5f04f62b57509a6450c58bd": {
     "model_module": "@jupyter-widgets/controls",
     "model_module_version": "1.5.0",
     "model_name": "HTMLModel",
     "state": {
      "_dom_classes": [],
      "_model_module": "@jupyter-widgets/controls",
      "_model_module_version": "1.5.0",
      "_model_name": "HTMLModel",
      "_view_count": null,
      "_view_module": "@jupyter-widgets/controls",
      "_view_module_version": "1.5.0",
      "_view_name": "HTMLView",
      "description": "",
      "description_tooltip": null,
      "layout": "IPY_MODEL_e450fcecc6274e89abc040f6411fd922",
      "placeholder": "​",
      "style": "IPY_MODEL_39035ad9377b4c7eb6507486d6710a4d",
      "value": " 126773/? [00:48&lt;00:00, 2615.15it/s]"
     }
    },
    "171aad155fe6410587dfbbeda32e8433": {
     "model_module": "@jupyter-widgets/controls",
     "model_module_version": "1.5.0",
     "model_name": "HTMLModel",
     "state": {
      "_dom_classes": [],
      "_model_module": "@jupyter-widgets/controls",
      "_model_module_version": "1.5.0",
      "_model_name": "HTMLModel",
      "_view_count": null,
      "_view_module": "@jupyter-widgets/controls",
      "_view_module_version": "1.5.0",
      "_view_name": "HTMLView",
      "description": "",
      "description_tooltip": null,
      "layout": "IPY_MODEL_661099b5ff324841b6bbde29f1b98485",
      "placeholder": "​",
      "style": "IPY_MODEL_1c81a277bcae4304b39a4bad3f1bd598",
      "value": " 126773/126773 [00:02&lt;00:00, 59084.76it/s]"
     }
    },
    "1c81a277bcae4304b39a4bad3f1bd598": {
     "model_module": "@jupyter-widgets/controls",
     "model_module_version": "1.5.0",
     "model_name": "DescriptionStyleModel",
     "state": {
      "_model_module": "@jupyter-widgets/controls",
      "_model_module_version": "1.5.0",
      "_model_name": "DescriptionStyleModel",
      "_view_count": null,
      "_view_module": "@jupyter-widgets/base",
      "_view_module_version": "1.2.0",
      "_view_name": "StyleView",
      "description_width": ""
     }
    },
    "39035ad9377b4c7eb6507486d6710a4d": {
     "model_module": "@jupyter-widgets/controls",
     "model_module_version": "1.5.0",
     "model_name": "DescriptionStyleModel",
     "state": {
      "_model_module": "@jupyter-widgets/controls",
      "_model_module_version": "1.5.0",
      "_model_name": "DescriptionStyleModel",
      "_view_count": null,
      "_view_module": "@jupyter-widgets/base",
      "_view_module_version": "1.2.0",
      "_view_name": "StyleView",
      "description_width": ""
     }
    },
    "44ef271d778a4b8cb4fd56b5f37b37cb": {
     "model_module": "@jupyter-widgets/controls",
     "model_module_version": "1.5.0",
     "model_name": "DescriptionStyleModel",
     "state": {
      "_model_module": "@jupyter-widgets/controls",
      "_model_module_version": "1.5.0",
      "_model_name": "DescriptionStyleModel",
      "_view_count": null,
      "_view_module": "@jupyter-widgets/base",
      "_view_module_version": "1.2.0",
      "_view_name": "StyleView",
      "description_width": ""
     }
    },
    "4b7f3fccad0146f5b5e6b158710e1c25": {
     "model_module": "@jupyter-widgets/controls",
     "model_module_version": "1.5.0",
     "model_name": "HTMLModel",
     "state": {
      "_dom_classes": [],
      "_model_module": "@jupyter-widgets/controls",
      "_model_module_version": "1.5.0",
      "_model_name": "HTMLModel",
      "_view_count": null,
      "_view_module": "@jupyter-widgets/controls",
      "_view_module_version": "1.5.0",
      "_view_name": "HTMLView",
      "description": "",
      "description_tooltip": null,
      "layout": "IPY_MODEL_d8a1f2fb88b849a28843961f03f1646e",
      "placeholder": "​",
      "style": "IPY_MODEL_ace8e3bd6fa64b47b1f18c45fd34b900",
      "value": ""
     }
    },
    "640ac63ac6df4c808b53d597df2b536e": {
     "model_module": "@jupyter-widgets/base",
     "model_module_version": "1.2.0",
     "model_name": "LayoutModel",
     "state": {
      "_model_module": "@jupyter-widgets/base",
      "_model_module_version": "1.2.0",
      "_model_name": "LayoutModel",
      "_view_count": null,
      "_view_module": "@jupyter-widgets/base",
      "_view_module_version": "1.2.0",
      "_view_name": "LayoutView",
      "align_content": null,
      "align_items": null,
      "align_self": null,
      "border": null,
      "bottom": null,
      "display": null,
      "flex": null,
      "flex_flow": null,
      "grid_area": null,
      "grid_auto_columns": null,
      "grid_auto_flow": null,
      "grid_auto_rows": null,
      "grid_column": null,
      "grid_gap": null,
      "grid_row": null,
      "grid_template_areas": null,
      "grid_template_columns": null,
      "grid_template_rows": null,
      "height": null,
      "justify_content": null,
      "justify_items": null,
      "left": null,
      "margin": null,
      "max_height": null,
      "max_width": null,
      "min_height": null,
      "min_width": null,
      "object_fit": null,
      "object_position": null,
      "order": null,
      "overflow": null,
      "overflow_x": null,
      "overflow_y": null,
      "padding": null,
      "right": null,
      "top": null,
      "visibility": null,
      "width": null
     }
    },
    "661099b5ff324841b6bbde29f1b98485": {
     "model_module": "@jupyter-widgets/base",
     "model_module_version": "1.2.0",
     "model_name": "LayoutModel",
     "state": {
      "_model_module": "@jupyter-widgets/base",
      "_model_module_version": "1.2.0",
      "_model_name": "LayoutModel",
      "_view_count": null,
      "_view_module": "@jupyter-widgets/base",
      "_view_module_version": "1.2.0",
      "_view_name": "LayoutView",
      "align_content": null,
      "align_items": null,
      "align_self": null,
      "border": null,
      "bottom": null,
      "display": null,
      "flex": null,
      "flex_flow": null,
      "grid_area": null,
      "grid_auto_columns": null,
      "grid_auto_flow": null,
      "grid_auto_rows": null,
      "grid_column": null,
      "grid_gap": null,
      "grid_row": null,
      "grid_template_areas": null,
      "grid_template_columns": null,
      "grid_template_rows": null,
      "height": null,
      "justify_content": null,
      "justify_items": null,
      "left": null,
      "margin": null,
      "max_height": null,
      "max_width": null,
      "min_height": null,
      "min_width": null,
      "object_fit": null,
      "object_position": null,
      "order": null,
      "overflow": null,
      "overflow_x": null,
      "overflow_y": null,
      "padding": null,
      "right": null,
      "top": null,
      "visibility": null,
      "width": null
     }
    },
    "8895ae2863e5434789b897a6c848cfa2": {
     "model_module": "@jupyter-widgets/controls",
     "model_module_version": "1.5.0",
     "model_name": "FloatProgressModel",
     "state": {
      "_dom_classes": [],
      "_model_module": "@jupyter-widgets/controls",
      "_model_module_version": "1.5.0",
      "_model_name": "FloatProgressModel",
      "_view_count": null,
      "_view_module": "@jupyter-widgets/controls",
      "_view_module_version": "1.5.0",
      "_view_name": "ProgressView",
      "bar_style": "success",
      "description": "",
      "description_tooltip": null,
      "layout": "IPY_MODEL_9d4ed9363ea74a4fa6126af80978035d",
      "max": 1,
      "min": 0,
      "orientation": "horizontal",
      "style": "IPY_MODEL_c986fd8eea09493b8b0f8ca80853ea9b",
      "value": 1
     }
    },
    "8b409e82ad5e4925b386d74c38606f2a": {
     "model_module": "@jupyter-widgets/base",
     "model_module_version": "1.2.0",
     "model_name": "LayoutModel",
     "state": {
      "_model_module": "@jupyter-widgets/base",
      "_model_module_version": "1.2.0",
      "_model_name": "LayoutModel",
      "_view_count": null,
      "_view_module": "@jupyter-widgets/base",
      "_view_module_version": "1.2.0",
      "_view_name": "LayoutView",
      "align_content": null,
      "align_items": null,
      "align_self": null,
      "border": null,
      "bottom": null,
      "display": null,
      "flex": null,
      "flex_flow": null,
      "grid_area": null,
      "grid_auto_columns": null,
      "grid_auto_flow": null,
      "grid_auto_rows": null,
      "grid_column": null,
      "grid_gap": null,
      "grid_row": null,
      "grid_template_areas": null,
      "grid_template_columns": null,
      "grid_template_rows": null,
      "height": null,
      "justify_content": null,
      "justify_items": null,
      "left": null,
      "margin": null,
      "max_height": null,
      "max_width": null,
      "min_height": null,
      "min_width": null,
      "object_fit": null,
      "object_position": null,
      "order": null,
      "overflow": null,
      "overflow_x": null,
      "overflow_y": null,
      "padding": null,
      "right": null,
      "top": null,
      "visibility": null,
      "width": null
     }
    },
    "8c16972b02ea4f02bbbdf82c06a639b3": {
     "model_module": "@jupyter-widgets/controls",
     "model_module_version": "1.5.0",
     "model_name": "HBoxModel",
     "state": {
      "_dom_classes": [],
      "_model_module": "@jupyter-widgets/controls",
      "_model_module_version": "1.5.0",
      "_model_name": "HBoxModel",
      "_view_count": null,
      "_view_module": "@jupyter-widgets/controls",
      "_view_module_version": "1.5.0",
      "_view_name": "HBoxView",
      "box_style": "",
      "children": [
       "IPY_MODEL_db8a29a0c4604a1a8c4c38d466f44438",
       "IPY_MODEL_a4d3fa587dc249729828161de2f8acf6",
       "IPY_MODEL_171aad155fe6410587dfbbeda32e8433"
      ],
      "layout": "IPY_MODEL_640ac63ac6df4c808b53d597df2b536e"
     }
    },
    "959fb2d7c8144c759d11ec2f382716cb": {
     "model_module": "@jupyter-widgets/base",
     "model_module_version": "1.2.0",
     "model_name": "LayoutModel",
     "state": {
      "_model_module": "@jupyter-widgets/base",
      "_model_module_version": "1.2.0",
      "_model_name": "LayoutModel",
      "_view_count": null,
      "_view_module": "@jupyter-widgets/base",
      "_view_module_version": "1.2.0",
      "_view_name": "LayoutView",
      "align_content": null,
      "align_items": null,
      "align_self": null,
      "border": null,
      "bottom": null,
      "display": null,
      "flex": null,
      "flex_flow": null,
      "grid_area": null,
      "grid_auto_columns": null,
      "grid_auto_flow": null,
      "grid_auto_rows": null,
      "grid_column": null,
      "grid_gap": null,
      "grid_row": null,
      "grid_template_areas": null,
      "grid_template_columns": null,
      "grid_template_rows": null,
      "height": null,
      "justify_content": null,
      "justify_items": null,
      "left": null,
      "margin": null,
      "max_height": null,
      "max_width": null,
      "min_height": null,
      "min_width": null,
      "object_fit": null,
      "object_position": null,
      "order": null,
      "overflow": null,
      "overflow_x": null,
      "overflow_y": null,
      "padding": null,
      "right": null,
      "top": null,
      "visibility": null,
      "width": null
     }
    },
    "97cd4a83097f4f5b84f01ad28f9f5695": {
     "model_module": "@jupyter-widgets/base",
     "model_module_version": "1.2.0",
     "model_name": "LayoutModel",
     "state": {
      "_model_module": "@jupyter-widgets/base",
      "_model_module_version": "1.2.0",
      "_model_name": "LayoutModel",
      "_view_count": null,
      "_view_module": "@jupyter-widgets/base",
      "_view_module_version": "1.2.0",
      "_view_name": "LayoutView",
      "align_content": null,
      "align_items": null,
      "align_self": null,
      "border": null,
      "bottom": null,
      "display": null,
      "flex": null,
      "flex_flow": null,
      "grid_area": null,
      "grid_auto_columns": null,
      "grid_auto_flow": null,
      "grid_auto_rows": null,
      "grid_column": null,
      "grid_gap": null,
      "grid_row": null,
      "grid_template_areas": null,
      "grid_template_columns": null,
      "grid_template_rows": null,
      "height": null,
      "justify_content": null,
      "justify_items": null,
      "left": null,
      "margin": null,
      "max_height": null,
      "max_width": null,
      "min_height": null,
      "min_width": null,
      "object_fit": null,
      "object_position": null,
      "order": null,
      "overflow": null,
      "overflow_x": null,
      "overflow_y": null,
      "padding": null,
      "right": null,
      "top": null,
      "visibility": null,
      "width": null
     }
    },
    "9cef737c75c349baa16f7499c4253212": {
     "model_module": "@jupyter-widgets/controls",
     "model_module_version": "1.5.0",
     "model_name": "HBoxModel",
     "state": {
      "_dom_classes": [],
      "_model_module": "@jupyter-widgets/controls",
      "_model_module_version": "1.5.0",
      "_model_name": "HBoxModel",
      "_view_count": null,
      "_view_module": "@jupyter-widgets/controls",
      "_view_module_version": "1.5.0",
      "_view_name": "HBoxView",
      "box_style": "",
      "children": [
       "IPY_MODEL_4b7f3fccad0146f5b5e6b158710e1c25",
       "IPY_MODEL_8895ae2863e5434789b897a6c848cfa2",
       "IPY_MODEL_09e6bc06f5f04f62b57509a6450c58bd"
      ],
      "layout": "IPY_MODEL_959fb2d7c8144c759d11ec2f382716cb"
     }
    },
    "9d4ed9363ea74a4fa6126af80978035d": {
     "model_module": "@jupyter-widgets/base",
     "model_module_version": "1.2.0",
     "model_name": "LayoutModel",
     "state": {
      "_model_module": "@jupyter-widgets/base",
      "_model_module_version": "1.2.0",
      "_model_name": "LayoutModel",
      "_view_count": null,
      "_view_module": "@jupyter-widgets/base",
      "_view_module_version": "1.2.0",
      "_view_name": "LayoutView",
      "align_content": null,
      "align_items": null,
      "align_self": null,
      "border": null,
      "bottom": null,
      "display": null,
      "flex": null,
      "flex_flow": null,
      "grid_area": null,
      "grid_auto_columns": null,
      "grid_auto_flow": null,
      "grid_auto_rows": null,
      "grid_column": null,
      "grid_gap": null,
      "grid_row": null,
      "grid_template_areas": null,
      "grid_template_columns": null,
      "grid_template_rows": null,
      "height": null,
      "justify_content": null,
      "justify_items": null,
      "left": null,
      "margin": null,
      "max_height": null,
      "max_width": null,
      "min_height": null,
      "min_width": null,
      "object_fit": null,
      "object_position": null,
      "order": null,
      "overflow": null,
      "overflow_x": null,
      "overflow_y": null,
      "padding": null,
      "right": null,
      "top": null,
      "visibility": null,
      "width": "20px"
     }
    },
    "a4d3fa587dc249729828161de2f8acf6": {
     "model_module": "@jupyter-widgets/controls",
     "model_module_version": "1.5.0",
     "model_name": "FloatProgressModel",
     "state": {
      "_dom_classes": [],
      "_model_module": "@jupyter-widgets/controls",
      "_model_module_version": "1.5.0",
      "_model_name": "FloatProgressModel",
      "_view_count": null,
      "_view_module": "@jupyter-widgets/controls",
      "_view_module_version": "1.5.0",
      "_view_name": "ProgressView",
      "bar_style": "success",
      "description": "",
      "description_tooltip": null,
      "layout": "IPY_MODEL_97cd4a83097f4f5b84f01ad28f9f5695",
      "max": 126773,
      "min": 0,
      "orientation": "horizontal",
      "style": "IPY_MODEL_bfdd48701ef64e4fad8bdbd9b998c3d0",
      "value": 126773
     }
    },
    "ace8e3bd6fa64b47b1f18c45fd34b900": {
     "model_module": "@jupyter-widgets/controls",
     "model_module_version": "1.5.0",
     "model_name": "DescriptionStyleModel",
     "state": {
      "_model_module": "@jupyter-widgets/controls",
      "_model_module_version": "1.5.0",
      "_model_name": "DescriptionStyleModel",
      "_view_count": null,
      "_view_module": "@jupyter-widgets/base",
      "_view_module_version": "1.2.0",
      "_view_name": "StyleView",
      "description_width": ""
     }
    },
    "bfdd48701ef64e4fad8bdbd9b998c3d0": {
     "model_module": "@jupyter-widgets/controls",
     "model_module_version": "1.5.0",
     "model_name": "ProgressStyleModel",
     "state": {
      "_model_module": "@jupyter-widgets/controls",
      "_model_module_version": "1.5.0",
      "_model_name": "ProgressStyleModel",
      "_view_count": null,
      "_view_module": "@jupyter-widgets/base",
      "_view_module_version": "1.2.0",
      "_view_name": "StyleView",
      "bar_color": null,
      "description_width": ""
     }
    },
    "c986fd8eea09493b8b0f8ca80853ea9b": {
     "model_module": "@jupyter-widgets/controls",
     "model_module_version": "1.5.0",
     "model_name": "ProgressStyleModel",
     "state": {
      "_model_module": "@jupyter-widgets/controls",
      "_model_module_version": "1.5.0",
      "_model_name": "ProgressStyleModel",
      "_view_count": null,
      "_view_module": "@jupyter-widgets/base",
      "_view_module_version": "1.2.0",
      "_view_name": "StyleView",
      "bar_color": null,
      "description_width": ""
     }
    },
    "d8a1f2fb88b849a28843961f03f1646e": {
     "model_module": "@jupyter-widgets/base",
     "model_module_version": "1.2.0",
     "model_name": "LayoutModel",
     "state": {
      "_model_module": "@jupyter-widgets/base",
      "_model_module_version": "1.2.0",
      "_model_name": "LayoutModel",
      "_view_count": null,
      "_view_module": "@jupyter-widgets/base",
      "_view_module_version": "1.2.0",
      "_view_name": "LayoutView",
      "align_content": null,
      "align_items": null,
      "align_self": null,
      "border": null,
      "bottom": null,
      "display": null,
      "flex": null,
      "flex_flow": null,
      "grid_area": null,
      "grid_auto_columns": null,
      "grid_auto_flow": null,
      "grid_auto_rows": null,
      "grid_column": null,
      "grid_gap": null,
      "grid_row": null,
      "grid_template_areas": null,
      "grid_template_columns": null,
      "grid_template_rows": null,
      "height": null,
      "justify_content": null,
      "justify_items": null,
      "left": null,
      "margin": null,
      "max_height": null,
      "max_width": null,
      "min_height": null,
      "min_width": null,
      "object_fit": null,
      "object_position": null,
      "order": null,
      "overflow": null,
      "overflow_x": null,
      "overflow_y": null,
      "padding": null,
      "right": null,
      "top": null,
      "visibility": null,
      "width": null
     }
    },
    "db8a29a0c4604a1a8c4c38d466f44438": {
     "model_module": "@jupyter-widgets/controls",
     "model_module_version": "1.5.0",
     "model_name": "HTMLModel",
     "state": {
      "_dom_classes": [],
      "_model_module": "@jupyter-widgets/controls",
      "_model_module_version": "1.5.0",
      "_model_name": "HTMLModel",
      "_view_count": null,
      "_view_module": "@jupyter-widgets/controls",
      "_view_module_version": "1.5.0",
      "_view_name": "HTMLView",
      "description": "",
      "description_tooltip": null,
      "layout": "IPY_MODEL_8b409e82ad5e4925b386d74c38606f2a",
      "placeholder": "​",
      "style": "IPY_MODEL_44ef271d778a4b8cb4fd56b5f37b37cb",
      "value": "100%"
     }
    },
    "e450fcecc6274e89abc040f6411fd922": {
     "model_module": "@jupyter-widgets/base",
     "model_module_version": "1.2.0",
     "model_name": "LayoutModel",
     "state": {
      "_model_module": "@jupyter-widgets/base",
      "_model_module_version": "1.2.0",
      "_model_name": "LayoutModel",
      "_view_count": null,
      "_view_module": "@jupyter-widgets/base",
      "_view_module_version": "1.2.0",
      "_view_name": "LayoutView",
      "align_content": null,
      "align_items": null,
      "align_self": null,
      "border": null,
      "bottom": null,
      "display": null,
      "flex": null,
      "flex_flow": null,
      "grid_area": null,
      "grid_auto_columns": null,
      "grid_auto_flow": null,
      "grid_auto_rows": null,
      "grid_column": null,
      "grid_gap": null,
      "grid_row": null,
      "grid_template_areas": null,
      "grid_template_columns": null,
      "grid_template_rows": null,
      "height": null,
      "justify_content": null,
      "justify_items": null,
      "left": null,
      "margin": null,
      "max_height": null,
      "max_width": null,
      "min_height": null,
      "min_width": null,
      "object_fit": null,
      "object_position": null,
      "order": null,
      "overflow": null,
      "overflow_x": null,
      "overflow_y": null,
      "padding": null,
      "right": null,
      "top": null,
      "visibility": null,
      "width": null
     }
    }
   }
  }
 },
 "nbformat": 4,
 "nbformat_minor": 1
}
