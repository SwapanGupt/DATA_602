{
  "nbformat": 4,
  "nbformat_minor": 0,
  "metadata": {
    "colab": {
      "name": "Swapan_Gupta_Week09.ipynb",
      "provenance": []
    },
    "kernelspec": {
      "name": "python3",
      "display_name": "Python 3"
    },
    "language_info": {
      "name": "python"
    }
  },
  "cells": [
    {
      "cell_type": "markdown",
      "metadata": {
        "id": "hBKR8i2E6Vkg"
      },
      "source": [
        "#Preamble"
      ]
    },
    {
      "cell_type": "code",
      "metadata": {
        "id": "Ui7W9XYB6BID",
        "colab": {
          "base_uri": "https://localhost:8080/"
        },
        "outputId": "23f2adc1-97da-4c0a-9867-7577b72066ba"
      },
      "source": [
        "from google.colab import drive\n",
        "import numpy as np\n",
        "drive.mount(\"/content/drive\")"
      ],
      "execution_count": 144,
      "outputs": [
        {
          "output_type": "stream",
          "name": "stdout",
          "text": [
            "Drive already mounted at /content/drive; to attempt to forcibly remount, call drive.mount(\"/content/drive\", force_remount=True).\n"
          ]
        }
      ]
    },
    {
      "cell_type": "markdown",
      "metadata": {
        "id": "IWNU2DnK8jpJ"
      },
      "source": [
        "For convenience, the `plot_silhouette` function discussed in class is below."
      ]
    },
    {
      "cell_type": "code",
      "metadata": {
        "id": "UjSDhZtb8hxq"
      },
      "source": [
        "import matplotlib.cm as cm\n",
        "def plot_silhouette(samples,\n",
        "                    labels, \n",
        "                    ax=None,\n",
        "                    cmap='Dark2'):\n",
        "  if (ax is None):\n",
        "    ax = plt.gca()\n",
        "\n",
        "  # sort samples by label, and add index\n",
        "  df = (np\n",
        "     .c_[samples, labels]\n",
        "     .view(dtype=[(\"samples\", float), (\"labels\", float)]))\n",
        "  df.sort(axis=0, order=[\"labels\", \"samples\"])\n",
        "  df = np.c_[df.view(float), np.arange(df.shape[0])]\n",
        "\n",
        "  # bar plot\n",
        "  z = ax.barh(df[:,2], df[:,0], 1)\n",
        "\n",
        "  #color map for plotting\n",
        "  cmap = cm.get_cmap(cmap)\n",
        "\n",
        "  #set bar colors\n",
        "  maxcluster = np.max(df[:, 1])\n",
        "  for ix, k in enumerate(df):\n",
        "    z[ix].set_color(cmap(k[1]/maxcluster))\n",
        "\n",
        "  #label y axis ticks\n",
        "  yticks = []\n",
        "  yticklabels = []\n",
        "\n",
        "  bounds = np.r_[np.argwhere(np.diff(df[:,1], prepend=[0]) > 0).ravel(), \n",
        "                 df.shape[0]].ravel()\n",
        "  for ix, b in enumerate(bounds):\n",
        "    low = bounds[ix - 1] if ix > 0 else 0\n",
        "    high = b\n",
        "    yticks.append((low + high)/2)\n",
        "    yticklabels.append(df[low,1].astype(labels.dtype))\n",
        "\n",
        "  #axis decorations\n",
        "  bounds, yticks, yticklabels\n",
        "  ax.set_yticks(yticks)\n",
        "  ax.set_yticklabels(yticklabels)\n",
        "  ax.grid()\n",
        "  ax.set_ylabel(\"Cluster\")\n",
        "  ax.set_xlabel(\"Silhouette\")\n",
        "  return ax"
      ],
      "execution_count": 145,
      "outputs": []
    },
    {
      "cell_type": "markdown",
      "metadata": {
        "id": "T6DJBf096oT7"
      },
      "source": [
        "# Problem 1\n",
        "\n",
        "In the 602 shared drive, the file /data/cluster.txt contains a features matrix $\\mathbf{X}\\in\\mathbb{R}^{10,000\\times20}$.  (You can use `np.loadtxt` to read the file as a numpy matrix.)  This features was generated from scikit-learn's `make_blobs` function with parameters of `n_features=20` and centers uniformly distributed in $[-5, 5]$ along each axis.  The dataset was produced with at least 5 but no more than 15 clusters.  Find the number of clusters used to generate the dataset (i.e., $k$ that best clusters the data), and justify your conclusion using silhouette plots.\n"
      ]
    },
    {
      "cell_type": "code",
      "metadata": {
        "id": "AtTTr5WAXxbF"
      },
      "source": [
        "X = np.loadtxt('/content/drive/Shareddrives/DS602-S22/Data/cluster.txt')"
      ],
      "execution_count": 146,
      "outputs": []
    },
    {
      "cell_type": "code",
      "metadata": {
        "id": "1PM27iAkZuX8"
      },
      "source": [
        "import matplotlib.pyplot as plt\n",
        "from sklearn.datasets import make_blobs\n",
        "from sklearn.cluster import KMeans\n",
        "from sklearn.metrics import silhouette_score\n",
        "from sklearn.preprocessing import StandardScaler\n",
        "from sklearn.cluster import KMeans"
      ],
      "execution_count": 147,
      "outputs": []
    },
    {
      "cell_type": "code",
      "source": [
        "scaler = StandardScaler()\n",
        "scaled_features = scaler.fit_transform(X)"
      ],
      "metadata": {
        "id": "V-41z2nkQgIs"
      },
      "execution_count": 148,
      "outputs": []
    },
    {
      "cell_type": "code",
      "source": [
        "kmeans = KMeans( init=\"random\",n_clusters=5 ,n_init=10,max_iter=300,random_state=42 )"
      ],
      "metadata": {
        "id": "hHnTGhHnQnup"
      },
      "execution_count": 149,
      "outputs": []
    },
    {
      "cell_type": "code",
      "source": [
        "kmeans.fit(scaled_features)"
      ],
      "metadata": {
        "colab": {
          "base_uri": "https://localhost:8080/"
        },
        "id": "kujFJ5p6Qo7p",
        "outputId": "6dbba2de-d178-45f4-b4b2-275b2b70d513"
      },
      "execution_count": 150,
      "outputs": [
        {
          "output_type": "execute_result",
          "data": {
            "text/plain": [
              "KMeans(init='random', n_clusters=5, random_state=42)"
            ]
          },
          "metadata": {},
          "execution_count": 150
        }
      ]
    },
    {
      "cell_type": "code",
      "source": [
        "kmeans_kwargs = {\"init\": \"random\",\"n_init\": 10,\"max_iter\": 300,\"random_state\": 42}"
      ],
      "metadata": {
        "id": "IoX9GDP5Qs63"
      },
      "execution_count": 151,
      "outputs": []
    },
    {
      "cell_type": "code",
      "source": [
        "silhouette_coefficients = []\n",
        "for k in range(5, 12):\n",
        "  kmeans = KMeans(n_clusters=k, **kmeans_kwargs)\n",
        "  kmeans.fit(scaled_features)\n",
        "  score = silhouette_score(scaled_features, kmeans.labels_) \n",
        "  silhouette_coefficients.append(score)"
      ],
      "metadata": {
        "id": "WzQifC6BHZja"
      },
      "execution_count": 152,
      "outputs": []
    },
    {
      "cell_type": "code",
      "source": [
        "plt.plot(range(5, 12), silhouette_coefficients)\n",
        "plt.xticks(range(5, 12))\n",
        "plt.xlabel(\"Number of Clusters\")\n",
        "plt.ylabel(\"Silhouette Coefficient\")\n",
        "plt.show()"
      ],
      "metadata": {
        "colab": {
          "base_uri": "https://localhost:8080/",
          "height": 279
        },
        "id": "JkzRN14xHb7g",
        "outputId": "ff297fc0-ad45-4a76-c37c-03fe08e8df67"
      },
      "execution_count": 153,
      "outputs": [
        {
          "output_type": "display_data",
          "data": {
            "text/plain": [
              "<Figure size 432x288 with 1 Axes>"
            ],
            "image/png": "[encoded data removed]"
          },
          "metadata": {
            "needs_background": "light"
          }
        }
      ]
    },
    {
      "cell_type": "code",
      "source": [
        "from sklearn.metrics import silhouette_samples, silhouette_score\n",
        "sil_scores=[]\n",
        "fig, ax = plt.subplots(2, 3, figsize=(14,10))\n",
        "for x, ax in enumerate(ax.ravel()):\n",
        "  clusters = x + 2\n",
        "  K_Mean_Model = KMeans(clusters)\n",
        "  K_Mean_Model.fit(X)\n",
        "  labels_predict = K_Mean_Model.predict(X)\n",
        "  silh_score = round(silhouette_score(X, labels_predict), 3)\n",
        "  sil_scores.append(silh_score)\n",
        "  sil_samp = silhouette_samples(X, labels_predict)\n",
        "  plot_silhouette(sil_samp, clusters-labels_predict,cmap='Dark2', ax=ax)\n",
        "  ax.set_title(f\"$n={clusters},Silhoute Score={silh_score}$\")"
      ],
      "metadata": {
        "colab": {
          "base_uri": "https://localhost:8080/",
          "height": 623
        },
        "id": "0r7Pc2drLfYL",
        "outputId": "51102eb6-368a-4f65-befa-633afd89cbd1"
      },
      "execution_count": 155,
      "outputs": [
        {
          "output_type": "display_data",
          "data": {
            "text/plain": [
              "<Figure size 1008x720 with 6 Axes>"
            ],
            "image/png": "[encoded data removed]"
          },
          "metadata": {
            "needs_background": "light"
          }
        }
      ]
    },
    {
      "cell_type": "code",
      "source": [
        "sil_scores "
      ],
      "metadata": {
        "colab": {
          "base_uri": "https://localhost:8080/"
        },
        "id": "BAoCeQRu06Ro",
        "outputId": "fed1e2d9-5164-4ede-8074-6cce5b261f84"
      },
      "execution_count": 156,
      "outputs": [
        {
          "output_type": "execute_result",
          "data": {
            "text/plain": [
              "[0.363, 0.405, 0.5, 0.584, 0.469, 0.361]"
            ]
          },
          "metadata": {},
          "execution_count": 156
        }
      ]
    },
    {
      "cell_type": "code",
      "source": [
        "n=1\n",
        "for i in range(0, len(sil_scores)):\n",
        "  n+=1 \n",
        "  print(\"For n=\",n) \n",
        "  print(\"Silhouette Score is:\",sil_scores[i])  "
      ],
      "metadata": {
        "colab": {
          "base_uri": "https://localhost:8080/"
        },
        "id": "-T2fmP6F9aDG",
        "outputId": "e6743414-75aa-4d47-fdb6-4c57cc5bbb80"
      },
      "execution_count": 157,
      "outputs": [
        {
          "output_type": "stream",
          "name": "stdout",
          "text": [
            "For n= 2\n",
            "Silhouette Score is: 0.363\n",
            "For n= 3\n",
            "Silhouette Score is: 0.405\n",
            "For n= 4\n",
            "Silhouette Score is: 0.5\n",
            "For n= 5\n",
            "Silhouette Score is: 0.584\n",
            "For n= 6\n",
            "Silhouette Score is: 0.469\n",
            "For n= 7\n",
            "Silhouette Score is: 0.361\n"
          ]
        }
      ]
    },
    {
      "cell_type": "markdown",
      "source": [
        "### From the above result we can see that highest Silhouette Score is for cluster n=5"
      ],
      "metadata": {
        "id": "mwKQ5gckA8-2"
      }
    },
    {
      "cell_type": "markdown",
      "metadata": {
        "id": "5NqlcQa3_cD8"
      },
      "source": [
        "# Problem 2\n",
        "The Fashion-MNIST dataset is a dataset of 10,000 grayscale images of size $28\\times28$.  Each image depicts an article of clothing.  Load the dataset from OpenML (the dataset name is \"Fashion-MNIST\") and retain only the first 5,000 images.  Find an optimal number of Gaussian components based on the Akaike Information Criterion (AIC), and use the AIC scores to cluster the data using a GMM.  Visually inspect the model outcomes.  Is the clustering the model selected meaningful (e.g., are the cluster separations intuitive)?"
      ]
    },
    {
      "cell_type": "code",
      "metadata": {
        "id": "Bi52e8JLX1gf"
      },
      "source": [
        "from sklearn.datasets import fetch_openml\n",
        "X, _ = fetch_openml(\"Fashion-MNIST\", return_X_y=True, as_frame=False)\n",
        "# keep only the first 5,000 images\n",
        "X = X[:5000,:]"
      ],
      "execution_count": 158,
      "outputs": []
    },
    {
      "cell_type": "code",
      "source": [
        "from sklearn.mixture import GaussianMixture\n",
        "from sklearn.datasets import make_classification\n",
        "import pandas as pd\n",
        "recs = []\n",
        "for n in range(2,9):\n",
        "  gmm=GaussianMixture(n_components=n)\n",
        "  gmm.fit(X)\n",
        "  aic=gmm.aic(X)\n",
        "  recs.append([n,gmm.aic(X)])\n",
        "  print(\"For N =\", n)\n",
        "  print(f\"AIC={aic}\")"
      ],
      "metadata": {
        "colab": {
          "base_uri": "https://localhost:8080/"
        },
        "id": "EYxB6O8Mdkb9",
        "outputId": "94f40f28-7fca-4af1-d6fb-b1f114fa7fd0"
      },
      "execution_count": 159,
      "outputs": [
        {
          "output_type": "stream",
          "name": "stdout",
          "text": [
            "For N = 2\n",
            "AIC=33131036.43801663\n",
            "For N = 3\n",
            "AIC=27831770.813545283\n",
            "For N = 4\n",
            "AIC=27499136.854878224\n",
            "For N = 5\n",
            "AIC=22947043.305536486\n",
            "For N = 6\n",
            "AIC=21659297.97748526\n",
            "For N = 7\n",
            "AIC=15931327.652368965\n",
            "For N = 8\n",
            "AIC=14118597.501585428\n"
          ]
        }
      ]
    },
    {
      "cell_type": "code",
      "source": [
        "plt.plot(recs)\n",
        "plt.legend(['n','AIC'])\n",
        "plt.xlabel('n')\n",
        "plt.ylabel(\"AIC\")\n",
        "plt.show()"
      ],
      "metadata": {
        "colab": {
          "base_uri": "https://localhost:8080/",
          "height": 290
        },
        "id": "3M4wYBaZiWKR",
        "outputId": "11c845c2-72ad-4b02-8e29-5cda158fa066"
      },
      "execution_count": 160,
      "outputs": [
        {
          "output_type": "display_data",
          "data": {
            "text/plain": [
              "<Figure size 432x288 with 1 Axes>"
            ],
            "image/png": "[encoded data removed]"
          },
          "metadata": {
            "needs_background": "light"
          }
        }
      ]
    },
    {
      "cell_type": "code",
      "source": [
        "gmm = GaussianMixture(n_components=2, n_init=10,verbose=3,verbose_interval=1)\n",
        "y_pred = gmm.fit_predict(X)"
      ],
      "metadata": {
        "colab": {
          "base_uri": "https://localhost:8080/"
        },
        "id": "7D2cKL88mPyt",
        "outputId": "981caeda-daaf-4fd9-aac1-a336aec839b4"
      },
      "execution_count": 161,
      "outputs": [
        {
          "output_type": "stream",
          "name": "stdout",
          "text": [
            "Initialization 0\n",
            "  Iteration 1\t time lapse 2.52425s\t ll change inf\n",
            "  Iteration 2\t time lapse 1.16020s\t ll change 30.83206\n",
            "  Iteration 3\t time lapse 1.13359s\t ll change 7.27401\n",
            "  Iteration 4\t time lapse 1.12645s\t ll change 1.06202\n",
            "  Iteration 5\t time lapse 1.15470s\t ll change 0.00000\n",
            "Initialization converged: True\t time lapse 7.10024s\t ll -3189.70184\n",
            "Initialization 1\n",
            "  Iteration 1\t time lapse 2.58861s\t ll change inf\n",
            "  Iteration 2\t time lapse 1.13168s\t ll change 30.77784\n",
            "  Iteration 3\t time lapse 1.15176s\t ll change 7.10626\n",
            "  Iteration 4\t time lapse 1.13193s\t ll change 0.79748\n",
            "  Iteration 5\t time lapse 1.12439s\t ll change 0.00000\n",
            "Initialization converged: True\t time lapse 7.12857s\t ll -3191.55714\n",
            "Initialization 2\n",
            "  Iteration 1\t time lapse 2.42167s\t ll change inf\n",
            "  Iteration 2\t time lapse 1.11612s\t ll change 30.83206\n",
            "  Iteration 3\t time lapse 1.13260s\t ll change 7.27401\n",
            "  Iteration 4\t time lapse 1.79365s\t ll change 1.06202\n",
            "  Iteration 5\t time lapse 1.13411s\t ll change 0.00000\n",
            "Initialization converged: True\t time lapse 7.59915s\t ll -3189.70184\n",
            "Initialization 3\n",
            "  Iteration 1\t time lapse 2.57852s\t ll change inf\n",
            "  Iteration 2\t time lapse 1.15886s\t ll change 30.77784\n",
            "  Iteration 3\t time lapse 1.14288s\t ll change 7.10626\n",
            "  Iteration 4\t time lapse 1.14014s\t ll change 0.79748\n",
            "  Iteration 5\t time lapse 1.17633s\t ll change 0.00000\n",
            "Initialization converged: True\t time lapse 7.19772s\t ll -3191.55714\n",
            "Initialization 4\n",
            "  Iteration 1\t time lapse 2.47799s\t ll change inf\n",
            "  Iteration 2\t time lapse 1.13863s\t ll change 30.77784\n",
            "  Iteration 3\t time lapse 1.14808s\t ll change 7.10626\n",
            "  Iteration 4\t time lapse 1.10774s\t ll change 0.79748\n",
            "  Iteration 5\t time lapse 1.12109s\t ll change 0.00000\n",
            "Initialization converged: True\t time lapse 6.99449s\t ll -3191.55714\n",
            "Initialization 5\n",
            "  Iteration 1\t time lapse 2.51786s\t ll change inf\n",
            "  Iteration 2\t time lapse 1.14079s\t ll change 30.77784\n",
            "  Iteration 3\t time lapse 1.12659s\t ll change 7.10626\n",
            "  Iteration 4\t time lapse 1.15626s\t ll change 0.79748\n",
            "  Iteration 5\t time lapse 1.12193s\t ll change 0.00000\n",
            "Initialization converged: True\t time lapse 7.06438s\t ll -3191.55714\n",
            "Initialization 6\n",
            "  Iteration 1\t time lapse 2.57496s\t ll change inf\n",
            "  Iteration 2\t time lapse 1.12711s\t ll change 30.77784\n",
            "  Iteration 3\t time lapse 1.17607s\t ll change 7.10626\n",
            "  Iteration 4\t time lapse 1.12930s\t ll change 0.79748\n",
            "  Iteration 5\t time lapse 1.13121s\t ll change 0.00000\n",
            "Initialization converged: True\t time lapse 7.14251s\t ll -3191.55714\n",
            "Initialization 7\n",
            "  Iteration 1\t time lapse 2.40990s\t ll change inf\n",
            "  Iteration 2\t time lapse 1.11068s\t ll change 30.83206\n",
            "  Iteration 3\t time lapse 1.15769s\t ll change 7.27401\n",
            "  Iteration 4\t time lapse 1.11602s\t ll change 1.06202\n",
            "  Iteration 5\t time lapse 1.10441s\t ll change 0.00000\n",
            "Initialization converged: True\t time lapse 6.89967s\t ll -3189.70184\n",
            "Initialization 8\n",
            "  Iteration 1\t time lapse 2.46786s\t ll change inf\n",
            "  Iteration 2\t time lapse 1.14928s\t ll change 30.83206\n",
            "  Iteration 3\t time lapse 1.13770s\t ll change 7.27401\n",
            "  Iteration 4\t time lapse 1.15801s\t ll change 1.06202\n",
            "  Iteration 5\t time lapse 1.15183s\t ll change 0.00000\n",
            "Initialization converged: True\t time lapse 7.06560s\t ll -3189.70184\n",
            "Initialization 9\n",
            "  Iteration 1\t time lapse 2.50096s\t ll change inf\n",
            "  Iteration 2\t time lapse 1.14647s\t ll change 30.77784\n",
            "  Iteration 3\t time lapse 1.11150s\t ll change 7.10626\n",
            "  Iteration 4\t time lapse 1.12010s\t ll change 0.79748\n",
            "  Iteration 5\t time lapse 1.15761s\t ll change 0.00000\n",
            "Initialization converged: True\t time lapse 7.03764s\t ll -3191.55714\n"
          ]
        }
      ]
    },
    {
      "cell_type": "markdown",
      "metadata": {
        "id": "2Sz7KbxCJdQr"
      },
      "source": [
        "# Problem 3\n",
        "Import the MNIST-784 dataset (handwritten numbers), and keep only observations labeled as \"7\".   Using an outlier detection method of your choice, identify outlier observations, i.e., observations that do not resemble other observations in the dataset.  Display a sample of 5-10 detected outlier observations."
      ]
    },
    {
      "cell_type": "code",
      "metadata": {
        "id": "5rUCDd6uX6WD"
      },
      "source": [
        "x, labels= fetch_openml('mnist_784', version=1, return_X_y=True)"
      ],
      "execution_count": 162,
      "outputs": []
    },
    {
      "cell_type": "code",
      "source": [
        "data = np.array(x.loc[labels=='7', :])"
      ],
      "metadata": {
        "id": "9lgkhbVlsHqL"
      },
      "execution_count": 163,
      "outputs": []
    },
    {
      "cell_type": "code",
      "source": [
        "from sklearn.neighbors import LocalOutlierFactor\n",
        "loc_out = LocalOutlierFactor(contamination=0.01)\n",
        "outlier_scores=loc_out.fit_predict(data)"
      ],
      "metadata": {
        "id": "0YypVc_RsulT"
      },
      "execution_count": 164,
      "outputs": []
    },
    {
      "cell_type": "code",
      "source": [
        "outliers = np.where(-1 == outlier_scores)\n",
        "print(\"Number of outliers are\",len(outliers[0]))"
      ],
      "metadata": {
        "colab": {
          "base_uri": "https://localhost:8080/"
        },
        "id": "Yw1_Orm0s_O3",
        "outputId": "e46fae30-75f7-4789-a9d7-3a16745adbfe"
      },
      "execution_count": 165,
      "outputs": [
        {
          "output_type": "stream",
          "name": "stdout",
          "text": [
            "Number of outliers are 73\n"
          ]
        }
      ]
    },
    {
      "cell_type": "code",
      "source": [
        "outliers[0]\n",
        "sample = [data[x] for x in outliers[0]]\n",
        "t = np.array(sample)\n",
        "np.shape(t)"
      ],
      "metadata": {
        "colab": {
          "base_uri": "https://localhost:8080/"
        },
        "id": "c2CDPXzTtcus",
        "outputId": "2d367cc8-8d5e-463d-cd0c-cc3d15afb161"
      },
      "execution_count": 166,
      "outputs": [
        {
          "output_type": "execute_result",
          "data": {
            "text/plain": [
              "(73, 784)"
            ]
          },
          "metadata": {},
          "execution_count": 166
        }
      ]
    },
    {
      "cell_type": "code",
      "source": [
        "fig, axes = plt.subplots(3,3,figsize=(10,10))\n",
        "for i, ax in enumerate(axes.flatten()):\n",
        "    ax.imshow(t[i].reshape((28,28)))\n",
        "plt.show()"
      ],
      "metadata": {
        "colab": {
          "base_uri": "https://localhost:8080/",
          "height": 593
        },
        "id": "G_MnAVZevylC",
        "outputId": "8f8d3bde-0927-4a1c-b499-a0ab298cfae3"
      },
      "execution_count": 167,
      "outputs": [
        {
          "output_type": "display_data",
          "data": {
            "text/plain": [
              "<Figure size 720x720 with 9 Axes>"
            ],
            "image/png": "[encoded data removed]"
          },
          "metadata": {
            "needs_background": "light"
          }
        }
      ]
    }
  ]
}