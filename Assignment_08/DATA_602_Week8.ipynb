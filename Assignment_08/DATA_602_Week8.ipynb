{
  "nbformat": 4,
  "nbformat_minor": 0,
  "metadata": {
    "colab": {
      "name": "Swapan_Gupta_Week8.ipynb",
      "provenance": []
    },
    "kernelspec": {
      "name": "python3",
      "display_name": "Python 3"
    },
    "language_info": {
      "name": "python"
    }
  },
  "cells": [
    {
      "cell_type": "markdown",
      "metadata": {
        "id": "VVDLERrWlxkR"
      },
      "source": [
        "# Preparation\n",
        "\n",
        "We will need the solution from Week 4 (Extra credit), and to prepare a test and training dataset.\n",
        "\n",
        "##Recreate dataset from Week 4 (Extra Credit)\n",
        "\n",
        "Solution below from Week 3 assignment.  Note that as required in the assignment, we remove the prior temperature reading.\n"
      ]
    },
    {
      "cell_type": "code",
      "metadata": {
        "colab": {
          "base_uri": "https://localhost:8080/"
        },
        "id": "_-sjI_lemFYo",
        "outputId": "dab22a5c-f7ba-44b6-9044-ea96098231f7"
      },
      "source": [
        "# You will need the shared Google drive https://drive.google.com/drive/u/1/folders/0ALmMMRrzz_-5Uk9PVA\n",
        "from google.colab import drive\n",
        "drive.mount(\"/content/drive\")\n",
        "!mkdir -p datashim\n",
        "!cp /content/drive/Shareddrives/DS602-S22/Data/data602.py ./datashim\n",
        "from datashim import data602"
      ],
      "execution_count": 1,
      "outputs": [
        {
          "output_type": "stream",
          "name": "stdout",
          "text": [
            "Mounted at /content/drive\n"
          ]
        }
      ]
    },
    {
      "cell_type": "markdown",
      "source": [
        "You can use your solution from Week 4 (Extra Credit), or use the transformed CSV file saved together with this template.  The below code imports the CSV file that is produced from the posted Week 4 (Extra Credit) solution.  **The prior temp column is removed from the CSV file, and the data is scaled.**"
      ],
      "metadata": {
        "id": "SVnc4TXfgM3g"
      }
    },
    {
      "cell_type": "code",
      "source": [
        "import pandas as pd\n",
        "wdf = pd.read_csv(\"/content/drive/Shareddrives/DS602-S22/Homework/Assignments/Week 8/weather_clean.csv\")\n",
        "wdf"
      ],
      "metadata": {
        "colab": {
          "base_uri": "https://localhost:8080/",
          "height": 815
        },
        "id": "HiZ0UNXhgbhC",
        "outputId": "c9ecdcce-9c52-4b05-94a0-90971a3c2688"
      },
      "execution_count": 2,
      "outputs": [
        {
          "output_type": "execute_result",
          "data": {
            "text/plain": [
              "                            date    cosday    sinday   costime   sintime  \\\n",
              "0      2015-12-31 20:54:00-05:00  0.688355 -0.725374  0.999852 -0.017213   \n",
              "1      2015-12-31 21:54:00-05:00  0.852640 -0.522499  0.999852 -0.017213   \n",
              "2      2015-12-31 22:54:00-05:00  0.958820 -0.284015  0.999852 -0.017213   \n",
              "3      2015-12-31 23:54:00-05:00  0.999657 -0.026177  0.999852 -0.017213   \n",
              "4      2016-01-01 00:54:00-05:00  0.972370  0.233445  1.000000  0.000000   \n",
              "...                          ...       ...       ...       ...       ...   \n",
              "48553  2021-07-16 15:54:00-04:00 -0.522499 -0.852640 -0.973118 -0.230306   \n",
              "48554  2021-07-16 16:54:00-04:00 -0.284015 -0.958820 -0.973118 -0.230306   \n",
              "48555  2021-07-16 17:54:00-04:00 -0.026177 -0.999657 -0.973118 -0.230306   \n",
              "48556  2021-07-16 18:54:00-04:00  0.233445 -0.972370 -0.973118 -0.230306   \n",
              "48557  2021-07-16 19:54:00-04:00  0.477159 -0.878817 -0.973118 -0.230306   \n",
              "\n",
              "       wnd_speed  precip  cloudcover  precip_intensity   dateint  tstorm  \\\n",
              "0       0.192308     0.0         0.8               0.0  0.000000     0.0   \n",
              "1      -0.192308     0.0         0.8               0.0  0.000021     0.0   \n",
              "2       0.000000     0.0         0.8               0.0  0.000041     0.0   \n",
              "3      -0.192308     0.0         0.8               0.0  0.000062     0.0   \n",
              "4      -0.192308     0.0         0.8               0.0  0.000082     0.0   \n",
              "...          ...     ...         ...               ...       ...     ...   \n",
              "48553   0.769231     0.0         0.4               0.0  0.999918     0.0   \n",
              "48554   0.576923     0.0         0.4               0.0  0.999938     0.0   \n",
              "48555   0.576923     0.0         0.6               0.0  0.999959     0.0   \n",
              "48556   0.384615     0.0         0.4               0.0  0.999979     0.0   \n",
              "48557   0.000000     0.0         0.4               0.0  1.000000     0.0   \n",
              "\n",
              "       winter  mist  fog  temp  \n",
              "0         0.0   0.0  0.0   6.1  \n",
              "1         0.0   0.0  0.0   6.7  \n",
              "2         0.0   0.0  0.0   6.1  \n",
              "3         0.0   0.0  0.0   5.6  \n",
              "4         0.0   0.0  0.0   5.0  \n",
              "...       ...   ...  ...   ...  \n",
              "48553     0.0   0.0  0.0  36.7  \n",
              "48554     0.0   0.0  0.0  35.6  \n",
              "48555     0.0   0.0  0.0  33.3  \n",
              "48556     0.0   0.0  0.0  32.8  \n",
              "48557     0.0   0.0  0.0  31.7  \n",
              "\n",
              "[48558 rows x 15 columns]"
            ],
            "text/html": [
              "\n",
              "  <div id=\"df-870d4256-794e-4d8a-9a7c-273f639f70a9\">\n",
              "    <div class=\"colab-df-container\">\n",
              "      <div>\n",
              "<style scoped>\n",
              "    .dataframe tbody tr th:only-of-type {\n",
              "        vertical-align: middle;\n",
              "    }\n",
              "\n",
              "    .dataframe tbody tr th {\n",
              "        vertical-align: top;\n",
              "    }\n",
              "\n",
              "    .dataframe thead th {\n",
              "        text-align: right;\n",
              "    }\n",
              "</style>\n",
              "<table border=\"1\" class=\"dataframe\">\n",
              "  <thead>\n",
              "    <tr style=\"text-align: right;\">\n",
              "      <th></th>\n",
              "      <th>date</th>\n",
              "      <th>cosday</th>\n",
              "      <th>sinday</th>\n",
              "      <th>costime</th>\n",
              "      <th>sintime</th>\n",
              "      <th>wnd_speed</th>\n",
              "      <th>precip</th>\n",
              "      <th>cloudcover</th>\n",
              "      <th>precip_intensity</th>\n",
              "      <th>dateint</th>\n",
              "      <th>tstorm</th>\n",
              "      <th>winter</th>\n",
              "      <th>mist</th>\n",
              "      <th>fog</th>\n",
              "      <th>temp</th>\n",
              "    </tr>\n",
              "  </thead>\n",
              "  <tbody>\n",
              "    <tr>\n",
              "      <th>0</th>\n",
              "      <td>2015-12-31 20:54:00-05:00</td>\n",
              "      <td>0.688355</td>\n",
              "      <td>-0.725374</td>\n",
              "      <td>0.999852</td>\n",
              "      <td>-0.017213</td>\n",
              "      <td>0.192308</td>\n",
              "      <td>0.0</td>\n",
              "      <td>0.8</td>\n",
              "      <td>0.0</td>\n",
              "      <td>0.000000</td>\n",
              "      <td>0.0</td>\n",
              "      <td>0.0</td>\n",
              "      <td>0.0</td>\n",
              "      <td>0.0</td>\n",
              "      <td>6.1</td>\n",
              "    </tr>\n",
              "    <tr>\n",
              "      <th>1</th>\n",
              "      <td>2015-12-31 21:54:00-05:00</td>\n",
              "      <td>0.852640</td>\n",
              "      <td>-0.522499</td>\n",
              "      <td>0.999852</td>\n",
              "      <td>-0.017213</td>\n",
              "      <td>-0.192308</td>\n",
              "      <td>0.0</td>\n",
              "      <td>0.8</td>\n",
              "      <td>0.0</td>\n",
              "      <td>0.000021</td>\n",
              "      <td>0.0</td>\n",
              "      <td>0.0</td>\n",
              "      <td>0.0</td>\n",
              "      <td>0.0</td>\n",
              "      <td>6.7</td>\n",
              "    </tr>\n",
              "    <tr>\n",
              "      <th>2</th>\n",
              "      <td>2015-12-31 22:54:00-05:00</td>\n",
              "      <td>0.958820</td>\n",
              "      <td>-0.284015</td>\n",
              "      <td>0.999852</td>\n",
              "      <td>-0.017213</td>\n",
              "      <td>0.000000</td>\n",
              "      <td>0.0</td>\n",
              "      <td>0.8</td>\n",
              "      <td>0.0</td>\n",
              "      <td>0.000041</td>\n",
              "      <td>0.0</td>\n",
              "      <td>0.0</td>\n",
              "      <td>0.0</td>\n",
              "      <td>0.0</td>\n",
              "      <td>6.1</td>\n",
              "    </tr>\n",
              "    <tr>\n",
              "      <th>3</th>\n",
              "      <td>2015-12-31 23:54:00-05:00</td>\n",
              "      <td>0.999657</td>\n",
              "      <td>-0.026177</td>\n",
              "      <td>0.999852</td>\n",
              "      <td>-0.017213</td>\n",
              "      <td>-0.192308</td>\n",
              "      <td>0.0</td>\n",
              "      <td>0.8</td>\n",
              "      <td>0.0</td>\n",
              "      <td>0.000062</td>\n",
              "      <td>0.0</td>\n",
              "      <td>0.0</td>\n",
              "      <td>0.0</td>\n",
              "      <td>0.0</td>\n",
              "      <td>5.6</td>\n",
              "    </tr>\n",
              "    <tr>\n",
              "      <th>4</th>\n",
              "      <td>2016-01-01 00:54:00-05:00</td>\n",
              "      <td>0.972370</td>\n",
              "      <td>0.233445</td>\n",
              "      <td>1.000000</td>\n",
              "      <td>0.000000</td>\n",
              "      <td>-0.192308</td>\n",
              "      <td>0.0</td>\n",
              "      <td>0.8</td>\n",
              "      <td>0.0</td>\n",
              "      <td>0.000082</td>\n",
              "      <td>0.0</td>\n",
              "      <td>0.0</td>\n",
              "      <td>0.0</td>\n",
              "      <td>0.0</td>\n",
              "      <td>5.0</td>\n",
              "    </tr>\n",
              "    <tr>\n",
              "      <th>...</th>\n",
              "      <td>...</td>\n",
              "      <td>...</td>\n",
              "      <td>...</td>\n",
              "      <td>...</td>\n",
              "      <td>...</td>\n",
              "      <td>...</td>\n",
              "      <td>...</td>\n",
              "      <td>...</td>\n",
              "      <td>...</td>\n",
              "      <td>...</td>\n",
              "      <td>...</td>\n",
              "      <td>...</td>\n",
              "      <td>...</td>\n",
              "      <td>...</td>\n",
              "      <td>...</td>\n",
              "    </tr>\n",
              "    <tr>\n",
              "      <th>48553</th>\n",
              "      <td>2021-07-16 15:54:00-04:00</td>\n",
              "      <td>-0.522499</td>\n",
              "      <td>-0.852640</td>\n",
              "      <td>-0.973118</td>\n",
              "      <td>-0.230306</td>\n",
              "      <td>0.769231</td>\n",
              "      <td>0.0</td>\n",
              "      <td>0.4</td>\n",
              "      <td>0.0</td>\n",
              "      <td>0.999918</td>\n",
              "      <td>0.0</td>\n",
              "      <td>0.0</td>\n",
              "      <td>0.0</td>\n",
              "      <td>0.0</td>\n",
              "      <td>36.7</td>\n",
              "    </tr>\n",
              "    <tr>\n",
              "      <th>48554</th>\n",
              "      <td>2021-07-16 16:54:00-04:00</td>\n",
              "      <td>-0.284015</td>\n",
              "      <td>-0.958820</td>\n",
              "      <td>-0.973118</td>\n",
              "      <td>-0.230306</td>\n",
              "      <td>0.576923</td>\n",
              "      <td>0.0</td>\n",
              "      <td>0.4</td>\n",
              "      <td>0.0</td>\n",
              "      <td>0.999938</td>\n",
              "      <td>0.0</td>\n",
              "      <td>0.0</td>\n",
              "      <td>0.0</td>\n",
              "      <td>0.0</td>\n",
              "      <td>35.6</td>\n",
              "    </tr>\n",
              "    <tr>\n",
              "      <th>48555</th>\n",
              "      <td>2021-07-16 17:54:00-04:00</td>\n",
              "      <td>-0.026177</td>\n",
              "      <td>-0.999657</td>\n",
              "      <td>-0.973118</td>\n",
              "      <td>-0.230306</td>\n",
              "      <td>0.576923</td>\n",
              "      <td>0.0</td>\n",
              "      <td>0.6</td>\n",
              "      <td>0.0</td>\n",
              "      <td>0.999959</td>\n",
              "      <td>0.0</td>\n",
              "      <td>0.0</td>\n",
              "      <td>0.0</td>\n",
              "      <td>0.0</td>\n",
              "      <td>33.3</td>\n",
              "    </tr>\n",
              "    <tr>\n",
              "      <th>48556</th>\n",
              "      <td>2021-07-16 18:54:00-04:00</td>\n",
              "      <td>0.233445</td>\n",
              "      <td>-0.972370</td>\n",
              "      <td>-0.973118</td>\n",
              "      <td>-0.230306</td>\n",
              "      <td>0.384615</td>\n",
              "      <td>0.0</td>\n",
              "      <td>0.4</td>\n",
              "      <td>0.0</td>\n",
              "      <td>0.999979</td>\n",
              "      <td>0.0</td>\n",
              "      <td>0.0</td>\n",
              "      <td>0.0</td>\n",
              "      <td>0.0</td>\n",
              "      <td>32.8</td>\n",
              "    </tr>\n",
              "    <tr>\n",
              "      <th>48557</th>\n",
              "      <td>2021-07-16 19:54:00-04:00</td>\n",
              "      <td>0.477159</td>\n",
              "      <td>-0.878817</td>\n",
              "      <td>-0.973118</td>\n",
              "      <td>-0.230306</td>\n",
              "      <td>0.000000</td>\n",
              "      <td>0.0</td>\n",
              "      <td>0.4</td>\n",
              "      <td>0.0</td>\n",
              "      <td>1.000000</td>\n",
              "      <td>0.0</td>\n",
              "      <td>0.0</td>\n",
              "      <td>0.0</td>\n",
              "      <td>0.0</td>\n",
              "      <td>31.7</td>\n",
              "    </tr>\n",
              "  </tbody>\n",
              "</table>\n",
              "<p>48558 rows × 15 columns</p>\n",
              "</div>\n",
              "      <button class=\"colab-df-convert\" onclick=\"convertToInteractive('df-870d4256-794e-4d8a-9a7c-273f639f70a9')\"\n",
              "              title=\"Convert this dataframe to an interactive table.\"\n",
              "              style=\"display:none;\">\n",
              "        \n",
              "  <svg xmlns=\"http://www.w3.org/2000/svg\" height=\"24px\"viewBox=\"0 0 24 24\"\n",
              "       width=\"24px\">\n",
              "    <path d=\"M0 0h24v24H0V0z\" fill=\"none\"/>\n",
              "    <path d=\"M18.56 5.44l.94 2.06.94-2.06 2.06-.94-2.06-.94-.94-2.06-.94 2.06-2.06.94zm-11 1L8.5 8.5l.94-2.06 2.06-.94-2.06-.94L8.5 2.5l-.94 2.06-2.06.94zm10 10l.94 2.06.94-2.06 2.06-.94-2.06-.94-.94-2.06-.94 2.06-2.06.94z\"/><path d=\"M17.41 7.96l-1.37-1.37c-.4-.4-.92-.59-1.43-.59-.52 0-1.04.2-1.43.59L10.3 9.45l-7.72 7.72c-.78.78-.78 2.05 0 2.83L4 21.41c.39.39.9.59 1.41.59.51 0 1.02-.2 1.41-.59l7.78-7.78 2.81-2.81c.8-.78.8-2.07 0-2.86zM5.41 20L4 18.59l7.72-7.72 1.47 1.35L5.41 20z\"/>\n",
              "  </svg>\n",
              "      </button>\n",
              "      \n",
              "  <style>\n",
              "    .colab-df-container {\n",
              "      display:flex;\n",
              "      flex-wrap:wrap;\n",
              "      gap: 12px;\n",
              "    }\n",
              "\n",
              "    .colab-df-convert {\n",
              "      background-color: #E8F0FE;\n",
              "      border: none;\n",
              "      border-radius: 50%;\n",
              "      cursor: pointer;\n",
              "      display: none;\n",
              "      fill: #1967D2;\n",
              "      height: 32px;\n",
              "      padding: 0 0 0 0;\n",
              "      width: 32px;\n",
              "    }\n",
              "\n",
              "    .colab-df-convert:hover {\n",
              "      background-color: #E2EBFA;\n",
              "      box-shadow: 0px 1px 2px rgba(60, 64, 67, 0.3), 0px 1px 3px 1px rgba(60, 64, 67, 0.15);\n",
              "      fill: #174EA6;\n",
              "    }\n",
              "\n",
              "    [theme=dark] .colab-df-convert {\n",
              "      background-color: #3B4455;\n",
              "      fill: #D2E3FC;\n",
              "    }\n",
              "\n",
              "    [theme=dark] .colab-df-convert:hover {\n",
              "      background-color: #434B5C;\n",
              "      box-shadow: 0px 1px 3px 1px rgba(0, 0, 0, 0.15);\n",
              "      filter: drop-shadow(0px 1px 2px rgba(0, 0, 0, 0.3));\n",
              "      fill: #FFFFFF;\n",
              "    }\n",
              "  </style>\n",
              "\n",
              "      <script>\n",
              "        const buttonEl =\n",
              "          document.querySelector('#df-870d4256-794e-4d8a-9a7c-273f639f70a9 button.colab-df-convert');\n",
              "        buttonEl.style.display =\n",
              "          google.colab.kernel.accessAllowed ? 'block' : 'none';\n",
              "\n",
              "        async function convertToInteractive(key) {\n",
              "          const element = document.querySelector('#df-870d4256-794e-4d8a-9a7c-273f639f70a9');\n",
              "          const dataTable =\n",
              "            await google.colab.kernel.invokeFunction('convertToInteractive',\n",
              "                                                     [key], {});\n",
              "          if (!dataTable) return;\n",
              "\n",
              "          const docLinkHtml = 'Like what you see? Visit the ' +\n",
              "            '<a target=\"_blank\" href=https://colab.research.google.com/notebooks/data_table.ipynb>data table notebook</a>'\n",
              "            + ' to learn more about interactive tables.';\n",
              "          element.innerHTML = '';\n",
              "          dataTable['output_type'] = 'display_data';\n",
              "          await google.colab.output.renderOutput(dataTable, element);\n",
              "          const docLink = document.createElement('div');\n",
              "          docLink.innerHTML = docLinkHtml;\n",
              "          element.appendChild(docLink);\n",
              "        }\n",
              "      </script>\n",
              "    </div>\n",
              "  </div>\n",
              "  "
            ]
          },
          "metadata": {},
          "execution_count": 2
        }
      ]
    },
    {
      "cell_type": "code",
      "source": [
        "y = wdf.pop('temp').values\n",
        "X = wdf.drop('date', 1).values # drop date field from features matrix"
      ],
      "metadata": {
        "colab": {
          "base_uri": "https://localhost:8080/"
        },
        "id": "Z-VeBgWFjEFD",
        "outputId": "684d5fc1-948c-4444-f0e6-0f0b5c331a7f"
      },
      "execution_count": 3,
      "outputs": [
        {
          "output_type": "stream",
          "name": "stderr",
          "text": [
            "/usr/local/lib/python3.7/dist-packages/ipykernel_launcher.py:2: FutureWarning: In a future version of pandas all arguments of DataFrame.drop except for the argument 'labels' will be keyword-only\n",
            "  \n"
          ]
        }
      ]
    },
    {
      "cell_type": "markdown",
      "metadata": {
        "id": "ipfQcIXgPx9P"
      },
      "source": [
        "## Prepare test and training datasets"
      ]
    },
    {
      "cell_type": "markdown",
      "metadata": {
        "id": "bcCQd_smWwx_"
      },
      "source": [
        "Note: After running the above code, `xt` and `y` store $\\mathbf{X}$ and $\\mathbf{y}$, respectively."
      ]
    },
    {
      "cell_type": "code",
      "source": [
        "from sklearn.linear_model import (LinearRegression, ElasticNetCV, RidgeCV)\n",
        "from sklearn.ensemble import RandomForestRegressor\n",
        "from sklearn.preprocessing import PolynomialFeatures\n",
        "from sklearn.model_selection import cross_validate, cross_val_predict\n",
        "from sklearn.svm import SVR\n",
        "from sklearn.pipeline import make_pipeline\n",
        "import xgboost\n",
        "from xgboost import XGBRegressor \n",
        "from statistics import mean"
      ],
      "metadata": {
        "id": "PNwrxBBiZ2PH"
      },
      "execution_count": 4,
      "outputs": []
    },
    {
      "cell_type": "code",
      "source": [
        "from sklearn.model_selection import (train_test_split)\n",
        "X_train, X_test, y_train, y_test = train_test_split(X, y, test_size=0.2, random_state=0)"
      ],
      "metadata": {
        "id": "ur_a8FfFjesN"
      },
      "execution_count": 5,
      "outputs": []
    },
    {
      "cell_type": "markdown",
      "metadata": {
        "id": "U3ux6XzK1BLv"
      },
      "source": [
        "# Problem 1: Regressors\n",
        "\n",
        "Build at least 3 regressors using different algorithms to predict the temperature.  At least one regressor should implement a tree-based algorithm (random forest, or gradient boosted tree/xgboost.)"
      ]
    },
    {
      "cell_type": "code",
      "source": [
        "#test=10000                         ## initially trained with 10000 samples\n",
        "#X_Sample,y_Sample=X_train[:test], y_train[:test]"
      ],
      "metadata": {
        "id": "fAhDBCmZaHWA"
      },
      "execution_count": 6,
      "outputs": []
    },
    {
      "cell_type": "code",
      "metadata": {
        "id": "_Rs__yd93eqr",
        "colab": {
          "base_uri": "https://localhost:8080/"
        },
        "outputId": "272d751d-bda0-49e3-e15c-5fa431d8d3dd"
      },
      "source": [
        "lr = LinearRegression()\n",
        "lr.fit(X_train,y_train)"
      ],
      "execution_count": 7,
      "outputs": [
        {
          "output_type": "execute_result",
          "data": {
            "text/plain": [
              "LinearRegression()"
            ]
          },
          "metadata": {},
          "execution_count": 7
        }
      ]
    },
    {
      "cell_type": "code",
      "source": [
        "print('Linear Regression',lr.score(X_train,y_train))"
      ],
      "metadata": {
        "colab": {
          "base_uri": "https://localhost:8080/"
        },
        "id": "xfklNacPag-V",
        "outputId": "e4199ab0-1527-48ca-8771-7f350e1a5ca2"
      },
      "execution_count": 8,
      "outputs": [
        {
          "output_type": "stream",
          "name": "stdout",
          "text": [
            "Linear Regression 0.788249903337154\n"
          ]
        }
      ]
    },
    {
      "cell_type": "code",
      "source": [
        "random_forest = RandomForestRegressor(n_jobs = 2,n_estimators = 200, max_features = 'log2')\n",
        "random_forest.fit(X_train,y_train)"
      ],
      "metadata": {
        "colab": {
          "base_uri": "https://localhost:8080/"
        },
        "id": "6wsJj8JZavXJ",
        "outputId": "239f1e25-3e44-41a2-8709-30fe8075a4cc"
      },
      "execution_count": 9,
      "outputs": [
        {
          "output_type": "execute_result",
          "data": {
            "text/plain": [
              "RandomForestRegressor(max_features='log2', n_estimators=200, n_jobs=2)"
            ]
          },
          "metadata": {},
          "execution_count": 9
        }
      ]
    },
    {
      "cell_type": "code",
      "source": [
        "print('Random Forest',random_forest.score(X_train,y_train))"
      ],
      "metadata": {
        "colab": {
          "base_uri": "https://localhost:8080/"
        },
        "id": "KSrrv9Yja-CU",
        "outputId": "cfce971f-ed91-4f7d-f947-9dbc3ab93e19"
      },
      "execution_count": 10,
      "outputs": [
        {
          "output_type": "stream",
          "name": "stdout",
          "text": [
            "Random Forest 0.9909828724075915\n"
          ]
        }
      ]
    },
    {
      "cell_type": "code",
      "source": [
        "xgb = xgboost.XGBRegressor(subsample = 1,n_estimators = 300, max_depth = 5)\n",
        "xgb.fit(X_train,y_train)"
      ],
      "metadata": {
        "colab": {
          "base_uri": "https://localhost:8080/"
        },
        "id": "vfVfpmlLbIvT",
        "outputId": "4e6d2704-92aa-43b3-b5ba-bbb0a4d8b2e8"
      },
      "execution_count": 11,
      "outputs": [
        {
          "output_type": "stream",
          "name": "stdout",
          "text": [
            "[21:22:41] WARNING: /workspace/src/objective/regression_obj.cu:152: reg:linear is now deprecated in favor of reg:squarederror.\n"
          ]
        },
        {
          "output_type": "execute_result",
          "data": {
            "text/plain": [
              "XGBRegressor(max_depth=5, n_estimators=300)"
            ]
          },
          "metadata": {},
          "execution_count": 11
        }
      ]
    },
    {
      "cell_type": "code",
      "source": [
        "print('XGB Regressor:',xgb.score(X_train,y_train))"
      ],
      "metadata": {
        "colab": {
          "base_uri": "https://localhost:8080/"
        },
        "id": "FGfJRvLtbYGg",
        "outputId": "e83733ca-cb77-43f1-eee8-3ed3c36ba928"
      },
      "execution_count": 12,
      "outputs": [
        {
          "output_type": "stream",
          "name": "stdout",
          "text": [
            "XGB Regressor: 0.9506288991783625\n"
          ]
        }
      ]
    },
    {
      "cell_type": "markdown",
      "metadata": {
        "id": "nFApD2rCQdmh"
      },
      "source": [
        "# Problem 2: Cross-Validation\n",
        "\n",
        "Use cross-validation to test each algorithm, and select the estimator with the highest accuracy score."
      ]
    },
    {
      "cell_type": "code",
      "metadata": {
        "id": "PBS-KlOgWXvB",
        "colab": {
          "base_uri": "https://localhost:8080/"
        },
        "outputId": "f1b876e1-e790-4d40-9787-63fe1137187e"
      },
      "source": [
        "cross_LR=cross_validate(lr, X_train, y_train,return_estimator=True,cv=5,verbose=5)"
      ],
      "execution_count": 13,
      "outputs": [
        {
          "output_type": "stream",
          "name": "stdout",
          "text": [
            "[CV] END ......................................., score=0.787 total time=   0.0s\n",
            "[CV] END ......................................., score=0.795 total time=   0.0s\n",
            "[CV] END ......................................., score=0.788 total time=   0.0s\n",
            "[CV] END ......................................., score=0.789 total time=   0.0s\n",
            "[CV] END ......................................., score=0.781 total time=   0.0s\n"
          ]
        },
        {
          "output_type": "stream",
          "name": "stderr",
          "text": [
            "[Parallel(n_jobs=1)]: Using backend SequentialBackend with 1 concurrent workers.\n",
            "[Parallel(n_jobs=1)]: Done   1 out of   1 | elapsed:    0.0s remaining:    0.0s\n",
            "[Parallel(n_jobs=1)]: Done   2 out of   2 | elapsed:    0.0s remaining:    0.0s\n",
            "[Parallel(n_jobs=1)]: Done   3 out of   3 | elapsed:    0.1s remaining:    0.0s\n",
            "[Parallel(n_jobs=1)]: Done   4 out of   4 | elapsed:    0.1s remaining:    0.0s\n",
            "[Parallel(n_jobs=1)]: Done   5 out of   5 | elapsed:    0.1s finished\n"
          ]
        }
      ]
    },
    {
      "cell_type": "code",
      "source": [
        "cross_rf=cross_validate(random_forest, X_train, y_train, return_estimator=True,cv=5,verbose=3)"
      ],
      "metadata": {
        "colab": {
          "base_uri": "https://localhost:8080/"
        },
        "id": "jhclkjuEcV08",
        "outputId": "b0f13816-f463-4246-d2ed-bb64d3f0ac09"
      },
      "execution_count": 14,
      "outputs": [
        {
          "output_type": "stream",
          "name": "stderr",
          "text": [
            "[Parallel(n_jobs=1)]: Using backend SequentialBackend with 1 concurrent workers.\n"
          ]
        },
        {
          "output_type": "stream",
          "name": "stdout",
          "text": [
            "[CV] END ......................................., score=0.925 total time=   9.9s\n"
          ]
        },
        {
          "output_type": "stream",
          "name": "stderr",
          "text": [
            "[Parallel(n_jobs=1)]: Done   1 out of   1 | elapsed:    9.9s remaining:    0.0s\n"
          ]
        },
        {
          "output_type": "stream",
          "name": "stdout",
          "text": [
            "[CV] END ......................................., score=0.931 total time=   8.7s\n"
          ]
        },
        {
          "output_type": "stream",
          "name": "stderr",
          "text": [
            "[Parallel(n_jobs=1)]: Done   2 out of   2 | elapsed:   18.6s remaining:    0.0s\n"
          ]
        },
        {
          "output_type": "stream",
          "name": "stdout",
          "text": [
            "[CV] END ......................................., score=0.929 total time=   8.7s\n",
            "[CV] END ......................................., score=0.930 total time=   8.8s\n",
            "[CV] END ......................................., score=0.925 total time=   8.7s\n"
          ]
        },
        {
          "output_type": "stream",
          "name": "stderr",
          "text": [
            "[Parallel(n_jobs=1)]: Done   5 out of   5 | elapsed:   44.8s finished\n"
          ]
        }
      ]
    },
    {
      "cell_type": "code",
      "source": [
        "cross_xgb=cross_validate(xgb, X_train, y_train, return_estimator=True,cv=5,verbose=3)"
      ],
      "metadata": {
        "colab": {
          "base_uri": "https://localhost:8080/"
        },
        "id": "LUVuy8ckcs4o",
        "outputId": "64685304-7749-4731-e32d-3bac4e795c51"
      },
      "execution_count": 15,
      "outputs": [
        {
          "output_type": "stream",
          "name": "stdout",
          "text": [
            "[21:23:36] WARNING: /workspace/src/objective/regression_obj.cu:152: reg:linear is now deprecated in favor of reg:squarederror.\n"
          ]
        },
        {
          "output_type": "stream",
          "name": "stderr",
          "text": [
            "[Parallel(n_jobs=1)]: Using backend SequentialBackend with 1 concurrent workers.\n"
          ]
        },
        {
          "output_type": "stream",
          "name": "stdout",
          "text": [
            "[CV] END ......................................., score=0.940 total time=   9.3s\n",
            "[21:23:45] WARNING: /workspace/src/objective/regression_obj.cu:152: reg:linear is now deprecated in favor of reg:squarederror.\n"
          ]
        },
        {
          "output_type": "stream",
          "name": "stderr",
          "text": [
            "[Parallel(n_jobs=1)]: Done   1 out of   1 | elapsed:    9.3s remaining:    0.0s\n"
          ]
        },
        {
          "output_type": "stream",
          "name": "stdout",
          "text": [
            "[CV] END ......................................., score=0.943 total time=   7.5s\n",
            "[21:23:52] WARNING: /workspace/src/objective/regression_obj.cu:152: reg:linear is now deprecated in favor of reg:squarederror.\n"
          ]
        },
        {
          "output_type": "stream",
          "name": "stderr",
          "text": [
            "[Parallel(n_jobs=1)]: Done   2 out of   2 | elapsed:   16.7s remaining:    0.0s\n"
          ]
        },
        {
          "output_type": "stream",
          "name": "stdout",
          "text": [
            "[CV] END ......................................., score=0.943 total time=   7.4s\n",
            "[21:24:00] WARNING: /workspace/src/objective/regression_obj.cu:152: reg:linear is now deprecated in favor of reg:squarederror.\n",
            "[CV] END ......................................., score=0.944 total time=   7.5s\n",
            "[21:24:07] WARNING: /workspace/src/objective/regression_obj.cu:152: reg:linear is now deprecated in favor of reg:squarederror.\n",
            "[CV] END ......................................., score=0.941 total time=   7.7s\n"
          ]
        },
        {
          "output_type": "stream",
          "name": "stderr",
          "text": [
            "[Parallel(n_jobs=1)]: Done   5 out of   5 | elapsed:   39.3s finished\n"
          ]
        }
      ]
    },
    {
      "cell_type": "code",
      "source": [
        "import numpy as np\n",
        "print(\"Accuracy for Linear Regression:\",np.max(cross_LR[\"test_score\"]))\n",
        "print(\"Accuracy for Random Forest:\",np.max(cross_rf[\"test_score\"]))\n",
        "print(\"Accuracy for XGB:\",np.max(cross_xgb[\"test_score\"]))"
      ],
      "metadata": {
        "colab": {
          "base_uri": "https://localhost:8080/"
        },
        "id": "5-2990Z4Lgpj",
        "outputId": "dfe2bb3b-a409-4281-8dfe-f97993a39614"
      },
      "execution_count": 16,
      "outputs": [
        {
          "output_type": "stream",
          "name": "stdout",
          "text": [
            "Accuracy for Linear Regression: 0.7952138773583007\n",
            "Accuracy for Random Forest: 0.9311217083064743\n",
            "Accuracy for XGB: 0.9443360969877477\n"
          ]
        }
      ]
    },
    {
      "cell_type": "markdown",
      "source": [
        "### Maximum Accuracy is for XGB : 0.944336096"
      ],
      "metadata": {
        "id": "ULIk8I9dltDX"
      }
    },
    {
      "cell_type": "markdown",
      "metadata": {
        "id": "itVHCHarIVyh"
      },
      "source": [
        "# Problem 3: Most important features\n",
        "Use one of the tree-based models to evaluate feature importance.  Which features are the most important?"
      ]
    },
    {
      "cell_type": "code",
      "metadata": {
        "id": "Dvur8QomWaRS",
        "colab": {
          "base_uri": "https://localhost:8080/"
        },
        "outputId": "66c9c9f5-00d6-4a5f-a803-628c040476b9"
      },
      "source": [
        "imp_features=random_forest.feature_importances_\n",
        "imp_features"
      ],
      "execution_count": 17,
      "outputs": [
        {
          "output_type": "execute_result",
          "data": {
            "text/plain": [
              "array([3.83972572e-02, 4.42593737e-02, 5.73542864e-01, 1.49564598e-01,\n",
              "       3.04912111e-02, 4.08145289e-03, 3.99426845e-02, 3.88166416e-03,\n",
              "       1.04234251e-01, 6.82316334e-04, 6.78017117e-03, 3.68058896e-03,\n",
              "       4.61566807e-04])"
            ]
          },
          "metadata": {},
          "execution_count": 17
        }
      ]
    },
    {
      "cell_type": "code",
      "source": [
        "columns=[\"sinday\",\"cosday\",\"sintime\",\"costime\",\"wnd_speed\",\"precip\",\"cloudcover\", \"precip_intensity\",\"tstorm\", \"winter\",\"mist\", \"fog\",\"temp\"]"
      ],
      "metadata": {
        "id": "0Iit3K-4dXMi"
      },
      "execution_count": 26,
      "outputs": []
    },
    {
      "cell_type": "code",
      "source": [
        "df=pd.DataFrame({\"Values\":columns,\"Importance\":imp_features})\n",
        "df"
      ],
      "metadata": {
        "colab": {
          "base_uri": "https://localhost:8080/",
          "height": 457
        },
        "id": "Uv-3XFZTLSfV",
        "outputId": "210ea9cb-5fe4-481e-8598-de4de72214e3"
      },
      "execution_count": 27,
      "outputs": [
        {
          "output_type": "execute_result",
          "data": {
            "text/plain": [
              "              Values  Importance\n",
              "0             sinday    0.038397\n",
              "1             cosday    0.044259\n",
              "2            sintime    0.573543\n",
              "3            costime    0.149565\n",
              "4          wnd_speed    0.030491\n",
              "5             precip    0.004081\n",
              "6         cloudcover    0.039943\n",
              "7   precip_intensity    0.003882\n",
              "8             tstorm    0.104234\n",
              "9             winter    0.000682\n",
              "10              mist    0.006780\n",
              "11               fog    0.003681\n",
              "12              temp    0.000462"
            ],
            "text/html": [
              "\n",
              "  <div id=\"df-c43a0b64-c819-4a28-ad27-7dcdbbacf7ab\">\n",
              "    <div class=\"colab-df-container\">\n",
              "      <div>\n",
              "<style scoped>\n",
              "    .dataframe tbody tr th:only-of-type {\n",
              "        vertical-align: middle;\n",
              "    }\n",
              "\n",
              "    .dataframe tbody tr th {\n",
              "        vertical-align: top;\n",
              "    }\n",
              "\n",
              "    .dataframe thead th {\n",
              "        text-align: right;\n",
              "    }\n",
              "</style>\n",
              "<table border=\"1\" class=\"dataframe\">\n",
              "  <thead>\n",
              "    <tr style=\"text-align: right;\">\n",
              "      <th></th>\n",
              "      <th>Values</th>\n",
              "      <th>Importance</th>\n",
              "    </tr>\n",
              "  </thead>\n",
              "  <tbody>\n",
              "    <tr>\n",
              "      <th>0</th>\n",
              "      <td>sinday</td>\n",
              "      <td>0.038397</td>\n",
              "    </tr>\n",
              "    <tr>\n",
              "      <th>1</th>\n",
              "      <td>cosday</td>\n",
              "      <td>0.044259</td>\n",
              "    </tr>\n",
              "    <tr>\n",
              "      <th>2</th>\n",
              "      <td>sintime</td>\n",
              "      <td>0.573543</td>\n",
              "    </tr>\n",
              "    <tr>\n",
              "      <th>3</th>\n",
              "      <td>costime</td>\n",
              "      <td>0.149565</td>\n",
              "    </tr>\n",
              "    <tr>\n",
              "      <th>4</th>\n",
              "      <td>wnd_speed</td>\n",
              "      <td>0.030491</td>\n",
              "    </tr>\n",
              "    <tr>\n",
              "      <th>5</th>\n",
              "      <td>precip</td>\n",
              "      <td>0.004081</td>\n",
              "    </tr>\n",
              "    <tr>\n",
              "      <th>6</th>\n",
              "      <td>cloudcover</td>\n",
              "      <td>0.039943</td>\n",
              "    </tr>\n",
              "    <tr>\n",
              "      <th>7</th>\n",
              "      <td>precip_intensity</td>\n",
              "      <td>0.003882</td>\n",
              "    </tr>\n",
              "    <tr>\n",
              "      <th>8</th>\n",
              "      <td>tstorm</td>\n",
              "      <td>0.104234</td>\n",
              "    </tr>\n",
              "    <tr>\n",
              "      <th>9</th>\n",
              "      <td>winter</td>\n",
              "      <td>0.000682</td>\n",
              "    </tr>\n",
              "    <tr>\n",
              "      <th>10</th>\n",
              "      <td>mist</td>\n",
              "      <td>0.006780</td>\n",
              "    </tr>\n",
              "    <tr>\n",
              "      <th>11</th>\n",
              "      <td>fog</td>\n",
              "      <td>0.003681</td>\n",
              "    </tr>\n",
              "    <tr>\n",
              "      <th>12</th>\n",
              "      <td>temp</td>\n",
              "      <td>0.000462</td>\n",
              "    </tr>\n",
              "  </tbody>\n",
              "</table>\n",
              "</div>\n",
              "      <button class=\"colab-df-convert\" onclick=\"convertToInteractive('df-c43a0b64-c819-4a28-ad27-7dcdbbacf7ab')\"\n",
              "              title=\"Convert this dataframe to an interactive table.\"\n",
              "              style=\"display:none;\">\n",
              "        \n",
              "  <svg xmlns=\"http://www.w3.org/2000/svg\" height=\"24px\"viewBox=\"0 0 24 24\"\n",
              "       width=\"24px\">\n",
              "    <path d=\"M0 0h24v24H0V0z\" fill=\"none\"/>\n",
              "    <path d=\"M18.56 5.44l.94 2.06.94-2.06 2.06-.94-2.06-.94-.94-2.06-.94 2.06-2.06.94zm-11 1L8.5 8.5l.94-2.06 2.06-.94-2.06-.94L8.5 2.5l-.94 2.06-2.06.94zm10 10l.94 2.06.94-2.06 2.06-.94-2.06-.94-.94-2.06-.94 2.06-2.06.94z\"/><path d=\"M17.41 7.96l-1.37-1.37c-.4-.4-.92-.59-1.43-.59-.52 0-1.04.2-1.43.59L10.3 9.45l-7.72 7.72c-.78.78-.78 2.05 0 2.83L4 21.41c.39.39.9.59 1.41.59.51 0 1.02-.2 1.41-.59l7.78-7.78 2.81-2.81c.8-.78.8-2.07 0-2.86zM5.41 20L4 18.59l7.72-7.72 1.47 1.35L5.41 20z\"/>\n",
              "  </svg>\n",
              "      </button>\n",
              "      \n",
              "  <style>\n",
              "    .colab-df-container {\n",
              "      display:flex;\n",
              "      flex-wrap:wrap;\n",
              "      gap: 12px;\n",
              "    }\n",
              "\n",
              "    .colab-df-convert {\n",
              "      background-color: #E8F0FE;\n",
              "      border: none;\n",
              "      border-radius: 50%;\n",
              "      cursor: pointer;\n",
              "      display: none;\n",
              "      fill: #1967D2;\n",
              "      height: 32px;\n",
              "      padding: 0 0 0 0;\n",
              "      width: 32px;\n",
              "    }\n",
              "\n",
              "    .colab-df-convert:hover {\n",
              "      background-color: #E2EBFA;\n",
              "      box-shadow: 0px 1px 2px rgba(60, 64, 67, 0.3), 0px 1px 3px 1px rgba(60, 64, 67, 0.15);\n",
              "      fill: #174EA6;\n",
              "    }\n",
              "\n",
              "    [theme=dark] .colab-df-convert {\n",
              "      background-color: #3B4455;\n",
              "      fill: #D2E3FC;\n",
              "    }\n",
              "\n",
              "    [theme=dark] .colab-df-convert:hover {\n",
              "      background-color: #434B5C;\n",
              "      box-shadow: 0px 1px 3px 1px rgba(0, 0, 0, 0.15);\n",
              "      filter: drop-shadow(0px 1px 2px rgba(0, 0, 0, 0.3));\n",
              "      fill: #FFFFFF;\n",
              "    }\n",
              "  </style>\n",
              "\n",
              "      <script>\n",
              "        const buttonEl =\n",
              "          document.querySelector('#df-c43a0b64-c819-4a28-ad27-7dcdbbacf7ab button.colab-df-convert');\n",
              "        buttonEl.style.display =\n",
              "          google.colab.kernel.accessAllowed ? 'block' : 'none';\n",
              "\n",
              "        async function convertToInteractive(key) {\n",
              "          const element = document.querySelector('#df-c43a0b64-c819-4a28-ad27-7dcdbbacf7ab');\n",
              "          const dataTable =\n",
              "            await google.colab.kernel.invokeFunction('convertToInteractive',\n",
              "                                                     [key], {});\n",
              "          if (!dataTable) return;\n",
              "\n",
              "          const docLinkHtml = 'Like what you see? Visit the ' +\n",
              "            '<a target=\"_blank\" href=https://colab.research.google.com/notebooks/data_table.ipynb>data table notebook</a>'\n",
              "            + ' to learn more about interactive tables.';\n",
              "          element.innerHTML = '';\n",
              "          dataTable['output_type'] = 'display_data';\n",
              "          await google.colab.output.renderOutput(dataTable, element);\n",
              "          const docLink = document.createElement('div');\n",
              "          docLink.innerHTML = docLinkHtml;\n",
              "          element.appendChild(docLink);\n",
              "        }\n",
              "      </script>\n",
              "    </div>\n",
              "  </div>\n",
              "  "
            ]
          },
          "metadata": {},
          "execution_count": 27
        }
      ]
    },
    {
      "cell_type": "code",
      "source": [
        "df.sort_values(by='Importance',axis=0, ascending=False, inplace=False, kind='quicksort', na_position='last', ignore_index=False, key=None)"
      ],
      "metadata": {
        "colab": {
          "base_uri": "https://localhost:8080/",
          "height": 457
        },
        "id": "Sg7Jo7oQ8zwo",
        "outputId": "26331337-2c19-478d-bc6c-42dd5f51abdf"
      },
      "execution_count": 31,
      "outputs": [
        {
          "output_type": "execute_result",
          "data": {
            "text/plain": [
              "              Values  Importance\n",
              "2            sintime    0.573543\n",
              "3            costime    0.149565\n",
              "8             tstorm    0.104234\n",
              "1             cosday    0.044259\n",
              "6         cloudcover    0.039943\n",
              "0             sinday    0.038397\n",
              "4          wnd_speed    0.030491\n",
              "10              mist    0.006780\n",
              "5             precip    0.004081\n",
              "7   precip_intensity    0.003882\n",
              "11               fog    0.003681\n",
              "9             winter    0.000682\n",
              "12              temp    0.000462"
            ],
            "text/html": [
              "\n",
              "  <div id=\"df-9925dca9-03ce-4d66-bd76-a00ed7147cb7\">\n",
              "    <div class=\"colab-df-container\">\n",
              "      <div>\n",
              "<style scoped>\n",
              "    .dataframe tbody tr th:only-of-type {\n",
              "        vertical-align: middle;\n",
              "    }\n",
              "\n",
              "    .dataframe tbody tr th {\n",
              "        vertical-align: top;\n",
              "    }\n",
              "\n",
              "    .dataframe thead th {\n",
              "        text-align: right;\n",
              "    }\n",
              "</style>\n",
              "<table border=\"1\" class=\"dataframe\">\n",
              "  <thead>\n",
              "    <tr style=\"text-align: right;\">\n",
              "      <th></th>\n",
              "      <th>Values</th>\n",
              "      <th>Importance</th>\n",
              "    </tr>\n",
              "  </thead>\n",
              "  <tbody>\n",
              "    <tr>\n",
              "      <th>2</th>\n",
              "      <td>sintime</td>\n",
              "      <td>0.573543</td>\n",
              "    </tr>\n",
              "    <tr>\n",
              "      <th>3</th>\n",
              "      <td>costime</td>\n",
              "      <td>0.149565</td>\n",
              "    </tr>\n",
              "    <tr>\n",
              "      <th>8</th>\n",
              "      <td>tstorm</td>\n",
              "      <td>0.104234</td>\n",
              "    </tr>\n",
              "    <tr>\n",
              "      <th>1</th>\n",
              "      <td>cosday</td>\n",
              "      <td>0.044259</td>\n",
              "    </tr>\n",
              "    <tr>\n",
              "      <th>6</th>\n",
              "      <td>cloudcover</td>\n",
              "      <td>0.039943</td>\n",
              "    </tr>\n",
              "    <tr>\n",
              "      <th>0</th>\n",
              "      <td>sinday</td>\n",
              "      <td>0.038397</td>\n",
              "    </tr>\n",
              "    <tr>\n",
              "      <th>4</th>\n",
              "      <td>wnd_speed</td>\n",
              "      <td>0.030491</td>\n",
              "    </tr>\n",
              "    <tr>\n",
              "      <th>10</th>\n",
              "      <td>mist</td>\n",
              "      <td>0.006780</td>\n",
              "    </tr>\n",
              "    <tr>\n",
              "      <th>5</th>\n",
              "      <td>precip</td>\n",
              "      <td>0.004081</td>\n",
              "    </tr>\n",
              "    <tr>\n",
              "      <th>7</th>\n",
              "      <td>precip_intensity</td>\n",
              "      <td>0.003882</td>\n",
              "    </tr>\n",
              "    <tr>\n",
              "      <th>11</th>\n",
              "      <td>fog</td>\n",
              "      <td>0.003681</td>\n",
              "    </tr>\n",
              "    <tr>\n",
              "      <th>9</th>\n",
              "      <td>winter</td>\n",
              "      <td>0.000682</td>\n",
              "    </tr>\n",
              "    <tr>\n",
              "      <th>12</th>\n",
              "      <td>temp</td>\n",
              "      <td>0.000462</td>\n",
              "    </tr>\n",
              "  </tbody>\n",
              "</table>\n",
              "</div>\n",
              "      <button class=\"colab-df-convert\" onclick=\"convertToInteractive('df-9925dca9-03ce-4d66-bd76-a00ed7147cb7')\"\n",
              "              title=\"Convert this dataframe to an interactive table.\"\n",
              "              style=\"display:none;\">\n",
              "        \n",
              "  <svg xmlns=\"http://www.w3.org/2000/svg\" height=\"24px\"viewBox=\"0 0 24 24\"\n",
              "       width=\"24px\">\n",
              "    <path d=\"M0 0h24v24H0V0z\" fill=\"none\"/>\n",
              "    <path d=\"M18.56 5.44l.94 2.06.94-2.06 2.06-.94-2.06-.94-.94-2.06-.94 2.06-2.06.94zm-11 1L8.5 8.5l.94-2.06 2.06-.94-2.06-.94L8.5 2.5l-.94 2.06-2.06.94zm10 10l.94 2.06.94-2.06 2.06-.94-2.06-.94-.94-2.06-.94 2.06-2.06.94z\"/><path d=\"M17.41 7.96l-1.37-1.37c-.4-.4-.92-.59-1.43-.59-.52 0-1.04.2-1.43.59L10.3 9.45l-7.72 7.72c-.78.78-.78 2.05 0 2.83L4 21.41c.39.39.9.59 1.41.59.51 0 1.02-.2 1.41-.59l7.78-7.78 2.81-2.81c.8-.78.8-2.07 0-2.86zM5.41 20L4 18.59l7.72-7.72 1.47 1.35L5.41 20z\"/>\n",
              "  </svg>\n",
              "      </button>\n",
              "      \n",
              "  <style>\n",
              "    .colab-df-container {\n",
              "      display:flex;\n",
              "      flex-wrap:wrap;\n",
              "      gap: 12px;\n",
              "    }\n",
              "\n",
              "    .colab-df-convert {\n",
              "      background-color: #E8F0FE;\n",
              "      border: none;\n",
              "      border-radius: 50%;\n",
              "      cursor: pointer;\n",
              "      display: none;\n",
              "      fill: #1967D2;\n",
              "      height: 32px;\n",
              "      padding: 0 0 0 0;\n",
              "      width: 32px;\n",
              "    }\n",
              "\n",
              "    .colab-df-convert:hover {\n",
              "      background-color: #E2EBFA;\n",
              "      box-shadow: 0px 1px 2px rgba(60, 64, 67, 0.3), 0px 1px 3px 1px rgba(60, 64, 67, 0.15);\n",
              "      fill: #174EA6;\n",
              "    }\n",
              "\n",
              "    [theme=dark] .colab-df-convert {\n",
              "      background-color: #3B4455;\n",
              "      fill: #D2E3FC;\n",
              "    }\n",
              "\n",
              "    [theme=dark] .colab-df-convert:hover {\n",
              "      background-color: #434B5C;\n",
              "      box-shadow: 0px 1px 3px 1px rgba(0, 0, 0, 0.15);\n",
              "      filter: drop-shadow(0px 1px 2px rgba(0, 0, 0, 0.3));\n",
              "      fill: #FFFFFF;\n",
              "    }\n",
              "  </style>\n",
              "\n",
              "      <script>\n",
              "        const buttonEl =\n",
              "          document.querySelector('#df-9925dca9-03ce-4d66-bd76-a00ed7147cb7 button.colab-df-convert');\n",
              "        buttonEl.style.display =\n",
              "          google.colab.kernel.accessAllowed ? 'block' : 'none';\n",
              "\n",
              "        async function convertToInteractive(key) {\n",
              "          const element = document.querySelector('#df-9925dca9-03ce-4d66-bd76-a00ed7147cb7');\n",
              "          const dataTable =\n",
              "            await google.colab.kernel.invokeFunction('convertToInteractive',\n",
              "                                                     [key], {});\n",
              "          if (!dataTable) return;\n",
              "\n",
              "          const docLinkHtml = 'Like what you see? Visit the ' +\n",
              "            '<a target=\"_blank\" href=https://colab.research.google.com/notebooks/data_table.ipynb>data table notebook</a>'\n",
              "            + ' to learn more about interactive tables.';\n",
              "          element.innerHTML = '';\n",
              "          dataTable['output_type'] = 'display_data';\n",
              "          await google.colab.output.renderOutput(dataTable, element);\n",
              "          const docLink = document.createElement('div');\n",
              "          docLink.innerHTML = docLinkHtml;\n",
              "          element.appendChild(docLink);\n",
              "        }\n",
              "      </script>\n",
              "    </div>\n",
              "  </div>\n",
              "  "
            ]
          },
          "metadata": {},
          "execution_count": 31
        }
      ]
    },
    {
      "cell_type": "code",
      "source": [
        "print(\"Most Important Feature is:\",df.iloc[2])"
      ],
      "metadata": {
        "colab": {
          "base_uri": "https://localhost:8080/"
        },
        "id": "Mc4UAFD79e_B",
        "outputId": "c233f08c-5740-4518-feb0-c016bb5c128a"
      },
      "execution_count": 34,
      "outputs": [
        {
          "output_type": "stream",
          "name": "stdout",
          "text": [
            "Most Important Feature is:/n Values         sintime\n",
            "Importance    0.573543\n",
            "Name: 2, dtype: object\n"
          ]
        }
      ]
    },
    {
      "cell_type": "markdown",
      "metadata": {
        "id": "PTWRfEoCTQzh"
      },
      "source": [
        "# Problem 4: Residuals Plot\n",
        "For the best model selected above, show a residuals plot ($\\hat{y}$ vs. $\\hat{y} - y$).  Does the residuals plot show evidence of uncaptured exploratory information?\n"
      ]
    },
    {
      "cell_type": "code",
      "metadata": {
        "id": "E48CnyCWWdIu",
        "colab": {
          "base_uri": "https://localhost:8080/"
        },
        "outputId": "ba3abab5-2c0f-4552-c01c-89b84b7183d4"
      },
      "source": [
        "y_prediction = cross_val_predict(xgb,X_train, y_train)"
      ],
      "execution_count": 35,
      "outputs": [
        {
          "output_type": "stream",
          "name": "stdout",
          "text": [
            "[21:48:02] WARNING: /workspace/src/objective/regression_obj.cu:152: reg:linear is now deprecated in favor of reg:squarederror.\n",
            "[21:48:10] WARNING: /workspace/src/objective/regression_obj.cu:152: reg:linear is now deprecated in favor of reg:squarederror.\n",
            "[21:48:18] WARNING: /workspace/src/objective/regression_obj.cu:152: reg:linear is now deprecated in favor of reg:squarederror.\n",
            "[21:48:25] WARNING: /workspace/src/objective/regression_obj.cu:152: reg:linear is now deprecated in favor of reg:squarederror.\n",
            "[21:48:33] WARNING: /workspace/src/objective/regression_obj.cu:152: reg:linear is now deprecated in favor of reg:squarederror.\n"
          ]
        }
      ]
    },
    {
      "cell_type": "code",
      "source": [
        "import seaborn as sns\n",
        "import matplotlib.pyplot as plt\n",
        "sns.residplot(x = y_prediction,y = y_train - y_prediction)\n",
        "plt.title(\"Residuals Plot\")\n",
        "plt.xlabel(\"Temp Values\")\n",
        "plt.ylabel(\"Residual Values\")\n",
        "plt.show()"
      ],
      "metadata": {
        "colab": {
          "base_uri": "https://localhost:8080/",
          "height": 295
        },
        "id": "NvQkAR9ZYgXe",
        "outputId": "31328e97-9df4-495e-c69d-5ae27cb0885f"
      },
      "execution_count": 36,
      "outputs": [
        {
          "output_type": "display_data",
          "data": {
            "text/plain": [
              "<Figure size 432x288 with 1 Axes>"
            ],
            "image/png": "[encoded data removed]"
          },
          "metadata": {
            "needs_background": "light"
          }
        }
      ]
    },
    {
      "cell_type": "markdown",
      "metadata": {
        "id": "fchUpROjIIjH"
      },
      "source": [
        "# Problem 5: Evaluation\n",
        "Train the model with the highest accuracy score with the full training dataset.  Score the test data against this model.  Does the model demonstrate predictive validity?"
      ]
    },
    {
      "cell_type": "code",
      "metadata": {
        "id": "hLcI0QyxWh5w",
        "colab": {
          "base_uri": "https://localhost:8080/"
        },
        "outputId": "9d453647-8600-43c2-8a38-e44bbdfe5d7b"
      },
      "source": [
        "xgb.fit(X_train, y_train)"
      ],
      "execution_count": 37,
      "outputs": [
        {
          "output_type": "stream",
          "name": "stdout",
          "text": [
            "[21:48:55] WARNING: /workspace/src/objective/regression_obj.cu:152: reg:linear is now deprecated in favor of reg:squarederror.\n"
          ]
        },
        {
          "output_type": "execute_result",
          "data": {
            "text/plain": [
              "XGBRegressor(max_depth=5, n_estimators=300)"
            ]
          },
          "metadata": {},
          "execution_count": 37
        }
      ]
    },
    {
      "cell_type": "code",
      "source": [
        "print(\"Score on Test Data:\",xgb.score(X_test, y_test))"
      ],
      "metadata": {
        "colab": {
          "base_uri": "https://localhost:8080/"
        },
        "id": "PH2Ohtk2aKP9",
        "outputId": "6ee1e9ed-c442-4682-ab61-bc4ed737f828"
      },
      "execution_count": 38,
      "outputs": [
        {
          "output_type": "stream",
          "name": "stdout",
          "text": [
            "Score on Test Data: 0.943767701755702\n"
          ]
        }
      ]
    }
  ]
}