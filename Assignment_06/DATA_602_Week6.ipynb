{
  "nbformat": 4,
  "nbformat_minor": 0,
  "metadata": {
    "colab": {
      "name": "Swapan_Gupta_602_Week6.ipynb",
      "provenance": [],
      "collapsed_sections": []
    },
    "kernelspec": {
      "name": "python3",
      "display_name": "Python 3"
    },
    "language_info": {
      "name": "python"
    }
  },
  "cells": [
    {
      "cell_type": "markdown",
      "metadata": {
        "id": "kzF3fX35cm1g"
      },
      "source": [
        "# Setup\n",
        "For the below problems, please use the \\texttt{MNIST\\_784} data set from OpenML.  Prior to using the data, scale the data and split into a test and training dataset.  Use the first 60,000 images as training data, and the remaining 10,000 images as test data."
      ]
    },
    {
      "cell_type": "code",
      "metadata": {
        "id": "4ugjvK28cyKf"
      },
      "source": [
        "from sklearn.datasets import fetch_openml\n",
        "from sklearn.preprocessing import StandardScaler\n",
        "import numpy as np"
      ],
      "execution_count": 79,
      "outputs": []
    },
    {
      "cell_type": "code",
      "metadata": {
        "id": "P7FSdKMkciDn"
      },
      "source": [
        "#fetch OpenML data\n",
        "X, y = fetch_openml('mnist_784', version=1, return_X_y=True, as_frame=False)\n",
        "\n",
        "#split into test/training sets\n",
        "N=60000\n",
        "X_train, y_train = X[:N, :], y[:N]\n",
        "X_test, y_test = X[N:, :], y[N:]\n",
        "\n",
        "#scale data\n",
        "scaler = StandardScaler()\n",
        "X_train = scaler.fit_transform(X_train)\n",
        "X_test = scaler.transform(X_test)"
      ],
      "execution_count": 80,
      "outputs": []
    },
    {
      "cell_type": "markdown",
      "metadata": {
        "id": "QiHGSrOgeLXF"
      },
      "source": [
        "# Problem 1: Dimensionality Reduction\n",
        "Using principal component analysis, reduce the dimensionality of the MNIST images to include 75% of the original variance.  How many components remain following the dimensionality reduction?"
      ]
    },
    {
      "cell_type": "code",
      "source": [
        "from sklearn.decomposition import PCA\n",
        "pca_75= PCA(n_components=0.75,random_state=2020)\n",
        "X_train= pca_75.fit_transform(X_train)\n",
        "X_test = pca_75.transform(X_test)\n"
      ],
      "metadata": {
        "id": "UDL0kP_r4yK1"
      },
      "execution_count": 81,
      "outputs": []
    },
    {
      "cell_type": "code",
      "source": [
        "rows=X.shape[0]\n",
        "columns=X.shape[1]\n",
        "print(\"Number of rows in Original mnist_784 Dataset is:\",rows)\n",
        "print(\"Number of Columns in Original mnist_784 Dataset is:\",columns)\n"
      ],
      "metadata": {
        "colab": {
          "base_uri": "https://localhost:8080/"
        },
        "id": "AZijsQ7fOPV7",
        "outputId": "496aa7b3-6c85-42e7-851e-6496291ad9cd"
      },
      "execution_count": 82,
      "outputs": [
        {
          "output_type": "stream",
          "name": "stdout",
          "text": [
            "Number of rows in Original mnist_784 Dataset is: 70000\n",
            "Number of Columns in Original mnist_784 Dataset is: 784\n"
          ]
        }
      ]
    },
    {
      "cell_type": "code",
      "source": [
        "new_rows=pca_75.explained_variance_.shape[0]\n",
        "print(\"Number of rows after dimensionality reduction of mnist_784 Dataset is:\",new_rows)"
      ],
      "metadata": {
        "colab": {
          "base_uri": "https://localhost:8080/"
        },
        "id": "M4RR8mq9P7Jc",
        "outputId": "7198f299-e452-4a30-fd8d-bc83b3c2d745"
      },
      "execution_count": 83,
      "outputs": [
        {
          "output_type": "stream",
          "name": "stdout",
          "text": [
            "Number of rows after dimensionality reduction of mnist_784 Dataset is: 120\n"
          ]
        }
      ]
    },
    {
      "cell_type": "code",
      "source": [
        "import matplotlib.pyplot as plt\n",
        "plt.plot(np.cumsum(pca_75.explained_variance_))\n",
        "plt.xlabel(\"Components\")\n",
        "plt.ylabel(\"Variance\")"
      ],
      "metadata": {
        "colab": {
          "base_uri": "https://localhost:8080/",
          "height": 297
        },
        "id": "hUrxWTOtSWFs",
        "outputId": "f251b2a2-bf55-4a20-f776-54ec78a6234e"
      },
      "execution_count": 84,
      "outputs": [
        {
          "output_type": "execute_result",
          "data": {
            "text/plain": [
              "Text(0, 0.5, 'Variance')"
            ]
          },
          "metadata": {},
          "execution_count": 84
        },
        {
          "output_type": "display_data",
          "data": {
            "text/plain": [
              "<Figure size 432x288 with 1 Axes>"
            ],
            "image/png": "[encoded data removed]"
          },
          "metadata": {
            "needs_background": "light"
          }
        }
      ]
    },
    {
      "cell_type": "markdown",
      "metadata": {
        "id": "Ku4oFcn8fbKk"
      },
      "source": [
        "# Problem 2: Support Vector Machines\n",
        "\n",
        "Use a support vector machine to classify whether a digit is less than 5 (i.e., $y \\in \\left\\{0, 1, 2, 3, 4\\right\\}$).  Find a set of hyperparameters, to include the kernel function and $C$, that maximize the F1 score.\n",
        "\n",
        "Notes:\n",
        "\n",
        "* As in problem set 5, you may want to initially search $C$ over several orders of magnitude.  Consider initially searching with `np.logspace` to search over orders of magnitude.\n",
        "* The hyperparameter selection may take a long time to run.  If using Google Colab, you may want to save or print the model so the work is not lost if the model reconnects.  See [Model persistence](https://scikit-learn.org/stable/modules/model_persistence.html) for details.\n",
        "* Use a random search ([`RandomizedSearchCV`](https://scikit-learn.org/stable/modules/generated/sklearn.model_selection.RandomizedSearchCV.html)) to test a broad set of different hyperparameter values."
      ]
    },
    {
      "cell_type": "code",
      "source": [
        "from sklearn.svm import SVC\n",
        "from sklearn.svm import LinearSVC\n",
        "from sklearn.model_selection import GridSearchCV\n",
        "from sklearn.model_selection import RandomizedSearchCV\n",
        "from sklearn.preprocessing import StandardScaler\n",
        "from sklearn.datasets import fetch_openml"
      ],
      "metadata": {
        "id": "-NORzlQZ4y4Q"
      },
      "execution_count": 85,
      "outputs": []
    },
    {
      "cell_type": "code",
      "source": [
        "tdig = fetch_openml('mnist_784', version=1, as_frame=False)\n",
        "X,y=tdig['data'],tdig['target']\n",
        "X_train, X_test, y_train, y_test = X[:10000],X[10000:],y[:10000]<='5',y[10000:]<='5'"
      ],
      "metadata": {
        "id": "KaRFnx3-2gxN"
      },
      "execution_count": 86,
      "outputs": []
    },
    {
      "cell_type": "code",
      "source": [
        "scaler = StandardScaler()\n",
        "X_train_Scaled = scaler.fit_transform(X_train)\n",
        "X_test_Scaled = scaler.transform(X_test)"
      ],
      "metadata": {
        "id": "vZ-SvUrH9dR2"
      },
      "execution_count": 87,
      "outputs": []
    },
    {
      "cell_type": "markdown",
      "source": [
        "## Using SVC with kernal='linear'"
      ],
      "metadata": {
        "id": "94YIiW2gYTMU"
      }
    },
    {
      "cell_type": "code",
      "source": [
        "clf=SVC(C=1.0, kernel='linear', degree=3,coef0=0.0, shrinking=True, probability=False,tol=0.001, cache_size=200, class_weight=None, verbose=2, max_iter=10000, random_state=None)"
      ],
      "metadata": {
        "id": "Vk9aBVTRa_nh"
      },
      "execution_count": 88,
      "outputs": []
    },
    {
      "cell_type": "code",
      "source": [
        "import numpy as np\n",
        "\n",
        "params = {'kernel': ['poly', 'rbf'],\n",
        "    'C': np.logspace(-4,4,5),\n",
        "    'gamma': np.logspace(-4,4, 5)\n",
        "}"
      ],
      "metadata": {
        "id": "2_-udkBmYZ6N"
      },
      "execution_count": 89,
      "outputs": []
    },
    {
      "cell_type": "code",
      "source": [
        "rand_clf = RandomizedSearchCV(estimator=clf, param_distributions=params,n_iter=5, verbose=3, cv=5, scoring='f1')\n",
        "rand_clf.fit(X_train_Scaled, y_train)"
      ],
      "metadata": {
        "colab": {
          "base_uri": "https://localhost:8080/"
        },
        "id": "jesnb1-rYsJ9",
        "outputId": "dff64ac4-b765-4ca8-9728-6c75fa891c33"
      },
      "execution_count": 90,
      "outputs": [
        {
          "output_type": "stream",
          "name": "stdout",
          "text": [
            "Fitting 5 folds for each of 5 candidates, totalling 25 fits\n",
            "[LibSVM][CV 1/5] END ....C=0.01, gamma=0.01, kernel=rbf;, score=0.750 total time=  51.0s\n",
            "[LibSVM][CV 2/5] END ....C=0.01, gamma=0.01, kernel=rbf;, score=0.750 total time=  50.9s\n",
            "[LibSVM][CV 3/5] END ....C=0.01, gamma=0.01, kernel=rbf;, score=0.750 total time=  51.3s\n",
            "[LibSVM][CV 4/5] END ....C=0.01, gamma=0.01, kernel=rbf;, score=0.750 total time=  50.5s\n",
            "[LibSVM][CV 5/5] END ....C=0.01, gamma=0.01, kernel=rbf;, score=0.749 total time=  50.7s\n",
            "[LibSVM]"
          ]
        },
        {
          "output_type": "stream",
          "name": "stderr",
          "text": [
            "/usr/local/lib/python3.7/dist-packages/sklearn/svm/_base.py:289: ConvergenceWarning: Solver terminated early (max_iter=10000).  Consider pre-processing your data with StandardScaler or MinMaxScaler.\n",
            "  ConvergenceWarning,\n"
          ]
        },
        {
          "output_type": "stream",
          "name": "stdout",
          "text": [
            "[CV 1/5] END ..C=1.0, gamma=10000.0, kernel=rbf;, score=0.750 total time=  56.3s\n",
            "[LibSVM]"
          ]
        },
        {
          "output_type": "stream",
          "name": "stderr",
          "text": [
            "/usr/local/lib/python3.7/dist-packages/sklearn/svm/_base.py:289: ConvergenceWarning: Solver terminated early (max_iter=10000).  Consider pre-processing your data with StandardScaler or MinMaxScaler.\n",
            "  ConvergenceWarning,\n"
          ]
        },
        {
          "output_type": "stream",
          "name": "stdout",
          "text": [
            "[CV 2/5] END ..C=1.0, gamma=10000.0, kernel=rbf;, score=0.750 total time=  59.3s\n",
            "[LibSVM]"
          ]
        },
        {
          "output_type": "stream",
          "name": "stderr",
          "text": [
            "/usr/local/lib/python3.7/dist-packages/sklearn/svm/_base.py:289: ConvergenceWarning: Solver terminated early (max_iter=10000).  Consider pre-processing your data with StandardScaler or MinMaxScaler.\n",
            "  ConvergenceWarning,\n"
          ]
        },
        {
          "output_type": "stream",
          "name": "stdout",
          "text": [
            "[CV 3/5] END ..C=1.0, gamma=10000.0, kernel=rbf;, score=0.750 total time=  58.2s\n",
            "[LibSVM]"
          ]
        },
        {
          "output_type": "stream",
          "name": "stderr",
          "text": [
            "/usr/local/lib/python3.7/dist-packages/sklearn/svm/_base.py:289: ConvergenceWarning: Solver terminated early (max_iter=10000).  Consider pre-processing your data with StandardScaler or MinMaxScaler.\n",
            "  ConvergenceWarning,\n"
          ]
        },
        {
          "output_type": "stream",
          "name": "stdout",
          "text": [
            "[CV 4/5] END ..C=1.0, gamma=10000.0, kernel=rbf;, score=0.750 total time=  56.4s\n",
            "[LibSVM]"
          ]
        },
        {
          "output_type": "stream",
          "name": "stderr",
          "text": [
            "/usr/local/lib/python3.7/dist-packages/sklearn/svm/_base.py:289: ConvergenceWarning: Solver terminated early (max_iter=10000).  Consider pre-processing your data with StandardScaler or MinMaxScaler.\n",
            "  ConvergenceWarning,\n"
          ]
        },
        {
          "output_type": "stream",
          "name": "stdout",
          "text": [
            "[CV 5/5] END ..C=1.0, gamma=10000.0, kernel=rbf;, score=0.749 total time=  56.4s\n",
            "[LibSVM]"
          ]
        },
        {
          "output_type": "stream",
          "name": "stderr",
          "text": [
            "/usr/local/lib/python3.7/dist-packages/sklearn/svm/_base.py:289: ConvergenceWarning: Solver terminated early (max_iter=10000).  Consider pre-processing your data with StandardScaler or MinMaxScaler.\n",
            "  ConvergenceWarning,\n"
          ]
        },
        {
          "output_type": "stream",
          "name": "stdout",
          "text": [
            "[CV 1/5] END C=10000.0, gamma=10000.0, kernel=rbf;, score=0.750 total time= 1.2min\n",
            "[LibSVM]"
          ]
        },
        {
          "output_type": "stream",
          "name": "stderr",
          "text": [
            "/usr/local/lib/python3.7/dist-packages/sklearn/svm/_base.py:289: ConvergenceWarning: Solver terminated early (max_iter=10000).  Consider pre-processing your data with StandardScaler or MinMaxScaler.\n",
            "  ConvergenceWarning,\n"
          ]
        },
        {
          "output_type": "stream",
          "name": "stdout",
          "text": [
            "[CV 2/5] END C=10000.0, gamma=10000.0, kernel=rbf;, score=0.750 total time= 1.3min\n",
            "[LibSVM]"
          ]
        },
        {
          "output_type": "stream",
          "name": "stderr",
          "text": [
            "/usr/local/lib/python3.7/dist-packages/sklearn/svm/_base.py:289: ConvergenceWarning: Solver terminated early (max_iter=10000).  Consider pre-processing your data with StandardScaler or MinMaxScaler.\n",
            "  ConvergenceWarning,\n"
          ]
        },
        {
          "output_type": "stream",
          "name": "stdout",
          "text": [
            "[CV 3/5] END C=10000.0, gamma=10000.0, kernel=rbf;, score=0.750 total time= 1.3min\n",
            "[LibSVM]"
          ]
        },
        {
          "output_type": "stream",
          "name": "stderr",
          "text": [
            "/usr/local/lib/python3.7/dist-packages/sklearn/svm/_base.py:289: ConvergenceWarning: Solver terminated early (max_iter=10000).  Consider pre-processing your data with StandardScaler or MinMaxScaler.\n",
            "  ConvergenceWarning,\n"
          ]
        },
        {
          "output_type": "stream",
          "name": "stdout",
          "text": [
            "[CV 4/5] END C=10000.0, gamma=10000.0, kernel=rbf;, score=0.750 total time= 1.3min\n",
            "[LibSVM]"
          ]
        },
        {
          "output_type": "stream",
          "name": "stderr",
          "text": [
            "/usr/local/lib/python3.7/dist-packages/sklearn/svm/_base.py:289: ConvergenceWarning: Solver terminated early (max_iter=10000).  Consider pre-processing your data with StandardScaler or MinMaxScaler.\n",
            "  ConvergenceWarning,\n"
          ]
        },
        {
          "output_type": "stream",
          "name": "stdout",
          "text": [
            "[CV 5/5] END C=10000.0, gamma=10000.0, kernel=rbf;, score=0.749 total time= 1.2min\n",
            "[LibSVM]"
          ]
        },
        {
          "output_type": "stream",
          "name": "stderr",
          "text": [
            "/usr/local/lib/python3.7/dist-packages/sklearn/svm/_base.py:289: ConvergenceWarning: Solver terminated early (max_iter=10000).  Consider pre-processing your data with StandardScaler or MinMaxScaler.\n",
            "  ConvergenceWarning,\n"
          ]
        },
        {
          "output_type": "stream",
          "name": "stdout",
          "text": [
            "[CV 1/5] END C=0.0001, gamma=100.0, kernel=poly;, score=0.972 total time=  15.2s\n",
            "[LibSVM][CV 2/5] END C=0.0001, gamma=100.0, kernel=poly;, score=0.974 total time=  15.4s\n",
            "[LibSVM][CV 3/5] END C=0.0001, gamma=100.0, kernel=poly;, score=0.970 total time=  14.9s\n",
            "[LibSVM][CV 4/5] END C=0.0001, gamma=100.0, kernel=poly;, score=0.970 total time=  14.7s\n",
            "[LibSVM]"
          ]
        },
        {
          "output_type": "stream",
          "name": "stderr",
          "text": [
            "/usr/local/lib/python3.7/dist-packages/sklearn/svm/_base.py:289: ConvergenceWarning: Solver terminated early (max_iter=10000).  Consider pre-processing your data with StandardScaler or MinMaxScaler.\n",
            "  ConvergenceWarning,\n"
          ]
        },
        {
          "output_type": "stream",
          "name": "stdout",
          "text": [
            "[CV 5/5] END C=0.0001, gamma=100.0, kernel=poly;, score=0.957 total time=  14.6s\n",
            "[LibSVM][CV 1/5] END ..C=0.0001, gamma=0.01, kernel=rbf;, score=0.750 total time=  49.0s\n",
            "[LibSVM][CV 2/5] END ..C=0.0001, gamma=0.01, kernel=rbf;, score=0.750 total time=  49.5s\n",
            "[LibSVM][CV 3/5] END ..C=0.0001, gamma=0.01, kernel=rbf;, score=0.750 total time=  50.7s\n",
            "[LibSVM][CV 4/5] END ..C=0.0001, gamma=0.01, kernel=rbf;, score=0.750 total time=  49.6s\n",
            "[LibSVM][CV 5/5] END ..C=0.0001, gamma=0.01, kernel=rbf;, score=0.749 total time=  49.9s\n",
            "[LibSVM]"
          ]
        },
        {
          "output_type": "stream",
          "name": "stderr",
          "text": [
            "/usr/local/lib/python3.7/dist-packages/sklearn/svm/_base.py:289: ConvergenceWarning: Solver terminated early (max_iter=10000).  Consider pre-processing your data with StandardScaler or MinMaxScaler.\n",
            "  ConvergenceWarning,\n"
          ]
        },
        {
          "output_type": "execute_result",
          "data": {
            "text/plain": [
              "RandomizedSearchCV(cv=5,\n",
              "                   estimator=SVC(kernel='linear', max_iter=10000, verbose=2),\n",
              "                   n_iter=5,\n",
              "                   param_distributions={'C': array([1.e-04, 1.e-02, 1.e+00, 1.e+02, 1.e+04]),\n",
              "                                        'gamma': array([1.e-04, 1.e-02, 1.e+00, 1.e+02, 1.e+04]),\n",
              "                                        'kernel': ['poly', 'rbf']},\n",
              "                   scoring='f1', verbose=3)"
            ]
          },
          "metadata": {},
          "execution_count": 90
        }
      ]
    },
    {
      "cell_type": "code",
      "source": [
        "rand_clf.best_estimator_"
      ],
      "metadata": {
        "colab": {
          "base_uri": "https://localhost:8080/"
        },
        "id": "AGL-raYEmc4c",
        "outputId": "718c51d7-4a90-4700-d0f2-9e31cdfad792"
      },
      "execution_count": 91,
      "outputs": [
        {
          "output_type": "execute_result",
          "data": {
            "text/plain": [
              "SVC(C=0.0001, gamma=100.0, kernel='poly', max_iter=10000, verbose=2)"
            ]
          },
          "metadata": {},
          "execution_count": 91
        }
      ]
    },
    {
      "cell_type": "code",
      "source": [
        "rand_clf.best_params_"
      ],
      "metadata": {
        "colab": {
          "base_uri": "https://localhost:8080/"
        },
        "id": "4zjgcLADmnoc",
        "outputId": "2d0e3c94-ffc3-4465-bb6d-3a00e65d90ff"
      },
      "execution_count": 92,
      "outputs": [
        {
          "output_type": "execute_result",
          "data": {
            "text/plain": [
              "{'C': 0.0001, 'gamma': 100.0, 'kernel': 'poly'}"
            ]
          },
          "metadata": {},
          "execution_count": 92
        }
      ]
    },
    {
      "cell_type": "code",
      "source": [
        "rand_clf.best_score_"
      ],
      "metadata": {
        "colab": {
          "base_uri": "https://localhost:8080/"
        },
        "id": "cvqYXTP2mgOO",
        "outputId": "68faa90f-0ab5-456d-bbc0-b72fd2f6e80e"
      },
      "execution_count": 93,
      "outputs": [
        {
          "output_type": "execute_result",
          "data": {
            "text/plain": [
              "0.9686821438759964"
            ]
          },
          "metadata": {},
          "execution_count": 93
        }
      ]
    },
    {
      "cell_type": "markdown",
      "source": [
        "## Using LinearSVC"
      ],
      "metadata": {
        "id": "KRXpCI2uYsin"
      }
    },
    {
      "cell_type": "code",
      "source": [
        "lin_clf=LinearSVC()"
      ],
      "metadata": {
        "id": "zLgKRPWaI9wv"
      },
      "execution_count": 94,
      "outputs": []
    },
    {
      "cell_type": "code",
      "source": [
        "parameters = {\n",
        "    'C': np.logspace(-4,4,5),\n",
        "    'penalty': ['l2'],\n",
        "}"
      ],
      "metadata": {
        "id": "W0tTahq5e2r7"
      },
      "execution_count": 95,
      "outputs": []
    },
    {
      "cell_type": "code",
      "source": [
        "rand = RandomizedSearchCV(estimator=lin_clf, param_distributions=parameters,n_iter=5, verbose=3, cv=5, scoring='f1')\n",
        "rand.fit(X_train_Scaled, y_train)"
      ],
      "metadata": {
        "colab": {
          "base_uri": "https://localhost:8080/"
        },
        "id": "Qj41uzO39FFx",
        "outputId": "106f2122-a20a-4bb0-d7ed-3b85effd6baf"
      },
      "execution_count": 96,
      "outputs": [
        {
          "output_type": "stream",
          "name": "stdout",
          "text": [
            "Fitting 5 folds for each of 5 candidates, totalling 25 fits\n",
            "[CV 1/5] END ..............C=0.0001, penalty=l2;, score=0.904 total time=   0.4s\n",
            "[CV 2/5] END ..............C=0.0001, penalty=l2;, score=0.888 total time=   0.4s\n",
            "[CV 3/5] END ..............C=0.0001, penalty=l2;, score=0.901 total time=   0.4s\n",
            "[CV 4/5] END ..............C=0.0001, penalty=l2;, score=0.902 total time=   0.4s\n",
            "[CV 5/5] END ..............C=0.0001, penalty=l2;, score=0.887 total time=   0.4s\n",
            "[CV 1/5] END ................C=0.01, penalty=l2;, score=0.900 total time=   9.6s\n",
            "[CV 2/5] END ................C=0.01, penalty=l2;, score=0.898 total time=   7.6s\n",
            "[CV 3/5] END ................C=0.01, penalty=l2;, score=0.896 total time=   6.9s\n",
            "[CV 4/5] END ................C=0.01, penalty=l2;, score=0.896 total time=   9.3s\n"
          ]
        },
        {
          "output_type": "stream",
          "name": "stderr",
          "text": [
            "/usr/local/lib/python3.7/dist-packages/sklearn/svm/_base.py:1208: ConvergenceWarning: Liblinear failed to converge, increase the number of iterations.\n",
            "  ConvergenceWarning,\n"
          ]
        },
        {
          "output_type": "stream",
          "name": "stdout",
          "text": [
            "[CV 5/5] END ................C=0.01, penalty=l2;, score=0.885 total time=   9.5s\n"
          ]
        },
        {
          "output_type": "stream",
          "name": "stderr",
          "text": [
            "/usr/local/lib/python3.7/dist-packages/sklearn/svm/_base.py:1208: ConvergenceWarning: Liblinear failed to converge, increase the number of iterations.\n",
            "  ConvergenceWarning,\n"
          ]
        },
        {
          "output_type": "stream",
          "name": "stdout",
          "text": [
            "[CV 1/5] END .................C=1.0, penalty=l2;, score=0.889 total time=  12.8s\n"
          ]
        },
        {
          "output_type": "stream",
          "name": "stderr",
          "text": [
            "/usr/local/lib/python3.7/dist-packages/sklearn/svm/_base.py:1208: ConvergenceWarning: Liblinear failed to converge, increase the number of iterations.\n",
            "  ConvergenceWarning,\n"
          ]
        },
        {
          "output_type": "stream",
          "name": "stdout",
          "text": [
            "[CV 2/5] END .................C=1.0, penalty=l2;, score=0.888 total time=  12.5s\n"
          ]
        },
        {
          "output_type": "stream",
          "name": "stderr",
          "text": [
            "/usr/local/lib/python3.7/dist-packages/sklearn/svm/_base.py:1208: ConvergenceWarning: Liblinear failed to converge, increase the number of iterations.\n",
            "  ConvergenceWarning,\n"
          ]
        },
        {
          "output_type": "stream",
          "name": "stdout",
          "text": [
            "[CV 3/5] END .................C=1.0, penalty=l2;, score=0.890 total time=  12.3s\n"
          ]
        },
        {
          "output_type": "stream",
          "name": "stderr",
          "text": [
            "/usr/local/lib/python3.7/dist-packages/sklearn/svm/_base.py:1208: ConvergenceWarning: Liblinear failed to converge, increase the number of iterations.\n",
            "  ConvergenceWarning,\n"
          ]
        },
        {
          "output_type": "stream",
          "name": "stdout",
          "text": [
            "[CV 4/5] END .................C=1.0, penalty=l2;, score=0.887 total time=  12.6s\n"
          ]
        },
        {
          "output_type": "stream",
          "name": "stderr",
          "text": [
            "/usr/local/lib/python3.7/dist-packages/sklearn/svm/_base.py:1208: ConvergenceWarning: Liblinear failed to converge, increase the number of iterations.\n",
            "  ConvergenceWarning,\n"
          ]
        },
        {
          "output_type": "stream",
          "name": "stdout",
          "text": [
            "[CV 5/5] END .................C=1.0, penalty=l2;, score=0.884 total time=  12.4s\n"
          ]
        },
        {
          "output_type": "stream",
          "name": "stderr",
          "text": [
            "/usr/local/lib/python3.7/dist-packages/sklearn/svm/_base.py:1208: ConvergenceWarning: Liblinear failed to converge, increase the number of iterations.\n",
            "  ConvergenceWarning,\n"
          ]
        },
        {
          "output_type": "stream",
          "name": "stdout",
          "text": [
            "[CV 1/5] END ...............C=100.0, penalty=l2;, score=0.864 total time=  13.4s\n"
          ]
        },
        {
          "output_type": "stream",
          "name": "stderr",
          "text": [
            "/usr/local/lib/python3.7/dist-packages/sklearn/svm/_base.py:1208: ConvergenceWarning: Liblinear failed to converge, increase the number of iterations.\n",
            "  ConvergenceWarning,\n"
          ]
        },
        {
          "output_type": "stream",
          "name": "stdout",
          "text": [
            "[CV 2/5] END ...............C=100.0, penalty=l2;, score=0.861 total time=  13.2s\n"
          ]
        },
        {
          "output_type": "stream",
          "name": "stderr",
          "text": [
            "/usr/local/lib/python3.7/dist-packages/sklearn/svm/_base.py:1208: ConvergenceWarning: Liblinear failed to converge, increase the number of iterations.\n",
            "  ConvergenceWarning,\n"
          ]
        },
        {
          "output_type": "stream",
          "name": "stdout",
          "text": [
            "[CV 3/5] END ...............C=100.0, penalty=l2;, score=0.849 total time=  13.0s\n"
          ]
        },
        {
          "output_type": "stream",
          "name": "stderr",
          "text": [
            "/usr/local/lib/python3.7/dist-packages/sklearn/svm/_base.py:1208: ConvergenceWarning: Liblinear failed to converge, increase the number of iterations.\n",
            "  ConvergenceWarning,\n"
          ]
        },
        {
          "output_type": "stream",
          "name": "stdout",
          "text": [
            "[CV 4/5] END ...............C=100.0, penalty=l2;, score=0.785 total time=  13.5s\n"
          ]
        },
        {
          "output_type": "stream",
          "name": "stderr",
          "text": [
            "/usr/local/lib/python3.7/dist-packages/sklearn/svm/_base.py:1208: ConvergenceWarning: Liblinear failed to converge, increase the number of iterations.\n",
            "  ConvergenceWarning,\n"
          ]
        },
        {
          "output_type": "stream",
          "name": "stdout",
          "text": [
            "[CV 5/5] END ...............C=100.0, penalty=l2;, score=0.840 total time=  13.4s\n"
          ]
        },
        {
          "output_type": "stream",
          "name": "stderr",
          "text": [
            "/usr/local/lib/python3.7/dist-packages/sklearn/svm/_base.py:1208: ConvergenceWarning: Liblinear failed to converge, increase the number of iterations.\n",
            "  ConvergenceWarning,\n"
          ]
        },
        {
          "output_type": "stream",
          "name": "stdout",
          "text": [
            "[CV 1/5] END .............C=10000.0, penalty=l2;, score=0.821 total time=  13.7s\n"
          ]
        },
        {
          "output_type": "stream",
          "name": "stderr",
          "text": [
            "/usr/local/lib/python3.7/dist-packages/sklearn/svm/_base.py:1208: ConvergenceWarning: Liblinear failed to converge, increase the number of iterations.\n",
            "  ConvergenceWarning,\n"
          ]
        },
        {
          "output_type": "stream",
          "name": "stdout",
          "text": [
            "[CV 2/5] END .............C=10000.0, penalty=l2;, score=0.866 total time=  13.2s\n"
          ]
        },
        {
          "output_type": "stream",
          "name": "stderr",
          "text": [
            "/usr/local/lib/python3.7/dist-packages/sklearn/svm/_base.py:1208: ConvergenceWarning: Liblinear failed to converge, increase the number of iterations.\n",
            "  ConvergenceWarning,\n"
          ]
        },
        {
          "output_type": "stream",
          "name": "stdout",
          "text": [
            "[CV 3/5] END .............C=10000.0, penalty=l2;, score=0.858 total time=  12.9s\n"
          ]
        },
        {
          "output_type": "stream",
          "name": "stderr",
          "text": [
            "/usr/local/lib/python3.7/dist-packages/sklearn/svm/_base.py:1208: ConvergenceWarning: Liblinear failed to converge, increase the number of iterations.\n",
            "  ConvergenceWarning,\n"
          ]
        },
        {
          "output_type": "stream",
          "name": "stdout",
          "text": [
            "[CV 4/5] END .............C=10000.0, penalty=l2;, score=0.858 total time=  13.3s\n"
          ]
        },
        {
          "output_type": "stream",
          "name": "stderr",
          "text": [
            "/usr/local/lib/python3.7/dist-packages/sklearn/svm/_base.py:1208: ConvergenceWarning: Liblinear failed to converge, increase the number of iterations.\n",
            "  ConvergenceWarning,\n"
          ]
        },
        {
          "output_type": "stream",
          "name": "stdout",
          "text": [
            "[CV 5/5] END .............C=10000.0, penalty=l2;, score=0.844 total time=  13.1s\n"
          ]
        },
        {
          "output_type": "execute_result",
          "data": {
            "text/plain": [
              "RandomizedSearchCV(cv=5, estimator=LinearSVC(), n_iter=5,\n",
              "                   param_distributions={'C': array([1.e-04, 1.e-02, 1.e+00, 1.e+02, 1.e+04]),\n",
              "                                        'penalty': ['l2']},\n",
              "                   scoring='f1', verbose=3)"
            ]
          },
          "metadata": {},
          "execution_count": 96
        }
      ]
    },
    {
      "cell_type": "code",
      "source": [
        "rand.best_params_"
      ],
      "metadata": {
        "colab": {
          "base_uri": "https://localhost:8080/"
        },
        "id": "QKPlSV0pmFYK",
        "outputId": "070bdfeb-f97f-4273-cd1a-429dd29bc30a"
      },
      "execution_count": 97,
      "outputs": [
        {
          "output_type": "execute_result",
          "data": {
            "text/plain": [
              "{'C': 0.0001, 'penalty': 'l2'}"
            ]
          },
          "metadata": {},
          "execution_count": 97
        }
      ]
    },
    {
      "cell_type": "code",
      "source": [
        "print(\"BestScore:\",rand.best_score_)"
      ],
      "metadata": {
        "colab": {
          "base_uri": "https://localhost:8080/"
        },
        "id": "HRbgsZTID8XC",
        "outputId": "5520b9ff-ad2d-47fa-b283-e1def5c8a092"
      },
      "execution_count": 98,
      "outputs": [
        {
          "output_type": "stream",
          "name": "stdout",
          "text": [
            "BestScore: 0.8962653782259359\n"
          ]
        }
      ]
    },
    {
      "cell_type": "markdown",
      "metadata": {
        "id": "btW2i1drjf2G"
      },
      "source": [
        "#Problem 3: Evaluation\n",
        "Using the best estimator you found in the previous problem, show the confusion matrix for both the training and test data."
      ]
    },
    {
      "cell_type": "code",
      "source": [
        "from sklearn.metrics import confusion_matrix\n",
        "from sklearn.metrics import plot_confusion_matrix"
      ],
      "metadata": {
        "id": "T7MpG81D4zTX"
      },
      "execution_count": 99,
      "outputs": []
    },
    {
      "cell_type": "code",
      "source": [
        "from sklearn.metrics import classification_report\n",
        "from sklearn.model_selection import cross_val_predict\n",
        "y_pred = cross_val_predict(rand.best_estimator_, X_train_Scaled, y_train)\n",
        "print(classification_report(y_train, y_pred))"
      ],
      "metadata": {
        "colab": {
          "base_uri": "https://localhost:8080/"
        },
        "id": "Clisjzq5m-WY",
        "outputId": "faeb449b-3136-4e7f-f9da-8d44b84df093"
      },
      "execution_count": 100,
      "outputs": [
        {
          "output_type": "stream",
          "name": "stdout",
          "text": [
            "              precision    recall  f1-score   support\n",
            "\n",
            "       False       0.84      0.86      0.85      4006\n",
            "        True       0.90      0.89      0.90      5994\n",
            "\n",
            "    accuracy                           0.88     10000\n",
            "   macro avg       0.87      0.87      0.87     10000\n",
            "weighted avg       0.88      0.88      0.88     10000\n",
            "\n"
          ]
        }
      ]
    },
    {
      "cell_type": "code",
      "source": [
        "import seaborn as sns\n",
        "def show_classification_matrix(y_true, y_pred):\n",
        "  cm = confusion_matrix(y_true, y_pred)\n",
        "  fig= sns.heatmap(cm, \n",
        "              annot=True,\n",
        "              fmt=\"0\",\n",
        "  )\n"
      ],
      "metadata": {
        "id": "wo8eCbxgoHVW"
      },
      "execution_count": 127,
      "outputs": []
    },
    {
      "cell_type": "code",
      "source": [
        "show_classification_matrix(y_train, y_pred)"
      ],
      "metadata": {
        "colab": {
          "base_uri": "https://localhost:8080/",
          "height": 265
        },
        "id": "xxZ_DF3OyuCB",
        "outputId": "f07388c2-5b2b-44ef-e15b-b28dccf86976"
      },
      "execution_count": 128,
      "outputs": [
        {
          "output_type": "display_data",
          "data": {
            "text/plain": [
              "<Figure size 432x288 with 2 Axes>"
            ],
            "image/png": "[encoded data removed]"
          },
          "metadata": {
            "needs_background": "light"
          }
        }
      ]
    }
  ]
}